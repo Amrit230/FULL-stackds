{
 "cells": [
  {
   "cell_type": "code",
   "execution_count": null,
   "id": "b005df0b-2f41-44a9-8ed5-1fb60cf2776f",
   "metadata": {},
   "outputs": [],
   "source": [
    "1. Write a Python program to check if a given number is positive or negative."
   ]
  },
  {
   "cell_type": "code",
   "execution_count": 5,
   "id": "50505e47-e133-4ac6-a293-ab63b1ea87fa",
   "metadata": {},
   "outputs": [
    {
     "name": "stdin",
     "output_type": "stream",
     "text": [
      " enter the number -5\n"
     ]
    },
    {
     "name": "stdout",
     "output_type": "stream",
     "text": [
      " number is negative\n"
     ]
    }
   ],
   "source": [
    "# step 1 taking the input from a user\n",
    "m= int(input(\" enter the number\"))\n",
    "# step 2 using the if- else condition\n",
    "if m<0:\n",
    "    print(\" number is negative\")\n",
    "else:\n",
    "    print(\"number is positive\")"
   ]
  },
  {
   "cell_type": "code",
   "execution_count": null,
   "id": "ab5e4e5d-d268-4642-a560-add743061677",
   "metadata": {},
   "outputs": [],
   "source": [
    "2. Create a program that determines if a person is eligible to vote based on their age."
   ]
  },
  {
   "cell_type": "code",
   "execution_count": 8,
   "id": "cb742030-a0c9-44b6-8ab3-1d669a56db59",
   "metadata": {},
   "outputs": [
    {
     "name": "stdin",
     "output_type": "stream",
     "text": [
      "enter  your age for checking person is eligible to vote or not 34\n"
     ]
    },
    {
     "name": "stdout",
     "output_type": "stream",
     "text": [
      "  You are eligible  to vote\n"
     ]
    }
   ],
   "source": [
    "# step 1  enter your age \n",
    "i=int(input(\"enter  your age for checking person is eligible to vote or not\"))\n",
    "# step 2  using the if- else condition\n",
    "if i>18:\n",
    "    print(\"  You are eligible  to vote\")\n",
    "else:\n",
    "    print(\" you are not eligible to vote\") \n"
   ]
  },
  {
   "cell_type": "code",
   "execution_count": null,
   "id": "f8439aa1-0825-4ab2-8ca4-49a985ab5ff2",
   "metadata": {},
   "outputs": [],
   "source": [
    "3. Develop a program to find the maximum of two numbers using if-else statements."
   ]
  },
  {
   "cell_type": "code",
   "execution_count": 10,
   "id": "aa19cf8e-9528-4fcc-a25d-6632b59df33f",
   "metadata": {},
   "outputs": [
    {
     "name": "stdout",
     "output_type": "stream",
     "text": [
      "b is maximum than a\n"
     ]
    }
   ],
   "source": [
    "# step 1  sample number for checking the  which one is greater not\n",
    "a=45\n",
    "b=90\n",
    "# step 2  using the if-else  condition \n",
    "if (a>b):\n",
    "    print(\" a is maximum than b\")\n",
    "else :\n",
    "    print(\"b is maximum than a\")\n",
    "\n"
   ]
  },
  {
   "cell_type": "code",
   "execution_count": null,
   "id": "af2f0ae0-ab88-4fa8-9fe6-72dfda832260",
   "metadata": {},
   "outputs": [],
   "source": [
    "4. Write a Python script to classify a given year as a leap year or not."
   ]
  },
  {
   "cell_type": "code",
   "execution_count": 16,
   "id": "4b883d42-5b64-4046-8c82-1ff775c6bfa4",
   "metadata": {},
   "outputs": [
    {
     "name": "stdin",
     "output_type": "stream",
     "text": [
      "enter the year  for checking  2024\n"
     ]
    },
    {
     "name": "stdout",
     "output_type": "stream",
     "text": [
      " year is leap \n"
     ]
    }
   ],
   "source": [
    "# step 1 taking the input for year \n",
    "i= int(input(\"enter the year  for checking \"))\n",
    "# step 2  using the if -else\n",
    "if (i % 4 == 0 and i % 100 != 0) or (i % 400 == 0):\n",
    "        print(\" year is leap \")\n",
    "else:\n",
    "        print(\" year is not leap year \")\n",
    "\n"
   ]
  },
  {
   "cell_type": "code",
   "execution_count": null,
   "id": "89bac730-e8fb-422c-bec1-198b6257dbba",
   "metadata": {},
   "outputs": [],
   "source": [
    "5. Create a program that checks whether a character is a vowel or a consonant."
   ]
  },
  {
   "cell_type": "code",
   "execution_count": 13,
   "id": "56fa7632-2cd6-422e-95f3-de3f5190736e",
   "metadata": {},
   "outputs": [
    {
     "name": "stdin",
     "output_type": "stream",
     "text": [
      "enter the  chracter  g\n"
     ]
    },
    {
     "name": "stdout",
     "output_type": "stream",
     "text": [
      " chracter is consonent\n"
     ]
    }
   ],
   "source": [
    "# step 1 taking the input for string \n",
    "s= input(\"enter the  chracter \")\n",
    "vowels=\"aeiouAEIOU\"\n",
    "#step 2 using the for loop\n",
    "for i in s :\n",
    "    if  i in vowels:\n",
    "        print(\" chracter is vowel\")\n",
    "    else:\n",
    "        print(\" chracter is consonent\")\n",
    "        \n",
    "        "
   ]
  },
  {
   "cell_type": "code",
   "execution_count": null,
   "id": "797f83f3-1e93-43fa-aaad-ac03ebc32bb9",
   "metadata": {},
   "outputs": [],
   "source": [
    "6. Implement a program to determine whether a given number is even or odd."
   ]
  },
  {
   "cell_type": "code",
   "execution_count": 18,
   "id": "1670ad02-61e8-458f-90dc-22a2d69a4c73",
   "metadata": {},
   "outputs": [
    {
     "name": "stdin",
     "output_type": "stream",
     "text": [
      "enter the value for checking the number is even or odd 1\n"
     ]
    },
    {
     "name": "stdout",
     "output_type": "stream",
     "text": [
      "number is odd\n"
     ]
    }
   ],
   "source": [
    "# step 1 taking the input for even and odd \n",
    "v= int(input(\"enter the value for checking the number is even or odd\"))\n",
    "#step 2 using the if-else condition\n",
    "if  v%2==0:\n",
    "    print(\" number is  even \")\n",
    "else:\n",
    "    print(\"number is odd\")"
   ]
  },
  {
   "cell_type": "code",
   "execution_count": null,
   "id": "6cb81e81-98f7-40ff-a6bf-a0f1b673c21f",
   "metadata": {},
   "outputs": [],
   "source": [
    "\n",
    "7. Write a Python function to calculate the absolute value of a number without using the `abs()` function."
   ]
  },
  {
   "cell_type": "code",
   "execution_count": 19,
   "id": "8f10cb90-64fa-4381-bef2-0e65030ffa50",
   "metadata": {},
   "outputs": [
    {
     "name": "stdin",
     "output_type": "stream",
     "text": [
      "Enter a number:  -9\n"
     ]
    },
    {
     "name": "stdout",
     "output_type": "stream",
     "text": [
      "The absolute value of -9.0 is 9.0.\n"
     ]
    }
   ],
   "source": [
    "# step1 creating the foinction \n",
    "def absolute_value(number):\n",
    "# step 2 using the if- else condition \n",
    "    if number < 0:\n",
    "        return -number\n",
    "    else:\n",
    "        return number\n",
    "\n",
    "# Test the function\n",
    "num = float(input(\"Enter a number: \"))\n",
    "result = absolute_value(num)\n",
    "print(f\"The absolute value of {num} is {result}.\")"
   ]
  },
  {
   "cell_type": "code",
   "execution_count": null,
   "id": "151d4566-4512-4b3e-bf9d-649436af2035",
   "metadata": {},
   "outputs": [],
   "source": [
    "\n",
    "8. Develop a program that determines the largest of three given numbers using if-else statements.\n"
   ]
  },
  {
   "cell_type": "code",
   "execution_count": 4,
   "id": "c77b8057-fff3-4990-8aac-24ffaaa0f13e",
   "metadata": {},
   "outputs": [
    {
     "name": "stdin",
     "output_type": "stream",
     "text": [
      "enter the  first number 45\n",
      "enter the second number 45\n",
      "enter the third number 3\n"
     ]
    },
    {
     "name": "stdout",
     "output_type": "stream",
     "text": [
      " first is largest \n"
     ]
    }
   ],
   "source": [
    "# step 1 taking the input for  1st number 2,3\n",
    "p=float(int(input(\"enter the  first number\")))\n",
    "q= float(int(input(\"enter the second number\")))\n",
    "r= float(int(input (\"enter the third number\")))\n",
    "# step 2 using the if -else condoition\n",
    "if p>=q and p>=r :\n",
    "    print(\" first is largest \")\n",
    "elif q>=p and q>=r:\n",
    "    print(\" second is largest \" )\n",
    "else:\n",
    "    print(\"third  is largest  \")\n"
   ]
  },
  {
   "cell_type": "code",
   "execution_count": null,
   "id": "5b83e358-3cfd-4bee-9887-33a0574dcb8e",
   "metadata": {},
   "outputs": [],
   "source": [
    "9. Create a program that checks if a given string is a palindrome."
   ]
  },
  {
   "cell_type": "code",
   "execution_count": 30,
   "id": "465a2ed8-3cfc-414e-ab5b-f6f642f3fe33",
   "metadata": {},
   "outputs": [
    {
     "name": "stdin",
     "output_type": "stream",
     "text": [
      "enter the value  for string  amrit\n"
     ]
    },
    {
     "name": "stdout",
     "output_type": "stream",
     "text": [
      " string is not pallindrome\n"
     ]
    }
   ],
   "source": [
    "#step1 taking the input  for string\n",
    "s=input(\"enter the value  for string \")\n",
    "# step2  copying tthe value in other variable\n",
    "p=s[::-1]\n",
    "#step 3  using the if -else condition\n",
    "if s==p:\n",
    "    print(\" sting is pallindrome\" )\n",
    "else:\n",
    "    print(\" string is not pallindrome\")"
   ]
  },
  {
   "cell_type": "code",
   "execution_count": null,
   "id": "2fe3d10d-cf26-4493-a9c5-fafff4ff6ed5",
   "metadata": {},
   "outputs": [],
   "source": [
    "10. Write a Python program to calculate the grade based on a student's score."
   ]
  },
  {
   "cell_type": "code",
   "execution_count": 36,
   "id": "b93be1c0-349e-469c-ad46-ef3952210371",
   "metadata": {},
   "outputs": [
    {
     "name": "stdin",
     "output_type": "stream",
     "text": [
      "Enter the student's score:  78\n"
     ]
    },
    {
     "name": "stdout",
     "output_type": "stream",
     "text": [
      "The student's grade is: C\n"
     ]
    }
   ],
   "source": [
    "# step 1 taking the input for score \n",
    "score = float(input(\"Enter the student's score: \"))\n",
    "# step2 using the if- else condition\n",
    "if score >= 90:\n",
    "    grade = 'A'        \n",
    "elif score >= 80:\n",
    "    grade = 'B'\n",
    "elif score >= 70:\n",
    "    grade = 'C'\n",
    "elif score >= 60:\n",
    "    grade = 'D'\n",
    "else:\n",
    "    grade = 'F'\n",
    "# step 3  printing the result\n",
    "print(f\"The student's grade is: {grade}\")"
   ]
  },
  {
   "cell_type": "code",
   "execution_count": null,
   "id": "ee2dd854-aa4d-4aab-925a-bf02f82a5a85",
   "metadata": {},
   "outputs": [],
   "source": [
    "                              TOPIC-Nested If-Else Statements:"
   ]
  },
  {
   "cell_type": "code",
   "execution_count": null,
   "id": "f863e82f-28e3-4bc3-8c17-d12e50f7b776",
   "metadata": {},
   "outputs": [],
   "source": [
    "\n",
    "11. Write a program to find the largest among three numbers using nested if-else statements  "
   ]
  },
  {
   "cell_type": "code",
   "execution_count": 37,
   "id": "9cd3f027-df78-4fcb-9054-dfb55d748ae2",
   "metadata": {},
   "outputs": [
    {
     "name": "stdin",
     "output_type": "stream",
     "text": [
      "enter the  first number 23\n",
      "enter the second number 56\n",
      "enter the third number 89\n"
     ]
    },
    {
     "name": "stdout",
     "output_type": "stream",
     "text": [
      "third  is largest  \n"
     ]
    }
   ],
   "source": [
    "# step 1 taking the input for  1st number 2,3\n",
    "p=float(int(input(\"enter the  first number\")))\n",
    "q= float(int(input(\"enter the second number\")))\n",
    "r= float(int(input (\"enter the third number\")))\n",
    "# step 2 using the if -else condoition\n",
    "if p>=q and p>=r :\n",
    "    print(\" first is largest r\")\n",
    "elif q>=p and q>=r:\n",
    "    print(\" second is largest \" )\n",
    "else:\n",
    "    print(\"third  is largest  \")\n"
   ]
  },
  {
   "cell_type": "code",
   "execution_count": null,
   "id": "2a89c58e-1b5f-48d8-b827-3f7ff86c6835",
   "metadata": {},
   "outputs": [],
   "source": [
    "\n",
    "12. Implement a program to determine if a triangle is equilateral, isosceles, or scalene."
   ]
  },
  {
   "cell_type": "code",
   "execution_count": 55,
   "id": "4f69dbf2-e719-4233-9bf1-50dd53b359f9",
   "metadata": {},
   "outputs": [
    {
     "name": "stdin",
     "output_type": "stream",
     "text": [
      "Enter the length of the first side:  78 \n",
      "Enter the length of the second side:  89\n",
      "Enter the length of the third side:  89\n"
     ]
    },
    {
     "name": "stdout",
     "output_type": "stream",
     "text": [
      "This is an isosceles triangle.\n"
     ]
    }
   ],
   "source": [
    "# step 1  Input the lengths of the three sides of the triangle\n",
    "try:\n",
    "    side1 = float(input(\"Enter the length of the first side: \"))\n",
    "    side2 = float(input(\"Enter the length of the second side: \"))\n",
    "    side3 = float(input(\"Enter the length of the third side: \"))\n",
    "\n",
    "    #  step 2 Check if it's a valid triangle\n",
    "    if side1 + side2 > side3 and side1 + side3 > side2 and side2 + side3 > side1:\n",
    "        if side1 == side2 and side2 == side3:\n",
    "            print(\"This is an equilateral triangle.\")\n",
    "        elif side1 == side2 or side1 == side3 or side2 == side3:\n",
    "            print(\"This is an isosceles triangle.\")\n",
    "        else:\n",
    "            print(\"This is a scalene triangle.\")\n",
    "    else:\n",
    "        print(\"These side lengths do not form a valid triangle.\")\n",
    "except ValueError:\n",
    "    print(\"Invalid input. Please enter valid numerical side lengths.\")\n",
    "\n"
   ]
  },
  {
   "cell_type": "code",
   "execution_count": null,
   "id": "7d04f6a4-92dd-4733-a3b3-55dba6d4943a",
   "metadata": {},
   "outputs": [],
   "source": [
    "13. Develop a program that checks if a year is a leap year and also if it is a century year."
   ]
  },
  {
   "cell_type": "code",
   "execution_count": 3,
   "id": "512401f4-b6dc-4df3-82b6-362c1900174a",
   "metadata": {},
   "outputs": [
    {
     "name": "stdin",
     "output_type": "stream",
     "text": [
      "enter the year  for checking  2000\n"
     ]
    },
    {
     "name": "stdout",
     "output_type": "stream",
     "text": [
      " year is leap \n"
     ]
    }
   ],
   "source": [
    "# step 1 taking the input for year \n",
    "i= int(input(\"enter the year  for checking \"))\n",
    "# step 2  using the if -else\n",
    "if (i % 4 == 0 and i % 100 != 0) or (i % 400 == 0):\n",
    "        print(\" year is leap \")\n",
    "else:\n",
    "        print(\" year is not leap year \")\n",
    "\n"
   ]
  },
  {
   "cell_type": "code",
   "execution_count": null,
   "id": "c395ec2b-c395-4192-af9e-d2f8928c05f6",
   "metadata": {},
   "outputs": [],
   "source": [
    "14. Write a Python script to determine if a number is positive, negative, or zero."
   ]
  },
  {
   "cell_type": "code",
   "execution_count": 5,
   "id": "4dc00bb6-1a16-4288-88be-406f016c1708",
   "metadata": {},
   "outputs": [
    {
     "name": "stdin",
     "output_type": "stream",
     "text": [
      "enter the number 24\n"
     ]
    },
    {
     "name": "stdout",
     "output_type": "stream",
     "text": [
      " Number is positive\n"
     ]
    }
   ],
   "source": [
    "# step1 taking the inpuut  \n",
    "o= int (input(\"enter the number\"))\n",
    "# step 2  using  the if -else condition\n",
    "if o==0:\n",
    "    print(\"NUmber is zero \")\n",
    "elif o<0:\n",
    "    print(\" Number is negative\")\n",
    "else:\n",
    "    print(\" Number is positive\")\n"
   ]
  },
  {
   "cell_type": "code",
   "execution_count": null,
   "id": "005ee706-1b54-41c3-b566-c6039165dbba",
   "metadata": {},
   "outputs": [],
   "source": [
    "15. Create a program to check if a person is a teenager (between 13 and 19 years old)."
   ]
  },
  {
   "cell_type": "code",
   "execution_count": 11,
   "id": "c4e756de-e356-4cb8-a1cd-f52343d508ba",
   "metadata": {},
   "outputs": [
    {
     "name": "stdin",
     "output_type": "stream",
     "text": [
      " enter your age  35\n"
     ]
    },
    {
     "name": "stdout",
     "output_type": "stream",
     "text": [
      "Person is not a teenager\n"
     ]
    }
   ],
   "source": [
    "# step 1 taking the input as age\n",
    "p=int(input(\" enter your age \"))\n",
    "# step 2 using the if -else condition\n",
    "if 13<= p <=19:\n",
    "    print(\"  the person is teenager \")\n",
    "else:\n",
    "    print(\"Person is not a teenager\" )"
   ]
  },
  {
   "cell_type": "code",
   "execution_count": null,
   "id": "ae061062-c639-4241-99e2-e96ff6c2d741",
   "metadata": {},
   "outputs": [],
   "source": [
    "16. Develop a program that determines the type of angle based on its measure (acute, obtuse, or right)."
   ]
  },
  {
   "cell_type": "code",
   "execution_count": 9,
   "id": "c597d334-9f9f-4837-a27f-395b9aa8bc74",
   "metadata": {},
   "outputs": [
    {
     "name": "stdin",
     "output_type": "stream",
     "text": [
      "Enter the angle measure in degrees:  78\n"
     ]
    },
    {
     "name": "stdout",
     "output_type": "stream",
     "text": [
      "The angle is acute.\n"
     ]
    }
   ],
   "source": [
    "# stepa 1  enter the value the angle\n",
    "angle = float(input(\"Enter the angle measure in degrees: \"))\n",
    "\n",
    " #step 2  Check if it's a valid angle (between 0 and 180 degrees)\n",
    "if 0 <= angle < 90:\n",
    "        print(\"The angle is acute.\")\n",
    "elif angle == 90:\n",
    "        print(\"The angle is a right angle.\")\n",
    "elif 90 < angle < 180:\n",
    "        print(\"The angle is obtuse.\")\n",
    "else:\n",
    "        print(\"The angle is not within the valid range (0-180 degrees).\")\n",
    "        "
   ]
  },
  {
   "cell_type": "code",
   "execution_count": null,
   "id": "3e2b7cd4-8921-46b9-a92d-7ca5cdee1849",
   "metadata": {},
   "outputs": [],
   "source": [
    "17. Write a Python program to calculate the roots of a quadratic equation."
   ]
  },
  {
   "cell_type": "code",
   "execution_count": 7,
   "id": "53a4ce3d-22b1-42df-aff5-bbe64753bcfb",
   "metadata": {},
   "outputs": [
    {
     "name": "stdin",
     "output_type": "stream",
     "text": [
      " enter the value for a 7\n",
      " enter the value for b 4\n",
      " enter the value  for c 6\n"
     ]
    },
    {
     "name": "stdout",
     "output_type": "stream",
     "text": [
      "Root 1: (-0.2857142857142857+0.8806305718527109j)\n",
      "Root 2: (-0.2857142857142857-0.8806305718527109j)\n"
     ]
    }
   ],
   "source": [
    "import math\n",
    "# step 1  taking the input\n",
    "a=int(input(\" enter the value for a\" ))\n",
    "b=int(input(\" enter the value for b\"))\n",
    "c=int(input(\" enter the value  for c\"))\n",
    "# step 2 finding the discriminant\n",
    "d=b**2-4*a*c\n",
    "# step 3  using the if -else condition\n",
    "if d>0:\n",
    "    root1=(-b + math.sqrt(d)) / (2*a)\n",
    "    root2=(+b+ math.sqrt(d)) / (2*a)\n",
    "if d == 0:\n",
    "#step 4  One real root (a repeated root)\n",
    "        root = -b / (2*a)\n",
    "        print(f\"Root: {root}\")\n",
    "else:\n",
    "    \n",
    "      \n",
    "# step 5  Complex roots (no real roots)\n",
    "    real_part = -b / (2*a)\n",
    "    imaginary_part = math.sqrt(-d) / (2*a)\n",
    "    root1 = complex(real_part, imaginary_part)\n",
    "    root2 = complex(real_part, -imaginary_part)\n",
    "    print(f\"Root 1: {root1}\")\n",
    "    print(f\"Root 2: {root2}\")"
   ]
  },
  {
   "cell_type": "code",
   "execution_count": null,
   "id": "274a635d-d888-446d-9f73-10c222618506",
   "metadata": {},
   "outputs": [],
   "source": [
    "18. Implement a program to determine the day of the week based on a user-provided number (1 for Monday, 2\n",
    "for Tuesday, etc.)"
   ]
  },
  {
   "cell_type": "code",
   "execution_count": 6,
   "id": "89a2af3b-f4f3-4871-a0dd-1bcb41cbeb38",
   "metadata": {},
   "outputs": [
    {
     "name": "stdin",
     "output_type": "stream",
     "text": [
      " enter the day  7\n"
     ]
    },
    {
     "name": "stdout",
     "output_type": "stream",
     "text": [
      " day is Sunday\n"
     ]
    }
   ],
   "source": [
    "# step 1 taking the input for a day \n",
    "m=int(input(\" enter the day \"))\n",
    "# step 2 using the if- elif -else  condition\n",
    "if m==1:\n",
    "    print(\"day is monday\")\n",
    "if m==2:\n",
    "    print(\"day is teusday\")\n",
    "if m==3 :\n",
    "    print(\" day is Wednesday\")\n",
    "if m==4:\n",
    "     print(\" day is thrusday\")\n",
    "if m==5:\n",
    "    print(\" day is friday\")\n",
    "if m==6:\n",
    "    print(\" day is saturday\")\n",
    "if m==7:\n",
    "    print(\" day is Sunday\")\n",
    "else:\n",
    "    print(\" error\")\n",
    "    \n",
    "   \n"
   ]
  },
  {
   "cell_type": "code",
   "execution_count": null,
   "id": "29fed52a-0496-4885-aafa-5c7d4a7d0888",
   "metadata": {},
   "outputs": [],
   "source": [
    "\n",
    "19. Create a program that determines if a year is a leap year and also if it is evenly divisible by 400."
   ]
  },
  {
   "cell_type": "code",
   "execution_count": 12,
   "id": "1ac673af-a323-434f-9768-27bbfe288e97",
   "metadata": {},
   "outputs": [
    {
     "name": "stdin",
     "output_type": "stream",
     "text": [
      "enter the year  for checking  2000\n"
     ]
    },
    {
     "name": "stdout",
     "output_type": "stream",
     "text": [
      " year is leap \n"
     ]
    }
   ],
   "source": [
    "# step 1 taking the input for year \n",
    "i= int(input(\"enter the year  for checking \"))\n",
    "# step 2  using the if -else\n",
    "if (i % 4 == 0 and i % 100 != 0) or (i % 400 == 0):\n",
    "        print(\" year is leap \")\n",
    "else:\n",
    "        print(\" year is not leap year \")\n"
   ]
  },
  {
   "cell_type": "code",
   "execution_count": null,
   "id": "09fb8fe6-1bf9-4fd6-8ce8-72c4f56379ba",
   "metadata": {},
   "outputs": [],
   "source": [
    "\n",
    "20. Develop a program that checks if a given number is prime or not using nested if-else statements."
   ]
  },
  {
   "cell_type": "code",
   "execution_count": 42,
   "id": "0b747d0e-0688-4c92-a2ac-92637f23591f",
   "metadata": {},
   "outputs": [
    {
     "name": "stdin",
     "output_type": "stream",
     "text": [
      "Enter a number:  5\n"
     ]
    },
    {
     "name": "stdout",
     "output_type": "stream",
     "text": [
      "5 is a prime number\n"
     ]
    }
   ],
   "source": [
    "# step 1 taking the input for a number \n",
    "number = int(input(\"Enter a number: \"))\n",
    "# step 2  checking about number\n",
    "if number > 1:\n",
    "# step 3  using the for loop\n",
    "    for i in range(2, number):\n",
    "        if (number % i) == 0:\n",
    "            print(number, \"is not a prime number\")\n",
    "            break\n",
    "    else:\n",
    "        print(number, \"is a prime number\")\n",
    "else:\n",
    "    print(number, \"is not a prime number\")\n",
    "\n",
    "                        \n",
    "                        \n",
    "        \n",
    "   "
   ]
  },
  {
   "cell_type": "code",
   "execution_count": null,
   "id": "dd9654ca-08ae-469c-aee2-098d4f32364b",
   "metadata": {},
   "outputs": [],
   "source": [
    "                                  TOPIC-Elif Statements:"
   ]
  },
  {
   "cell_type": "code",
   "execution_count": null,
   "id": "66be883b-d900-4664-8d4d-f35f78ddc9ce",
   "metadata": {},
   "outputs": [],
   "source": [
    "21. Write a Python program to assign grades based on different ranges of scores using elif statements."
   ]
  },
  {
   "cell_type": "code",
   "execution_count": 43,
   "id": "0bc5ca62-a18a-48f3-a88d-aab978c65e19",
   "metadata": {},
   "outputs": [
    {
     "name": "stdin",
     "output_type": "stream",
     "text": [
      "Enter the student's score:  90\n"
     ]
    },
    {
     "name": "stdout",
     "output_type": "stream",
     "text": [
      "The student's grade is: A\n"
     ]
    }
   ],
   "source": [
    "# step 1 taking the input for score \n",
    "score = float(input(\"Enter the student's score: \"))\n",
    "# step2 using the if- else condition\n",
    "if score >= 90:\n",
    "    grade = 'A'        \n",
    "elif score >= 80:\n",
    "    grade = 'B'\n",
    "elif score >= 70:\n",
    "    grade = 'C'\n",
    "elif score >= 60:\n",
    "    grade = 'D'\n",
    "else:\n",
    "    grade = 'F'\n",
    "# step 3  printing the result\n",
    "print(f\"The student's grade is: {grade}\")"
   ]
  },
  {
   "cell_type": "code",
   "execution_count": null,
   "id": "9c556d7c-c19b-4950-acdb-5a691ee272f6",
   "metadata": {},
   "outputs": [],
   "source": [
    "22. Implement a program to determine the type of a triangle based on its angles."
   ]
  },
  {
   "cell_type": "code",
   "execution_count": 13,
   "id": "574fa372-b541-4301-941c-dbd7be7d123d",
   "metadata": {},
   "outputs": [
    {
     "name": "stdin",
     "output_type": "stream",
     "text": [
      " enter the 1 st  angle 45\n",
      " enter the 2 nd angle 45\n",
      " enter the 3 rd   angle 90\n"
     ]
    },
    {
     "name": "stdout",
     "output_type": "stream",
     "text": [
      "This is a right triangle.\n"
     ]
    }
   ],
   "source": [
    "# step 1 Take the input for the anglesb\n",
    "p=int(input(\" enter the 1 st  angle\"))\n",
    "q=int(input(\" enter the 2 nd angle\"))\n",
    "r=int(input(\" enter the 3 rd   angle\"))\n",
    "\n",
    "# step 2 using the if -else condition\n",
    "if p + q + r== 180:\n",
    "    # for acute anglr triangle\n",
    "        if p < 90 and q< 90 and r < 90:\n",
    "            print(\"This is an acute triangle.\")\n",
    "    # for obtuse angle triangle\n",
    "        elif p == 90 or q== 90 or r == 90:\n",
    "            print(\"This is a right triangle.\")\n",
    "    # for  obtuse angle triangle \n",
    "        else:\n",
    "            print(\"This is an obtuse triangle.\")\n",
    "else:\n",
    "    \n",
    "    print(\"These angles do not form a valid triangle (angles should sum to 180 degrees\")"
   ]
  },
  {
   "cell_type": "code",
   "execution_count": null,
   "id": "d6e5e28b-97a5-4e59-865e-19ecbd1f7306",
   "metadata": {},
   "outputs": [],
   "source": [
    "\n",
    "23. Develop a program to categorize a given person's BMI into underweight, normal, overweight, or obese using\n",
    "elif statements."
   ]
  },
  {
   "cell_type": "code",
   "execution_count": 23,
   "id": "bfabd3cf-ad4f-4640-99c8-ebf1730630d3",
   "metadata": {},
   "outputs": [
    {
     "name": "stdin",
     "output_type": "stream",
     "text": [
      "Enter the person's weight (in kilograms):  84\n",
      "Enter the person's height (in cm):  185\n"
     ]
    },
    {
     "name": "stdout",
     "output_type": "stream",
     "text": [
      "The person's BMI is 0.00, and they are categorized as 'Underweight'.\n"
     ]
    }
   ],
   "source": [
    "# step 1  taking the input for hieght  and wieght\n",
    "weight = float(input(\"Enter the person's weight (in kilograms): \"))\n",
    "height = float(input(\"Enter the person's height (in cm): \"))\n",
    "\n",
    "# step 2   Using the formula for hiegth and wieght\n",
    "bmi = weight / (height ** 2)\n",
    "\n",
    "# step 3  using Categorization of  BMI\n",
    "if bmi < 18.5:\n",
    "    category = \"Underweight\"\n",
    "elif 18.5 <= bmi < 24.9:\n",
    "    category = \"Normal Weight\"\n",
    "elif 24.9 <= bmi < 29.9:\n",
    "    category = \"Overweight\"\n",
    "else:\n",
    "    category = \"Obese\"\n",
    "# step 4 printing the  result\n",
    "\n",
    "print(f\"The person's BMI is {bmi:.2f}, and they are categorized as '{category}'.\")\n",
    "    "
   ]
  },
  {
   "cell_type": "code",
   "execution_count": null,
   "id": "18cc0c05-5df2-4388-ba81-e61869e7a98b",
   "metadata": {},
   "outputs": [],
   "source": [
    "\n",
    "24. Create a program that determines whether a given number is positive, negative, or zero using elif\n",
    "statements."
   ]
  },
  {
   "cell_type": "code",
   "execution_count": 2,
   "id": "5bfcc838-7b98-476e-bc37-2c5df3b20a59",
   "metadata": {},
   "outputs": [
    {
     "name": "stdin",
     "output_type": "stream",
     "text": [
      " enter the value  -3\n"
     ]
    },
    {
     "name": "stdout",
     "output_type": "stream",
     "text": [
      "NUmber is negative \n"
     ]
    }
   ],
   "source": [
    "# step 1  taking the value\n",
    "a= int(input(\" enter the value \"))\n",
    "# step 2 using the if-elif -else\n",
    "# for  samaller  value \n",
    "if a<0:\n",
    "    print(\"NUmber is negative \")\n",
    "# for greater value \n",
    "elif a>0:\n",
    "    print(\"NUmber is positive\")\n",
    "else :\n",
    "    print(\"  number is zero\")"
   ]
  },
  {
   "cell_type": "code",
   "execution_count": null,
   "id": "6028ccb1-d25d-42e7-b1eb-7eea7fb009a1",
   "metadata": {},
   "outputs": [],
   "source": [
    "\n",
    "25. Write a Python script to determine the type of a character (uppercase, lowercase, or special) using elif\n",
    "statements."
   ]
  },
  {
   "cell_type": "code",
   "execution_count": 9,
   "id": "c1babba1-b0b9-45d5-a95d-23fb4f68a921",
   "metadata": {},
   "outputs": [
    {
     "name": "stdin",
     "output_type": "stream",
     "text": [
      "enter a  char b\n"
     ]
    },
    {
     "name": "stdout",
     "output_type": "stream",
     "text": [
      " it is a lowercase\n"
     ]
    }
   ],
   "source": [
    "# step 1 enter a value for checking\n",
    "a=input(\"enter a  char\")\n",
    "# step 2  using the if else condition and using the built in founction of library\n",
    "if len(a) == 1 and a.isalpha():\n",
    "# for lower case \n",
    "    if a.islower():\n",
    "        print(\" it is a lowercase\")\n",
    "# for upper case\n",
    "    elif a.isupper():\n",
    "        print(\" it is a Uppercase\")    \n",
    "else:\n",
    "    print(\" it is a  special or  invalid \")"
   ]
  },
  {
   "cell_type": "code",
   "execution_count": null,
   "id": "c1f81419-1bbf-4905-9c04-f15c24e3adc8",
   "metadata": {},
   "outputs": [],
   "source": [
    "\n",
    "26. Implement a program to calculate the discounted price based on different purchase amounts using elif\n",
    "statements."
   ]
  },
  {
   "cell_type": "code",
   "execution_count": 15,
   "id": "23bcb3e6-a672-4e4d-958b-9e6aafa6f291",
   "metadata": {},
   "outputs": [
    {
     "name": "stdin",
     "output_type": "stream",
     "text": [
      "enter the purchase price 900\n"
     ]
    },
    {
     "name": "stdout",
     "output_type": "stream",
     "text": [
      "Purchase price  900\n",
      "Discount price  50\n",
      "New price 450.0\n"
     ]
    }
   ],
   "source": [
    "# step 1  enter the purchse price\n",
    "p=int(input(\"enter the purchase price\"))\n",
    "# step2  using the if- else condition\n",
    "if p>200:\n",
    "    discount=50\n",
    "elif p>500:\n",
    "    discount=100\n",
    "elif p>800:\n",
    "    discount=400\n",
    "else:\n",
    "    discount=90\n",
    "# step 3 new purchase price after discount\n",
    "newp= p - (p* discount / 100)\n",
    "# step 4   printing the value \n",
    "print(\"Purchase price \",p)\n",
    "print(\"Discount price \",discount)\n",
    "print(\"New price\",newp)\n",
    "    "
   ]
  },
  {
   "cell_type": "code",
   "execution_count": null,
   "id": "b72bf017-0e7a-4583-97fe-71e6fd1c756a",
   "metadata": {},
   "outputs": [],
   "source": [
    "27. Develop a program to calculate the electricity bill based on different consumption slabs using elif\n",
    "statements."
   ]
  },
  {
   "cell_type": "code",
   "execution_count": 18,
   "id": "d2e67b20-bf93-4bdc-803b-4e08f146293a",
   "metadata": {},
   "outputs": [
    {
     "name": "stdin",
     "output_type": "stream",
     "text": [
      "Enter the electricity consumption in kilowatt-hours:  789\n"
     ]
    },
    {
     "name": "stdout",
     "output_type": "stream",
     "text": [
      "Electricity Consumption: 789.0 kWh\n",
      "Electricity Bill: inr137.80\n"
     ]
    }
   ],
   "source": [
    "# step1  Input the electricity consumption in kilowatt-hours\n",
    "consumption = float(input(\"Enter the electricity consumption in kilowatt-hours: \"))\n",
    "\n",
    "# step 2  Define the rates for different consumption slabs\n",
    "rate_slab1 = 0.10  # Rate for the first 100 kWh\n",
    "rate_slab2 = 0.15  # Rate for the next 200 kWh\n",
    "rate_slab3 = 0.20  # Rate for consumption above 300 kWh\n",
    "\n",
    "#  step 3 Initialize the bill\n",
    "bill = 0\n",
    "\n",
    "# step 4  Calculate the bill based on consumption slabs\n",
    "if consumption <= 100:\n",
    "    bill = consumption * rate_slab1\n",
    "elif consumption <= 300:\n",
    "    bill = (100 * rate_slab1) + ((consumption - 100) * rate_slab2)\n",
    "else:\n",
    "    bill = (100 * rate_slab1) + (200 * rate_slab2) + ((consumption - 300) * rate_slab3)\n",
    "# step 4 printing the result\n",
    "\n",
    "print(f\"Electricity Consumption: {consumption} kWh\")\n",
    "print(f\"Electricity Bill: inr{bill:.2f}\")"
   ]
  },
  {
   "cell_type": "code",
   "execution_count": null,
   "id": "6179682d-977c-4397-8cdb-6fc0da2bdc01",
   "metadata": {},
   "outputs": [],
   "source": [
    "\n",
    "28. Create a program to determine the type of quadrilateral based on its angles and sides using elif\n",
    "statements."
   ]
  },
  {
   "cell_type": "code",
   "execution_count": 2,
   "id": "83a771c8-5506-4e9b-b073-5aa9e90db769",
   "metadata": {},
   "outputs": [
    {
     "name": "stdin",
     "output_type": "stream",
     "text": [
      "enter the  first side of quadrilateral 23\n",
      "enter the second side of quadrilatral 23\n",
      "enter the third side of quadrilateral 23\n",
      "enter the third side of quadrilateral 23\n",
      " enter the  first angle 90\n",
      " enter ths second angle  90\n",
      "enter the  third angle  90\n",
      " enter the  fourth angle  90\n"
     ]
    },
    {
     "name": "stdout",
     "output_type": "stream",
     "text": [
      "It's a square.\n"
     ]
    }
   ],
   "source": [
    "# step1 taking the sides for inoput \n",
    "a=int(input(\"enter the  first side of quadrilateral\"))\n",
    "b=int(input(\"enter the second side of quadrilatral\"))\n",
    "c=int(input(\"enter the third side of quadrilateral\"))\n",
    "d=int(input(\"enter the third side of quadrilateral\"))\n",
    "# step 2 taking the input for the angles\n",
    "ang1=int(input(\" enter the  first angle\"))\n",
    "ang2=int(input(\" enter ths second angle \"))\n",
    "ang3=int(input(\"enter the  third angle \"))\n",
    "ang4=int(input(\" enter the  fourth angle \"))\n",
    "\n",
    "# step 4  Check for the type of quadrilateral and using the if - else condition\n",
    "if ang1 == ang2 == ang3 == ang4 == 90:\n",
    "    print(\"It's a square.\")\n",
    "elif ang1 == ang2 == ang3 == ang4 and a == b == c== d:\n",
    "    print(\"It's a rhombus.\")\n",
    "elif (ang1 == ang2 and ang3 == ang4) or (ang1 == ang3 and ang2 == ang4) or (ang1 == ang4 and ang2 == ang3):\n",
    "    if a == b == c== d:\n",
    "        print(\"It's a rectangle.\")\n",
    "    else:\n",
    "        print(\"It's a parallelogram.\")\n",
    "elif a == b == c == d:\n",
    "    print(\"It's a kite.\")\n",
    "else:\n",
    "    print(\"It's a general quadrilateral.\")\n",
    "    "
   ]
  },
  {
   "cell_type": "code",
   "execution_count": null,
   "id": "d07d46ff-4a51-4a5f-a62b-c0d9280c5b1a",
   "metadata": {},
   "outputs": [],
   "source": [
    "\n",
    "29. Write a Python script to determine the season based on a user-provided month using elif statements."
   ]
  },
  {
   "cell_type": "code",
   "execution_count": 4,
   "id": "3576ce07-e544-496c-a2fb-2563acd18922",
   "metadata": {},
   "outputs": [
    {
     "name": "stdin",
     "output_type": "stream",
     "text": [
      "enter the month name in lowercase  januray\n"
     ]
    },
    {
     "name": "stdout",
     "output_type": "stream",
     "text": [
      " WINTER\n"
     ]
    }
   ],
   "source": [
    "# step 1 taking the input for the month\n",
    "m=input(\"enter the month name in lowercase \")\n",
    "# step 2 using the if -elif  condition\n",
    "if m==\"januray\"or \"december\":\n",
    "    print(\" WINTER\")\n",
    "elif m==\"february\" or \"march\":\n",
    "    print(\" SPRING\")\n",
    "elif m==\"april\" or \"may\":\n",
    "    print(\"SUMMER\")\n",
    "elif m==\"jun\" or \"jul\":\n",
    "    print(\" Monsoon\")\n",
    "elif m==\" august\"  or \"sept\":\n",
    "    print(\" Autumn\")\n",
    "elif m==\" october \" or \" november\":\n",
    "    print(\" Early Winter\")\n",
    "elif m==\"december \" or \" jan\":\n",
    "    print(\" Winter \")\n",
    "    \n",
    "    \n",
    "    \n",
    "\n",
    "    \n"
   ]
  },
  {
   "cell_type": "code",
   "execution_count": null,
   "id": "2612672a-78ad-48fa-b425-3a803ddae653",
   "metadata": {},
   "outputs": [],
   "source": [
    "\n",
    "30. Implement a program to determine the type of a year (leap or common) and month (30 or 31 days) using\n",
    "elif statements."
   ]
  },
  {
   "cell_type": "code",
   "execution_count": null,
   "id": "fb6df0f4-9aef-4366-975b-6ca802d5a7fe",
   "metadata": {},
   "outputs": [],
   "source": [
    "#  step 1 Input year and month\n",
    "year = int(input(\"Enter a year: \"))\n",
    "month = int(input(\"Enter a month (1-12): \"))\n",
    "\n",
    "# step 2  Check if it's a leap year\n",
    "is_leap_year = (year % 4 == 0 and year % 100 != 0) or (year % 400 == 0)\n",
    "\n",
    "# step 3  Determine the number of days in the given month\n",
    "# step 4  using the if -else condition\n",
    "if month < 1 or month > 12:\n",
    "    print(\"Invalid month entered.\")\n",
    "# step 5 checking for the  30days month or 31 days month\n",
    "elif month in [4, 6, 9, 11]:\n",
    "    print(f\"{year} is a common year, and the month has 30 days.\")\n",
    "elif month == 2:\n",
    "    if is_leap_year:\n",
    "        print(f\"{year} is a leap year, and February has 29 days.\")\n",
    "    else:\n",
    "        print(f\"{year} is a common year, and February has 28 days.\")\n",
    "else:\n",
    "    print(f\"{year} is a common year, and the month has 31 days.\")\n"
   ]
  },
  {
   "cell_type": "code",
   "execution_count": null,
   "id": "112cdfc4-8b7d-4632-8f1d-48813a2f005d",
   "metadata": {},
   "outputs": [],
   "source": [
    "                                            BASIC -LEVEL"
   ]
  },
  {
   "cell_type": "code",
   "execution_count": null,
   "id": "be3f1921-8b0c-4e30-9cbe-0907fdb894a6",
   "metadata": {},
   "outputs": [],
   "source": [
    "1. Write a Python program that checks if a given number is positive, negative, or zero."
   ]
  },
  {
   "cell_type": "code",
   "execution_count": 2,
   "id": "88cc8d0e-37a9-4d15-af8c-b1292828b2d0",
   "metadata": {},
   "outputs": [
    {
     "name": "stdin",
     "output_type": "stream",
     "text": [
      "enter the number  0\n"
     ]
    },
    {
     "name": "stdout",
     "output_type": "stream",
     "text": [
      " number is 0\n"
     ]
    }
   ],
   "source": [
    "#step 1 take the input\n",
    "p=int(input(\"enter the number \"))\n",
    "# step 2 using the if -else condition\n",
    "if p<0:\n",
    "    print(\"number is negative\")\n",
    "elif p>0:\n",
    "    print(\"number is positive\")\n",
    "else :\n",
    "    print(\" number is 0\")"
   ]
  },
  {
   "cell_type": "code",
   "execution_count": null,
   "id": "5052346b-c68a-4e4d-b5c6-a0cfd2db54b8",
   "metadata": {},
   "outputs": [],
   "source": [
    "2. Create a program to determine if a person is eligible to vote based on their age."
   ]
  },
  {
   "cell_type": "code",
   "execution_count": 4,
   "id": "2e298850-ca72-471b-9fa4-b28209469659",
   "metadata": {},
   "outputs": [
    {
     "name": "stdin",
     "output_type": "stream",
     "text": [
      " enteer the you age  45\n"
     ]
    },
    {
     "name": "stdout",
     "output_type": "stream",
     "text": [
      "person is eligible to  vote\n"
     ]
    }
   ],
   "source": [
    "# step 1 taking the age as input\n",
    "age= int(input(\" enteer the you age \"))\n",
    "# step 2 using the  conditional   state ments\n",
    "if age>18:\n",
    "    print(\"person is eligible to  vote\")\n",
    "elif age<18:\n",
    "    print(\"person is  not eligible vote  \")\n",
    "else :\n",
    "    print(\" you enterd the invalid age\")\n"
   ]
  },
  {
   "cell_type": "code",
   "execution_count": null,
   "id": "b6850460-ab6f-4d06-aeba-649c674d3519",
   "metadata": {},
   "outputs": [],
   "source": [
    "3. Write a program to find the maximum of two given numbers using conditional statements."
   ]
  },
  {
   "cell_type": "code",
   "execution_count": 5,
   "id": "c14c789b-75a3-4ed0-94fa-6dffae1daab3",
   "metadata": {},
   "outputs": [
    {
     "name": "stdin",
     "output_type": "stream",
     "text": [
      " enter the first number  2\n",
      "enter the  second number 0\n"
     ]
    },
    {
     "name": "stdout",
     "output_type": "stream",
     "text": [
      "first  is greater then  second\n"
     ]
    }
   ],
   "source": [
    "# step1 taking the inpkut\n",
    "p=int(input(\" enter the first number \"))\n",
    "q=int(input(\"enter the  second number\"))\n",
    "# step 2 using the conditional statement\n",
    "if p>q:\n",
    "    print(\"first  is greater then  second\")\n",
    "else:\n",
    "    print(\"second number is greater than p\")\n",
    "    \n",
    "\n"
   ]
  },
  {
   "cell_type": "code",
   "execution_count": null,
   "id": "a8609d32-0c78-4904-8b4a-77788390492c",
   "metadata": {},
   "outputs": [],
   "source": [
    "4.4. Develop a program that calculates the grade of a student based on their exam score."
   ]
  },
  {
   "cell_type": "code",
   "execution_count": 6,
   "id": "b028e1d7-08ca-4b5d-8ca6-dfae600a11d9",
   "metadata": {},
   "outputs": [
    {
     "name": "stdin",
     "output_type": "stream",
     "text": [
      "Enter the student's score:  89\n"
     ]
    },
    {
     "name": "stdout",
     "output_type": "stream",
     "text": [
      "The student's grade is: B\n"
     ]
    }
   ],
   "source": [
    "# step 1 taking the input for score \n",
    "score = float(input(\"Enter the student's exam89 score: \"))\n",
    "# step2 using the if- else condition\n",
    "if score >= 90:\n",
    "    grade = 'A'        \n",
    "elif score >= 80:\n",
    "    grade = 'B'\n",
    "elif score >= 70:\n",
    "    grade = 'C'\n",
    "elif score >= 60:\n",
    "    grade = 'D'\n",
    "else:\n",
    "    grade = 'F'\n",
    "# step 3  printing the result\n",
    "print(f\"The student's grade is: {grade}\")"
   ]
  },
  {
   "cell_type": "code",
   "execution_count": null,
   "id": "1a9af3e0-0b7d-4fc5-9e64-ee131f472162",
   "metadata": {},
   "outputs": [],
   "source": [
    "5. Create a program that checks if a year is a leap year or not."
   ]
  },
  {
   "cell_type": "code",
   "execution_count": 9,
   "id": "9cfe566e-c820-46e2-9227-73dd4fa86f13",
   "metadata": {},
   "outputs": [
    {
     "name": "stdin",
     "output_type": "stream",
     "text": [
      "enter the yeaar 2000\n"
     ]
    },
    {
     "name": "stdout",
     "output_type": "stream",
     "text": [
      "year is the leap year\n"
     ]
    }
   ],
   "source": [
    "# step 1 taking the input for checking the leap year or not\n",
    "p=int(input(\"enter the yeaar\"))\n",
    "# step 2  using conditional  if and else\n",
    "if (p%4==0 and p%100!=0) or p%400==0:\n",
    "    print(\"year is the leap year\")\n",
    "else:\n",
    "    print(\"year is not the leap year\")"
   ]
  },
  {
   "cell_type": "code",
   "execution_count": null,
   "id": "20b39adb-aba1-47f1-a9f4-ff339171989f",
   "metadata": {},
   "outputs": [],
   "source": [
    "6. Write a program to classify a triangle based on its sides' lengths."
   ]
  },
  {
   "cell_type": "code",
   "execution_count": 15,
   "id": "bdebc487-681e-4d86-a585-3a7cfcbc5679",
   "metadata": {},
   "outputs": [
    {
     "name": "stdin",
     "output_type": "stream",
     "text": [
      "enter the  first side of traigle 23\n",
      "enter the  second side of triangle  23\n",
      " enter the third side of traingle 23\n"
     ]
    },
    {
     "name": "stdout",
     "output_type": "stream",
     "text": [
      "triangle is equilateral\n"
     ]
    }
   ],
   "source": [
    "# step 1 taking the sides of atriangle\n",
    "a = int(input(\"enter the  first side of traigle\"))\n",
    "b = int(input(\"enter the  second side of triangle \"))\n",
    "c = int(input(\" enter the third side of traingle\"))\n",
    "# step 2  using the  if -else condition\n",
    "if a==b==c:\n",
    "    print(\"triangle is equilateral\")\n",
    "elif a==b or a==c or b==c:\n",
    "    print(\"triangle  is isoceles\")\n",
    "else:\n",
    "    print(\" triangle is scaler\")"
   ]
  },
  {
   "cell_type": "code",
   "execution_count": null,
   "id": "43e1dca0-2ce5-45e0-867d-23905e39f684",
   "metadata": {},
   "outputs": [],
   "source": [
    "8. Develop a program that checks whether a character is a vowel or a consonant."
   ]
  },
  {
   "cell_type": "code",
   "execution_count": 2,
   "id": "fdf7046d-e1a9-456d-bbee-9244f7d97438",
   "metadata": {},
   "outputs": [
    {
     "name": "stdin",
     "output_type": "stream",
     "text": [
      " enter a chracter K\n"
     ]
    },
    {
     "name": "stdout",
     "output_type": "stream",
     "text": [
      " it is a consonent\n"
     ]
    }
   ],
   "source": [
    "# step 1 taking  the input m for the chracter\n",
    "ch= input(\" enter a chracter\")\n",
    "# step 2 converting it into the lower case\n",
    "ch=ch.lower()\n",
    "# step 3  using the conditional loop\n",
    "if ch in \"aeiou\" and len(ch)==1:\n",
    "    print(\" Its  a vowel \")\n",
    "else:\n",
    "    print(\" it is a consonent\")\n",
    "\n",
    "\n"
   ]
  },
  {
   "cell_type": "code",
   "execution_count": null,
   "id": "b425243d-98ae-4bc0-80b0-3d06f338b671",
   "metadata": {},
   "outputs": [],
   "source": [
    "9. Create a program to calculate the total cost of a shopping cart based on discounts."
   ]
  },
  {
   "cell_type": "code",
   "execution_count": 7,
   "id": "f41ea2b7-d505-4cbb-9f18-56cbf0ffd7ad",
   "metadata": {},
   "outputs": [
    {
     "name": "stdin",
     "output_type": "stream",
     "text": [
      "enter the total price 160\n"
     ]
    },
    {
     "name": "stdout",
     "output_type": "stream",
     "text": [
      "Purchase price  160\n",
      "Discount price  90\n",
      "New price 16.0\n"
     ]
    }
   ],
   "source": [
    "# step 1 taking the input for  total price\n",
    "p=int(input(\"enter the total price\"))\n",
    "# step 2 using the  conditional loop\n",
    "if 300>p>200:\n",
    "    discount=50\n",
    "elif 500>p>300:\n",
    "    discount=100\n",
    "elif p>500:\n",
    "    discont=250\n",
    "else:\n",
    "    discount=90\n",
    "#step 3 new purchase price after discount\n",
    "newp= p - (p* discount / 100)\n",
    "# step 4   printing the value \n",
    "print(\"Purchase price \",p)\n",
    "print(\"Discount price \",discount)\n",
    "print(\"New price\",newp)\n",
    "    \n"
   ]
  },
  {
   "cell_type": "code",
   "execution_count": null,
   "id": "561c0825-94e5-4aa6-9e9f-163ee1e28ef2",
   "metadata": {},
   "outputs": [],
   "source": [
    "10. Write a program that checks if a given number is even or odd."
   ]
  },
  {
   "cell_type": "code",
   "execution_count": 11,
   "id": "6166ef96-9c6c-4aba-9135-6b65d908eb52",
   "metadata": {},
   "outputs": [
    {
     "name": "stdin",
     "output_type": "stream",
     "text": [
      "enter a number  to check its even or odd 5\n"
     ]
    },
    {
     "name": "stdout",
     "output_type": "stream",
     "text": [
      " Number is not even not  it is a odd\n"
     ]
    }
   ],
   "source": [
    "# step 1 taking the input \n",
    "o=int(input(\"enter a number  to check its even or odd\"))\n",
    "# step 2 using the if - else \n",
    "if o%2==0:\n",
    "    print(\"Number is even\")\n",
    "else:\n",
    "    print(\" Number is not even not  it is a odd\")\n"
   ]
  },
  {
   "cell_type": "code",
   "execution_count": null,
   "id": "e5fe7575-3c65-4f69-a7ea-8a3903c05613",
   "metadata": {},
   "outputs": [],
   "source": [
    "11. Write a program that calculates the roots of a quadratic equation ."
   ]
  },
  {
   "cell_type": "code",
   "execution_count": 12,
   "id": "0b811d29-6123-4bd1-912d-2080c94f3673",
   "metadata": {},
   "outputs": [
    {
     "name": "stdin",
     "output_type": "stream",
     "text": [
      " enter the value for a 34\n",
      " enter the value for b 21\n",
      " enter the value  for c 12\n"
     ]
    },
    {
     "name": "stdout",
     "output_type": "stream",
     "text": [
      "Root 1: (-0.3088235294117647+0.5075127625510999j)\n",
      "Root 2: (-0.3088235294117647-0.5075127625510999j)\n"
     ]
    }
   ],
   "source": [
    "import math\n",
    "# step 1  taking the input\n",
    "a=int(input(\" enter the value for a\" ))\n",
    "b=int(input(\" enter the value for b\"))\n",
    "c=int(input(\" enter the value  for c\"))\n",
    "# step 2 finding the discriminant\n",
    "d=b**2-4*a*c\n",
    "# step 3  using the if -else condition\n",
    "if d>0:\n",
    "    root1=(-b + math.sqrt(d)) / (2*a)\n",
    "    root2=(+b+ math.sqrt(d)) / (2*a)\n",
    "if d == 0:\n",
    "#step 4  One real root (a repeated root)\n",
    "        root = -b / (2*a)\n",
    "        print(f\"Root: {root}\")\n",
    "else:\n",
    "    \n",
    "      \n",
    "# step 5  Complex roots (no real roots)\n",
    "    real_part = -b / (2*a)\n",
    "    imaginary_part = math.sqrt(-d) / (2*a)\n",
    "    root1 = complex(real_part, imaginary_part)\n",
    "    root2 = complex(real_part, -imaginary_part)\n",
    "    print(f\"Root 1: {root1}\")\n",
    "    print(f\"Root 2: {root2}\")"
   ]
  },
  {
   "cell_type": "code",
   "execution_count": 12,
   "id": "85a63054-62a9-4097-9af5-dc193e6a463b",
   "metadata": {},
   "outputs": [
    {
     "name": "stdin",
     "output_type": "stream",
     "text": [
      " enter the value for a 34\n",
      " enter the value for b 21\n",
      " enter the value  for c 12\n"
     ]
    },
    {
     "name": "stdout",
     "output_type": "stream",
     "text": [
      "Root 1: (-0.3088235294117647+0.5075127625510999j)\n",
      "Root 2: (-0.3088235294117647-0.5075127625510999j)\n"
     ]
    }
   ],
   "source": [
    "import math\n",
    "# step 1  taking the input\n",
    "a=int(input(\" enter the value for a\" ))\n",
    "b=int(input(\" enter the value for b\"))\n",
    "c=int(input(\" enter the value  for c\"))\n",
    "# step 2 finding the discriminant\n",
    "d=b**2-4*a*c\n",
    "# step 3  using the if -else condition\n",
    "if d>0:\n",
    "    root1=(-b + math.sqrt(d)) / (2*a)\n",
    "    root2=(+b+ math.sqrt(d)) / (2*a)\n",
    "if d == 0:\n",
    "#step 4  One real root (a repeated root)\n",
    "        root = -b / (2*a)\n",
    "        print(f\"Root: {root}\")\n",
    "else:\n",
    "    \n",
    "      \n",
    "# step 5  Complex roots (no real roots)\n",
    "    real_part = -b / (2*a)\n",
    "    imaginary_part = math.sqrt(-d) / (2*a)\n",
    "    root1 = complex(real_part, imaginary_part)\n",
    "    root2 = complex(real_part, -imaginary_part)\n",
    "    print(f\"Root 1: {root1}\")\n",
    "    print(f\"Root 2: {root2}\")"
   ]
  },
  {
   "cell_type": "code",
   "execution_count": null,
   "id": "60f578fb-af0a-4bfa-bd10-0963201dd8c9",
   "metadata": {},
   "outputs": [],
   "source": [
    "12. Create a program that determines the day of the week based on the day number (1-7)"
   ]
  },
  {
   "cell_type": "code",
   "execution_count": 17,
   "id": "4c690201-a098-4901-a419-643a8df1d253",
   "metadata": {},
   "outputs": [
    {
     "name": "stdin",
     "output_type": "stream",
     "text": [
      " enter the day  6\n"
     ]
    },
    {
     "name": "stdout",
     "output_type": "stream",
     "text": [
      " day is saturday\n"
     ]
    }
   ],
   "source": [
    "# step 1 taking the input for a day \n",
    "m=int(input(\" enter the day \"))\n",
    "# step 2 using the if- elif -else  condition\n",
    "if m==1:\n",
    "    print(\"day is monday\")\n",
    "elif m==2:\n",
    "    print(\"day is teusday\")\n",
    "elif m==3 :\n",
    "    print(\" day is Wednesday\")\n",
    "elif m==4:\n",
    "     print(\" day is thrusday\")\n",
    "elif m==5:\n",
    "    print(\" day is friday\")\n",
    "elif m==6:\n",
    "    print(\" day is saturday\")\n",
    "elif m==7:\n",
    "    print(\" day is Sunday\")\n",
    "else:\n",
    "    print(\" error\")\n",
    "    "
   ]
  },
  {
   "cell_type": "code",
   "execution_count": null,
   "id": "bcbb7491-9f6c-4f6a-9ea7-611fafb9f176",
   "metadata": {},
   "outputs": [],
   "source": [
    "13. Develop a program that calculates the factorial of a given number using recursion."
   ]
  },
  {
   "cell_type": "code",
   "execution_count": 24,
   "id": "f745dad4-c819-4965-9ea3-2717fb9e123d",
   "metadata": {},
   "outputs": [
    {
     "name": "stdin",
     "output_type": "stream",
     "text": [
      "enter a number for calculating the factorail 7\n"
     ]
    },
    {
     "data": {
      "text/plain": [
       "5040"
      ]
     },
     "execution_count": 24,
     "metadata": {},
     "output_type": "execute_result"
    }
   ],
   "source": [
    "# step1 taking the input for th number\n",
    "m=int(input(\"enter a number for calculating the factorail\"))\n",
    "# step 2 creating the recusive founctions\n",
    "def fac(n):\n",
    "# step 3 using the if -else condition\n",
    "    if n==0:\n",
    "        return 1\n",
    "    else:\n",
    "        return n*fac(n-1)\n",
    "fac(m)"
   ]
  },
  {
   "cell_type": "code",
   "execution_count": null,
   "id": "c8ae91d0-2a0c-49bb-a063-cdf6090c8f5a",
   "metadata": {},
   "outputs": [],
   "source": [
    "14. Write a program to find the largest among three numbers without using the `max()` function."
   ]
  },
  {
   "cell_type": "code",
   "execution_count": 1,
   "id": "fd4aaae6-35f4-4641-abb7-a1f599f110fa",
   "metadata": {},
   "outputs": [
    {
     "name": "stdin",
     "output_type": "stream",
     "text": [
      "enter the  first number 56\n",
      "enter the second number 789\n",
      "enter the third number 456\n"
     ]
    },
    {
     "name": "stdout",
     "output_type": "stream",
     "text": [
      " second is largest \n"
     ]
    }
   ],
   "source": [
    "# step 1 taking the input for  1st number 2,3\n",
    "p=float(int(input(\"enter the  first number\")))\n",
    "q= float(int(input(\"enter the second number\")))\n",
    "r= float(int(input (\"enter the third number\")))\n",
    "# step 2 using the if -else condoition\n",
    "if p>=q and p>=r :\n",
    "    print(\" first is largest \")\n",
    "elif q>=p and q>=r:\n",
    "    print(\" second is largest \" )\n",
    "else:\n",
    "    print(\"third  is largest  \")"
   ]
  },
  {
   "cell_type": "code",
   "execution_count": null,
   "id": "6eb86afa-974f-4c5d-ab1d-65003445e059",
   "metadata": {},
   "outputs": [],
   "source": [
    "15. Create a program that simulates a basic ATM transaction menu."
   ]
  },
  {
   "cell_type": "code",
   "execution_count": 6,
   "id": "edf21031-9b96-469b-b97f-680cc729912c",
   "metadata": {},
   "outputs": [
    {
     "name": "stdout",
     "output_type": "stream",
     "text": [
      "\n",
      "ATM Menu:\n",
      "1. Display Balance\n",
      "2. Deposit Money\n",
      "3. Withdraw Money\n",
      "4. Exit\n"
     ]
    },
    {
     "name": "stdin",
     "output_type": "stream",
     "text": [
      "Please select an option (1/2/3/4):  1\n"
     ]
    },
    {
     "name": "stdout",
     "output_type": "stream",
     "text": [
      "Your account balance is $1000.00\n",
      "\n",
      "ATM Menu:\n",
      "1. Display Balance\n",
      "2. Deposit Money\n",
      "3. Withdraw Money\n",
      "4. Exit\n"
     ]
    },
    {
     "name": "stdin",
     "output_type": "stream",
     "text": [
      "Please select an option (1/2/3/4):  2\n",
      "Enter the amount you want to deposit: $ 200000\n"
     ]
    },
    {
     "name": "stdout",
     "output_type": "stream",
     "text": [
      "Successfully deposited $200000.00.\n",
      "\n",
      "ATM Menu:\n",
      "1. Display Balance\n",
      "2. Deposit Money\n",
      "3. Withdraw Money\n",
      "4. Exit\n"
     ]
    },
    {
     "name": "stdin",
     "output_type": "stream",
     "text": [
      "Please select an option (1/2/3/4):  3\n",
      "Enter the amount you want to withdraw: $ 40000\n"
     ]
    },
    {
     "name": "stdout",
     "output_type": "stream",
     "text": [
      "Withdrew $40000.00.\n",
      "\n",
      "ATM Menu:\n",
      "1. Display Balance\n",
      "2. Deposit Money\n",
      "3. Withdraw Money\n",
      "4. Exit\n"
     ]
    },
    {
     "name": "stdin",
     "output_type": "stream",
     "text": [
      "Please select an option (1/2/3/4):  4\n"
     ]
    },
    {
     "name": "stdout",
     "output_type": "stream",
     "text": [
      "Thank you for using the ATM. Goodbye!\n"
     ]
    }
   ],
   "source": [
    "# step 1  Initialize account balance\n",
    "account_balance = 1000\n",
    "\n",
    "#  step 2 Function to display account balance\n",
    "def display_balance():\n",
    "    print(f\"Your account balance is ${account_balance:.2f}\")\n",
    "\n",
    "#  step 3 Function to deposit money \n",
    "def deposit():\n",
    "    global account_balance\n",
    "    amount = float(input(\"Enter the amount you want to deposit: $\"))\n",
    "# step 4 if- else condition\n",
    "    if amount > 0:\n",
    "        account_balance += amount\n",
    "        print(f\"Successfully deposited ${amount:.2f}.\")\n",
    "    else:\n",
    "        print(\"Invalid amount. Please enter a positive amount.\")\n",
    "\n",
    "# step 5 Function to withdraw money\n",
    "def withdraw():\n",
    "    global account_balance\n",
    "    amount = float(input(\"Enter the amount you want to withdraw: $\"))\n",
    "# step 6 using the if -else condition\n",
    "    if amount > 0 and amount <= account_balance:\n",
    "        account_balance -= amount\n",
    "        print(f\"Withdrew ${amount:.2f}.\")\n",
    "    elif amount > account_balance:\n",
    "        print(\"Insufficient funds.\")\n",
    "    else:\n",
    "        print(\"Invalid amount. Please enter a positive amount.\")\n",
    "\n",
    "#  step  7 Main menu whith help of  while loop\n",
    "while True:\n",
    "    print(\"\\nATM Menu:\")\n",
    "    print(\"1. Display Balance\")\n",
    "    print(\"2. Deposit Money\")\n",
    "    print(\"3. Withdraw Money\")\n",
    "    print(\"4. Exit\")\n",
    "    \n",
    "    choice = input(\"Please select an option (1/2/3/4): \")\n",
    "# step 8  creating the choice  using the if -else \n",
    "    if choice == '1':\n",
    "        display_balance()\n",
    "    elif choice == '2':\n",
    "        deposit()\n",
    "    elif choice == '3':\n",
    "        withdraw()\n",
    "    elif choice == '4':\n",
    "        print(\"Thank you for using the ATM. Goodbye!\")\n",
    "        break\n",
    "    else:\n",
    "        print(\"Invalid option. Please choose a valid option (1/2/3/4).\")\n",
    "\n",
    "    \n",
    "        "
   ]
  },
  {
   "cell_type": "code",
   "execution_count": null,
   "id": "b83a7f5c-bb6e-46eb-93d4-226ba5ba4f3b",
   "metadata": {},
   "outputs": [],
   "source": [
    "16. Build a program that checks if a given string is a palindrome or not."
   ]
  },
  {
   "cell_type": "code",
   "execution_count": 9,
   "id": "c47fd0d3-7afd-414b-8c24-b641093d074a",
   "metadata": {},
   "outputs": [
    {
     "name": "stdin",
     "output_type": "stream",
     "text": [
      "enter a string amrit\n"
     ]
    },
    {
     "name": "stdout",
     "output_type": "stream",
     "text": [
      "it's not a pallindrome\n"
     ]
    }
   ],
   "source": [
    "# step 1 taking the input\n",
    "s=input(\"enter a string\")\n",
    "# step 2 it's use by slicing \n",
    "reverse=s[::-1]\n",
    "# step 3 using the if -else\n",
    "if s==reverse:\n",
    "    print(\"it's a pallindrome\")\n",
    "else:\n",
    "    print(\"it's not a pallindrome\")"
   ]
  },
  {
   "cell_type": "code",
   "execution_count": null,
   "id": "1ca63ded-3305-483a-a905-146c1918032f",
   "metadata": {},
   "outputs": [],
   "source": [
    "17. Write a program that calculates the average of a list of numbers, excluding the smallest and largest values."
   ]
  },
  {
   "cell_type": "code",
   "execution_count": 3,
   "id": "3dcb14ac-091b-430d-b580-740570cd04d7",
   "metadata": {},
   "outputs": [
    {
     "name": "stdout",
     "output_type": "stream",
     "text": [
      "Average (excluding smallest and largest values): 56.0\n"
     ]
    }
   ],
   "source": [
    "# step 1 creating the founction \n",
    "def average_excluding_largest_samllest(number):\n",
    "    if len(numbers)<3:\n",
    "        return 0\n",
    "    else:\n",
    "# step 2  finding the largest and smallest from a list\n",
    "        largest=max(number)\n",
    "        smallest=min(number)\n",
    "# step 3 removing the largest and smallest from a list\n",
    "        filtered=[x for x in number if x!=largest and x!=smallest]\n",
    "# step 4  finding the average \n",
    "        average=sum(filtered)/len(filtered)\n",
    "        return average\n",
    "# step 5 example usage   \n",
    "numbers=[12,34,55,59,76,90]\n",
    "average=average_excluding_largest_samllest(numbers)\n",
    "print(\"Average (excluding smallest and largest values):\", average)\n",
    "\n",
    "        \n",
    "        \n",
    "        \n",
    "        \n"
   ]
  },
  {
   "cell_type": "code",
   "execution_count": null,
   "id": "e4d00f94-257c-420e-9a15-a7b2746504a4",
   "metadata": {},
   "outputs": [],
   "source": [
    "18.Develop a program that converts a given temperature from Celsius to Fahrenheit."
   ]
  },
  {
   "cell_type": "code",
   "execution_count": 4,
   "id": "17ef01c0-a397-4c54-8665-93b3d78f041d",
   "metadata": {},
   "outputs": [
    {
     "name": "stdin",
     "output_type": "stream",
     "text": [
      " taking the input to convert celsius to fhrenheit 45\n"
     ]
    },
    {
     "data": {
      "text/plain": [
       "113.0"
      ]
     },
     "execution_count": 4,
     "metadata": {},
     "output_type": "execute_result"
    }
   ],
   "source": [
    " # step 1 creating the sample list of fahrenheit temprature\n",
    "c=int(input(\" taking the input to convert celsius to fhrenheit\"))\n",
    "# step 2   using the formula \n",
    "c = 9/5*c+32\n",
    "# step 3 printing the tempratue\n",
    "c"
   ]
  },
  {
   "cell_type": "code",
   "execution_count": null,
   "id": "e7cefbf1-aa82-476f-9feb-a1f8e4059bfd",
   "metadata": {},
   "outputs": [],
   "source": [
    "\n",
    "19. Create a program that simulates a basic calculator for addition, subtraction, multiplication, and division."
   ]
  },
  {
   "cell_type": "code",
   "execution_count": 6,
   "id": "428d3b51-b0e1-4d96-93c8-98a82d80d42d",
   "metadata": {},
   "outputs": [
    {
     "name": "stdin",
     "output_type": "stream",
     "text": [
      "enter a choice : enter 1  for addition, enter 2 for substraction, enter 3 for multiplications,enter 4 for divison 4\n",
      "enter a firsst number for divison 12\n",
      " enter a second number for  divison 2\n"
     ]
    },
    {
     "name": "stdout",
     "output_type": "stream",
     "text": [
      "Dison of two number is: 6.0\n"
     ]
    }
   ],
   "source": [
    "# step 1 taking the input  for choices\n",
    "c=int(input(\"enter a choice : enter 1  for addition, enter 2 for substraction, enter 3 for multiplications,enter 4 for divison\"))\n",
    "# step 2   using the if- else  and elif by which we will  give the choices\n",
    "if c==1:\n",
    "    a=int(input (\" enter a  first number for addition\"))\n",
    "    b=int(input(\" enter a second  number for addition \"))\n",
    "    c=a+b\n",
    "    print(\" sum of two numbers are: \",c)\n",
    "elif c==2:\n",
    "    a=int(input(\"enter a  first number  for substraction\"))\n",
    "    b=int(input(\"enter a  second number for  substraction\"))\n",
    "    c=a-b\n",
    "    print(\"subtraction of two numbers are \",c)\n",
    "elif c==3:\n",
    "    a=int(input(\"enter a first mnumber for multiplication\"))\n",
    "    b= int(input(\" enter a second  number for multiplication \"))\n",
    "    c=a*b\n",
    "    print(\"Multiplication of two numbers are \",c)\n",
    "elif c==4:\n",
    "    a=int(input(\"enter a firsst number for divison\"))\n",
    "    b=int(input(\" enter a second number for  divison\"))\n",
    "    c=a/b\n",
    "    print(\"Dison of two number is:\", c)\n",
    "else:\n",
    "    print(\"Invalid choice\")\n"
   ]
  },
  {
   "cell_type": "code",
   "execution_count": null,
   "id": "c828dc75-6b55-4f0f-bc9f-a32cd4de735d",
   "metadata": {},
   "outputs": [],
   "source": [
    "20. Write a program that determines the roots of a cubic equation using the Cardano formula."
   ]
  },
  {
   "cell_type": "code",
   "execution_count": 8,
   "id": "db050f96-8827-4bf8-831f-74f798440327",
   "metadata": {},
   "outputs": [
    {
     "name": "stdout",
     "output_type": "stream",
     "text": [
      "Roots: (2.7598356856515927, 1.2401643143484073, 1.9999999999999998)\n"
     ]
    }
   ],
   "source": [
    "# step 1 importing the library\n",
    "import math\n",
    "# step 2 creating the founction\n",
    "def find_cubic_roots(a, b, c, d):\n",
    "    if a == 0:\n",
    "        print(\"This is not a cubic equation.\")\n",
    "        return\n",
    "    p = c / a - (b**2) / (3 * (a**2))\n",
    "    q = (2 * (b**3)) / (27 * (a**3)) - (b * c) / (3 * (a**2)) + d / a\n",
    "\n",
    "    discriminant = (q**2) / 4 + (p**3) / 27\n",
    "# step 3 using the if-else and elif condition\n",
    "    if discriminant > 0:\n",
    "        u = (-q / 2 + math.sqrt(discriminant))**(1/3)\n",
    "        v = (-q / 2 - math.sqrt(discriminant))**(1/3)\n",
    "        root1 = u + v - (b / (3 * a))\n",
    "        root2 = (-1 / 2) * (u + v) - (b / (3 * a))\n",
    "        root3 = (math.sqrt(3) / 2) * (u - v)\n",
    "    elif discriminant == 0:\n",
    "        u = (-q / 2)**(1/3)\n",
    "        root1 = 2 * u - (b / (3 * a))\n",
    "        root2 = -u - (b / (3 * a))\n",
    "        root3 = -u - (b / (3 * a))\n",
    "    else:\n",
    "        rho = math.sqrt((-p**3) / 27)\n",
    "        theta = math.acos(-q / (2 * rho))\n",
    "        root1 = 2 * math.copysign(1, q) * math.sqrt(rho) * math.cos(theta / 3) - (b / (3 * a))\n",
    "        root2 = 2 * math.copysign(1, q) * math.sqrt(rho) * math.cos((theta + 2 * math.pi) / 3) - (b / (3 * a))\n",
    "        root3 = 2 * math.copysign(1, q) * math.sqrt(rho) * math.cos((theta + 4 * math.pi) / 3) - (b / (3 * a))\n",
    "\n",
    "    return root1, root2, root3\n",
    "\n",
    "# Example usage:\n",
    "a = 1\n",
    "b = -6\n",
    "c = 11\n",
    "d = -6\n",
    "roots = find_cubic_roots(a, b, c, d)\n",
    "print(\"Roots:\", roots)\n"
   ]
  },
  {
   "cell_type": "code",
   "execution_count": null,
   "id": "974382fe-c288-4620-80a5-a93eb409ba0c",
   "metadata": {},
   "outputs": [],
   "source": [
    "                                  Topic: Advanced Level"
   ]
  },
  {
   "cell_type": "code",
   "execution_count": null,
   "id": "13c0e564-20c3-4693-af76-a51efd837be6",
   "metadata": {},
   "outputs": [],
   "source": [
    "21. Create a program that calculates the income tax based on the user's income and tax brackets."
   ]
  },
  {
   "cell_type": "code",
   "execution_count": 1,
   "id": "230e7ead-263f-439e-87f9-c64b4043de9a",
   "metadata": {},
   "outputs": [
    {
     "name": "stdin",
     "output_type": "stream",
     "text": [
      "Enter your income: $ 5000\n"
     ]
    },
    {
     "name": "stdout",
     "output_type": "stream",
     "text": [
      "Your income tax is: $500.00\n"
     ]
    }
   ],
   "source": [
    "def calculate_income_tax(income):\n",
    "    #  step 1 Define tax brackets and their corresponding tax rates\n",
    "    tax_brackets = [(0, 10000), (10001, 40000), (40001, 100000), (100001, float('inf'))]\n",
    "    tax_rates = [0.1, 0.2, 0.3, 0.4]  # Corresponding tax rates for each bracket\n",
    "\n",
    "    # step 2  Initialize tax to zero\n",
    "    tax = 0\n",
    "\n",
    "    #  step 3 Iterate through tax brackets\n",
    "    for i in range(len(tax_brackets)):\n",
    "        bracket_min, bracket_max = tax_brackets[i]\n",
    "        rate = tax_rates[i]\n",
    "\n",
    "        #  step 4 Check if the income is within the current bracket\n",
    "        if income > bracket_max:\n",
    "            taxable_income = bracket_max - bracket_min\n",
    "        else:\n",
    "            taxable_income = income - bracket_min\n",
    "\n",
    "        #  step 5 Calculate tax for the current bracket\n",
    "        if taxable_income > 0:\n",
    "            tax += taxable_income * rate\n",
    "\n",
    "        # step; 6 Stop when income is within the current bracket\n",
    "        if income <= bracket_max:\n",
    "            break\n",
    "\n",
    "    return tax\n",
    "\n",
    "# Input: User's income\n",
    "income = float(input(\"Enter your income: $\"))\n",
    "\n",
    "# Calculate income tax\n",
    "income_tax = calculate_income_tax(income)\n",
    "\n",
    "# Display the calculated income tax\n",
    "print(f\"Your income tax is: ${income_tax:.2f}\")\n",
    "\n",
    "    \n"
   ]
  },
  {
   "cell_type": "code",
   "execution_count": null,
   "id": "98cffe12-f808-47a5-85ff-0227dadcfa17",
   "metadata": {},
   "outputs": [],
   "source": [
    "22. Write a program that simulates a rock-paper-scissors game against the computer."
   ]
  },
  {
   "cell_type": "code",
   "execution_count": 2,
   "id": "f0d299c0-6a17-4ba9-93a0-eb136085917d",
   "metadata": {},
   "outputs": [
    {
     "name": "stdin",
     "output_type": "stream",
     "text": [
      "Choose rock, paper, or scissors:  rock\n"
     ]
    },
    {
     "name": "stdout",
     "output_type": "stream",
     "text": [
      "You chose: rock\n",
      "Computer chose: rock\n",
      "It's a tie!\n"
     ]
    },
    {
     "name": "stdin",
     "output_type": "stream",
     "text": [
      "Play again? (yes/no):  yes\n",
      "Choose rock, paper, or scissors:  paper\n"
     ]
    },
    {
     "name": "stdout",
     "output_type": "stream",
     "text": [
      "You chose: paper\n",
      "Computer chose: rock\n",
      "You win!\n"
     ]
    },
    {
     "name": "stdin",
     "output_type": "stream",
     "text": [
      "Play again? (yes/no):  no\n"
     ]
    }
   ],
   "source": [
    "#step1  import random \n",
    "import random\n",
    "# step 2 creating a founction for user founction\n",
    "def get_user_choice():\n",
    "    user_choice = input(\"Choose rock, paper, or scissors: \").lower()\n",
    "    while user_choice not in [\"rock\", \"paper\", \"scissors\"]:\n",
    "        print(\"Invalid choice. Please choose rock, paper, or scissors.\")\n",
    "        user_choice = input(\"Choose rock, paper, or scissors: \").lower()\n",
    "    return user_choice\n",
    "# step 3  creating the founction for computer choice\n",
    "def get_computer_choice():\n",
    "    computer_choice = random.choice([\"rock\", \"paper\", \"scissors\"])\n",
    "    return computer_choice\n",
    "# step 4 creating the founction for determing the winner\n",
    "\n",
    "def determine_winner(user_choice, computer_choice):\n",
    "    if user_choice == computer_choice:\n",
    "        return \"It's a tie!\"\n",
    "    elif (\n",
    "        (user_choice == \"rock\" and computer_choice == \"scissors\") or\n",
    "        (user_choice == \"paper\" and computer_choice == \"rock\") or\n",
    "        (user_choice == \"scissors\" and computer_choice == \"paper\")\n",
    "    ):\n",
    "        return \"You win!\"\n",
    "    else:\n",
    "        return \"Computer wins!\"\n",
    "\n",
    "# Main game loop\n",
    "# step 5 creating the while loop\n",
    "while True:\n",
    "    user_choice = get_user_choice()\n",
    "    computer_choice = get_computer_choice()\n",
    "\n",
    "    print(f\"You chose: {user_choice}\")\n",
    "    print(f\"Computer chose: {computer_choice}\")\n",
    "\n",
    "    result = determine_winner(user_choice, computer_choice)\n",
    "    print(result)\n",
    "\n",
    "    play_again = input(\"Play again? (yes/no): \").lower()\n",
    "    if play_again != \"yes\":\n",
    "        break\n"
   ]
  },
  {
   "cell_type": "code",
   "execution_count": null,
   "id": "ed1b7f30-c33b-4efa-a45f-6277c082336d",
   "metadata": {},
   "outputs": [],
   "source": [
    "23. Develop a program that generates a random password based on user preferences (length, complexity)."
   ]
  },
  {
   "cell_type": "code",
   "execution_count": 5,
   "id": "2ad04fb7-917e-48b3-b7cb-97fdd4cedaed",
   "metadata": {},
   "outputs": [
    {
     "name": "stdout",
     "output_type": "stream",
     "text": [
      "Password Generator\n"
     ]
    },
    {
     "name": "stdin",
     "output_type": "stream",
     "text": [
      "Enter the desired password length:  4\n",
      "Include uppercase letters (Y/N):  Y\n",
      "Include lowercase letters (Y/N):  Y\n",
      "Include digits (Y/N):  Y\n",
      "Include special characters (Y/N):  Y\n"
     ]
    },
    {
     "name": "stdout",
     "output_type": "stream",
     "text": [
      "Generated Password: IKc3\n"
     ]
    }
   ],
   "source": [
    "# step 1 importing the random and sting\n",
    "import random\n",
    "import string\n",
    "# step 2 creating the founction for password \n",
    "def generate_password(length, use_uppercase, use_lowercase, use_digits, use_special_chars):\n",
    "    characters = \"\"\n",
    "# step 3 usinf the if -else\n",
    "    if use_uppercase:\n",
    "        characters += string.ascii_uppercase\n",
    "    if use_lowercase:\n",
    "        characters += string.ascii_lowercase\n",
    "    if use_digits:\n",
    "        characters += string.digits\n",
    "    if use_special_chars:\n",
    "        characters += string.punctuation\n",
    "\n",
    "    if not characters:\n",
    "        print(\"Please select at least one character type.\")\n",
    "        return None\n",
    "\n",
    "    password = ''.join(random.choice(characters) for _ in range(length))\n",
    "    return password\n",
    "# step 4  defing the man founction \n",
    "def main():\n",
    "    print(\"Password Generator\")\n",
    "    length = int(input(\"Enter the desired password length: \"))\n",
    "\n",
    "    use_uppercase = input(\"Include uppercase letters (Y/N): \").lower() == \"y\"\n",
    "    use_lowercase = input(\"Include lowercase letters (Y/N): \").lower() == \"y\"\n",
    "    use_digits = input(\"Include digits (Y/N): \").lower() == \"y\"\n",
    "    use_special_chars = input(\"Include special characters (Y/N): \").lower() == \"y\"\n",
    "\n",
    "    password = generate_password(length, use_uppercase, use_lowercase, use_digits, use_special_chars)\n",
    "\n",
    "    if password:\n",
    "        print(\"Generated Password:\", password)\n",
    "\n",
    "if __name__ == \"__main__\":\n",
    "    main()\n"
   ]
  },
  {
   "cell_type": "code",
   "execution_count": null,
   "id": "89c58735-6b34-4be3-b333-aa991595f18b",
   "metadata": {},
   "outputs": [],
   "source": [
    "24. Create a program that implements a simple text-based adventure game with branching scenarios."
   ]
  },
  {
   "cell_type": "code",
   "execution_count": 7,
   "id": "e6fac076-a177-4596-817c-fc6b6753ac72",
   "metadata": {},
   "outputs": [
    {
     "name": "stdout",
     "output_type": "stream",
     "text": [
      "Welcome to the Text-Based Adventure Game!\n",
      "\n",
      "You find yourself at the entrance of a mysterious cave.\n"
     ]
    },
    {
     "name": "stdin",
     "output_type": "stream",
     "text": [
      "Do you want to enter the cave or turn back?  enter\n"
     ]
    },
    {
     "name": "stdout",
     "output_type": "stream",
     "text": [
      "\n",
      "You venture deeper into the cave and encounter two tunnels.\n"
     ]
    },
    {
     "name": "stdin",
     "output_type": "stream",
     "text": [
      "Do you want to go left or right?  right\n"
     ]
    },
    {
     "name": "stdout",
     "output_type": "stream",
     "text": [
      "\n",
      "You encounter a fierce dragon!\n"
     ]
    },
    {
     "name": "stdin",
     "output_type": "stream",
     "text": [
      "Do you want to fight the dragon or run away?  run away\n"
     ]
    },
    {
     "name": "stdout",
     "output_type": "stream",
     "text": [
      "\n",
      "You choose to run away, and the dragon lets you go.\n",
      "You exit the cave safely.\n",
      "\n",
      "Game over. Play again to explore different choices.\n"
     ]
    }
   ],
   "source": [
    "# step 1 creating the founction for gameover\n",
    "def game_over():\n",
    "    print(\"\\nGame over. Play again to explore different choices.\")\n",
    "#step 2  creating the m ain founction\n",
    "def main():\n",
    "    print(\"Welcome to the Text-Based Adventure Game!\")\n",
    "\n",
    "    print(\"\\nYou find yourself at the entrance of a mysterious cave.\")\n",
    "    choice1 = input(\"Do you want to enter the cave or turn back? \").lower()\n",
    "# step 3  using the if-else condition \n",
    "    if choice1 == \"enter\":\n",
    "        print(\"\\nYou venture deeper into the cave and encounter two tunnels.\")\n",
    "        choice2 = input(\"Do you want to go left or right? \").lower()\n",
    "\n",
    "        if choice2 == \"left\":\n",
    "            print(\"\\nYou find a hidden treasure chest!\")\n",
    "            print(\"Congratulations, you've won the game!\")\n",
    "        elif choice2 == \"right\":\n",
    "            print(\"\\nYou encounter a fierce dragon!\")\n",
    "            choice3 = input(\"Do you want to fight the dragon or run away? \").lower()\n",
    "\n",
    "            if choice3 == \"fight\":\n",
    "                print(\"\\nYou defeat the dragon and find a pile of gold.\")\n",
    "                print(\"Congratulations, you've won the game!\")\n",
    "            else:\n",
    "                print(\"\\nYou choose to run away, and the dragon lets you go.\")\n",
    "                print(\"You exit the cave safely.\")\n",
    "                game_over()\n",
    "        else:\n",
    "            print(\"\\nInvalid choice. Please enter 'left' or 'right'.\")\n",
    "            game_over()\n",
    "    elif choice1 == \"turn back\":\n",
    "        print(\"\\nYou decide not to enter the cave and head back home.\")\n",
    "        print(\"Game over. Thanks for playing!\")\n",
    "    else:\n",
    "        print(\"\\nInvalid choice. Please enter 'enter' or 'turn back'.\")\n",
    "        game_over()\n",
    "\n",
    "if __name__ == \"__main__\":\n",
    "    main()\n"
   ]
  },
  {
   "cell_type": "code",
   "execution_count": null,
   "id": "1d2de62a-1f10-4269-996b-9f46a2878592",
   "metadata": {},
   "outputs": [],
   "source": [
    "25. Build a program that solves a linear equation for x, considering different cases."
   ]
  },
  {
   "cell_type": "code",
   "execution_count": 11,
   "id": "773c2f7f-8e60-43ec-ae23-0c973c786943",
   "metadata": {},
   "outputs": [
    {
     "name": "stdout",
     "output_type": "stream",
     "text": [
      "Linear Equation Solver\n",
      "This program solves equations in the form 'ax + b = 0'.\n"
     ]
    },
    {
     "name": "stdin",
     "output_type": "stream",
     "text": [
      "Enter the value of 'a':  2\n",
      "Enter the value of 'b':  3\n"
     ]
    },
    {
     "name": "stdout",
     "output_type": "stream",
     "text": [
      "The solution is x = -1.5\n"
     ]
    }
   ],
   "source": [
    "# step 1 creating  the  founction for solving linear equation\n",
    "def solve_linear_equation(a, b):\n",
    "# step 2 using the if- else condition\n",
    "    if a == 0:\n",
    "        if b == 0:\n",
    "            return \"Infinite solutions (all real numbers are solutions)\"\n",
    "        else:\n",
    "            return \"No solution (contradiction)\"\n",
    "    else:\n",
    "        x = -b / a\n",
    "        return f\"The solution is x = {x}\"\n",
    "# step 3  creating the main founction \n",
    "\n",
    "def main():\n",
    "    print(\"Linear Equation Solver\")\n",
    "    print(\"This program solves equations in the form 'ax + b = 0'.\")\n",
    "    \n",
    "    a = float(input(\"Enter the value of 'a': \"))\n",
    "    b = float(input(\"Enter the value of 'b': \"))\n",
    "\n",
    "    result = solve_linear_equation(a, b)\n",
    "    print(result)\n",
    "\n",
    "if __name__ == \"__main__\":\n",
    "    main()"
   ]
  },
  {
   "cell_type": "code",
   "execution_count": null,
   "id": "f8c9c92e-750c-4938-ad3b-96f98fbf2fa1",
   "metadata": {},
   "outputs": [],
   "source": [
    "26. Write a program that simulates a basic quiz game with multiple-choice questions and scoring."
   ]
  },
  {
   "cell_type": "code",
   "execution_count": 13,
   "id": "b81d44ef-c110-4507-8f26-989a3631de67",
   "metadata": {},
   "outputs": [
    {
     "name": "stdout",
     "output_type": "stream",
     "text": [
      "Welcome to the Basic Quiz Game!\n",
      "Question 1: What is the capital of France?\n",
      "1. London\n",
      "2. Madrid\n",
      "3. Paris\n",
      "4. Berlin\n"
     ]
    },
    {
     "name": "stdin",
     "output_type": "stream",
     "text": [
      "Enter the number of your answer:  2\n"
     ]
    },
    {
     "name": "stdout",
     "output_type": "stream",
     "text": [
      "Wrong. The correct answer was 3: Paris\n",
      "\n",
      "Question 2: Which planet is known as the Red Planet?\n",
      "1. Mars\n",
      "2. Venus\n",
      "3. Jupiter\n",
      "4. Saturn\n"
     ]
    },
    {
     "name": "stdin",
     "output_type": "stream",
     "text": [
      "Enter the number of your answer:  2\n"
     ]
    },
    {
     "name": "stdout",
     "output_type": "stream",
     "text": [
      "Wrong. The correct answer was 1: Mars\n",
      "\n",
      "Question 3: What is the largest mammal in the world?\n",
      "1. Elephant\n",
      "2. Lion\n",
      "3. Blue Whale\n",
      "4. Giraffe\n"
     ]
    },
    {
     "name": "stdin",
     "output_type": "stream",
     "text": [
      "Enter the number of your answer:  3\n"
     ]
    },
    {
     "name": "stdout",
     "output_type": "stream",
     "text": [
      "Correct!\n",
      "\n",
      "Quiz completed! Your score is 1/3.\n"
     ]
    }
   ],
   "source": [
    "# step 1  creating the class  of question \n",
    "class Question:\n",
    "# step 2   creating the founction \n",
    "    def __init__(self, text, options, correct_option):\n",
    "        self.text = text\n",
    "        self.options = options\n",
    "        self.correct_option = correct_option\n",
    "\n",
    "    def is_correct(self, user_answer):\n",
    "        return user_answer == self.correct_option\n",
    "# step 3  creating the  for runing the quiz \n",
    "def run_quiz(questions):\n",
    "    score = 0\n",
    "# step 4  creating the for loop  \n",
    "    for i, question in enumerate(questions, 1):\n",
    "        print(f\"Question {i}: {question.text}\")\n",
    "        for j, option in enumerate(question.options, 1):\n",
    "            print(f\"{j}. {option}\")\n",
    "\n",
    "        user_answer = int(input(\"Enter the number of your answer: \"))\n",
    "# step 5 using if-else condition \n",
    "\n",
    "        if question.is_correct(user_answer):\n",
    "            print(\"Correct!\\n\")\n",
    "            score += 1\n",
    "        else:\n",
    "            print(f\"Wrong. The correct answer was {question.correct_option}: {question.options[question.correct_option - 1]}\\n\")\n",
    "\n",
    "    return score\n",
    "\n",
    "# step 6  creating the main founction\n",
    "def main():\n",
    "    print(\"Welcome to the Basic Quiz Game!\")\n",
    "\n",
    "    # Define your quiz questions here (text, options, and correct option)\n",
    "    questions = [\n",
    "        Question(\"What is the capital of France?\", [\"London\", \"Madrid\", \"Paris\", \"Berlin\"], 3),\n",
    "        Question(\"Which planet is known as the Red Planet?\", [\"Mars\", \"Venus\", \"Jupiter\", \"Saturn\"], 1),\n",
    "        Question(\"What is the largest mammal in the world?\", [\"Elephant\", \"Lion\", \"Blue Whale\", \"Giraffe\"], 3),\n",
    "    ]\n",
    "\n",
    "    score = run_quiz(questions)\n",
    "\n",
    "    print(f\"Quiz completed! Your score is {score}/{len(questions)}.\")\n",
    "\n",
    "if __name__ == \"__main__\":\n",
    "    main()\n"
   ]
  },
  {
   "cell_type": "code",
   "execution_count": null,
   "id": "852be202-f92c-4cd8-b388-b4a46d892337",
   "metadata": {},
   "outputs": [],
   "source": [
    "27. Develop a program that determines whether a given year is a prime number or not."
   ]
  },
  {
   "cell_type": "code",
   "execution_count": 14,
   "id": "e7155100-1f61-4bf5-8a07-89fe9229d092",
   "metadata": {},
   "outputs": [
    {
     "name": "stdout",
     "output_type": "stream",
     "text": [
      "Prime Year Checker\n"
     ]
    },
    {
     "name": "stdin",
     "output_type": "stream",
     "text": [
      "Enter a year:  4000\n"
     ]
    },
    {
     "name": "stdout",
     "output_type": "stream",
     "text": [
      "4000 is not a prime year.\n"
     ]
    }
   ],
   "source": [
    "# step 1  creaing the founction  for prime year\n",
    "def is_prime(year):\n",
    "# step 2  using the if- else condition \n",
    "    if year <= 1:\n",
    "        return False\n",
    "    if year <= 3:\n",
    "        return True\n",
    "\n",
    "    if year % 2 == 0 or year % 3 == 0:\n",
    "        return False\n",
    "\n",
    "    i = 5\n",
    "# step 3 creating the while loop\n",
    "    while i * i <= year:\n",
    "        if year % i == 0 or year % (i + 2) == 0:\n",
    "            return False\n",
    "        i += 6\n",
    "\n",
    "    return True\n",
    "# step 4  creating the main founction \n",
    "def main():\n",
    "    print(\"Prime Year Checker\")\n",
    "\n",
    "    try:\n",
    "        year = int(input(\"Enter a year: \"))\n",
    "        if is_prime(year):\n",
    "            print(f\"{year} is a prime year.\")\n",
    "        else:\n",
    "            print(f\"{year} is not a prime year.\")\n",
    "    except ValueError:\n",
    "        print(\"Invalid input. Please enter a valid year.\")\n",
    "\n",
    "if __name__ == \"__main__\":\n",
    "    main()\n"
   ]
  },
  {
   "cell_type": "code",
   "execution_count": null,
   "id": "7f5686a5-3ff0-40e8-ac13-895a5665c40c",
   "metadata": {},
   "outputs": [],
   "source": [
    "28. Create a program that sorts three numbers in ascending order using conditional statements."
   ]
  },
  {
   "cell_type": "code",
   "execution_count": 15,
   "id": "740162e3-3406-4655-acc0-c212e6d26b0b",
   "metadata": {},
   "outputs": [
    {
     "name": "stdin",
     "output_type": "stream",
     "text": [
      "Enter the first number:  56\n",
      "Enter the second number:  78\n",
      "Enter the third number:  89\n"
     ]
    },
    {
     "name": "stdout",
     "output_type": "stream",
     "text": [
      "The numbers in ascending order are: [56.0, 78.0, 89.0]\n"
     ]
    }
   ],
   "source": [
    "# step 1  Input three numbers\n",
    "num1 = float(input(\"Enter the first number: \"))\n",
    "num2 = float(input(\"Enter the second number: \"))\n",
    "num3 = float(input(\"Enter the third number: \"))\n",
    "\n",
    "#  step 2 Sort the numbers in ascending order using conditional statements\n",
    "if num1 <= num2 <= num3:\n",
    "    sorted_numbers = [num1, num2, num3]\n",
    "elif num1 <= num3 <= num2:\n",
    "    sorted_numbers = [num1, num3, num2]\n",
    "elif num2 <= num1 <= num3:\n",
    "    sorted_numbers = [num2, num1, num3]\n",
    "elif num2 <= num3 <= num1:\n",
    "    sorted_numbers = [num2, num3, num1]\n",
    "elif num3 <= num1 <= num2:\n",
    "    sorted_numbers = [num3, num1, num2]\n",
    "else:  # num3 <= num2 <= num1\n",
    "    sorted_numbers = [num3, num2, num1]\n",
    "\n",
    "#  step 3 Display the sorted numbers\n",
    "print(\"The numbers in ascending order are:\", sorted_numbers)\n"
   ]
  },
  {
   "cell_type": "code",
   "execution_count": null,
   "id": "27080de1-2273-440a-a54d-07691d38b94f",
   "metadata": {},
   "outputs": [],
   "source": [
    "29. Build a program that determines the roots of a quartic equation using numerical methods."
   ]
  },
  {
   "cell_type": "code",
   "execution_count": 17,
   "id": "98202656-c5cf-43a2-bd73-fe47be6f915a",
   "metadata": {},
   "outputs": [
    {
     "name": "stdout",
     "output_type": "stream",
     "text": [
      "Root: 0.382378464175289\n"
     ]
    }
   ],
   "source": [
    "# step  1  import numpy as np\n",
    "import numpy as np\n",
    "# step 2 creating the founction for qudratic equation\n",
    "def quartic_equation(x, coefficients):\n",
    "    a, b, c, d, e = coefficients\n",
    "    return a * x**4 + b * x**3 + c * x**2 + d * x + e\n",
    "#step 3  creating the founctuon for quadrative derivative\n",
    "def quartic_derivative(x, coefficients):\n",
    "    a, b, c, d, e = coefficients\n",
    "    return 4 * a * x**3 + 3 * b * x**2 + 2 * c * x + d\n",
    "# step 4   creating thwe solvequdratic\n",
    "def solve_quartic(coefficients, initial_guess, tolerance=1e-6, max_iterations=100):\n",
    "    x = initial_guess\n",
    "# step5 runing the  for loop\n",
    "    for _ in range(max_iterations):\n",
    "        f_x = quartic_equation(x, coefficients)\n",
    "        f_prime_x = quartic_derivative(x, coefficients)\n",
    "        \n",
    "        if abs(f_x) < tolerance:\n",
    "            return x\n",
    "        \n",
    "        x = x - f_x / f_prime_x\n",
    "\n",
    "    raise ValueError(\"Newton-Raphson method did not converge\")\n",
    "\n",
    "# Example usage:\n",
    "coefficients = [1, -6, 11, -6, 1]  # Example coefficients for the equation x^4 - 6x^3 + 11x^2 - 6x + 1 = 0\n",
    "initial_guess = 1.0\n",
    "root = solve_quartic(coefficients, initial_guess)\n",
    "print(f\"Root: {root}\")\n"
   ]
  },
  {
   "cell_type": "code",
   "execution_count": null,
   "id": "f2b62413-ef6b-4069-960b-b18c0bc39f11",
   "metadata": {},
   "outputs": [],
   "source": [
    "30. Write a program that calculates the BMI (Body Mass Index) and provides health recommendations based\n",
    "on the user's input."
   ]
  },
  {
   "cell_type": "code",
   "execution_count": 5,
   "id": "1f147254-2745-4500-95f2-afad925d09ea",
   "metadata": {},
   "outputs": [
    {
     "name": "stdin",
     "output_type": "stream",
     "text": [
      "Enter the height in cm:  182.88\n",
      "Enter the weight in kg:  85\n"
     ]
    },
    {
     "name": "stdout",
     "output_type": "stream",
     "text": [
      "Your Body Mass Index is 25.414788483897954\n",
      "Eee! You are over weight.\n"
     ]
    }
   ],
   "source": [
    "#step 1  asking for input from the users  \n",
    "the_height = float(input(\"Enter the height in cm: \"))  \n",
    "the_weight = float(input(\"Enter the weight in kg: \"))  \n",
    "# step 2  defining a function for BMI  \n",
    "the_BMI = the_weight / (the_height/100)**2  \n",
    "#  step 3 printing the BMI  \n",
    "print(\"Your Body Mass Index is\", the_BMI)  \n",
    "#  step 4 using the if-elif-else conditions  \n",
    "if the_BMI <= 18.5:  \n",
    "    print(\"Oops! You are underweight.\")  \n",
    "elif the_BMI <= 24.9:  \n",
    "    print(\"Awesome! You are healthy.\")  \n",
    "elif the_BMI <= 29.9:  \n",
    "    print(\"Eee! You are over weight.\")  \n",
    "else:  \n",
    "    print(\"Seesh! You are obese.\")  "
   ]
  },
  {
   "cell_type": "code",
   "execution_count": null,
   "id": "0b67f8c3-5c5b-4ad8-9716-1121b8530ffe",
   "metadata": {},
   "outputs": [],
   "source": [
    "                                             Topic : challenge Level"
   ]
  },
  {
   "cell_type": "code",
   "execution_count": null,
   "id": "f7bc1c75-d38c-4a59-b517-19fcfaaeef38",
   "metadata": {},
   "outputs": [],
   "source": [
    "31. Create a program that validates a password based on complexity rules (length, characters, etc.)."
   ]
  },
  {
   "cell_type": "code",
   "execution_count": 6,
   "id": "6a42e6a0-db30-45ed-b142-35e348492ab8",
   "metadata": {},
   "outputs": [
    {
     "name": "stdout",
     "output_type": "stream",
     "text": [
      "Password Validator\n"
     ]
    },
    {
     "name": "stdin",
     "output_type": "stream",
     "text": [
      "Enter a password:  amrit34@\n"
     ]
    },
    {
     "name": "stdout",
     "output_type": "stream",
     "text": [
      "Password is not valid. Please follow the complexity rules.\n"
     ]
    }
   ],
   "source": [
    "import re\n",
    "\n",
    "def is_valid_password(password):\n",
    "    #  step 1 Check if the password is at least 8 characters long\n",
    "    if len(password) < 8:\n",
    "        return False\n",
    "\n",
    "    # step 2  Check if the password contains at least one uppercase letter\n",
    "    if not re.search(r'[A-Z]', password):\n",
    "        return False\n",
    "\n",
    "    #  step 3 Check if the password contains at least one lowercase letter\n",
    "    if not re.search(r'[a-z]', password):\n",
    "        return False\n",
    "\n",
    "    # step 4  Check if the password contains at least one digit\n",
    "    if not re.search(r'\\d', password):\n",
    "        return False\n",
    "\n",
    "    #step 5  Check if the password contains at least one special character (e.g., !, @, #, $, etc.)\n",
    "    if not re.search(r'[!@#$%^&*()_+{}\\[\\]:;<>,.?~\\\\/-]', password):\n",
    "        return False\n",
    "\n",
    "    # step 6  If all checks pass, the password is valid\n",
    "    return True\n",
    "# step 7 defining the main founction\n",
    "def main():\n",
    "    print(\"Password Validator\")\n",
    "    password = input(\"Enter a password: \")\n",
    "\n",
    "    if is_valid_password(password):\n",
    "        print(\"Password is valid.\")\n",
    "    else:\n",
    "        print(\"Password is not valid. Please follow the complexity rules.\")\n",
    "\n",
    "if __name__ == \"__main__\":\n",
    "    main()\n"
   ]
  },
  {
   "cell_type": "code",
   "execution_count": null,
   "id": "a79d87bb-a4fc-4b84-9ff6-90426d95779c",
   "metadata": {},
   "outputs": [],
   "source": [
    "32. Develop a program that performs matrix addition and subtraction based on user input."
   ]
  },
  {
   "cell_type": "code",
   "execution_count": 9,
   "id": "36cdb97e-8bd6-4d36-90c8-785685ed757d",
   "metadata": {},
   "outputs": [
    {
     "name": "stdin",
     "output_type": "stream",
     "text": [
      "Enter the number of rows:  3\n",
      "Enter the number of columns:  3\n"
     ]
    },
    {
     "name": "stdout",
     "output_type": "stream",
     "text": [
      "Enter elements for the first matrix:\n"
     ]
    },
    {
     "name": "stdin",
     "output_type": "stream",
     "text": [
      "Enter the value at row 1, column 1:  1\n",
      "Enter the value at row 1, column 2:  2\n",
      "Enter the value at row 1, column 3:  3\n",
      "Enter the value at row 2, column 1:  4\n",
      "Enter the value at row 2, column 2:  5\n",
      "Enter the value at row 2, column 3:  5\n",
      "Enter the value at row 3, column 1:  6\n",
      "Enter the value at row 3, column 2:  7\n",
      "Enter the value at row 3, column 3:  8\n"
     ]
    },
    {
     "name": "stdout",
     "output_type": "stream",
     "text": [
      "Enter elements for the second matrix:\n"
     ]
    },
    {
     "name": "stdin",
     "output_type": "stream",
     "text": [
      "Enter the value at row 1, column 1:  8\n",
      "Enter the value at row 1, column 2:  8\n",
      "Enter the value at row 1, column 3:  9\n",
      "Enter the value at row 2, column 1:  9\n",
      "Enter the value at row 2, column 2:  9\n",
      "Enter the value at row 2, column 3:  9\n",
      "Enter the value at row 3, column 1:  99\n",
      "Enter the value at row 3, column 2:  9\n",
      "Enter the value at row 3, column 3:  99\n"
     ]
    },
    {
     "name": "stdout",
     "output_type": "stream",
     "text": [
      "Matrix Addition Result:\n",
      "9.0 10.0 12.0\n",
      "13.0 14.0 14.0\n",
      "105.0 16.0 107.0\n",
      "Matrix Subtraction Result:\n",
      "-7.0 -6.0 -6.0\n",
      "-5.0 -4.0 -4.0\n",
      "-93.0 -2.0 -91.0\n"
     ]
    }
   ],
   "source": [
    "# step 1  definingg the matrix founction with row and coloum arguements\n",
    "def get_matrix(rows, columns):\n",
    "    matrix = []\n",
    "# step 2  using the for loop\n",
    "    for i in range(rows):\n",
    "        row = []\n",
    "        for j in range(columns):\n",
    "            value = float(input(f\"Enter the value at row {i+1}, column {j+1}: \"))\n",
    "            row.append(value)\n",
    "        matrix.append(row)\n",
    "    return matrix\n",
    "# step 3  defing the  matrix for addition\n",
    "def add_matrices(matrix1, matrix2):\n",
    "    if len(matrix1) != len(matrix2) or len(matrix1[0]) != len(matrix2[0]):\n",
    "        print(\"Matrix dimensions must be the same for addition.\")\n",
    "        return None\n",
    "    result = [[matrix1[i][j] + matrix2[i][j] for j in range(len(matrix1[0]))] for i in range(len(matrix1))]\n",
    "    return result\n",
    "# step 4  defining the founction for subtraction\n",
    "def subtract_matrices(matrix1, matrix2):\n",
    "    if len(matrix1) != len(matrix2) or len(matrix1[0]) != len(matrix2[0]):\n",
    "        print(\"Matrix dimensions must be the same for subtraction.\")\n",
    "        return None\n",
    "    result = [[matrix1[i][j] - matrix2[i][j] for j in range(len(matrix1[0]))] for i in range(len(matrix1))]\n",
    "    return result\n",
    "\n",
    "def display_matrix(matrix):\n",
    "    for row in matrix:\n",
    "        print(\" \".join(str(value) for value in row))\n",
    "\n",
    "# step 5  Get user input for matrix dimensions\n",
    "rows = int(input(\"Enter the number of rows: \"))\n",
    "columns = int(input(\"Enter the number of columns: \"))\n",
    "\n",
    "print(\"Enter elements for the first matrix:\")\n",
    "matrix1 = get_matrix(rows, columns)\n",
    "\n",
    "print(\"Enter elements for the second matrix:\")\n",
    "matrix2 = get_matrix(rows, columns)\n",
    "\n",
    "# step 6  Perform matrix addition\n",
    "sum_result = add_matrices(matrix1, matrix2)\n",
    "if sum_result:\n",
    "    print(\"Matrix Addition Result:\")\n",
    "    display_matrix(sum_result)\n",
    "\n",
    "# step 7 Perform matrix subtraction\n",
    "diff_result = subtract_matrices(matrix1, matrix2)\n",
    "if diff_result:\n",
    "    print(\"Matrix Subtraction Result:\")\n",
    "    display_matrix(diff_result)\n"
   ]
  },
  {
   "cell_type": "code",
   "execution_count": null,
   "id": "e14c1965-fd21-414d-8be5-d815a78ec437",
   "metadata": {},
   "outputs": [],
   "source": [
    "33. Write a program that calculates the greatest common divisor (GCD) of two numbers using the Euclidean\n",
    "algorithm."
   ]
  },
  {
   "cell_type": "code",
   "execution_count": 10,
   "id": "629d8bfa-70bc-44c0-b7e3-8246f0aecfe5",
   "metadata": {},
   "outputs": [
    {
     "name": "stdin",
     "output_type": "stream",
     "text": [
      "Enter the first number:  23\n",
      "Enter the second number:  1\n"
     ]
    },
    {
     "name": "stdout",
     "output_type": "stream",
     "text": [
      "The GCD of 23 and 1 is 1\n"
     ]
    }
   ],
   "source": [
    "# step 1 defining the founction eculidean gcd\n",
    "def euclidean_gcd(a, b):\n",
    "    while b:\n",
    "        a, b = b, a % b\n",
    "    return a\n",
    "\n",
    "# step 2 Get input from the user\n",
    "num1 = int(input(\"Enter the first number: \"))\n",
    "num2 = int(input(\"Enter the second number: \"))\n",
    "\n",
    "#  step 3 Calculate the GCD using the Euclidean algorithm\n",
    "gcd = euclidean_gcd(num1, num2)\n",
    "\n",
    "# step 4  Display the result\n",
    "print(f\"The GCD of {num1} and {num2} is {gcd}\")\n"
   ]
  },
  {
   "cell_type": "code",
   "execution_count": null,
   "id": "c6533c57-a654-4f16-9dcd-3271a2cd7573",
   "metadata": {},
   "outputs": [],
   "source": [
    "\n",
    "34. Build a program that performs matrix multiplication using nested loops and conditional statements."
   ]
  },
  {
   "cell_type": "code",
   "execution_count": null,
   "id": "5b78fea1-2cd2-4b50-b467-5f27b46b0eda",
   "metadata": {},
   "outputs": [
    {
     "name": "stdin",
     "output_type": "stream",
     "text": [
      "Enter the number of rows for the first matrix:  2\n",
      "Enter the number of columns for the first matrix:  2\n",
      "Enter the number of rows for the second matrix:  2\n",
      "Enter the number of columns for the second matrix:  2\n"
     ]
    },
    {
     "name": "stdout",
     "output_type": "stream",
     "text": [
      "Enter elements for the first matrix:\n"
     ]
    },
    {
     "name": "stdin",
     "output_type": "stream",
     "text": [
      "Enter the value at row 1, column 1:  12\n",
      "Enter the value at row 1, column 2:  12\n",
      "Enter the value at row 2, column 1:  23\n",
      "Enter the value at row 2, column 2:  34\n"
     ]
    },
    {
     "name": "stdout",
     "output_type": "stream",
     "text": [
      "Enter elements for the second matrix:\n"
     ]
    },
    {
     "name": "stdin",
     "output_type": "stream",
     "text": [
      "Enter the value at row 1, column 1:  23\n",
      "Enter the value at row 1, column 2:  23\n",
      "Enter the value at row 2, column 1:  434\n",
      "Enter the value at row 2, column 2:  23\n"
     ]
    },
    {
     "name": "stdout",
     "output_type": "stream",
     "text": [
      "Matrix Multiplication Result:\n",
      "5484.0 552.0\n",
      "15285.0 1311.0\n"
     ]
    }
   ],
   "source": [
    "# step 1  defining the  founction  for matrix multiplication \n",
    "def matrix_multiplication(matrix1, matrix2):\n",
    "    rows1 = len(matrix1)\n",
    "    cols1 = len(matrix1[0])\n",
    "    rows2 = len(matrix2)\n",
    "    cols2 = len(matrix2[0])\n",
    "# step 2  using the if- else condition \n",
    "    if cols1 != rows2:\n",
    "        print(\"Matrix multiplication is not possible. The number of columns in the first matrix must be equal to the number of rows in the second matrix.\")\n",
    "        return None\n",
    "\n",
    "    result = [[0 for _ in range(cols2)] for _ in range(rows1)]\n",
    "# step 3 using the for loop \n",
    "    for i in range(rows1):\n",
    "        for j in range(cols2):\n",
    "            for k in range(cols1):\n",
    "                result[i][j] += matrix1[i][k] * matrix2[k][j]\n",
    "\n",
    "    return result\n",
    "# step 4 defining the founction for displaying the matrix\n",
    "def display_matrix(matrix):\n",
    "    for row in matrix:\n",
    "        print(\" \".join(str(value) for value in row))\n",
    "\n",
    "# Get user input for matrix dimensions\n",
    "rows1 = int(input(\"Enter the number of rows for the first matrix: \"))\n",
    "cols1 = int(input(\"Enter the number of columns for the first matrix: \"))\n",
    "\n",
    "rows2 = int(input(\"Enter the number of rows for the second matrix: \"))\n",
    "cols2 = int(input(\"Enter the number of columns for the second matrix: \"))\n",
    "\n",
    "if cols1 != rows2:\n",
    "    print(\"Matrix multiplication is not possible. The number of columns in the first matrix must be equal to the number of rows in the second matrix.\")\n",
    "else:\n",
    "    print(\"Enter elements for the first matrix:\")\n",
    "    matrix1 = [[float(input(f\"Enter the value at row {i+1}, column {j+1}: \")) for j in range(cols1)] for i in range(rows1)]\n",
    "\n",
    "    print(\"Enter elements for the second matrix:\")\n",
    "    matrix2 = [[float(input(f\"Enter the value at row {i+1}, column {j+1}: \")) for j in range(cols2)] for i in range(rows2)]\n",
    "\n",
    "    #  step  5 Perform matrix multiplication\n",
    "    product = matrix_multiplication(matrix1, matrix2)\n",
    "\n",
    "    if product:\n",
    "        print(\"Matrix Multiplication Result:\")\n",
    "        display_matrix(product)\n"
   ]
  },
  {
   "cell_type": "code",
   "execution_count": null,
   "id": "6ef2e304-4eed-458c-b9e8-de9dabf4bb07",
   "metadata": {},
   "outputs": [],
   "source": [
    "35.Create a program that simulates a basic text-based tic-tac-toe game against the computer."
   ]
  },
  {
   "cell_type": "code",
   "execution_count": 15,
   "id": "94e6b6fe-65ab-407c-84d9-99d39f4eefe5",
   "metadata": {},
   "outputs": [
    {
     "name": "stdout",
     "output_type": "stream",
     "text": [
      "  |   |  \n",
      "--+---+--\n",
      "  |   |  \n",
      "--+---+--\n",
      "  |   |  \n"
     ]
    },
    {
     "name": "stdin",
     "output_type": "stream",
     "text": [
      "Enter your move (0-8):  0\n"
     ]
    },
    {
     "name": "stdout",
     "output_type": "stream",
     "text": [
      "X |   |  \n",
      "--+---+--\n",
      "  |   |  \n",
      "--+---+--\n",
      "  |   |  \n",
      "X |   |  \n",
      "--+---+--\n",
      "  | O |  \n",
      "--+---+--\n",
      "  |   |  \n"
     ]
    },
    {
     "name": "stdin",
     "output_type": "stream",
     "text": [
      "Enter your move (0-8):  7\n"
     ]
    },
    {
     "name": "stdout",
     "output_type": "stream",
     "text": [
      "X |   |  \n",
      "--+---+--\n",
      "  | O |  \n",
      "--+---+--\n",
      "  | X |  \n",
      "X |   | O\n",
      "--+---+--\n",
      "  | O |  \n",
      "--+---+--\n",
      "  | X |  \n"
     ]
    },
    {
     "name": "stdin",
     "output_type": "stream",
     "text": [
      "Enter your move (0-8):  7\n"
     ]
    },
    {
     "name": "stdout",
     "output_type": "stream",
     "text": [
      "Invalid move. Try again.\n",
      "X |   | O\n",
      "--+---+--\n",
      "  | O |  \n",
      "--+---+--\n",
      "  | X |  \n"
     ]
    },
    {
     "name": "stdin",
     "output_type": "stream",
     "text": [
      "Enter your move (0-8):  5\n"
     ]
    },
    {
     "name": "stdout",
     "output_type": "stream",
     "text": [
      "X |   | O\n",
      "--+---+--\n",
      "  | O | X\n",
      "--+---+--\n",
      "  | X |  \n",
      "X | O | O\n",
      "--+---+--\n",
      "  | O | X\n",
      "--+---+--\n",
      "  | X |  \n"
     ]
    },
    {
     "name": "stdin",
     "output_type": "stream",
     "text": [
      "Enter your move (0-8):  7\n"
     ]
    },
    {
     "name": "stdout",
     "output_type": "stream",
     "text": [
      "Invalid move. Try again.\n",
      "X | O | O\n",
      "--+---+--\n",
      "  | O | X\n",
      "--+---+--\n",
      "  | X |  \n"
     ]
    },
    {
     "name": "stdin",
     "output_type": "stream",
     "text": [
      "Enter your move (0-8):  7\n"
     ]
    },
    {
     "name": "stdout",
     "output_type": "stream",
     "text": [
      "Invalid move. Try again.\n",
      "X | O | O\n",
      "--+---+--\n",
      "  | O | X\n",
      "--+---+--\n",
      "  | X |  \n"
     ]
    },
    {
     "name": "stdin",
     "output_type": "stream",
     "text": [
      "Enter your move (0-8):  7\n"
     ]
    },
    {
     "name": "stdout",
     "output_type": "stream",
     "text": [
      "Invalid move. Try again.\n",
      "X | O | O\n",
      "--+---+--\n",
      "  | O | X\n",
      "--+---+--\n",
      "  | X |  \n"
     ]
    },
    {
     "name": "stdin",
     "output_type": "stream",
     "text": [
      "Enter your move (0-8):  7\n"
     ]
    },
    {
     "name": "stdout",
     "output_type": "stream",
     "text": [
      "Invalid move. Try again.\n",
      "X | O | O\n",
      "--+---+--\n",
      "  | O | X\n",
      "--+---+--\n",
      "  | X |  \n"
     ]
    },
    {
     "name": "stdin",
     "output_type": "stream",
     "text": [
      "Enter your move (0-8):  2\n"
     ]
    },
    {
     "name": "stdout",
     "output_type": "stream",
     "text": [
      "Invalid move. Try again.\n",
      "X | O | O\n",
      "--+---+--\n",
      "  | O | X\n",
      "--+---+--\n",
      "  | X |  \n"
     ]
    },
    {
     "name": "stdin",
     "output_type": "stream",
     "text": [
      "Enter your move (0-8):  2\n"
     ]
    },
    {
     "name": "stdout",
     "output_type": "stream",
     "text": [
      "Invalid move. Try again.\n",
      "X | O | O\n",
      "--+---+--\n",
      "  | O | X\n",
      "--+---+--\n",
      "  | X |  \n"
     ]
    },
    {
     "name": "stdin",
     "output_type": "stream",
     "text": [
      "Enter your move (0-8):  4\n"
     ]
    },
    {
     "name": "stdout",
     "output_type": "stream",
     "text": [
      "Invalid move. Try again.\n",
      "X | O | O\n",
      "--+---+--\n",
      "  | O | X\n",
      "--+---+--\n",
      "  | X |  \n"
     ]
    },
    {
     "name": "stdin",
     "output_type": "stream",
     "text": [
      "Enter your move (0-8):  8\n"
     ]
    },
    {
     "name": "stdout",
     "output_type": "stream",
     "text": [
      "X | O | O\n",
      "--+---+--\n",
      "  | O | X\n",
      "--+---+--\n",
      "  | X | X\n",
      "X | O | O\n",
      "--+---+--\n",
      "  | O | X\n",
      "--+---+--\n",
      "O | X | X\n",
      "O wins! Congratulations!\n"
     ]
    }
   ],
   "source": [
    "import random\n",
    "\n",
    "# step 1  Initialize the tic-tac-toe board\n",
    "board = [\" \" for _ in range(9)]\n",
    "\n",
    "# step 2  Function to print the tic-tac-toe board\n",
    "def print_board(board):\n",
    "    print(f\"{board[0]} | {board[1]} | {board[2]}\")\n",
    "    print(\"--+---+--\")\n",
    "    print(f\"{board[3]} | {board[4]} | {board[5]}\")\n",
    "    print(\"--+---+--\")\n",
    "    print(f\"{board[6]} | {board[7]} | {board[8]}\")\n",
    "\n",
    "#  step 3 Function to check if a player has won\n",
    "def check_win(board, player):\n",
    "    winning_combinations = [(0, 1, 2), (3, 4, 5), (6, 7, 8),\n",
    "                            (0, 3, 6), (1, 4, 7), (2, 5, 8),\n",
    "                            (0, 4, 8), (2, 4, 6)]\n",
    "\n",
    "    for combo in winning_combinations:\n",
    "        if board[combo[0]] == board[combo[1]] == board[combo[2]] == player:\n",
    "            return True\n",
    "    return False\n",
    "\n",
    "#  step  4 Function for the computer's move\n",
    "def computer_move(board):\n",
    "    empty_cells = [i for i, cell in enumerate(board) if cell == \" \"]\n",
    "    if empty_cells:\n",
    "        return random.choice(empty_cells)\n",
    "    else:\n",
    "        return None\n",
    "\n",
    "# step 5  Main game loop\n",
    "current_player = \"X\"\n",
    "computer_player = \"O\"\n",
    "# step 6   runing hte while loop\n",
    "while True:\n",
    "    print_board(board)\n",
    "# step 7  using the if -else condition\n",
    "    if current_player == \"X\":\n",
    "        player_move = int(input(\"Enter your move (0-8): \"))\n",
    "        if board[player_move] == \" \":\n",
    "            board[player_move] = current_player\n",
    "        else:\n",
    "            print(\"Invalid move. Try again.\")\n",
    "            continue\n",
    "    else:\n",
    "        move = computer_move(board)\n",
    "        if move is not None:\n",
    "            board[move] = current_player\n",
    "\n",
    "    if check_win(board, current_player):\n",
    "        print_board(board)\n",
    "        print(f\"{current_player} wins! Congratulations!\")\n",
    "        break\n",
    "\n",
    "    if \" \" not in board:\n",
    "        print_board(board)\n",
    "        print(\"It's a tie!\")\n",
    "        break\n",
    "\n",
    "    current_player = \"X\" if current_player == \"O\" else \"O\"\n"
   ]
  },
  {
   "cell_type": "code",
   "execution_count": null,
   "id": "144892c7-2bf3-4636-bf76-93833ccba173",
   "metadata": {},
   "outputs": [],
   "source": [
    "36. Write a program that generates Fibonacci numbers up to a specified term using iterative methods."
   ]
  },
  {
   "cell_type": "code",
   "execution_count": 1,
   "id": "0af8c617-7b49-4f56-aa0b-2024aea1ed9b",
   "metadata": {},
   "outputs": [
    {
     "name": "stdin",
     "output_type": "stream",
     "text": [
      "Enter the number of Fibonacci terms to generate:  5\n"
     ]
    },
    {
     "name": "stdout",
     "output_type": "stream",
     "text": [
      "Fibonacci sequence up to the 5 term(s): [0, 1, 1, 2, 3]\n"
     ]
    }
   ],
   "source": [
    "# step 1 create a function  for genrating the fibonacci \n",
    "def generate_fibonacci(n):\n",
    "    fib_sequence = [0, 1]\n",
    "# step 2 using the  if -else condition\n",
    "    if n <= 0:\n",
    "        return []\n",
    "\n",
    "    elif n == 1:\n",
    "        return [0]\n",
    "\n",
    "    elif n == 2:\n",
    "        return fib_sequence\n",
    "\n",
    "    else:\n",
    "        while len(fib_sequence) < n:\n",
    "            next_num = fib_sequence[-1] + fib_sequence[-2]\n",
    "            fib_sequence.append(next_num)\n",
    "\n",
    "        return fib_sequence\n",
    "\n",
    "#  step 3 Input the number of terms you want\n",
    "n = int(input(\"Enter the number of Fibonacci terms to generate: \"))\n",
    "# step 4 runing the if -else condition\n",
    "if n <= 0:\n",
    "    print(\"Please enter a positive integer.\")\n",
    "else:\n",
    "    fibonacci_sequence = generate_fibonacci(n)\n",
    "    print(\"Fibonacci sequence up to the\", n, \"term(s):\", fibonacci_sequence)\n"
   ]
  },
  {
   "cell_type": "code",
   "execution_count": null,
   "id": "b8ec93eb-5110-4133-aa96-a213e23e62d0",
   "metadata": {},
   "outputs": [],
   "source": [
    "\n",
    "37. Develop a program that calculates the nth term of the Fibonacci sequence using memoization."
   ]
  },
  {
   "cell_type": "code",
   "execution_count": 2,
   "id": "9aa6a110-4685-4f62-a1e3-11aae42c4230",
   "metadata": {},
   "outputs": [
    {
     "name": "stdin",
     "output_type": "stream",
     "text": [
      "Enter the value of n:  19\n"
     ]
    },
    {
     "name": "stdout",
     "output_type": "stream",
     "text": [
      "The 19-th Fibonacci number is: 4181\n"
     ]
    }
   ],
   "source": [
    "#  step 1 Dictionary to store previously computed Fibonacci numbers\n",
    "fib_cache = {}\n",
    "# step 2  defining the fibonacci function \n",
    "def fibonacci(n):\n",
    "    # step 3  Check if the result is already in the cache\n",
    "    if n in fib_cache:\n",
    "        return fib_cache[n]\n",
    "\n",
    "    #  step 4 Calculate the nth Fibonacci number\n",
    "    if n <= 1:\n",
    "        result = n\n",
    "    else:\n",
    "        result = fibonacci(n - 1) + fibonacci(n - 2)\n",
    "\n",
    "    # step 5  Store the result in the cache and return it\n",
    "    fib_cache[n] = result\n",
    "    return result\n",
    "\n",
    "# step 6  Input the value of n for which you want to calculate the Fibonacci term\n",
    "n = int(input(\"Enter the value of n: \"))\n",
    "\n",
    "if n < 0:\n",
    "    print(\"Please enter a non-negative integer.\")\n",
    "else:\n",
    "    nth_fibonacci = fibonacci(n)\n",
    "    print(f\"The {n}-th Fibonacci number is: {nth_fibonacci}\")\n"
   ]
  },
  {
   "cell_type": "code",
   "execution_count": null,
   "id": "6ff20cf0-684c-4ab3-87b9-0443965f9cdb",
   "metadata": {},
   "outputs": [],
   "source": [
    "38. Create a program that generates a calendar for a given month and year using conditional statements."
   ]
  },
  {
   "cell_type": "code",
   "execution_count": null,
   "id": "9e0d0f24-47da-4325-bad7-5f7576fec029",
   "metadata": {},
   "outputs": [],
   "source": [
    "# step 1  imporintg the calender\n",
    "import calendar\n",
    "\n",
    "#  step 2 Input the year and month\n",
    "year = int(input(\"Enter the year (e.g., 2023): \"))\n",
    "month = int(input(\"Enter the month (1-12): \"))\n",
    "\n",
    "# step 3 Validate the input\n",
    "if 1 <= month <= 12:\n",
    "    # step 4  Create a calendar object for the specified month and year\n",
    "    cal = calendar.month(year, month)\n",
    "    \n",
    "    # step 5  Print the calendar\n",
    "    print(f\"Calendar for {calendar.month_name[month]} {year}:\\n\")\n",
    "    print(cal)\n",
    "else:\n",
    "    print(\"Invalid month. Please enter a month between 1 and 12.\")\n"
   ]
  },
  {
   "cell_type": "code",
   "execution_count": null,
   "id": "1e137273-3f28-4965-958b-6b03fc9ce4e9",
   "metadata": {},
   "outputs": [],
   "source": [
    "39. Build a program that simulates a basic text-based blackjack game against the computer."
   ]
  },
  {
   "cell_type": "code",
   "execution_count": 3,
   "id": "9c75bc4d-5cc9-4c9e-8769-52f0084da776",
   "metadata": {},
   "outputs": [
    {
     "name": "stdout",
     "output_type": "stream",
     "text": [
      "Welcome to Blackjack!\n",
      "Your's Hand:\n",
      "Six of Diamonds\n",
      "Jack of Spades\n",
      "Your hand value: 16\n"
     ]
    },
    {
     "name": "stdin",
     "output_type": "stream",
     "text": [
      "Do you want to 'hit' or 'stand'?  hit\n"
     ]
    },
    {
     "name": "stdout",
     "output_type": "stream",
     "text": [
      "Your's Hand:\n",
      "Six of Diamonds\n",
      "Jack of Spades\n",
      "Five of Diamonds\n",
      "Your hand value: 21\n",
      "Blackjack! You win!\n",
      "Your's Hand:\n",
      "Six of Diamonds\n",
      "Jack of Spades\n",
      "Five of Diamonds\n",
      "Computer's Hand:\n",
      "Nine of Diamonds\n",
      "Three of Diamonds\n",
      "Three of Diamonds\n",
      "Nine of Spades\n",
      "Computer busts. You win!\n",
      "Thanks for playing!\n"
     ]
    }
   ],
   "source": [
    "# step 1  importing the random \n",
    "import random\n",
    "\n",
    "# step 2  Define the deck of cards\n",
    "suits = [\"Hearts\", \"Diamonds\", \"Clubs\", \"Spades\"]\n",
    "ranks = [\"Two\", \"Three\", \"Four\", \"Five\", \"Six\", \"Seven\", \"Eight\", \"Nine\", \"Ten\", \"Jack\", \"Queen\", \"King\", \"Ace\"]\n",
    "values = [2, 3, 4, 5, 6, 7, 8, 9, 10, 10, 10, 10, 11]\n",
    "\n",
    "#  step 3 Define functions to manage the game\n",
    "def deal_card():\n",
    "    suit = random.choice(suits)\n",
    "    rank = random.choice(ranks)\n",
    "    value = values[ranks.index(rank)]\n",
    "    return (rank, suit, value)\n",
    "\n",
    "def calculate_hand_value(hand):\n",
    "    value = sum(card[2] for card in hand)\n",
    "    num_aces = sum(1 for card in hand if card[0] == \"Ace\")\n",
    "\n",
    "    while value > 21 and num_aces > 0:\n",
    "        value -= 10\n",
    "        num_aces -= 1\n",
    "\n",
    "    return value\n",
    "\n",
    "def print_hand(hand, player_name):\n",
    "    print(f\"{player_name}'s Hand:\")\n",
    "    for card in hand:\n",
    "        print(f\"{card[0]} of {card[1]}\")\n",
    "\n",
    "# step 4  Game setup\n",
    "player_hand = [deal_card(), deal_card()]\n",
    "computer_hand = [deal_card(), deal_card()]\n",
    "\n",
    "print(\"Welcome to Blackjack!\")\n",
    "\n",
    "#  step 5 Player's turn\n",
    "# step 6  Runing the while \n",
    "while True:\n",
    "    print_hand(player_hand, \"Your\")\n",
    "    player_value = calculate_hand_value(player_hand)\n",
    "    print(f\"Your hand value: {player_value}\")\n",
    "# step 7 Runing the if - else- elif  condition\n",
    "    if player_value == 21:\n",
    "        print(\"Blackjack! You win!\")\n",
    "        break\n",
    "    elif player_value > 21:\n",
    "        print(\"Bust! You lose.\")\n",
    "        break\n",
    "\n",
    "    action = input(\"Do you want to 'hit' or 'stand'? \").strip().lower()\n",
    "\n",
    "    if action == \"hit\":\n",
    "        player_hand.append(deal_card())\n",
    "    elif action == \"stand\":\n",
    "        break\n",
    "    else:\n",
    "        print(\"Invalid input. Please enter 'hit' or 'stand'.\")\n",
    "\n",
    "#  step 8 Computer's turn\n",
    "while calculate_hand_value(computer_hand) < 17:\n",
    "    computer_hand.append(deal_card())\n",
    "\n",
    "# step 9  Determine the winner\n",
    "print_hand(player_hand, \"Your\")\n",
    "print_hand(computer_hand, \"Computer\")\n",
    "player_value = calculate_hand_value(player_hand)\n",
    "computer_value = calculate_hand_value(computer_hand)\n",
    "# step 10  runing  the if  -elif -  else-  condition \n",
    "if player_value > 21:\n",
    "    print(\"Bust! You lose.\")\n",
    "elif computer_value > 21:\n",
    "    print(\"Computer busts. You win!\")\n",
    "elif player_value > computer_value:\n",
    "    print(\"You win!\")\n",
    "elif player_value < computer_value:\n",
    "    print(\"Computer wins.\")\n",
    "else:\n",
    "    print(\"It's a tie!\")\n",
    "\n",
    "print(\"Thanks for playing!\")\n"
   ]
  },
  {
   "cell_type": "code",
   "execution_count": null,
   "id": "e98cc377-600a-4ba2-b94a-71f3a27b843d",
   "metadata": {},
   "outputs": [],
   "source": [
    "40. Write a program that generates the prime factors of a given number using trial division."
   ]
  },
  {
   "cell_type": "code",
   "execution_count": 5,
   "id": "57641c85-0656-41a9-91ae-dff71b40b67d",
   "metadata": {},
   "outputs": [
    {
     "name": "stdin",
     "output_type": "stream",
     "text": [
      "Enter a number:  88\n"
     ]
    },
    {
     "name": "stdout",
     "output_type": "stream",
     "text": [
      "Prime factors of 88 are: [2, 2, 2, 11]\n"
     ]
    }
   ],
   "source": [
    "# step 1 defining the prime factor \n",
    "def prime_factors(n):\n",
    "    factors = []\n",
    "    divisor = 2  #  step 2 Start with the smallest prime number\n",
    "\n",
    "    while n > 1:\n",
    "        while n % divisor == 0:\n",
    "            factors.append(divisor)\n",
    "            n //= divisor\n",
    "        divisor += 1\n",
    "\n",
    "    return factors\n",
    "\n",
    "# step 3  Input a number for which you want to find the prime factors\n",
    "num = int(input(\"Enter a number: \"))\n",
    "# step 4  runing the if- else condition\n",
    "if num < 2:\n",
    "    print(\"Prime factors are not applicable for numbers less than 2.\")\n",
    "else:\n",
    "    factors = prime_factors(num)\n",
    "    print(f\"Prime factors of {num} are: {factors}\")\n"
   ]
  },
  {
   "cell_type": "code",
   "execution_count": null,
   "id": "6402ea26-8c15-42cc-81ac-b9c1e8b9ebfb",
   "metadata": {},
   "outputs": [],
   "source": []
  }
 ],
 "metadata": {
  "kernelspec": {
   "display_name": "Python 3 (ipykernel)",
   "language": "python",
   "name": "python3"
  },
  "language_info": {
   "codemirror_mode": {
    "name": "ipython",
    "version": 3
   },
   "file_extension": ".py",
   "mimetype": "text/x-python",
   "name": "python",
   "nbconvert_exporter": "python",
   "pygments_lexer": "ipython3",
   "version": "3.10.8"
  }
 },
 "nbformat": 4,
 "nbformat_minor": 5
}
