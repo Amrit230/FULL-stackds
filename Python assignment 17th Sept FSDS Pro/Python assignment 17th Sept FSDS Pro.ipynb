{
 "cells": [
  {
   "cell_type": "code",
   "execution_count": null,
   "id": "80e9beb0-d651-449d-a76b-42506e0ca9df",
   "metadata": {},
   "outputs": [],
   "source": [
    "                                            Topic - For Loop"
   ]
  },
  {
   "cell_type": "code",
   "execution_count": null,
   "id": "1e76115b-cdf8-4da1-962c-b75a090c54f9",
   "metadata": {},
   "outputs": [],
   "source": [
    "1.Write a Python program to print numbers from 1 to 10 using a for loop."
   ]
  },
  {
   "cell_type": "code",
   "execution_count": 1,
   "id": "9012a920-f66c-4061-9eac-10a5c547c3e4",
   "metadata": {},
   "outputs": [
    {
     "name": "stdout",
     "output_type": "stream",
     "text": [
      "1\n",
      "2\n",
      "3\n",
      "4\n",
      "5\n",
      "6\n",
      "7\n",
      "8\n",
      "9\n",
      "10\n"
     ]
    }
   ],
   "source": [
    "# step 1 using the for  loop\n",
    "for i in  range(1,11):\n",
    "    print(i)\n",
    "# step 2 see below result\n",
    "    "
   ]
  },
  {
   "cell_type": "code",
   "execution_count": null,
   "id": "b9743356-ce22-43c7-ae3e-10f914c1c768",
   "metadata": {},
   "outputs": [],
   "source": [
    "2.Explain the difference between a for loop and a while loop in Python."
   ]
  },
  {
   "cell_type": "code",
   "execution_count": null,
   "id": "f995cad0-c6a0-4037-9416-3d6184cb217a",
   "metadata": {},
   "outputs": [],
   "source": [
    "1.FOR loop:\n",
    "    \n",
    "for loop is used when we know the number of iterations.The keyword is used in this control flow statementis \"for\" and \n",
    "followed by an iterable  and the \"in\" Keyword to define the loop.The loop variable takes on each value in iterable one by one .\n",
    "SYNTAX:\n",
    "    for i in iterable:\n",
    "In for loop initialization is done only once, and it is never repeated.\n",
    "The iteration statement is written at the beginning.\n",
    "Example:\n",
    "#input list\n",
    "inputList = [10, 20, 30, 40, 50]\n",
    "print(\"Input list elements:\")\n",
    "# traversing through all elements of the list using for loop\n",
    "for element in inputList:\n",
    "   # printing each element of the list\n",
    "   print(element)\n",
    "\n",
    "    \n",
    "2. WHILE lOOP:\n",
    "While loop is used when the  number of iteration is unknown,This loop represented by \"While\".\n",
    "it's also used when  you want to repaet a block of code as long as given condition\n",
    "remains True.If the condition is not mentioned in the 'while' loop, it results in a compilation error.\n",
    "SYNTAX:\n",
    "    while ( condition) {\n",
    "   statements;\n",
    "   //body of the loop\n",
    "}\n",
    "\n",
    "    EXAMPLE:\n",
    "# Initializing a dummy variable with 1\n",
    "i = 1\n",
    "# Iterate until the given condition is true\n",
    "while i < 10:\n",
    "   # printing the current value of the above variable\n",
    "   print(i)\n",
    "   # incrementing the value of i value by 1\n",
    "   i += 1 \n",
    "        \n",
    "    \n",
    "    \n",
    "\n",
    "\n",
    "\n"
   ]
  },
  {
   "cell_type": "code",
   "execution_count": null,
   "id": "650e917a-493c-465f-a8d0-61a305d7e259",
   "metadata": {},
   "outputs": [],
   "source": [
    "3.Write a Python program to calculate the sum of all numbers from 1 to 100 using a for loop."
   ]
  },
  {
   "cell_type": "code",
   "execution_count": 9,
   "id": "134cf704-3cf4-4ee3-a19a-06f44c18e823",
   "metadata": {},
   "outputs": [
    {
     "name": "stdout",
     "output_type": "stream",
     "text": [
      "5050\n"
     ]
    }
   ],
   "source": [
    "# step 1 initializin sum to zero\n",
    "sum=0\n",
    "# step 2 using the for loop\n",
    "for i in range(1,101):\n",
    "    sum=i+sum\n",
    "# step 3 printing the sum\n",
    "print(sum)"
   ]
  },
  {
   "cell_type": "markdown",
   "id": "24f2e992-73f5-4840-921d-5582b22d2fb2",
   "metadata": {},
   "source": [
    "4.How do you iterate through a list using a for loop  in Python?\n"
   ]
  },
  {
   "cell_type": "code",
   "execution_count": null,
   "id": "fa0a0ad5-1e84-438b-b27d-44e149b19ac4",
   "metadata": {},
   "outputs": [],
   "source": [
    "ANS:\n",
    "    step 1 create your list items which you want to iterate over\n",
    "    step 2  Write the for loop: Use the for keyword, followed by a \"loop variable\"\n",
    "    step 3 Indentation: Make sure to indent the code that you want to execute for each item in the list. This code block is executed for each item in the list.\n",
    "    \n",
    "    example:\n",
    "        numbers=[1,2,3,5,6,7]\n",
    "        for num in numbers:"
   ]
  },
  {
   "cell_type": "code",
   "execution_count": null,
   "id": "17cce302-6bef-44c8-bd0e-c9a914d59039",
   "metadata": {},
   "outputs": [],
   "source": [
    "5.Write a Python program to find the product of all elements in a list using a for loop."
   ]
  },
  {
   "cell_type": "code",
   "execution_count": 10,
   "id": "0a583879-fd6e-4321-a2e3-2333ecca4b89",
   "metadata": {},
   "outputs": [
    {
     "data": {
      "text/plain": [
       "10501920"
      ]
     },
     "execution_count": 10,
     "metadata": {},
     "output_type": "execute_result"
    }
   ],
   "source": [
    "# step1 creating the samlple list\n",
    "l=[12,34,5,66,78]\n",
    "# step 2 initializing the product\n",
    "product=1\n",
    "# step2 using the for loop\n",
    "for i in l:\n",
    "    product*=i\n",
    "product\n",
    "    \n",
    "    "
   ]
  },
  {
   "cell_type": "code",
   "execution_count": null,
   "id": "98ccd2c0-715d-4312-ab3f-9b2a4aba87b8",
   "metadata": {},
   "outputs": [],
   "source": [
    "6.Create a Python program that prints all even numbers from 1 to 20 using a for loop."
   ]
  },
  {
   "cell_type": "code",
   "execution_count": 3,
   "id": "304affbb-d9b5-44c7-a6cd-15c4cd551a6b",
   "metadata": {},
   "outputs": [
    {
     "name": "stdout",
     "output_type": "stream",
     "text": [
      "2\n",
      "4\n",
      "6\n",
      "8\n",
      "10\n",
      "12\n",
      "14\n",
      "16\n",
      "18\n",
      "20\n"
     ]
    }
   ],
   "source": [
    "# step 1 using the  for loop\n",
    "for i in range(1,21)\n",
    "# step 2 using the  if -else  condition\n",
    "    if i%2==0:\n",
    "        print(i)"
   ]
  },
  {
   "cell_type": "code",
   "execution_count": null,
   "id": "e76bf358-690d-48c6-b1de-fd0313f395a8",
   "metadata": {},
   "outputs": [],
   "source": [
    "7.Write a Python program that calculates the factorial of a number using a for loop."
   ]
  },
  {
   "cell_type": "code",
   "execution_count": 8,
   "id": "56f3ba08-d3a2-45ba-8e6a-46584266e26e",
   "metadata": {},
   "outputs": [
    {
     "name": "stdin",
     "output_type": "stream",
     "text": [
      " enter a number  which you want to find the factorial 9\n"
     ]
    },
    {
     "name": "stdout",
     "output_type": "stream",
     "text": [
      "362880\n"
     ]
    }
   ],
   "source": [
    "# step 1 taking the input for n \n",
    "n = int(input(\" enter a number  which you want to find the factorial\"))\n",
    "#step 2 initializng the sum \n",
    "sum =1\n",
    "# step 2 using the for loop\n",
    "for i in range(1,n+1):\n",
    "    sum =i*sum\n",
    "print(sum)"
   ]
  },
  {
   "cell_type": "code",
   "execution_count": null,
   "id": "cd77495f-2df3-492b-b506-8b32d9b3e0a4",
   "metadata": {},
   "outputs": [],
   "source": [
    "8.How can you iterate through the characters of a string using a for loop in Python?"
   ]
  },
  {
   "cell_type": "code",
   "execution_count": null,
   "id": "aa5dddb5-c65b-4526-ab7f-211807593c68",
   "metadata": {},
   "outputs": [],
   "source": [
    "Ans:\n",
    "    We can  use  FOR loop to iterate over a string and get each chracter of the string .\n",
    "    in this each iteration of the loop will assign  the next chracter in string to variable\n",
    "     which we will used in for loop and you can  perform  any operation on that chracter within the loop\n",
    "        LOOK AT EXAMPLE BELOW"
   ]
  },
  {
   "cell_type": "code",
   "execution_count": 9,
   "id": "5e66b654-5d1c-4c2e-82b3-2c2611548775",
   "metadata": {},
   "outputs": [
    {
     "name": "stdout",
     "output_type": "stream",
     "text": [
      "a\n",
      "m\n",
      "r\n",
      "i\n",
      "t\n"
     ]
    }
   ],
   "source": [
    "st=\"amrit\"3 #its a string\n",
    "for i in st:# it a for loop with variable i\n",
    "    print(i)#printing the result"
   ]
  },
  {
   "cell_type": "code",
   "execution_count": null,
   "id": "9ac6d3c4-168d-4f12-9451-dfe0479db194",
   "metadata": {},
   "outputs": [],
   "source": [
    "9.Write a Python program to find the largest number in a list using a for loop."
   ]
  },
  {
   "cell_type": "code",
   "execution_count": 17,
   "id": "237a6814-db1f-44bf-b65b-cf42714168d3",
   "metadata": {},
   "outputs": [
    {
     "name": "stdout",
     "output_type": "stream",
     "text": [
      "90\n"
     ]
    }
   ],
   "source": [
    "# step 1 creating the sample list\n",
    "l=[12,34,56,78,90]\n",
    "max=l[0]#considering the first element to be maximum\n",
    "# step 2  using the for loop\n",
    "for i in l:\n",
    "# step 2 using the if- else condition\n",
    "    if i>max:\n",
    "        max=i\n",
    "print(max)\n",
    "        \n",
    "    "
   ]
  },
  {
   "cell_type": "code",
   "execution_count": null,
   "id": "d7982230-2af3-4644-bf32-52e79c859a77",
   "metadata": {},
   "outputs": [],
   "source": [
    "10.Create a Python program that prints the Fibonacci sequence up to a specified limit using a for loop."
   ]
  },
  {
   "cell_type": "code",
   "execution_count": 22,
   "id": "cc83467c-7e88-4f8f-bd4d-ec550685caaa",
   "metadata": {},
   "outputs": [
    {
     "name": "stdin",
     "output_type": "stream",
     "text": [
      "enter a number  9\n"
     ]
    },
    {
     "name": "stdout",
     "output_type": "stream",
     "text": [
      "0\n",
      "1\n",
      "1\n",
      "2\n",
      "3\n",
      "5\n",
      "8\n",
      "13\n",
      "21\n",
      "34\n"
     ]
    }
   ],
   "source": [
    "# step1  taking the input for the the user\n",
    "n=int(input(\"enter a number \"))\n",
    "a=0\n",
    "b=1\n",
    "print(a)\n",
    "print(b)\n",
    "# step 2 using the for loop\n",
    "for i in range (1,n):\n",
    "    fib=a+b\n",
    "    print(fib)\n",
    "    a,b=b,fib\n",
    "    \n",
    "    \n",
    "    \n",
    "    "
   ]
  },
  {
   "cell_type": "code",
   "execution_count": null,
   "id": "411a821a-919e-4bba-a98e-9df9e1c64cfa",
   "metadata": {},
   "outputs": [],
   "source": [
    "11.Write a Python program to count the number of vowels in a given string using a for loop."
   ]
  },
  {
   "cell_type": "code",
   "execution_count": 56,
   "id": "f4bdc360-1ac7-4ad2-8db8-7681a2dd926e",
   "metadata": {},
   "outputs": [
    {
     "name": "stdin",
     "output_type": "stream",
     "text": [
      "Enter a string:  i love india\n"
     ]
    },
    {
     "name": "stdout",
     "output_type": "stream",
     "text": [
      "Number of vowels in the string: 6\n"
     ]
    }
   ],
   "source": [
    "# step 1  Function to count vowels in a string\n",
    "def count_vowels(input_string):\n",
    "    #  step 2 Convert the input string to lowercase to simplify counting\n",
    "    input_string = input_string.lower()\n",
    "    \n",
    "    # step 3  Initialize a variable to keep track of the count of vowels\n",
    "    vowel_count = 0\n",
    "    \n",
    "    #  step 4 Define a set of vowels for efficient vowel checking\n",
    "    vowels = set(\"aeiou\")\n",
    "    \n",
    "    #  step 5 Iterate through each character in the string\n",
    "    for char in input_string:\n",
    "        #  step 6 Check if the character is a vowel\n",
    "        if char in vowels:\n",
    "            vowel_count += 1\n",
    "    \n",
    "    return vowel_count\n",
    "\n",
    "#  step7 Input string\n",
    "input_string = input(\"Enter a string: \")\n",
    "\n",
    "#  step 8 Call the function and display the result\n",
    "vowels_count = count_vowels(input_string)\n",
    "print(\"Number of vowels in the string:\", vowels_count)\n",
    "\n",
    "\n",
    "\n",
    "            \n",
    "            \n",
    "    \n",
    "\n"
   ]
  },
  {
   "cell_type": "code",
   "execution_count": null,
   "id": "331507f4-977d-45d1-9e64-1e51477ac793",
   "metadata": {},
   "outputs": [],
   "source": [
    "12.Create a Python program that generates a multiplication table for a given number using a for loop."
   ]
  },
  {
   "cell_type": "code",
   "execution_count": 5,
   "id": "fff19a37-37d5-4cc2-ace1-a424e62c0edb",
   "metadata": {},
   "outputs": [
    {
     "name": "stdin",
     "output_type": "stream",
     "text": [
      "enter a number for knowing the table: 9\n"
     ]
    },
    {
     "name": "stdout",
     "output_type": "stream",
     "text": [
      "9\n",
      "18\n",
      "27\n",
      "36\n",
      "45\n",
      "54\n",
      "63\n",
      "72\n",
      "81\n",
      "90\n"
     ]
    }
   ],
   "source": [
    "# step1 taking the input for anumber\n",
    "p=int(input(\"enter a number for knowing the table:\"))\n",
    "# step 2 using the for loop\n",
    "for  i in range(1,11):\n",
    "    print(p*i)\n",
    "# below table of  given number in output\n",
    "\n"
   ]
  },
  {
   "cell_type": "code",
   "execution_count": null,
   "id": "b6f78747-994f-4252-b89d-3fbd7ef8443d",
   "metadata": {},
   "outputs": [],
   "source": [
    "13.Write a Python program to reverse a list using a for loop."
   ]
  },
  {
   "cell_type": "code",
   "execution_count": 12,
   "id": "799f2b03-97f7-4fa0-85d3-01ca9d2dfc0f",
   "metadata": {},
   "outputs": [
    {
     "data": {
      "text/plain": [
       "[90, 66, 45, 3, 12]"
      ]
     },
     "execution_count": 12,
     "metadata": {},
     "output_type": "execute_result"
    }
   ],
   "source": [
    "# step 1 sample list\n",
    "l=[12,3,45,66,90]\n",
    "m=[]\n",
    "# step 2 using  the for loop\n",
    "for  i in  l:\n",
    "    m.insert(0,i)\n",
    "m\n",
    "    "
   ]
  },
  {
   "cell_type": "code",
   "execution_count": null,
   "id": "0ede28ce-4096-48b0-b9cc-076bf2378630",
   "metadata": {},
   "outputs": [],
   "source": [
    "14.Write a Python program to find the common elements between two lists using a for loop.\n"
   ]
  },
  {
   "cell_type": "code",
   "execution_count": 23,
   "id": "1342fb40-3dc7-473d-925b-f75fafedd2d5",
   "metadata": {},
   "outputs": [
    {
     "data": {
      "text/plain": [
       "[9]"
      ]
     },
     "execution_count": 23,
     "metadata": {},
     "output_type": "execute_result"
    }
   ],
   "source": [
    "# step 1 creating the sample list\n",
    "l=[9,9,0,8,76]\n",
    "m=[9,56,77]\n",
    "# step 2  creating the another sample list\n",
    "c=[]\n",
    "# step 3 using the for loop\n",
    "for i in l:\n",
    "    for j in m:\n",
    "# step 4 using the if -else condition\n",
    "        if i==j and i not in c:\n",
    "            c.append(i)\n",
    "c            "
   ]
  },
  {
   "cell_type": "code",
   "execution_count": null,
   "id": "0506406d-a870-42b0-ad1a-7e8c6129a569",
   "metadata": {},
   "outputs": [],
   "source": [
    "15.Explain how to use a for loop to iterate through the keys and values of a dictionary in Python."
   ]
  },
  {
   "cell_type": "code",
   "execution_count": null,
   "id": "7099f302-95bd-4845-87d4-8fdf0c360f1a",
   "metadata": {},
   "outputs": [],
   "source": [
    "ANS:\n",
    "    For LOOP  iterate through the keys  and values of a dictonary\n",
    "    using the 'items()' method.for loop is used to iterate throgh key value pairs\n",
    "    .'items' method is called on the dictonary and in each iteration of the loops\n",
    "    It unpacks  the key and value into the 'key' and  'value' variables,allowing you to acess\n",
    "    and manipulate  both the key and value of each pair.\n",
    "    EXAMPLE BELOW"
   ]
  },
  {
   "cell_type": "code",
   "execution_count": 25,
   "id": "7fe4ca42-0daf-4777-a49d-39782a50431d",
   "metadata": {},
   "outputs": [
    {
     "name": "stdout",
     "output_type": "stream",
     "text": [
      "Key: N, Value: 90\n",
      "Key: M, Value: 89\n",
      "Key: J, Value: 900\n"
     ]
    }
   ],
   "source": [
    "my_dict = {'N': 90, 'M': 89, 'J': 900}\n",
    "\n",
    "# Iterating through keys and values using a for loop\n",
    "for key, value in my_dict.items():\n",
    "    print(f\"Key: {key}, Value: {value}\")"
   ]
  },
  {
   "cell_type": "code",
   "execution_count": null,
   "id": "3ef75abd-1b21-45cd-bbb7-c29a8c103e2f",
   "metadata": {},
   "outputs": [],
   "source": [
    "16.Write a Python program to find the GCD (Greatest Common Divisor) of two numbers using a for loop."
   ]
  },
  {
   "cell_type": "code",
   "execution_count": 6,
   "id": "8d50aa6d-b67f-4c3c-9d46-d62ba57dc224",
   "metadata": {},
   "outputs": [
    {
     "name": "stdin",
     "output_type": "stream",
     "text": [
      "enter the first number  90\n",
      " enter the second number  30\n"
     ]
    },
    {
     "name": "stdout",
     "output_type": "stream",
     "text": [
      "GCDOF TWO NUMBER 30\n"
     ]
    }
   ],
   "source": [
    "# step 1 create a founction for creating\n",
    "def gcd(a,b):\n",
    "# step 2 if -else\n",
    "    if a>b:\n",
    "        temp=b\n",
    "    else:\n",
    "        temp=a\n",
    "# step 3 using the for loop\n",
    "    for i in range(1,temp+1):\n",
    "        if((a%i==0)and(b%i==0)):\n",
    "            gcd=i\n",
    "    return gcd\n",
    "# step 4  taking the input\n",
    "x=int(input(\"enter the first number \"))\n",
    "y=int(input(\" enter the second number \"))\n",
    "num = gcd(x,y)\n",
    "print(\"GCDOF TWO NUMBER\",num)\n",
    "\n",
    "    "
   ]
  },
  {
   "cell_type": "code",
   "execution_count": null,
   "id": "fac3bb57-e13e-4436-9994-79c5edf41652",
   "metadata": {},
   "outputs": [],
   "source": [
    "17.Create a Python program that checks if a string is a palindrome using a for loop"
   ]
  },
  {
   "cell_type": "code",
   "execution_count": 9,
   "id": "871d93f3-a0ae-4322-94d8-077db46e2047",
   "metadata": {},
   "outputs": [
    {
     "name": "stdin",
     "output_type": "stream",
     "text": [
      "enter a string  amrit\n"
     ]
    },
    {
     "name": "stdout",
     "output_type": "stream",
     "text": [
      "string  is not pallindrome\n"
     ]
    }
   ],
   "source": [
    "# step 1 taking the in put for the sting\n",
    "st=input(\"enter a string \")\n",
    "# step 2  reversing the sting \n",
    "reverse=st[::-1]\n",
    "#step 3 using  the if -else condition\n",
    "if st==reverse:\n",
    "    print(\"string is paillindrome\")\n",
    "else:\n",
    "    print(\"string  is not pallindrome\")\n"
   ]
  },
  {
   "cell_type": "code",
   "execution_count": null,
   "id": "9be21bbf-c0dc-4acf-8cbc-eb30db76687b",
   "metadata": {},
   "outputs": [],
   "source": [
    "18.Write a Python program to remove duplicates from a list using a for loop."
   ]
  },
  {
   "cell_type": "code",
   "execution_count": 15,
   "id": "2f7dcb84-3e1e-48b6-8137-dedaef8351e2",
   "metadata": {},
   "outputs": [
    {
     "data": {
      "text/plain": [
       "[12, 4, 6, 8]"
      ]
     },
     "execution_count": 15,
     "metadata": {},
     "output_type": "execute_result"
    }
   ],
   "source": [
    "# sample list with duplicates\n",
    "l=[12,12,3,4,5,6,7,8]\n",
    "#step 2 using the for  loop\n",
    "for i in l:\n",
    "    for  j in  l:\n",
    "# steop 3 using the if -else condition\n",
    "        if i==j:\n",
    "            l.remove(i)\n",
    "l\n",
    "\n"
   ]
  },
  {
   "cell_type": "code",
   "execution_count": null,
   "id": "e2c940d1-c36c-4a0a-b870-1c9c96a8dd5b",
   "metadata": {},
   "outputs": [],
   "source": [
    "19.Create a Python program that counts the number of words in a sentence using a for loop"
   ]
  },
  {
   "cell_type": "code",
   "execution_count": 18,
   "id": "53a40ced-dc2f-456a-a197-d1318368851c",
   "metadata": {},
   "outputs": [
    {
     "name": "stdin",
     "output_type": "stream",
     "text": [
      " enter the a sentence i love indian women and american women \n"
     ]
    },
    {
     "data": {
      "text/plain": [
       "7"
      ]
     },
     "execution_count": 18,
     "metadata": {},
     "output_type": "execute_result"
    }
   ],
   "source": [
    "# step 1 taking the  input in the string\n",
    "m=input(\" enter the a sentence\")\n",
    "# step 2  initialize count \n",
    "count =0\n",
    "# step 3   using the for loop\n",
    "for i in m:\n",
    "# step 4 using the if -else\n",
    "    if i ==\" \":\n",
    "        count+=1\n",
    "#printing the result \n",
    "count\n",
    "        "
   ]
  },
  {
   "cell_type": "code",
   "execution_count": null,
   "id": "ac304fb9-4159-46fe-b539-164bfae53586",
   "metadata": {},
   "outputs": [],
   "source": [
    "20.Write a Python program to find the sum of all odd numbers from 1 to 50 using a for loop."
   ]
  },
  {
   "cell_type": "code",
   "execution_count": 19,
   "id": "1837553a-d161-4dbe-ab80-c36b7d283c72",
   "metadata": {},
   "outputs": [
    {
     "data": {
      "text/plain": [
       "408"
      ]
     },
     "execution_count": 19,
     "metadata": {},
     "output_type": "execute_result"
    }
   ],
   "source": [
    "# step 1 creating the list\n",
    "l=[]\n",
    "# step2  using the for loop\n",
    "for i in range(1 ,51):\n",
    "    if i%3==0:\n",
    "        l.append(i)\n",
    "m=sum(l)\n",
    "# step 3 printing the sum\n",
    "m\n",
    "        \n"
   ]
  },
  {
   "cell_type": "code",
   "execution_count": null,
   "id": "5093d38b-05be-4754-9250-f69a092b3851",
   "metadata": {},
   "outputs": [],
   "source": [
    "21.Write a Python program that checks if a given year is a leap year using a for loop"
   ]
  },
  {
   "cell_type": "code",
   "execution_count": 26,
   "id": "5f6d1e79-a290-4409-83ce-31d58d543cd2",
   "metadata": {},
   "outputs": [
    {
     "name": "stdin",
     "output_type": "stream",
     "text": [
      "enter a year 2023\n"
     ]
    },
    {
     "name": "stdout",
     "output_type": "stream",
     "text": [
      "it's not a leap year\n"
     ]
    }
   ],
   "source": [
    "# step 1 taking  the input from a user\n",
    "y=int(input(\"enter a year\" ))\n",
    "# step 2 initializing the isleapyear false\n",
    "is_leapyear=False\n",
    "# step 3 using the for loop\n",
    "for  i in range(4):\n",
    "#step 4 \n",
    "    if y%4==0:\n",
    "        is_leapyear=True\n",
    "        print(\"its a leap year\")\n",
    "        break\n",
    "    else:\n",
    "        is_leapyear= False\n",
    "        print(\"it's not a leap year\")\n",
    "        break"
   ]
  },
  {
   "cell_type": "code",
   "execution_count": null,
   "id": "8bb0844b-f26b-42c1-99f9-ff3f45ebe485",
   "metadata": {},
   "outputs": [],
   "source": [
    "22.Create a Python program that calculates the square root of a number using a for loop."
   ]
  },
  {
   "cell_type": "code",
   "execution_count": 27,
   "id": "647eafee-1f92-4096-bee9-a8bbb638ca45",
   "metadata": {},
   "outputs": [
    {
     "name": "stdin",
     "output_type": "stream",
     "text": [
      "Enter a number:  25\n"
     ]
    },
    {
     "name": "stdout",
     "output_type": "stream",
     "text": [
      "Approximate square root of 25.0 is: 5.0\n"
     ]
    }
   ],
   "source": [
    "# step 1 creating the founction \n",
    "def square_root_with_for_loop(number, iterations=10):\n",
    "    if number < 0:\n",
    "        raise ValueError(\"Square root is not defined for negative numbers\")\n",
    "    \n",
    "    guess = number / 2.0  # Initial guess\n",
    "    for _ in range(iterations):\n",
    "        guess = (guess + number / guess) / 2.0  # Update the guess using the Newton-Raphson method\n",
    "    \n",
    "    return guess\n",
    "\n",
    "# step 2  Input number for which you want to calculate the square root\n",
    "number = float(input(\"Enter a number: \"))\n",
    "\n",
    "# step 3  Number of iterations for approximation (more iterations result in a more accurate value)\n",
    "iterations = 10\n",
    "\n",
    "result = square_root_with_for_loop(number, iterations)\n",
    "print(f\"Approximate square root of {number} is: {result}\")\n"
   ]
  },
  {
   "cell_type": "code",
   "execution_count": null,
   "id": "3e9642fe-432f-46ba-905c-99dd4afcff68",
   "metadata": {},
   "outputs": [],
   "source": [
    "23.Write a Python program to find the LCM (Least Common Multiple) of two numbers using a for loop."
   ]
  },
  {
   "cell_type": "code",
   "execution_count": 28,
   "id": "f3bf267c-1913-4a24-a8ab-d4d200c7ba9c",
   "metadata": {},
   "outputs": [
    {
     "name": "stdout",
     "output_type": "stream",
     "text": [
      "LCM of 12 and 14 is 84\n"
     ]
    }
   ],
   "source": [
    "# step 1 taking the sample input \n",
    "num1 = 12\n",
    "num2 = 14\n",
    "# step 2 using the for loop\n",
    "for i in range(max(num1, num2), 1 + (num1 * num2)):\n",
    "# step 3  using the if - else condition\n",
    "    if i % num1 == i % num2 == 0:\n",
    "        lcm = i\n",
    "        break\n",
    "print(\"LCM of\", num1, \"and\", num2, \"is\", lcm)"
   ]
  },
  {
   "cell_type": "code",
   "execution_count": null,
   "id": "2e254832-cced-4dde-80bf-76efb4147c2f",
   "metadata": {},
   "outputs": [],
   "source": [
    "                            TOPIC = IF-ELSE"
   ]
  },
  {
   "cell_type": "code",
   "execution_count": null,
   "id": "07352b84-5e48-413e-8fb0-e1ccd3a2298a",
   "metadata": {},
   "outputs": [],
   "source": [
    "1.Write a Python program to check if a number is positive, negative, or zero using an if-else statement.\n"
   ]
  },
  {
   "cell_type": "code",
   "execution_count": 30,
   "id": "0f302176-4aa2-415a-835e-e44747de9606",
   "metadata": {},
   "outputs": [
    {
     "name": "stdin",
     "output_type": "stream",
     "text": [
      "enter a number to check  90\n"
     ]
    },
    {
     "name": "stdout",
     "output_type": "stream",
     "text": [
      "number is positive\n"
     ]
    }
   ],
   "source": [
    "#step 1 t aking the input for the number\n",
    "a= int(input(\"enter a number to check \"))\n",
    "# step 2 using the if -else condition\n",
    "if a<0:\n",
    "    print(\"number is negative\")\n",
    "if a>0:\n",
    "    print(\"number is positive\")\n",
    "else:\n",
    "    print(\"number is zero\")\n",
    "\n"
   ]
  },
  {
   "cell_type": "code",
   "execution_count": null,
   "id": "ecaa3816-c133-44d7-8a34-f68760dfe363",
   "metadata": {},
   "outputs": [],
   "source": [
    "2.Create a Python program that checks if a given number is even or odd using an if-else statement."
   ]
  },
  {
   "cell_type": "code",
   "execution_count": 4,
   "id": "aaca0b28-5590-4d96-98f6-cddc3eca7d37",
   "metadata": {},
   "outputs": [
    {
     "name": "stdin",
     "output_type": "stream",
     "text": [
      "enter a number 4\n"
     ]
    },
    {
     "name": "stdout",
     "output_type": "stream",
     "text": [
      "number is even  4\n"
     ]
    }
   ],
   "source": [
    "# step 1  taking the input for the numbers\n",
    "a= int(input(\"enter a number\"))\n",
    "# step 2 using the idf -else\n",
    "if a%2==0:\n",
    "    print(\"number is even \",a)\n",
    "else:\n",
    "    print(\"number is odd: \",a)"
   ]
  },
  {
   "cell_type": "code",
   "execution_count": null,
   "id": "5e13c2ea-a0b7-420d-a29e-ffbc6a31fc5d",
   "metadata": {},
   "outputs": [],
   "source": [
    "4.How can you use nested if-else statements in Python, and provide an example?"
   ]
  },
  {
   "cell_type": "code",
   "execution_count": null,
   "id": "0aa4d7fe-116c-4ee5-8b20-e0a2d468c3aa",
   "metadata": {},
   "outputs": [],
   "source": [
    "In python programming language  we include python if-else satement inside another .this is useful when you need to check multiple\n",
    "conditions and perform  diffrent  action on those conditions\n",
    "SEE EXAMPLE :"
   ]
  },
  {
   "cell_type": "code",
   "execution_count": 9,
   "id": "ad946c62-a493-451b-948c-3e9f0479add9",
   "metadata": {},
   "outputs": [
    {
     "name": "stdin",
     "output_type": "stream",
     "text": [
      "enter a number : 6\n"
     ]
    },
    {
     "name": "stdout",
     "output_type": "stream",
     "text": [
      "the number is positive\n"
     ]
    }
   ],
   "source": [
    "n= float(input(\"enter a number :\"))\n",
    "if n>0:\n",
    "    print(\"the number is positive\")\n",
    "elif n<0:\n",
    "    print(\"the number is negative\")\n",
    "else:\n",
    "    print(\"the number is zero\")\n",
    "        "
   ]
  },
  {
   "cell_type": "code",
   "execution_count": null,
   "id": "d742e837-a93b-46e2-9ea3-3c081b6a0636",
   "metadata": {},
   "outputs": [],
   "source": [
    "5.Write a Python program that calculates the absolute value of a number using if-else."
   ]
  },
  {
   "cell_type": "code",
   "execution_count": 6,
   "id": "4f941d8b-ad9c-4c48-8a24-0281f02b71f4",
   "metadata": {},
   "outputs": [
    {
     "name": "stdin",
     "output_type": "stream",
     "text": [
      "enter a number 5\n"
     ]
    },
    {
     "name": "stdout",
     "output_type": "stream",
     "text": [
      "5\n"
     ]
    }
   ],
   "source": [
    "# step 1 taking the input\n",
    "m=int(input(\"enter a number\"))\n",
    "# step 2 using the  if -else coondition\n",
    "if m < 0:\n",
    "    absm = -m\n",
    "else:\n",
    "    absm=m\n",
    "print(absm)"
   ]
  },
  {
   "cell_type": "code",
   "execution_count": null,
   "id": "59e0c550-3a09-4ddc-a384-f126f99a7ad4",
   "metadata": {},
   "outputs": [],
   "source": [
    "6.Create a Python program that checks if a given character is a vowel or consonant using if-else.\n"
   ]
  },
  {
   "cell_type": "code",
   "execution_count": 14,
   "id": "643f654a-db9d-488b-a8f5-209bfffcbb3e",
   "metadata": {},
   "outputs": [
    {
     "name": "stdin",
     "output_type": "stream",
     "text": [
      "enter a chracter  u\n"
     ]
    },
    {
     "name": "stdout",
     "output_type": "stream",
     "text": [
      "its a vowel\n"
     ]
    }
   ],
   "source": [
    "# step 1 taking the input for \n",
    "ch=input(\"enter a chracter \")\n",
    "# step 2 converintg the chracter into  lowercase\n",
    "ch.lower()\n",
    "# step 3 using the for loop\n",
    "if ch in \"aeiou\":\n",
    "    print(\"its a vowel\")    \n",
    "else:\n",
    "    print(\" its a consonet \")\n"
   ]
  },
  {
   "cell_type": "code",
   "execution_count": null,
   "id": "32ff37d8-3b4d-44a1-9863-fc26de2eaad8",
   "metadata": {},
   "outputs": [],
   "source": []
  },
  {
   "cell_type": "code",
   "execution_count": null,
   "id": "8166185f-c19a-4bec-8a00-041b32b743e1",
   "metadata": {},
   "outputs": [],
   "source": [
    "7.Write a Python program to determine if a user is eligible to vote based on their age using if-else."
   ]
  },
  {
   "cell_type": "code",
   "execution_count": 16,
   "id": "c8343e59-4124-42d8-ae80-e1a93b77df23",
   "metadata": {},
   "outputs": [
    {
     "name": "stdin",
     "output_type": "stream",
     "text": [
      "enter your age  100\n"
     ]
    },
    {
     "name": "stdout",
     "output_type": "stream",
     "text": [
      "YOU are eligible to vote\n"
     ]
    }
   ],
   "source": [
    "# step 1 taking the input for checking the eligiblity criteria\n",
    "m=int(input(\"enter your age \"))\n",
    "# step 2 using the if -else condition\n",
    "if m<18:\n",
    "    print(\"YOU are not Eligible to Vote\")\n",
    "else:\n",
    "    print(\"YOU are eligible to vote\")\n"
   ]
  },
  {
   "cell_type": "code",
   "execution_count": null,
   "id": "7d647553-e4e2-46e1-9bce-8606a28b79d3",
   "metadata": {},
   "outputs": [],
   "source": [
    "8.Create a Python program that calculates the discount amount based on the purchase amount using if-else."
   ]
  },
  {
   "cell_type": "code",
   "execution_count": 17,
   "id": "f62c12e8-2f07-49f4-8b46-3c1710cbadd9",
   "metadata": {},
   "outputs": [
    {
     "name": "stdin",
     "output_type": "stream",
     "text": [
      "enter the purchase price 600\n"
     ]
    },
    {
     "name": "stdout",
     "output_type": "stream",
     "text": [
      "Purchase price  600\n",
      "Discount price  50\n",
      "New price 300.0\n"
     ]
    }
   ],
   "source": [
    " #step 1  enter the purchse price\n",
    "p=int(input(\"enter the purchase price\"))\n",
    "# step2  using the if- else condition\n",
    "if p>200:\n",
    "    discount=50\n",
    "elif p>500:\n",
    "    discount=100\n",
    "elif p>800:\n",
    "    discount=400\n",
    "else:\n",
    "    discount=90\n",
    "# step 3 new purchase price after discount\n",
    "newp= p - (p* discount / 100)\n",
    "# step 4   printing the value \n",
    "print(\"Purchase price \",p)\n",
    "print(\"Discount price \",discount)\n",
    "print(\"New price\",newp)\n",
    "    "
   ]
  },
  {
   "cell_type": "code",
   "execution_count": null,
   "id": "88385950-16e0-4414-a78c-2f1de174e599",
   "metadata": {},
   "outputs": [],
   "source": [
    "9. Write a Python program to check if a number is within a specified range using if-else.\n"
   ]
  },
  {
   "cell_type": "code",
   "execution_count": 18,
   "id": "775f7f4c-ea86-487c-96be-7e64ca648421",
   "metadata": {},
   "outputs": [
    {
     "name": "stdin",
     "output_type": "stream",
     "text": [
      "enter the  number for checking the range  8\n"
     ]
    },
    {
     "name": "stdout",
     "output_type": "stream",
     "text": [
      "it's  in a range\n"
     ]
    }
   ],
   "source": [
    "# step1 taking the input for the from the user for range\n",
    "p=int(input(\"enter the  number for checking the range \"))\n",
    "#step 2 using the if -else \n",
    "if p in range(1,25):\n",
    "    print(\"it's  in a range\")\n",
    "\n"
   ]
  },
  {
   "cell_type": "code",
   "execution_count": null,
   "id": "3fd8353a-e618-4743-9da3-353b5cfadaf2",
   "metadata": {},
   "outputs": [],
   "source": [
    "10.Create a Python program that determines the grade of a student based on their score using if-else.\n"
   ]
  },
  {
   "cell_type": "code",
   "execution_count": 19,
   "id": "e9c157da-f99d-46e1-a33c-f8e47d555347",
   "metadata": {},
   "outputs": [
    {
     "name": "stdin",
     "output_type": "stream",
     "text": [
      "Enter the student's score:  90\n"
     ]
    },
    {
     "name": "stdout",
     "output_type": "stream",
     "text": [
      "The student's grade is: A\n"
     ]
    }
   ],
   "source": [
    "# step 1 taking the input for score \n",
    "score = float(input(\"Enter the student's score: \"))\n",
    "# step2 using the if- else condition\n",
    "if score >= 90:\n",
    "    grade = 'A'        \n",
    "elif score >= 80:\n",
    "    grade = 'B'\n",
    "elif score >= 70:\n",
    "    grade = 'C'\n",
    "elif score >= 60:\n",
    "    grade = 'D'\n",
    "else:\n",
    "    grade = 'F'\n",
    "# step 3  printing the result\n",
    "print(f\"The student's grade is: {grade}\")"
   ]
  },
  {
   "cell_type": "code",
   "execution_count": null,
   "id": "d15dbcec-2a32-4837-b624-c053f23ca3ea",
   "metadata": {},
   "outputs": [],
   "source": [
    "11.Write a Python program to check if a string is empty or not using if-else.\n"
   ]
  },
  {
   "cell_type": "code",
   "execution_count": 20,
   "id": "0f549b15-7c3a-427b-aa92-3a2da65f80be",
   "metadata": {},
   "outputs": [
    {
     "name": "stdout",
     "output_type": "stream",
     "text": [
      "string is not empty\n"
     ]
    }
   ],
   "source": [
    "#  step 1  samplr input for string\n",
    "s=\"amrit\"\n",
    "# step 2 using the if-else condition\n",
    "if s==0:\n",
    "    print(\"string  is empty\")\n",
    "else:\n",
    "    print(\"string is not empty\")"
   ]
  },
  {
   "cell_type": "code",
   "execution_count": null,
   "id": "de7babd6-bd40-4b24-807c-5a7b4fb2907c",
   "metadata": {},
   "outputs": [],
   "source": [
    "12.Create a Python program that identifies the type of a triangle (e.g., equilateral, isosceles, or scalene) based on input values using if-else."
   ]
  },
  {
   "cell_type": "code",
   "execution_count": 21,
   "id": "5e6b8cbe-9b48-470f-a6cf-372890d49cf4",
   "metadata": {},
   "outputs": [
    {
     "name": "stdin",
     "output_type": "stream",
     "text": [
      "Enter the length of the first side:  45\n",
      "Enter the length of the second side:  56\n",
      "Enter the length of the third side:  59\n"
     ]
    },
    {
     "name": "stdout",
     "output_type": "stream",
     "text": [
      "This is a scalene triangle.\n"
     ]
    }
   ],
   "source": [
    "# step 1  Input the lengths of the three sides of the triangle\n",
    "try:\n",
    "    side1 = float(input(\"Enter the length of the first side: \"))\n",
    "    side2 = float(input(\"Enter the length of the second side: \"))\n",
    "    side3 = float(input(\"Enter the length of the third side: \"))\n",
    "\n",
    "    #  step 2 Check if it's a valid triangle\n",
    "    if side1 + side2 > side3 and side1 + side3 > side2 and side2 + side3 > side1:\n",
    "        if side1 == side2 and side2 == side3:\n",
    "            print(\"This is an equilateral triangle.\")\n",
    "        elif side1 == side2 or side1 == side3 or side2 == side3:\n",
    "            print(\"This is an isosceles triangle.\")\n",
    "        else:\n",
    "            print(\"This is a scalene triangle.\")\n",
    "    else:\n",
    "        print(\"These side lengths do not form a valid triangle.\")\n",
    "except ValueError:\n",
    "    print(\"Invalid input. Please enter valid numerical side lengths.\")"
   ]
  },
  {
   "cell_type": "code",
   "execution_count": null,
   "id": "1d45b50d-6ade-491f-a053-47eed18225eb",
   "metadata": {},
   "outputs": [],
   "source": [
    "13.Write a Python program to determine the day of the week based on a user-provided number using if-else"
   ]
  },
  {
   "cell_type": "code",
   "execution_count": 23,
   "id": "d2a0c93a-2f1b-435d-a47a-9c4d2e142c4b",
   "metadata": {},
   "outputs": [
    {
     "name": "stdin",
     "output_type": "stream",
     "text": [
      " enter the day  7\n"
     ]
    },
    {
     "name": "stdout",
     "output_type": "stream",
     "text": [
      " day is Sunday\n"
     ]
    }
   ],
   "source": [
    "# step 1 taking the input for a day \n",
    "m=int(input(\" enter the day \"))\n",
    "# step 2 using the if- elif -else  condition\n",
    "if m==1:\n",
    "    print(\"day is monday\")\n",
    "if m==2:\n",
    "    print(\"day is teusday\")\n",
    "if m==3 :\n",
    "    print(\" day is Wednesday\")\n",
    "if m==4:\n",
    "     print(\" day is thrusday\")\n",
    "if m==5:\n",
    "    print(\" day is friday\")\n",
    "if m==6:\n",
    "    print(\" day is saturday\")\n",
    "if m==7:\n",
    "    print(\" day is Sunday\")\n",
    "else:\n",
    "    print(\" error\")\n",
    "    \n",
    "   \n"
   ]
  },
  {
   "cell_type": "code",
   "execution_count": null,
   "id": "152d40d8-3f6e-468a-b158-4fa6f436bb9c",
   "metadata": {},
   "outputs": [],
   "source": [
    "14.Create a Python program that checks if a given year is a leap year using both if-else and a function.\n"
   ]
  },
  {
   "cell_type": "code",
   "execution_count": 24,
   "id": "c8857abe-cd06-4f1b-9836-b272165c84bc",
   "metadata": {},
   "outputs": [
    {
     "name": "stdin",
     "output_type": "stream",
     "text": [
      "enter the year  for checking  4000\n"
     ]
    },
    {
     "name": "stdout",
     "output_type": "stream",
     "text": [
      " year is leap \n"
     ]
    }
   ],
   "source": [
    "# step 1 taking the input for year \n",
    "i= int(input(\"enter the year  for checking \"))\n",
    "# step 2  using the if -else\n",
    "if (i % 4 == 0 and i % 100 != 0) or (i % 400 == 0):\n",
    "        print(\" year is leap \")\n",
    "else:\n",
    "        print(\" year is not leap year \")\n"
   ]
  },
  {
   "cell_type": "code",
   "execution_count": null,
   "id": "d624d969-712b-4c93-b479-902ed47da8f4",
   "metadata": {},
   "outputs": [],
   "source": [
    "15.How do you use the \"assert\" statement in Python to add debugging checks within if-else blocks?"
   ]
  },
  {
   "cell_type": "code",
   "execution_count": null,
   "id": "0f29e012-5f7a-43f7-a3a0-adf67f75b249",
   "metadata": {},
   "outputs": [],
   "source": [
    "\"assert\" statement in python ia a debugging aid that can be used to test\n",
    "wether a give  condition is true and if not, it raise an\n",
    "'AssertionError' exception .we can use m it within  if -else blocks to add\n",
    "debugging checks . Here's the basic syntax of the 'assert' statement:\n",
    "look at Below:"
   ]
  },
  {
   "cell_type": "code",
   "execution_count": null,
   "id": "7395c83d-549d-4b59-abd4-63dc75a3b7b3",
   "metadata": {},
   "outputs": [],
   "source": [
    "assert condition, message"
   ]
  },
  {
   "cell_type": "code",
   "execution_count": null,
   "id": "019be311-9f9f-47a2-8031-84e081b56ac7",
   "metadata": {},
   "outputs": [],
   "source": [
    ".'condition': The expression or condition you want to test. If it evaluates to True, the assert statement has no effect, and the program continues running. If it evaluates to False, an AssertionError is raised.\n",
    ".'message':essage (optional): A custom error message that can be included in the AssertionError exception. This message helps you identify what went wrong when the condition is not met. If not provided, a default message is used.\n",
    "Example :"
   ]
  },
  {
   "cell_type": "code",
   "execution_count": 1,
   "id": "fdd628ae-0d2c-45be-b4cb-70a4383de38c",
   "metadata": {},
   "outputs": [
    {
     "name": "stdout",
     "output_type": "stream",
     "text": [
      "AssertionError: Division by zero is not allowed\n"
     ]
    }
   ],
   "source": [
    "def divide(a, b):\n",
    "    assert b != 0, \"Division by zero is not allowed\"\n",
    "    result = a / b\n",
    "    return result\n",
    "\n",
    "try:\n",
    "    result = divide(10, 0)\n",
    "except AssertionError as e:\n",
    "    print(f\"AssertionError: {e}\")\n",
    "else:\n",
    "    print(f\"Result: {result}\")\n"
   ]
  },
  {
   "cell_type": "code",
   "execution_count": null,
   "id": "fcc66a97-fddb-46c7-a4e9-a33f49589ae0",
   "metadata": {},
   "outputs": [],
   "source": [
    "16.Create a Python program that determines the eligibility of a person for a senior citizen discount based on age using if-else."
   ]
  },
  {
   "cell_type": "code",
   "execution_count": 3,
   "id": "ac04d73d-769a-4d74-85d2-713efbe61812",
   "metadata": {},
   "outputs": [
    {
     "name": "stdin",
     "output_type": "stream",
     "text": [
      "enter your age 89\n"
     ]
    },
    {
     "name": "stdout",
     "output_type": "stream",
     "text": [
      "you are  eleigible\n"
     ]
    }
   ],
   "source": [
    "# step 1 taking the input  for senior citizen age\n",
    "m=int(input(\"enter your age\"))\n",
    "# step 2  using the if-else \n",
    "if m>60:\n",
    "    discount=200\n",
    "    print(\"you are  eleigible\")\n",
    "else :\n",
    "    dicount=0\n",
    "    print(\"you are not eleigible\")"
   ]
  },
  {
   "cell_type": "code",
   "execution_count": null,
   "id": "76b63bc4-f234-4658-bf82-66ead9d17dcb",
   "metadata": {},
   "outputs": [],
   "source": [
    "17.Write a Python program to categorize a given character as uppercase, lowercase, or neither using if-else."
   ]
  },
  {
   "cell_type": "code",
   "execution_count": 1,
   "id": "14728586-34f0-4b94-ad6d-33c5765c1acd",
   "metadata": {},
   "outputs": [
    {
     "name": "stdin",
     "output_type": "stream",
     "text": [
      "enter a chracter u\n"
     ]
    },
    {
     "name": "stdout",
     "output_type": "stream",
     "text": [
      "its is lowercase\n"
     ]
    }
   ],
   "source": [
    "# step 1 taking thre input  chracter\n",
    "ch=input(\"enter a chracter\")\n",
    "# step 2 using the  if -else  the statement\n",
    "if ch.islower():\n",
    "    print(\"its is lowercase\")\n",
    "elif ch.isupper():\n",
    "    print(\"its is uppercase\")\n",
    "else:\n",
    "    print(\"niether\")\n",
    "    \n"
   ]
  },
  {
   "cell_type": "code",
   "execution_count": null,
   "id": "0a623bb5-5e58-41f9-a46b-1ee6d4c92f6e",
   "metadata": {},
   "outputs": [],
   "source": [
    "18.Write a Python program to determine the roots of a quadratic equation using if-else."
   ]
  },
  {
   "cell_type": "code",
   "execution_count": 2,
   "id": "b986a741-a322-43b6-be5b-992403d82e90",
   "metadata": {},
   "outputs": [
    {
     "name": "stdin",
     "output_type": "stream",
     "text": [
      "Enter the coefficient a:  8\n",
      "Enter the coefficient b:  6\n",
      "Enter the coefficient c:  8\n"
     ]
    },
    {
     "name": "stdout",
     "output_type": "stream",
     "text": [
      "Two complex roots:\n",
      "Root 1: -0.375 + 0.9270248108869579 i\n",
      "Root 2: -0.375 - 0.9270248108869579 i\n"
     ]
    }
   ],
   "source": [
    "import math\n",
    "\n",
    "# step 1 Taking  the  Input coefficients of the quadratic equation\n",
    "a = float(input(\"Enter the coefficient a: \"))\n",
    "b = float(input(\"Enter the coefficient b: \"))\n",
    "c = float(input(\"Enter the coefficient c: \"))\n",
    "\n",
    "#  step 2 Calculate the discriminant\n",
    "discriminant = b**2 - 4*a*c\n",
    "\n",
    "# step 3  Determine the roots\n",
    "if discriminant > 0:\n",
    "    root1 = (-b + math.sqrt(discriminant)) / (2*a)\n",
    "    root2 = (-b - math.sqrt(discriminant)) / (2*a)\n",
    "    print(\"Two distinct real roots:\")\n",
    "    print(\"Root 1:\", root1)\n",
    "    print(\"Root 2:\", root2)\n",
    "elif discriminant == 0:\n",
    "    root1 = -b / (2*a)\n",
    "    print(\"One real root (repeated root):\")\n",
    "    print(\"Root:\", root1)\n",
    "else:\n",
    "    realPart = -b / (2*a)\n",
    "    imaginaryPart = math.sqrt(abs(discriminant)) / (2*a)\n",
    "    print(\"Two complex roots:\")\n",
    "    print(\"Root 1:\", realPart, \"+\", imaginaryPart, \"i\")\n",
    "    print(\"Root 2:\", realPart, \"-\", imaginaryPart, \"i\")\n"
   ]
  },
  {
   "cell_type": "code",
   "execution_count": null,
   "id": "bbc6e4e7-4101-414a-8ad1-a4bcba3dee73",
   "metadata": {},
   "outputs": [],
   "source": [
    "19.Create a Python program that checks if a given year is a century year or not using if-else."
   ]
  },
  {
   "cell_type": "code",
   "execution_count": 6,
   "id": "f36d1386-cfe4-455a-8c65-5cf8222d32c3",
   "metadata": {},
   "outputs": [
    {
     "name": "stdin",
     "output_type": "stream",
     "text": [
      "enter a year 2000\n"
     ]
    },
    {
     "name": "stdout",
     "output_type": "stream",
     "text": [
      "It's a century year\n"
     ]
    }
   ],
   "source": [
    "# step1 t aking the input for the year\n",
    "y=int(input(\"enter a year\" ))\n",
    "# step2 using the if- else condition\n",
    "if y%100==0:\n",
    "      print(\"It's a century year\")\n",
    "else:\n",
    "      print(\"it' s not a  century year \")\n"
   ]
  },
  {
   "cell_type": "code",
   "execution_count": null,
   "id": "8e9053f6-48cf-4160-9c1c-2b962c9132fe",
   "metadata": {},
   "outputs": [],
   "source": [
    "20.Write a Python program to determine if a given number is a perfect square using if-else."
   ]
  },
  {
   "cell_type": "code",
   "execution_count": 2,
   "id": "e4694200-2dc4-429b-8c4e-089b7ca13cbf",
   "metadata": {},
   "outputs": [
    {
     "name": "stdin",
     "output_type": "stream",
     "text": [
      "Enter a number:  64\n"
     ]
    },
    {
     "name": "stdout",
     "output_type": "stream",
     "text": [
      "64 is a perfect square.\n"
     ]
    }
   ],
   "source": [
    "import math\n",
    "\n",
    "# step1  Input the number to check\n",
    "number = int(input(\"Enter a number: \"))\n",
    "\n",
    "#  step 2 Calculate the square root of the number\n",
    "square_root = math.sqrt(number)\n",
    "\n",
    "#  step 3 Check if the square root is an integer\n",
    "if square_root.is_integer():\n",
    "    print(f\"{number} is a perfect square.\")\n",
    "else:\n",
    "    print(f\"{number} is not a perfect square.\")\n",
    "\n"
   ]
  },
  {
   "cell_type": "code",
   "execution_count": null,
   "id": "683bb1de-f10e-4e8e-a59e-9248426c344e",
   "metadata": {},
   "outputs": [],
   "source": [
    "21.Explain the purpose of the \"continue\" and \"break\" statements within if-else loops."
   ]
  },
  {
   "cell_type": "code",
   "execution_count": null,
   "id": "c3cc6e23-2974-40f3-bcab-d7bfd7a42762",
   "metadata": {},
   "outputs": [],
   "source": [
    "ANS:\n",
    "    \"continue \" and  \"break\"statements are used within loops (including \"for\" and \"while\" loops) to control the flow of the loop and make your code more flexible.\n",
    "1. \"continue\" statement:\n",
    "    The \"continue\" statement is used to skip the rest of the current iteration of a loop and move to the next iteration. It allows you to selectively skip some parts of the loop's code when a specific condition is met.\n",
    "     EXample: "
   ]
  },
  {
   "cell_type": "code",
   "execution_count": 5,
   "id": "b329d719-f38f-4583-8ef2-a8b04048db0a",
   "metadata": {},
   "outputs": [
    {
     "name": "stdout",
     "output_type": "stream",
     "text": [
      "1\n",
      "3\n",
      "5\n",
      "7\n",
      "9\n",
      "11\n",
      "13\n",
      "15\n",
      "17\n",
      "19\n",
      "21\n",
      "23\n"
     ]
    }
   ],
   "source": [
    "for i in range(1, 25):\n",
    "    if i % 2 == 0:\n",
    "        continue  # Skip even numbers\n",
    "    print(i)\n"
   ]
  },
  {
   "cell_type": "code",
   "execution_count": null,
   "id": "9e3b4ccd-65f9-4a9a-a52a-56cb57233cad",
   "metadata": {},
   "outputs": [],
   "source": [
    "2.\"BREAK\":\n",
    "    The \"break\" statement is used to exit the loop prematurely when a specific condition is met. It allows you to terminate the loop before it would normally finish its iterations.\n",
    "    use \"break\" when you want to exit a loop as soon as a certain condition is satisfied.\n",
    "      \n",
    "    Example Below:"
   ]
  },
  {
   "cell_type": "code",
   "execution_count": 6,
   "id": "6e284f82-9298-4188-942c-ea66acf82ffe",
   "metadata": {},
   "outputs": [
    {
     "name": "stdin",
     "output_type": "stream",
     "text": [
      "Enter 'q' to quit:  q\n"
     ]
    }
   ],
   "source": [
    "while True:\n",
    "    user_input = input(\"Enter 'q' to quit: \")\n",
    "    if user_input == 'q':\n",
    "        break  # Exit the loop when 'q' is entered\n",
    "    print(\"You entered:\", user_input)\n"
   ]
  },
  {
   "cell_type": "code",
   "execution_count": null,
   "id": "ac71f2a0-35f1-4268-8162-48abe5ea757d",
   "metadata": {},
   "outputs": [],
   "source": [
    "22.Create a Python program that calculates the BMI (Body Mass Index) of a person based on their weight and height using if-else"
   ]
  },
  {
   "cell_type": "code",
   "execution_count": 8,
   "id": "539aed03-70a8-4db8-9c79-110dd148115b",
   "metadata": {},
   "outputs": [
    {
     "name": "stdin",
     "output_type": "stream",
     "text": [
      "Enter the person's weight (in kilograms):  85\n",
      "Enter the person's height (in cm):  1.8288\n"
     ]
    },
    {
     "name": "stdout",
     "output_type": "stream",
     "text": [
      "The person's BMI is 25.41, and they are categorized as 'Overweight'.\n"
     ]
    }
   ],
   "source": [
    "# step 1  taking the input for hieght  and wieght\n",
    "weight = float(input(\"Enter the person's weight (in kilograms): \"))\n",
    "height = float(input(\"Enter the person's height (in cm): \"))\n",
    "\n",
    "# step 2   Using the formula for hiegth and wieght\n",
    "bmi = weight / (height ** 2)\n",
    "\n",
    "# step 3  using Categorization of  BMI\n",
    "if bmi < 18.5:\n",
    "    category = \"Underweight\"\n",
    "elif 18.5 <= bmi < 24.9:\n",
    "    category = \"Normal Weight\"\n",
    "elif 24.9 <= bmi < 29.9:\n",
    "    category = \"Overweight\"\n",
    "else:\n",
    "    category = \"Obese\"\n",
    "# step 4 printing the  result\n",
    "\n",
    "print(f\"The person's BMI is {bmi:.2f}, and they are categorized as '{category}'.\")\n",
    "    "
   ]
  },
  {
   "cell_type": "markdown",
   "id": "1077ed5d-4c8b-49d0-b067-60b3675988a0",
   "metadata": {},
   "source": [
    "23.How can you use the \"filter()\" function with if-else statements to filter elements from a list?\n"
   ]
  },
  {
   "cell_type": "code",
   "execution_count": null,
   "id": "de40d00e-bc4a-47c0-94b6-beb21cb04d8b",
   "metadata": {},
   "outputs": [],
   "source": [
    "ANS:\n",
    "    Filter founction \n",
    "    The filter() function in Python is used to filter elements from an iterable (e.g., a list) based on a specified condition.\n",
    "    We can use lambda founcction  or a regular founction to define the  filtering condition.one can't use  if - else condition in filter\n",
    "    Example Below:"
   ]
  },
  {
   "cell_type": "code",
   "execution_count": 9,
   "id": "70ae1813-a0e8-4be7-b4cd-fb0d15d9a73b",
   "metadata": {},
   "outputs": [
    {
     "name": "stdout",
     "output_type": "stream",
     "text": [
      "[2, 4, 6, 8, 10]\n"
     ]
    }
   ],
   "source": [
    "# Define a list of numbers\n",
    "numbers = [1, 2, 3, 4, 5, 6, 7, 8, 9, 10]\n",
    "\n",
    "# Use filter() with a lambda function that checks if a number is even\n",
    "filtered_numbers = list(filter(lambda x: x % 2 == 0, numbers))\n",
    "\n",
    "# Print the filtered numbers\n",
    "print(filtered_numbers)\n"
   ]
  },
  {
   "cell_type": "code",
   "execution_count": null,
   "id": "d6045dd4-92fe-4909-b085-90bf427ddaac",
   "metadata": {},
   "outputs": [],
   "source": [
    "24.Write a Python program to determine if a given number is prime or not using if-else.\n"
   ]
  },
  {
   "cell_type": "code",
   "execution_count": 10,
   "id": "7ba3617d-349d-4d13-8e68-c7fa02e7538a",
   "metadata": {},
   "outputs": [
    {
     "name": "stdin",
     "output_type": "stream",
     "text": [
      "Enter a number:  45\n"
     ]
    },
    {
     "name": "stdout",
     "output_type": "stream",
     "text": [
      "45 is not a prime number.\n"
     ]
    }
   ],
   "source": [
    "#  step 1 Input the number to check for primality\n",
    "number = int(input(\"Enter a number: \"))\n",
    "\n",
    "# step2  Check if the number is less than 2\n",
    "if number < 2:\n",
    "    is_prime = False\n",
    "else:\n",
    "    is_prime = True\n",
    "\n",
    "    #  step 3 Check for factors from 2 to the square root of the number\n",
    "    for i in range(2, int(number**0.5) + 1):\n",
    "        if number % i == 0:\n",
    "            is_prime = False\n",
    "            break\n",
    "\n",
    "#  step4 Check the result and print whether the number is prime or not\n",
    "if is_prime:\n",
    "    print(f\"{number} is a prime number.\")\n",
    "else:\n",
    "    print(f\"{number} is not a prime number.\")\n"
   ]
  },
  {
   "cell_type": "code",
   "execution_count": null,
   "id": "f0166dd7-eb99-43ee-8a4d-ac24984c4db8",
   "metadata": {},
   "outputs": [],
   "source": [
    "                                    TOPIC:Map "
   ]
  },
  {
   "cell_type": "code",
   "execution_count": null,
   "id": "03dc6a0a-ecef-49ac-8078-106a1b98d44c",
   "metadata": {},
   "outputs": [],
   "source": [
    "1.Explain the purpose of the `map()` function in Python and provide an example of how it can be used to apply a function to each element of an iterable.\n"
   ]
  },
  {
   "cell_type": "code",
   "execution_count": null,
   "id": "e5c53e4b-96d6-463f-a7b7-e27b4c72a961",
   "metadata": {},
   "outputs": [],
   "source": [
    "'map()'  it's a specific founction to each  element  of an iterable  and return a new  iterable cointaing  the result of applying\n",
    "the founction to each element.\n",
    "Syntax:\n",
    "    map(function, iterabel)\n",
    "Example BELOW:"
   ]
  },
  {
   "cell_type": "code",
   "execution_count": 5,
   "id": "ab0859c0-8a4b-4156-ac50-9dd5fd2b0411",
   "metadata": {},
   "outputs": [
    {
     "name": "stdout",
     "output_type": "stream",
     "text": [
      "[3, 6, 9, 12, 15]\n"
     ]
    }
   ],
   "source": [
    "# step 1 genrate the founction to  tiplet the number\n",
    "def triplet(x):\n",
    "    return x*3\n",
    "# step 2 create  a list of number\n",
    "numbers=[1,2,3,4,5]\n",
    "# step 3  using the map to triple  the element in list \n",
    "triple_numbers=map(triplet,numbers)\n",
    "# step 4  convert the result to a list ()\n",
    "triple_list=list(triple_numbers)\n",
    "# step 5 output\n",
    "print(triple_list)\n"
   ]
  },
  {
   "cell_type": "code",
   "execution_count": null,
   "id": "8c037f98-6c01-45e5-a802-8e206498c066",
   "metadata": {},
   "outputs": [],
   "source": [
    "2.Write a Python program that uses the `map()` function to square each element of a list of numbers.\n"
   ]
  },
  {
   "cell_type": "code",
   "execution_count": 7,
   "id": "6dd449e7-f1e4-4c52-8973-bd4883c8ff43",
   "metadata": {},
   "outputs": [
    {
     "name": "stdout",
     "output_type": "stream",
     "text": [
      "[144, 9, 16, 25, 144, 1089, 1936]\n"
     ]
    }
   ],
   "source": [
    "# step 1 creating the founction to find the sqaure the numbers\n",
    "def square(x):\n",
    "    return x**2\n",
    "# step 2 create a list of numbers\n",
    "number=[12,3,4,5,12,33,44]\n",
    "# step 3  using the map to  squre the number in list\n",
    "square=map(square,number)\n",
    "#step 4 convert it again in list\n",
    "squre_list=list(square)\n",
    "# step 4 output\n",
    "print(squre_list)\n",
    "    "
   ]
  },
  {
   "cell_type": "code",
   "execution_count": null,
   "id": "53b8a187-4153-406a-a0b2-60d668fc4adc",
   "metadata": {},
   "outputs": [],
   "source": [
    "3.How does the `map()` function differ from a list comprehension in Python, and when would you choose one over the other?"
   ]
  },
  {
   "cell_type": "code",
   "execution_count": null,
   "id": "e087055a-0845-4f9e-970f-0a75286c6b8c",
   "metadata": {},
   "outputs": [],
   "source": [
    "ANS:\n",
    "    SYNTAX:\n",
    "        'map()' uses a function and an iterable as a arguement returns a map\n",
    "        object.\n",
    "        \"LIST comprehension\" Have more concise and redable syntax,using the squre brack\n",
    "        -et we create new list\n",
    "    READABLITY:\n",
    "    'map()' it canbe less inutive and  may require defination of seprate founction\n",
    "    'list Comprehension' it  consider to be more readable  and pythonic as they expreess\n",
    "    transformation  more clearly and caompactly\n",
    "    PERFOMANCE:\n",
    "        \"map()\"are not faster\n",
    "        \"list Comprehension\" are faster\n",
    "\n",
    "     EXAMPLE:\n",
    "        FOR map():"
   ]
  },
  {
   "cell_type": "code",
   "execution_count": 9,
   "id": "80929c3f-087a-4d26-adb4-4d0161d19803",
   "metadata": {},
   "outputs": [
    {
     "name": "stdout",
     "output_type": "stream",
     "text": [
      "[144, 9, 16, 25, 144, 1089, 1936]\n"
     ]
    }
   ],
   "source": [
    " # step 1 creating the founction to find the sqaure the numbers\n",
    "def square(x):\n",
    "    return x**2\n",
    "# step 2 create a list of numbers\n",
    "number=[12,3,4,5,12,33,44]\n",
    "# step 3  using the map to  squre the number in list\n",
    "square=map(square,number)\n",
    "#step 4 convert it again in list\n",
    "squre_list=list(square)\n",
    "# step 4 output\n",
    "print(squre_list)\n",
    "    \n",
    "        "
   ]
  },
  {
   "cell_type": "code",
   "execution_count": null,
   "id": "51814024-da28-414b-b3be-9595a3093be3",
   "metadata": {},
   "outputs": [],
   "source": [
    "for \"list comprehension\""
   ]
  },
  {
   "cell_type": "code",
   "execution_count": 14,
   "id": "1863c08b-3bd5-4ce6-8c08-cb27c538e722",
   "metadata": {},
   "outputs": [
    {
     "data": {
      "text/plain": [
       "[3, 6, 9, 135, 18, 21]"
      ]
     },
     "execution_count": 14,
     "metadata": {},
     "output_type": "execute_result"
    }
   ],
   "source": [
    "n=[1,2,3,45,6,7]\n",
    "triple=[s*3 for s in n]\n",
    "triple\n"
   ]
  },
  {
   "cell_type": "code",
   "execution_count": null,
   "id": "5806e719-e9db-45ed-9bcf-cc3aadeffff2",
   "metadata": {},
   "outputs": [],
   "source": [
    "4.Create a Python program that uses the `map()` function to convert a list of names to uppercase."
   ]
  },
  {
   "cell_type": "code",
   "execution_count": 15,
   "id": "0aa3c82f-49a5-4bd1-a839-cdd37611c050",
   "metadata": {},
   "outputs": [
    {
     "data": {
      "text/plain": [
       "['AMRIT', 'VIBHU', 'RAJAWAT']"
      ]
     },
     "execution_count": 15,
     "metadata": {},
     "output_type": "execute_result"
    }
   ],
   "source": [
    "# step1 creating the founction\n",
    "def upper(m):\n",
    "    return m.upper()\n",
    "# step 1 creating the list of a names\n",
    "l=[\"amrit\", \"vibhu\", \"rajawat\"]\n",
    "# step  2  converting the list into the upper to lower \n",
    "k=map(upper, l)\n",
    "# step 3   converting back to the list\n",
    "p=list(k)\n",
    "# print result\n",
    "p"
   ]
  },
  {
   "cell_type": "code",
   "execution_count": null,
   "id": "a5c48723-87f6-4362-94db-3ac9cf348864",
   "metadata": {},
   "outputs": [],
   "source": [
    "5.Write a Python program that uses the `map()` function to calculate the length of each word in a list of strings."
   ]
  },
  {
   "cell_type": "code",
   "execution_count": 9,
   "id": "6c3a627d-db31-418c-b2f2-f82c17811fec",
   "metadata": {},
   "outputs": [
    {
     "name": "stdout",
     "output_type": "stream",
     "text": [
      "[5, 11, 12, 12]\n"
     ]
    }
   ],
   "source": [
    "# step1 sample list of words\n",
    "words=[\"amrit\",\"kenzie Anne\",\"peter parker\", \"tommyshellby\"]\n",
    "# step 2  using the map ()\n",
    "lengths=list(map(len,words))\n",
    "# step 3  print result\n",
    "print(lengths)"
   ]
  },
  {
   "cell_type": "code",
   "execution_count": null,
   "id": "e8a6a26d-3e35-46e8-9c1b-8bf13da143e5",
   "metadata": {},
   "outputs": [],
   "source": [
    "6.How can you use the `map()` function to apply a custom function to elements of multiple lists simultaneously in Python?\n"
   ]
  },
  {
   "cell_type": "code",
   "execution_count": null,
   "id": "68d0cbab-46d2-42b4-b5d3-93af969a7a92",
   "metadata": {},
   "outputs": [],
   "source": [
    "ANS:\n",
    "    To use 'map()'  function to apply a custom functions toelements of \n",
    "    multiple  lists simultaneously  by passing  the custom function and multiple\n",
    "    list arguement to 'map()' \n",
    "    EXAMPLE Below:"
   ]
  },
  {
   "cell_type": "code",
   "execution_count": 1,
   "id": "54946049-1cdf-4c5f-9864-55bbf529426c",
   "metadata": {},
   "outputs": [
    {
     "name": "stdout",
     "output_type": "stream",
     "text": [
      "[9, 16, 19]\n"
     ]
    }
   ],
   "source": [
    "# step 1 creating the custom function  that take multiple arguments\n",
    "def custom_function(p,q,r):\n",
    "    return p+q+r\n",
    "# step 2  create  multiple lists\n",
    "list_a=[1,2,3]\n",
    "list_b=[4,5,6]\n",
    "list_c=[4,9,10]\n",
    "# stpe 3 using the map  to apply custom function to elements of list\n",
    "result= list(map(custom_function,list_a,list_b,list_c))\n",
    "# step 4\n",
    "print(result)"
   ]
  },
  {
   "cell_type": "code",
   "execution_count": null,
   "id": "188d6758-e0bc-427c-bd14-430ef25eb033",
   "metadata": {},
   "outputs": [],
   "source": [
    "7.Create a Python program that uses `map()` to convert a list of temperatures from Celsius to Fahrenheit."
   ]
  },
  {
   "cell_type": "code",
   "execution_count": 2,
   "id": "5317e238-8c54-47a9-a3ca-d8ccd32a0f75",
   "metadata": {},
   "outputs": [
    {
     "data": {
      "text/plain": [
       "[53.6, 71.6, 93.2]"
      ]
     },
     "execution_count": 2,
     "metadata": {},
     "output_type": "execute_result"
    }
   ],
   "source": [
    "# step 1 creating the fouction to celsius to fahrenheit\n",
    "def convert(p):\n",
    "    return (p*9/5)+32\n",
    "# step 2  creating the sample list\n",
    "o=[12,22,34]\n",
    "# step 3 using the map \n",
    "q=map(convert,o)\n",
    "# step 4 converintg  back into the  list\n",
    "u=list(q)\n",
    "\n",
    "u"
   ]
  },
  {
   "cell_type": "code",
   "execution_count": null,
   "id": "164f94ba-48c2-4b90-8b07-581d9989b990",
   "metadata": {},
   "outputs": [],
   "source": [
    "8.Write a Python program that uses the `map()` function to round each element of a list of floating-point numbers to the nearest integer.\n"
   ]
  },
  {
   "cell_type": "code",
   "execution_count": 3,
   "id": "dcc22fe5-7758-4a25-9400-493beca12feb",
   "metadata": {},
   "outputs": [
    {
     "data": {
      "text/plain": [
       "[12, 57, 99]"
      ]
     },
     "execution_count": 3,
     "metadata": {},
     "output_type": "execute_result"
    }
   ],
   "source": [
    "# step 1 creating the list of  flaot numbers\n",
    "f=[12.45,56.78,98.8]\n",
    "# step 2 using the map\n",
    "k=list(map(round,f))\n",
    "# step 3 print the list\n",
    "k\n"
   ]
  },
  {
   "cell_type": "code",
   "execution_count": null,
   "id": "15005d9f-c9b7-48ac-a982-5c55aac25623",
   "metadata": {},
   "outputs": [],
   "source": [
    "                                               TOPIC-Reduce"
   ]
  },
  {
   "cell_type": "code",
   "execution_count": null,
   "id": "6e9334ef-a0b1-4f07-9732-44806703a6ae",
   "metadata": {},
   "outputs": [],
   "source": [
    "1.What is the `reduce()` function in Python, and what module should you import to use it? Provide an example of its basic usage.\n"
   ]
  },
  {
   "cell_type": "code",
   "execution_count": null,
   "id": "43926f17-ce99-4e86-addc-97be71892e7d",
   "metadata": {},
   "outputs": [],
   "source": [
    "reduce() function it is used for performing a cmulative  computation,It  use 'function' module\n",
    "on a list of values .the 'reduce()' function  takes two arguements , a function  that take two arguements\n",
    "and an iterable (e.g, list).\n",
    "EXAMPLE Below :"
   ]
  },
  {
   "cell_type": "code",
   "execution_count": 1,
   "id": "ffcda1d0-2990-438b-ab52-66fea57583b0",
   "metadata": {},
   "outputs": [
    {
     "name": "stdout",
     "output_type": "stream",
     "text": [
      "170\n"
     ]
    }
   ],
   "source": [
    "from functools import reduce\n",
    "# step 1 sample list \n",
    "m=[1,2,34,56,77]\n",
    "# step 2 define the binary function to add numbers\n",
    "def add(q,r):\n",
    "    return q+r\n",
    "# step 3 use reduce \n",
    "sum=reduce(add,m)\n",
    "print(sum)\n"
   ]
  },
  {
   "cell_type": "code",
   "execution_count": null,
   "id": "f4533f33-df2b-4742-a2ae-5e69662b80ee",
   "metadata": {},
   "outputs": [],
   "source": [
    "2.Write a Python program that uses the `reduce()` function to find the product of all elements in a list."
   ]
  },
  {
   "cell_type": "code",
   "execution_count": 6,
   "id": "edc21fd6-7d35-4d1c-8abb-9181cb7049b6",
   "metadata": {},
   "outputs": [
    {
     "data": {
      "text/plain": [
       "868320"
      ]
     },
     "execution_count": 6,
     "metadata": {},
     "output_type": "execute_result"
    }
   ],
   "source": [
    "from functools import reduce\n",
    "# step 1  creating  the sample list\n",
    "s=[12,3,45,67,8]\n",
    "# step 2 creating the founction for product \n",
    "def product(a,b):\n",
    "    return a*b\n",
    "# step 3  use reduce\n",
    "product=reduce(product, s)\n",
    "\n",
    "product\n"
   ]
  },
  {
   "cell_type": "code",
   "execution_count": null,
   "id": "d054139f-54b7-4bb4-b2ff-9c16614a3ed0",
   "metadata": {},
   "outputs": [],
   "source": [
    "3.Create a Python program that uses `reduce()` to find the maximum element in a list of numbers."
   ]
  },
  {
   "cell_type": "code",
   "execution_count": 8,
   "id": "54a76843-fed8-4a69-ba19-37a184c6dd2a",
   "metadata": {},
   "outputs": [
    {
     "data": {
      "text/plain": [
       "9000"
      ]
     },
     "execution_count": 8,
     "metadata": {},
     "output_type": "execute_result"
    }
   ],
   "source": [
    "from functools import reduce\n",
    "#step 1   creating the  sample list\n",
    "p=[12,34,56,788,9000]\n",
    "# step 2  creating the function to find the maximum\n",
    "def maxi(x,y):\n",
    "    return  x if x>y else y\n",
    "# step  2 using the reduce founction \n",
    "maximum=reduce(maxi,p)\n",
    "maximum"
   ]
  },
  {
   "cell_type": "code",
   "execution_count": null,
   "id": "e59f5783-6850-461b-b7fb-b8d33a8dae9e",
   "metadata": {},
   "outputs": [],
   "source": [
    "4.How can you use the `reduce()` function to concatenate a list of strings into a single string?"
   ]
  },
  {
   "cell_type": "code",
   "execution_count": 10,
   "id": "8933a96b-8be3-4b7c-b053-b2e1fc2e54ee",
   "metadata": {},
   "outputs": [
    {
     "data": {
      "text/plain": [
       "'AmritRajawatVibhu'"
      ]
     },
     "execution_count": 10,
     "metadata": {},
     "output_type": "execute_result"
    }
   ],
   "source": [
    "from functools import reduce\n",
    "# STEP 1 creating the sample list of  strings\n",
    "s=[\"Amrit\", \"Rajawat\", \"Vibhu\", ]\n",
    "# step 2  creating the founction to concatenate\n",
    "def concatenate(q,r):\n",
    "    return q+r\n",
    "# step 3  creating the map founction\n",
    "sol=reduce(concatenate,s)\n",
    "sol"
   ]
  },
  {
   "cell_type": "code",
   "execution_count": null,
   "id": "1b46c0a7-472b-41cc-a2b8-58547f71c588",
   "metadata": {},
   "outputs": [],
   "source": [
    "5.Write a Python program that calculates the factorial of a number using the `reduce()` function."
   ]
  },
  {
   "cell_type": "code",
   "execution_count": 11,
   "id": "dde06961-c034-4c31-9f6d-d89f53f0d489",
   "metadata": {},
   "outputs": [
    {
     "name": "stdin",
     "output_type": "stream",
     "text": [
      "Enter a number:  8\n"
     ]
    },
    {
     "name": "stdout",
     "output_type": "stream",
     "text": [
      "The factorial of 8 is 40320\n"
     ]
    }
   ],
   "source": [
    "from functools import reduce\n",
    "\n",
    "# step 1  Define a binary function to calculate the factorial of a number\n",
    "def calculate_factorial(x, y):\n",
    "    return x * y\n",
    "\n",
    "#  step 2 Function to calculate the factorial of a given number\n",
    "def factorial(n):\n",
    "    return reduce(calculate_factorial, range(1, n + 1), 1)\n",
    "\n",
    "#  step 3 Input: the number for which you want to calculate the factorial\n",
    "number = int(input(\"Enter a number: \"))\n",
    "\n",
    "#  step 4 Check if the number is non-negative\n",
    "if number < 0:\n",
    "    print(\"Factorial is not defined for negative numbers.\")\n",
    "else:\n",
    "    result = factorial(number)\n",
    "    print(f\"The factorial of {number} is {result}\")"
   ]
  },
  {
   "cell_type": "code",
   "execution_count": null,
   "id": "420db843-8031-4201-a0dc-0f4fe7faa970",
   "metadata": {},
   "outputs": [],
   "source": [
    "6.Create a Python program that uses `reduce()` to find the GCD (Greatest Common Divisor) of a list of numbers.\n"
   ]
  },
  {
   "cell_type": "code",
   "execution_count": 15,
   "id": "2c5d8795-cb0c-4c5d-93c5-d98dc781d6d0",
   "metadata": {},
   "outputs": [
    {
     "name": "stdout",
     "output_type": "stream",
     "text": [
      "The GCD of the numbers is: 12\n"
     ]
    }
   ],
   "source": [
    "from functools import reduce\n",
    "from math import gcd\n",
    "\n",
    "# List of numbers\n",
    "numbers = [36, 48, 60, 72, 84]\n",
    "\n",
    "# Define a binary function to find the GCD of two numbers\n",
    "def find_gcd(x, y):\n",
    "    return gcd(x, y)\n",
    "\n",
    "# Use reduce() to find the GCD of the numbers\n",
    "gcd_result = reduce(find_gcd, numbers)\n",
    "\n",
    "print(\"The GCD of the numbers is:\", gcd_result)"
   ]
  },
  {
   "cell_type": "code",
   "execution_count": null,
   "id": "17b07e68-cd3b-4d34-a19b-f3d434487312",
   "metadata": {},
   "outputs": [],
   "source": [
    "7.Write a Python program that uses the `reduce()` function to find the sum of the digits of a given number."
   ]
  },
  {
   "cell_type": "code",
   "execution_count": 20,
   "id": "93782ec3-a4fb-46a5-bb2b-4e3d70b9f3c8",
   "metadata": {},
   "outputs": [
    {
     "name": "stdin",
     "output_type": "stream",
     "text": [
      "enter a number: 89\n"
     ]
    },
    {
     "name": "stdout",
     "output_type": "stream",
     "text": [
      "17\n"
     ]
    }
   ],
   "source": [
    "# step 1 creating the founction  to find the sum of digits\n",
    "def sum_digits(a,b):\n",
    "    return a+b\n",
    "# step 2  functuion to calcilate the sum of digits  of a number\n",
    "def sum_of(numbers):\n",
    "    # step 3 converting them to string \n",
    "    num_str=str(numbers)\n",
    "    # step 4  using the reduce\n",
    "    return reduce(sum_digits,[int(digit) for digit in num_str])\n",
    "\n",
    "numbers= int(input(\"enter a number:\"))\n",
    "\n",
    "results = sum_of(numbers)\n",
    "print(results)\n"
   ]
  },
  {
   "cell_type": "code",
   "execution_count": null,
   "id": "0ca2703c-e558-4959-90b0-5984a5b4bd20",
   "metadata": {},
   "outputs": [],
   "source": [
    "                                        Topic -filter "
   ]
  },
  {
   "cell_type": "code",
   "execution_count": null,
   "id": "89f4de6f-7eee-4c54-9a18-7aae99f3bd7d",
   "metadata": {},
   "outputs": [],
   "source": [
    "1.Explain the purpose of the `filter()` function in Python and provide an example of how it can be used to filter elements from an iterable."
   ]
  },
  {
   "cell_type": "code",
   "execution_count": null,
   "id": "7857c384-ab03-4021-a24b-946ec3d66994",
   "metadata": {},
   "outputs": [],
   "source": [
    "ANS:\n",
    "The filter() function in python  is used to filter  function  in python  is used  to filter  elements from an iterable \n",
    "(e.g, a list ,tuple, or  other iterable ) bsed   on givven function or condition.\n",
    "it returns a new iterable  containing  only elements for function.\n",
    "Syntax:\n",
    "    filter(function, iterable)\n",
    "    \n",
    "Example Below:"
   ]
  },
  {
   "cell_type": "code",
   "execution_count": 22,
   "id": "d52634e5-05e4-4eca-8fbe-00fec6b7bc0c",
   "metadata": {},
   "outputs": [
    {
     "name": "stdout",
     "output_type": "stream",
     "text": [
      "[99909, 99, 33]\n"
     ]
    }
   ],
   "source": [
    "# step 1 creating the sample list\n",
    "numbers=[35456,8,99909, 99,33]\n",
    "# step 2 founction  to fiter odd number\n",
    "def is_odd(number):\n",
    "    return number%2!=0\n",
    "# use filter () to even numbers\n",
    "odd_num=list(filter(is_odd,numbers))\n",
    "print(odd_num)"
   ]
  },
  {
   "cell_type": "code",
   "execution_count": null,
   "id": "5febd217-31bf-488b-95f2-fdc9282686b8",
   "metadata": {},
   "outputs": [],
   "source": [
    "2.Write a Python program that uses the `filter()` function to select even numbers from a list of integers."
   ]
  },
  {
   "cell_type": "code",
   "execution_count": 23,
   "id": "b54a0f4d-ed65-473d-93f3-dbca92133f7d",
   "metadata": {},
   "outputs": [
    {
     "name": "stdout",
     "output_type": "stream",
     "text": [
      "[35456, 8]\n"
     ]
    }
   ],
   "source": [
    "# step 1 creating the sample list\n",
    "numbers=[35456,8,99909, 99,33]\n",
    "# step 2 founction  to fiter enven number\n",
    "def is_even(number):\n",
    "    return number%2==0\n",
    "# use filter () to even numbers\n",
    "even_num=list(filter(is_even,numbers))\n",
    "print(even_num)"
   ]
  },
  {
   "cell_type": "code",
   "execution_count": null,
   "id": "9a94e626-fc89-441e-8d92-9501a887a71b",
   "metadata": {},
   "outputs": [],
   "source": [
    "3.Create a Python program that uses the `filter()` function to select names that start with a specific letter from a list of strings.\n"
   ]
  },
  {
   "cell_type": "code",
   "execution_count": 3,
   "id": "957fa508-0459-46f9-8bf6-5d7791d4b294",
   "metadata": {},
   "outputs": [
    {
     "name": "stdout",
     "output_type": "stream",
     "text": [
      "Names starting with 'g': ['goat']\n"
     ]
    }
   ],
   "source": [
    "def filter_names_starting_with_letter(names, letter):\n",
    "    filtered_names = filter(lambda name: name.startswith(letter), names)\n",
    "    return list(filtered_names)\n",
    "\n",
    "# sample l List of names\n",
    "names_list = [\"virat\", \"smith\", \"amrit\", \"goat\", \"messi\", \"cristiano\"]\n",
    "\n",
    "# letter to filter names\n",
    "starting_letter = \"g\"\n",
    "\n",
    "# Filtering names starting with the given letter\n",
    "filtered_names = filter_names_starting_with_letter(names_list, starting_letter)\n",
    "\n",
    "# Displaying the filtered names\n",
    "print(f\"Names starting with '{starting_letter}': {filtered_names}\")\n"
   ]
  },
  {
   "cell_type": "code",
   "execution_count": null,
   "id": "71f16131-96ad-4981-add6-5fd8ad43315a",
   "metadata": {},
   "outputs": [],
   "source": [
    "4.Write a Python program that uses the `filter()` function to select prime numbers from a list of integers."
   ]
  },
  {
   "cell_type": "code",
   "execution_count": 6,
   "id": "45289d89-4d98-4982-90bd-910f3115f129",
   "metadata": {},
   "outputs": [
    {
     "name": "stdout",
     "output_type": "stream",
     "text": [
      "[3]\n"
     ]
    }
   ],
   "source": [
    "# step 1 creating the founction to find the prime numbers\n",
    "def is_prime(k):\n",
    "    if k<1:\n",
    "        return false\n",
    "    for i in range(2, int(k**0.5)+1):\n",
    "        if k%i==0:\n",
    "            return False\n",
    "    return True\n",
    "# step 2 using the filter method to filter the prime numbers\n",
    "def filterprime(numbe):\n",
    "    prime=filter(is_prime,numbe)\n",
    "    return list(prime)\n",
    "#step3 creating the sample list of integers for prime number\n",
    "integer_list=[12,3,4,5667,122,111,5678]\n",
    "# step4 filtering the proime numbers\n",
    "filtered=filterprime(integer_list)\n",
    "# step5 result\n",
    "print(filtered)"
   ]
  },
  {
   "cell_type": "code",
   "execution_count": null,
   "id": "85b56c48-d9b0-4977-b95a-4d5939e052c7",
   "metadata": {},
   "outputs": [],
   "source": [
    "5.How can you use the `filter()` function to remove None values from a list in Python?"
   ]
  },
  {
   "cell_type": "code",
   "execution_count": 7,
   "id": "74b11694-8df7-46b8-8710-3ca527db50c4",
   "metadata": {},
   "outputs": [
    {
     "name": "stdout",
     "output_type": "stream",
     "text": [
      "[1, 'Hello', 5, 7, 9]\n"
     ]
    }
   ],
   "source": [
    "# step 1 creating the sample list\n",
    "list1=[1,None, \"Hello\",5,None,7,None, 9]\n",
    "# step2 using the filter to remove non valus\n",
    "filtered_list=list(filter(None, list1))\n",
    "# step 3 displaying the filter list\n",
    "print(filtered_list)"
   ]
  },
  {
   "cell_type": "code",
   "execution_count": null,
   "id": "0a6d6b13-968f-4c28-8e21-00d68182c5d7",
   "metadata": {},
   "outputs": [],
   "source": [
    "6.Create a Python program that uses `filter()` to select words longer than a certain length from a list of strings."
   ]
  },
  {
   "cell_type": "code",
   "execution_count": 9,
   "id": "79cd6fa9-390e-4530-bbcd-09a679616d64",
   "metadata": {},
   "outputs": [
    {
     "name": "stdout",
     "output_type": "stream",
     "text": [
      "['Rajawat', 'krishana']\n"
     ]
    }
   ],
   "source": [
    "# step1 creating the sample list of strings\n",
    "s1=[\"amrit\", \"Rajawat\", \"radha\", \"krishana\"]\n",
    "# step2   that minimum length\n",
    "o=5\n",
    "# step3 creating the founction \n",
    "def longerstring(w,p):\n",
    "    filt=filter(lambda word: len(word)>p, w )\n",
    "    return list(filt)\n",
    "# step4 filtering the words\n",
    "filteru=longerstring(s1,o)\n",
    "# step 5 \n",
    "print(filteru)\n",
    "    \n"
   ]
  },
  {
   "cell_type": "code",
   "execution_count": null,
   "id": "d38c9d3a-6b9b-4b1f-b83b-361cb05c0b79",
   "metadata": {},
   "outputs": [],
   "source": [
    "7.Write a Python program that uses the `filter()` function to select elements greater than a specified threshold from a list of values.\n"
   ]
  },
  {
   "cell_type": "code",
   "execution_count": 13,
   "id": "b801e1fe-03fd-4969-b92d-11410ea5f3ce",
   "metadata": {},
   "outputs": [
    {
     "name": "stdout",
     "output_type": "stream",
     "text": [
      "Values greater than 20: [45, 89, 90, 30, 50]\n"
     ]
    }
   ],
   "source": [
    "# step 1  creating the founction\n",
    "def filter_greater_than_threshold(values, threshold):\n",
    "    filtered_values = filter(lambda x: x > threshold, values)\n",
    "    return list(filtered_values)\n",
    "\n",
    "# step 2  List of values\n",
    "valu = [45,89,90, 30, 50, 3, 18]\n",
    "\n",
    "#  step 3 Threshold value\n",
    "threshold = 20\n",
    "\n",
    "#  step 4 Filtering values greater than the threshold\n",
    "filtered_values = filter_greater_than_threshold(valu, threshold)\n",
    "\n",
    "# step 5  Displaying the filtered values\n",
    "print(f\"Values greater than {threshold_value}: {filtered_values}\")\n",
    "\n",
    "            \n"
   ]
  },
  {
   "cell_type": "code",
   "execution_count": null,
   "id": "2c2d6dd0-bb8a-4d6a-9864-264bb5f86ee7",
   "metadata": {},
   "outputs": [],
   "source": [
    "                                                            TOPIC-> Recursion:"
   ]
  },
  {
   "cell_type": "code",
   "execution_count": null,
   "id": "330b065a-f970-46d0-9508-e33fa10432fb",
   "metadata": {},
   "outputs": [],
   "source": [
    "1.Explain the concept of recursion in Python. How does it differ from iteration?"
   ]
  },
  {
   "cell_type": "code",
   "execution_count": null,
   "id": "866d347e-af6a-4c9d-9962-0bbe6bf278c2",
   "metadata": {},
   "outputs": [],
   "source": [
    "ANS: Recursion is a technique in which a function calls itself in its body to solve the problem, \n",
    "typically breaking into smaller and more manageable sub-problems.  Yes its diffrent from iteration let's see how\n",
    "1.In recursion founction call itself directly or indirectly\n",
    "1.In iteraton some set instruction are executed repeatedly\n",
    "2.RECURSION.Implemented using the function calls\n",
    "2.ITERATION.Implemented using the loops\n",
    "3.RECURSION.Defined by perimeter stored in stack\n",
    "3.Iteration.Defined by the value of control variable\n",
    "4.Recursion.slower in execution\n",
    "4.Iteration.Fster in Execution"
   ]
  },
  {
   "cell_type": "code",
   "execution_count": null,
   "id": "874ca71f-7ae0-4665-a29d-430a19983d25",
   "metadata": {},
   "outputs": [],
   "source": [
    "2.Write a Python program to calculate the factorial of a number using recursion."
   ]
  },
  {
   "cell_type": "code",
   "execution_count": 10,
   "id": "804d6f26-ed80-47bc-9d2e-2777f05dc3e7",
   "metadata": {},
   "outputs": [
    {
     "data": {
      "text/plain": [
       "40320"
      ]
     },
     "execution_count": 10,
     "metadata": {},
     "output_type": "execute_result"
    }
   ],
   "source": [
    "# step 1 creating the founction  for a factorial\n",
    "def fact(n):\n",
    "# step 2 using the if - else condition\n",
    "    if n==0:\n",
    "        return 1\n",
    "    else:\n",
    "        return n*fact(n-1)\n",
    "# step 3 result\n",
    "fact(8)\n",
    "    "
   ]
  },
  {
   "cell_type": "markdown",
   "id": "beaad5d3-1468-4dc7-a1e3-2c79a5d8a88f",
   "metadata": {},
   "source": [
    "3.Create a recursive Python function to find the nth Fibonacci number"
   ]
  },
  {
   "cell_type": "code",
   "execution_count": 15,
   "id": "1896e7a1-f5ac-490a-b74e-feaadcbf05ad",
   "metadata": {},
   "outputs": [
    {
     "data": {
      "text/plain": [
       "15"
      ]
     },
     "execution_count": 15,
     "metadata": {},
     "output_type": "execute_result"
    }
   ],
   "source": [
    "# step1 crearing the founction for recursion\n",
    "def fib(n):\n",
    "# step 2 creating the base condition\n",
    "    if n==0:\n",
    "        return 0\n",
    "    else:\n",
    "        return n+fib(n-1)\n",
    "# step 3 using the founction\n",
    "fib(5)        "
   ]
  },
  {
   "cell_type": "code",
   "execution_count": null,
   "id": "7f2c6a8c-5d45-48d9-a637-aba030d5c982",
   "metadata": {},
   "outputs": [],
   "source": [
    "4.Write a recursive Python function to calculate the sum of all elements in a list."
   ]
  },
  {
   "cell_type": "code",
   "execution_count": 24,
   "id": "663b7f06-8f94-44a0-b14f-37d880d71931",
   "metadata": {},
   "outputs": [
    {
     "name": "stdout",
     "output_type": "stream",
     "text": [
      "15\n"
     ]
    }
   ],
   "source": [
    "# step 1 creating the recursive founction \n",
    "def sumi(lt):\n",
    "    if not lt:  #  step2  Base case: if the list is empty, return 0\n",
    "        return 0\n",
    "    else:\n",
    "        return lt[0] + sumi(lt[1:])  #  step 3 Add the first element to the sum of the rest of the list\n",
    "\n",
    "#  step 4 sample  list\n",
    "my_list = [1, 2, 3, 4, 5]\n",
    "\n",
    "#  step 5 Calculating the sum of the list using the recursive function\n",
    "result = sumi(my_list)\n",
    "print(result)\n",
    "\n",
    "    \n",
    "    "
   ]
  },
  {
   "cell_type": "code",
   "execution_count": null,
   "id": "1fa0c7c7-8882-4287-98ef-b70d62754d92",
   "metadata": {},
   "outputs": [],
   "source": [
    "5.How can you prevent a recursive function from running indefinitely, causing a stack overflow error?\n"
   ]
  },
  {
   "cell_type": "code",
   "execution_count": null,
   "id": "2d0c679e-bcd6-4b14-99f1-54ca86adda8f",
   "metadata": {},
   "outputs": [],
   "source": [
    "Ans : we can prevent a recursive founction from running  indiginietly\n",
    "1. Base Case:\n",
    "    There must be a  base case which act as a an exit  condition\n",
    "    This base case designed so that function stops callinfg itself when it's met.\n",
    "2. Limiting Depth or iterations :\n",
    "    Implement  counter or depth limit to restrict the number of recursive calls.\n",
    "    it ensure function stop recursing after certain number of iterations.\n",
    "3. Optimizing the tail recursion:\n",
    "    Tail recursion is a type of recursion where the recursive call is the last thing the function does. This can be optimized to avoid using the stack,\n",
    "    which can prevent a stack overflow.\n",
    "4.  Limit recursion depth:\n",
    "    You can set a limit on the number of times a recursive function can call itself. This \n",
    "    can prevent the function from calling itself too many times and causing a stack overflow.\n",
    "    \n",
    "    "
   ]
  },
  {
   "cell_type": "code",
   "execution_count": null,
   "id": "fa2232dc-89e1-43da-8a75-0742b62d59f4",
   "metadata": {},
   "outputs": [],
   "source": [
    "6.Create a recursive Python function to find the greatest common divisor (GCD) of two numbers using the Euclidean algorithm."
   ]
  },
  {
   "cell_type": "code",
   "execution_count": 8,
   "id": "4475e858-6b7d-4bb3-911f-d4dd08a74866",
   "metadata": {},
   "outputs": [
    {
     "name": "stdout",
     "output_type": "stream",
     "text": [
      "The GCD of 12 and 224 is 4\n"
     ]
    }
   ],
   "source": [
    "# step 1 defining the  recursive founction with the help of Gcd\n",
    "def gcd(m,n):\n",
    "# step 2 creating the base condition by using the if else \n",
    "    if n == 0:\n",
    "        return m\n",
    "    else:\n",
    "        return gcd(n,m%n)\n",
    "# step 3   example usage\n",
    "k=224\n",
    "l=12\n",
    "result=gcd(k,l)\n",
    "print(f\"The GCD of {l} and {k} is {result}\")\n",
    "\n",
    "        "
   ]
  },
  {
   "cell_type": "code",
   "execution_count": null,
   "id": "2970e762-7b97-4777-bbab-7e0b8e081a99",
   "metadata": {},
   "outputs": [],
   "source": [
    "7.Write a recursive Python function to reverse a string."
   ]
  },
  {
   "cell_type": "code",
   "execution_count": 4,
   "id": "8be06d5f-a494-4160-8ab5-0363b1fcf332",
   "metadata": {},
   "outputs": [
    {
     "name": "stdout",
     "output_type": "stream",
     "text": [
      "tirma\n"
     ]
    }
   ],
   "source": [
    "# step 1 creating the recursive founction \n",
    "def reverse_string(l):\n",
    "# step 2  creating the base condition using the if -else \n",
    "    if len(l) <= 1:\n",
    "        return l\n",
    "    else:\n",
    "        return reverse_string(l[1:]) + l[0]\n",
    "# step 3 example usage\n",
    "v=\"amrit\"\n",
    "result=reverse_string(v)\n",
    "print(result)"
   ]
  },
  {
   "cell_type": "code",
   "execution_count": null,
   "id": "3b06c7a0-9022-40af-96de-5397545b87b6",
   "metadata": {},
   "outputs": [],
   "source": [
    "8.Create a recursive Python function to calculate the power of a number (x^n)."
   ]
  },
  {
   "cell_type": "code",
   "execution_count": 7,
   "id": "50e9c237-c7cb-4fff-a673-013b86bfee03",
   "metadata": {},
   "outputs": [
    {
     "name": "stdout",
     "output_type": "stream",
     "text": [
      "2 raised to the power of 5 is: 32\n"
     ]
    }
   ],
   "source": [
    "# step1 defing the recursive founction \n",
    "def power(x, n):\n",
    "# step 2  using the if- else condition\n",
    "    if n == 0:\n",
    "        return 1\n",
    "    elif n > 0:\n",
    "        return x * power(x, n - 1)\n",
    "    else:\n",
    "        return 1 / power(x, -n)\n",
    "\n",
    "# Example usage:\n",
    "base = 2\n",
    "exponent = 5\n",
    "result = power(base, exponent)\n",
    "print(f\"{base} raised to the power of {exponent} is: {result}\")\n"
   ]
  },
  {
   "cell_type": "code",
   "execution_count": null,
   "id": "68a8488d-dfb2-4dce-ba71-54450b711ec1",
   "metadata": {},
   "outputs": [],
   "source": [
    "9.Write a recursive Python function to find all permutations of a given string."
   ]
  },
  {
   "cell_type": "code",
   "execution_count": 9,
   "id": "f8cb68bc-42bd-49ed-9d54-4875819f28c5",
   "metadata": {},
   "outputs": [
    {
     "name": "stdout",
     "output_type": "stream",
     "text": [
      "Permutations of 'tim': ['tim', 'tmi', 'itm', 'imt', 'mti', 'mit']\n"
     ]
    }
   ],
   "source": [
    "# step1 creating the  recursive founction \n",
    "def permutations(string):\n",
    "    if len(string) <= 1:\n",
    "        return [string]\n",
    "\n",
    "    #  step 2   creating  List to store permutations\n",
    "    perms = []\n",
    "\n",
    "    for char in string:\n",
    "        #  step 3 For each character in the string, get all permutations of the remaining characters\n",
    "        remaining_chars = [x for x in string if x != char]\n",
    "        remaining_perms = permutations(''.join(remaining_chars))\n",
    "\n",
    "        # step 4  Add the current character to the beginning of each permutation of the remaining characters\n",
    "        for perm in remaining_perms:\n",
    "            perms.append(char + perm)\n",
    "\n",
    "    return perms\n",
    "\n",
    "# Example usage:\n",
    "input_string = \"tim\"\n",
    "result = permutations(input_string)\n",
    "print(f\"Permutations of '{input_string}': {result}\")\n"
   ]
  },
  {
   "cell_type": "code",
   "execution_count": null,
   "id": "f836c741-b7fe-4322-bed4-28c4649d874a",
   "metadata": {},
   "outputs": [],
   "source": [
    "10.Write a recursive Python function to check if a string is a palindrome"
   ]
  },
  {
   "cell_type": "code",
   "execution_count": 13,
   "id": "30bef9a5-5c00-4a97-b231-ec85341f0dce",
   "metadata": {},
   "outputs": [
    {
     "data": {
      "text/plain": [
       "True"
      ]
     },
     "execution_count": 13,
     "metadata": {},
     "output_type": "execute_result"
    }
   ],
   "source": [
    "# step1  creating the  recursive founction  for checking the pallindrome\n",
    "def ispallindrome(s):\n",
    "# step 2 using the if -else condition \n",
    "    if len(s)<=1:\n",
    "         return True\n",
    "    else:\n",
    "# step 3  checking the first and last chracter in a  string \n",
    "        if s[0]==s[-1]:\n",
    "# step 4  Recursively  check if substring excluding  first and last chracters in a paliindrome \n",
    "            return ispallindrome(s[1:-1])\n",
    "        else:\n",
    "            return False\n",
    "# example uasge:\n",
    "d=\"naman\"\n",
    "ispallindrome(d)\n",
    "        \n",
    "        \n",
    "    \n",
    "    "
   ]
  },
  {
   "cell_type": "code",
   "execution_count": null,
   "id": "46537275-87de-48ec-b272-cf998c573b5c",
   "metadata": {},
   "outputs": [],
   "source": [
    "11.Create a recursive Python function to generate all possible combinations of a list of elements."
   ]
  },
  {
   "cell_type": "code",
   "execution_count": 14,
   "id": "d147c756-c5ca-477a-9cd3-14f1ba084b62",
   "metadata": {},
   "outputs": [
    {
     "name": "stdout",
     "output_type": "stream",
     "text": [
      "Combinations of [1, 2, 3]: [[], [1], [2], [1, 2], [3], [1, 3], [2, 3], [1, 2, 3]]\n"
     ]
    }
   ],
   "source": [
    "# step1  creating the recursive founction \n",
    "def combinations(lst):\n",
    "    if len(lst) == 0:\n",
    "        return [[]]  #  step 2 Return a list with an empty list as the only element\n",
    "\n",
    "    first = lst[0]  # step 3  Get the first element\n",
    "    rest = lst[1:]  #  step 4 Get the rest of the elements\n",
    "\n",
    "    #  step 5 Recursively generate combinations without the first element\n",
    "    without_first = combinations(rest)\n",
    "\n",
    "    #  step 6 Merge the combinations without the first element with combinations including the first element\n",
    "    with_first = []\n",
    "    for combination in without_first:\n",
    "        with_first.append(combination)  # step 7 Combination without the first element\n",
    "        with_first.append([first] + combination)  #  step 8 Combination with the first element\n",
    "\n",
    "    return with_first\n",
    "\n",
    "# Example usage:\n",
    "elements = [1, 2, 3]\n",
    "result = combinations(elements)\n",
    "print(f\"Combinations of {elements}: {result}\")\n"
   ]
  },
  {
   "cell_type": "code",
   "execution_count": null,
   "id": "9e920cfe-b7f6-450c-8c30-17c94fd75b40",
   "metadata": {},
   "outputs": [],
   "source": [
    "                                        Topic->Basics of Functions"
   ]
  },
  {
   "cell_type": "code",
   "execution_count": null,
   "id": "dab419ce-2f48-48f4-b2ef-3fbd92a119d5",
   "metadata": {},
   "outputs": [],
   "source": [
    "1.What is a function in Python, and why is it used?"
   ]
  },
  {
   "cell_type": "code",
   "execution_count": null,
   "id": "2858c1d5-2132-4d12-b519-bf676ae59958",
   "metadata": {},
   "outputs": [],
   "source": [
    "Function in a python   is a  block of reusable  code that performs a specific taskpr set of tasks . \n",
    "Function is used for various reasons:\n",
    "1.Modularity and Resusablity:Function allow you to breaak down a complex task\n",
    "into smaller , mangeable parts. once defined a function can be multiple time from diffrent parts of a program\n",
    "2.Abstraction:Function hide  the deatails of the implementaion  allowing you to use them without needing to know \n",
    "how they work internally .This  abstraction  simplifies the overall Structure   of the code \n",
    "3.Organization:  Functions help in organizing code by grouping related functionality together. This improves  code readablity and makes\n",
    "it esier to debug.\n",
    "4. code Readablity: Functions with descriptive names can make the code self-explanatory. Well-named functions convey the purpose of their operation,\n",
    "making the code more understandable to others and your future self.\n"
   ]
  },
  {
   "cell_type": "code",
   "execution_count": null,
   "id": "4c2a2e95-6022-4c2f-b4a2-dfb74af7c385",
   "metadata": {},
   "outputs": [],
   "source": [
    "2.How do you define a function in Python? Provide an example."
   ]
  },
  {
   "cell_type": "code",
   "execution_count": null,
   "id": "3af907bb-ded2-4a67-879e-6c731a63ddae",
   "metadata": {},
   "outputs": [],
   "source": [
    "Ans : In python founction  using the def keyword followed by the founction name  , parameters with parenthesisand and colon\n",
    "Example : Below"
   ]
  },
  {
   "cell_type": "code",
   "execution_count": 1,
   "id": "fad29a6a-078b-4a69-9c66-5b2a69834d33",
   "metadata": {},
   "outputs": [
    {
     "name": "stdout",
     "output_type": "stream",
     "text": [
      "8\n"
     ]
    }
   ],
   "source": [
    "# Define a function to add two numbers\n",
    "def add_numbers(m, n):\n",
    "    return m + n\n",
    "\n",
    "# Call the function\n",
    "result = add_numbers(5, 3)\n",
    "print(result)  # Output will be 8\n"
   ]
  },
  {
   "cell_type": "code",
   "execution_count": null,
   "id": "8c16ca49-c1e6-4948-b22b-4370af95dd6f",
   "metadata": {},
   "outputs": [],
   "source": [
    "3.Explain the difference between a function definition and a function call."
   ]
  },
  {
   "cell_type": "code",
   "execution_count": null,
   "id": "37015cb5-557e-4ec3-b486-7db0931a4de0",
   "metadata": {},
   "outputs": [],
   "source": [
    "1. Function Defination :From here one create a function and define its behaviour it involves\n",
    "specifying  the founction  and define  its behaviour .it involves specifying the founction name\n",
    "parameters  and actions it will perform when called. IN python we called 'def' keyword.\n",
    "it's followed  by founction name , parameters within parenthesis and a colon.\n",
    "example BELOW:"
   ]
  },
  {
   "cell_type": "code",
   "execution_count": null,
   "id": "04094c5f-7c7f-48dc-81ed-ed83437be57f",
   "metadata": {},
   "outputs": [],
   "source": [
    "def greet(name):\n",
    "    print(f\"Hello, {name}!\")"
   ]
  },
  {
   "cell_type": "code",
   "execution_count": null,
   "id": "3d6ebdc9-2a7f-48a2-8113-bd26fa5c31a7",
   "metadata": {},
   "outputs": [],
   "source": [
    "2. Function call: This when  you invoke or defined  function  in your code when you call a founction ,\n",
    "you are  telling the founction the program  to  execute code within founction defination \n",
    "example BElOW:"
   ]
  },
  {
   "cell_type": "code",
   "execution_count": null,
   "id": "2a7867c4-e646-41c1-b13b-d75586038057",
   "metadata": {},
   "outputs": [],
   "source": [
    "greet(\"Alice\")  # This is a function call"
   ]
  },
  {
   "cell_type": "code",
   "execution_count": null,
   "id": "699e7e5e-05e6-4bc4-918c-46f431bf4e76",
   "metadata": {},
   "outputs": [],
   "source": [
    "4.Write a Python program that defines a function to calculate the sum of two numbers and then calls the function"
   ]
  },
  {
   "cell_type": "code",
   "execution_count": 2,
   "id": "6306af10-2fc4-4c57-b262-16662b69e254",
   "metadata": {},
   "outputs": [
    {
     "data": {
      "text/plain": [
       "57"
      ]
     },
     "execution_count": 2,
     "metadata": {},
     "output_type": "execute_result"
    }
   ],
   "source": [
    "#ans\n",
    "# step 1  defining the founction for addition\n",
    "def sumo(a,b):\n",
    "    return a+b\n",
    "# step 2 calling the founction \n",
    "sumo(23,34)\n"
   ]
  },
  {
   "cell_type": "code",
   "execution_count": null,
   "id": "8201aba8-afb3-40f3-887f-2e8348efc76c",
   "metadata": {},
   "outputs": [],
   "source": [
    "5.What is a function signature, and what information does it typically include?"
   ]
  },
  {
   "cell_type": "markdown",
   "id": "8fa48b85-aa9b-48ba-b2cc-10a79ef3fed7",
   "metadata": {},
   "source": [
    "# Ans:\n",
    "A function signature refers to the part of a functions declaration or definition that specifies its interface — essentially, it describes the function's name,\n",
    "parameters (including their types), return type (if any), and sometimes the function's visibility or access level.\n",
    "Information  it Include"
   ]
  },
  {
   "cell_type": "code",
   "execution_count": null,
   "id": "99d5fea8-9fb7-4fba-b73a-e4b68845db70",
   "metadata": {},
   "outputs": [],
   "source": [
    "1.Function Name : The Name  of the founction  which uniquely  identifies it within the scope of progrma\n",
    "2. Retrun type : The data type of the Value  that that founction returns\n",
    "3. Parameter or Arguements:he type and number of parameters the function accepts, along with their names (if available). Parameters \n",
    "are the values passed to the function for it to work with during execution"
   ]
  },
  {
   "cell_type": "code",
   "execution_count": null,
   "id": "dd366e07-5db0-448d-83e3-73fecd609369",
   "metadata": {},
   "outputs": [],
   "source": [
    "6.Create a Python function that takes two arguments and returns their product.\n"
   ]
  },
  {
   "cell_type": "code",
   "execution_count": 2,
   "id": "21dba069-47b7-40f5-99d8-34a89f2cb582",
   "metadata": {},
   "outputs": [
    {
     "data": {
      "text/plain": [
       "15"
      ]
     },
     "execution_count": 2,
     "metadata": {},
     "output_type": "execute_result"
    }
   ],
   "source": [
    "# step 1 defing the founction \n",
    "def producti(a,b):\n",
    "    return a*b\n",
    "# step 2 calling the founction \n",
    "producti(3,5)"
   ]
  },
  {
   "cell_type": "code",
   "execution_count": null,
   "id": "339e9f3a-da56-47c0-90f2-e5063bbb0d83",
   "metadata": {},
   "outputs": [],
   "source": [
    "                             Topic->Function Parameters and Arguments:"
   ]
  },
  {
   "cell_type": "code",
   "execution_count": null,
   "id": "da690660-0700-4d85-8e99-b7e3167130f0",
   "metadata": {},
   "outputs": [],
   "source": [
    "1.Explain the concepts of formal parameters and actual arguments in Python functions."
   ]
  },
  {
   "cell_type": "code",
   "execution_count": null,
   "id": "4352afc1-2743-4f99-8314-7a7904516ef9",
   "metadata": {},
   "outputs": [],
   "source": [
    "Formal Parameters:\n",
    "    These are the placeholders listed in function defination, serving as the \"Variable\" that\n",
    "    will  receive the values when function is called.\n",
    "    example below:"
   ]
  },
  {
   "cell_type": "code",
   "execution_count": null,
   "id": "79bc2024-92a7-43cd-82fc-ca8e0c0c58ff",
   "metadata": {},
   "outputs": [],
   "source": [
    "def hola(tim):# tim is the formal arguement\n",
    "    print(f\"hey,{tim}!\")"
   ]
  },
  {
   "cell_type": "code",
   "execution_count": null,
   "id": "d2e80622-66b8-4168-b008-73186b18a15f",
   "metadata": {},
   "outputs": [],
   "source": [
    "Actual Arguments:These are real values that are passed toa function when\n",
    "it's called .\n",
    " example below"
   ]
  },
  {
   "cell_type": "code",
   "execution_count": null,
   "id": "2b04a40d-f419-4eed-986e-476c59abaeba",
   "metadata": {},
   "outputs": [],
   "source": [
    "hola('Amrit')# 'Amrit' is a actual arguement"
   ]
  },
  {
   "cell_type": "code",
   "execution_count": null,
   "id": "1a0bcc84-5fb8-4ef7-8ead-a8856f3b540d",
   "metadata": {},
   "outputs": [],
   "source": [
    "2.Write a Python program that defines a function with default argument values."
   ]
  },
  {
   "cell_type": "code",
   "execution_count": 1,
   "id": "d4c28909-06fc-4bc4-92c4-fa74a5464b10",
   "metadata": {},
   "outputs": [
    {
     "name": "stdout",
     "output_type": "stream",
     "text": [
      "Hello, Guest!\n",
      "Hi, Alice!\n",
      "Hello, Bob!\n"
     ]
    }
   ],
   "source": [
    "# Function with default argument values\n",
    "def greet(name=\"Guest\", message=\"Hello\"):\n",
    "    print(f\"{message}, {name}!\")\n",
    "\n",
    "# Calling the function without arguments\n",
    "greet()  # Output: Hello, Guest!\n",
    "\n",
    "# Calling the function with arguments\n",
    "greet(\"Alice\", \"Hi\")  # Output: Hi, Alice!\n",
    "greet(\"Bob\")  # Output: Hello, Bob!\n",
    "\n"
   ]
  },
  {
   "cell_type": "code",
   "execution_count": null,
   "id": "a77c3b62-cb7e-474f-bfc5-8159c2618afc",
   "metadata": {},
   "outputs": [],
   "source": [
    "3.How do you use keyword arguments in Python function calls? Provide an example."
   ]
  },
  {
   "cell_type": "code",
   "execution_count": null,
   "id": "987a0425-f45d-43af-b538-074436d6f3dd",
   "metadata": {},
   "outputs": [],
   "source": [
    "Ans: Keyword arguements in python allow  you to pass arguements to a founction\n",
    "using the parameter name ,, which make code more redaible and flexible\n",
    "Look At below:"
   ]
  },
  {
   "cell_type": "code",
   "execution_count": 5,
   "id": "40b514d9-b9d1-4d6b-95a7-06160c23a7a1",
   "metadata": {},
   "outputs": [
    {
     "name": "stdout",
     "output_type": "stream",
     "text": [
      "hi,Amrit\n",
      "hello,amrit\n",
      "hey,amrit\n"
     ]
    }
   ],
   "source": [
    "# function Defination \n",
    "def hii(name, message):\n",
    "    print(f\"{message},{name}\")\n",
    "# calling the function  using the keyword arguements\n",
    "hii(name=\"Amrit\",message=\"hi\")\n",
    "# order of Keyword arguements can be changed\n",
    "hii(message=\"hello\",name=\"amrit\")\n",
    "# Mixing positional and keyword arguements\n",
    "hii(\"amrit\",message=\"hey\")\n"
   ]
  },
  {
   "cell_type": "code",
   "execution_count": null,
   "id": "492dae01-665b-47e9-889e-811524593a37",
   "metadata": {},
   "outputs": [],
   "source": [
    "4.Create a Python function that accepts a variable number of arguments and calculates their sum.\n"
   ]
  },
  {
   "cell_type": "code",
   "execution_count": 8,
   "id": "3b48ae04-4d76-4ca7-b4f3-89486d056d18",
   "metadata": {},
   "outputs": [
    {
     "name": "stdout",
     "output_type": "stream",
     "text": [
      "202\n"
     ]
    }
   ],
   "source": [
    "# step1  creating the founction  for sum\n",
    "def calculate_sum(*args):\n",
    "    total=sum(args)\n",
    "    return total\n",
    "# step 2 example usage\n",
    "result=calculate_sum(12,23,22,145)\n",
    "print(result)\n"
   ]
  },
  {
   "cell_type": "code",
   "execution_count": null,
   "id": "ee4e962d-ef5c-40b6-a997-2c170737fe70",
   "metadata": {},
   "outputs": [],
   "source": [
    "5.What is the purpose of the `*args` and `**kwargs` syntax in function parameter lists?"
   ]
  },
  {
   "cell_type": "code",
   "execution_count": null,
   "id": "38dcaae1-4d88-4ba6-ba80-f3f70d8614f9",
   "metadata": {},
   "outputs": [],
   "source": [
    "ANS: *args  and **kwargs Syntax in python  function parameter lists \n",
    "provide flexiblity to work  with varying numbers of arguements "
   ]
  },
  {
   "cell_type": "code",
   "execution_count": null,
   "id": "84586a1f-903b-42a3-a289-102f04ea4510",
   "metadata": {},
   "outputs": [],
   "source": [
    "*args:This syntax allows a function to accept an arbitrary number of positional arguments\n",
    "Example Below:"
   ]
  },
  {
   "cell_type": "code",
   "execution_count": 9,
   "id": "eb6f90df-c121-4330-a90e-c7bf6c37e51f",
   "metadata": {},
   "outputs": [
    {
     "name": "stdout",
     "output_type": "stream",
     "text": [
      "1\n",
      "2\n",
      "3\n",
      "a\n",
      "b\n",
      "c\n",
      "d\n"
     ]
    }
   ],
   "source": [
    "#step 1 defining the founction \n",
    "def my(*args):\n",
    "# step 2 using the  for loop\n",
    "    for arg in args:\n",
    "        print(arg)\n",
    "my(1,2,3)\n",
    "my('a','b','c','d')"
   ]
  },
  {
   "cell_type": "code",
   "execution_count": null,
   "id": "54328862-19c7-4c5e-b939-20675e117825",
   "metadata": {},
   "outputs": [],
   "source": [
    "**kwargs:This syntax allows a function to accept an arbitrary number of keyword arguments.\n",
    "When you use **kwargs in a function definition, it collects any keyword arguments passed to the function into a dictionary \n",
    "where the keys are the argument names and the values are the corresponding values passed."
   ]
  },
  {
   "cell_type": "code",
   "execution_count": 10,
   "id": "586f84b1-597b-4de7-b004-ea186130495b",
   "metadata": {},
   "outputs": [
    {
     "name": "stdout",
     "output_type": "stream",
     "text": [
      "a: 1\n",
      "b: 2\n",
      "c: 3\n"
     ]
    }
   ],
   "source": [
    "# step 1 defining the founction  \n",
    "def my_function(**kwargs):\n",
    "    for key, value in kwargs.items():\n",
    "        print(f\"{key}: {value}\")\n",
    "\n",
    "my_function(a=1, b=2, c=3)  "
   ]
  },
  {
   "cell_type": "code",
   "execution_count": null,
   "id": "85bfea4b-c77d-48b5-836c-394ed3d2dc46",
   "metadata": {},
   "outputs": [],
   "source": [
    "                                TOPIC: Return Values and Scoping:"
   ]
  },
  {
   "cell_type": "code",
   "execution_count": null,
   "id": "36ce97e9-312c-4afb-8b74-52232a8d1eb3",
   "metadata": {},
   "outputs": [],
   "source": [
    "QUESTION  1.Describe the role of the `return` statement in Python functions and provide examples."
   ]
  },
  {
   "cell_type": "code",
   "execution_count": null,
   "id": "e63d9d75-3422-4a88-b477-5b1afa92d1e5",
   "metadata": {},
   "outputs": [],
   "source": [
    "Ans: The \"return\" statement  in python  function is used to exit function and return \n",
    "a value to the caller .It  allows a function  to compute a result or perform a\n",
    "task and then provide that resultor data back to the code"
   ]
  },
  {
   "cell_type": "code",
   "execution_count": null,
   "id": "d4f2054a-83a7-4822-8b62-d991fc94bded",
   "metadata": {},
   "outputs": [],
   "source": [
    "Role of return statement:\n",
    "1.Exiting The Function: When a 'retuern' statement is encountered within a function ,it immediately wxist the function and \n",
    "control is passed back to the calling code.\n",
    "2.Passing Values: 'return' is used to send a value or multiple values(in the form of tuples,lists,dictionaries,etc)  back to the caller.\n",
    "example Below:"
   ]
  },
  {
   "cell_type": "code",
   "execution_count": 2,
   "id": "2120c5fc-0fb9-4c49-9c79-bafe41c1fc5e",
   "metadata": {},
   "outputs": [
    {
     "name": "stdout",
     "output_type": "stream",
     "text": [
      "11\n"
     ]
    }
   ],
   "source": [
    "#1.Returning a single Value:\n",
    "def add(c,d):\n",
    "    result=c+d\n",
    "    return result\n",
    "sumo=add(5,6)\n",
    "print(sumo)\n"
   ]
  },
  {
   "cell_type": "code",
   "execution_count": 4,
   "id": "406c74fe-21da-4fee-b609-7c855dadcf4c",
   "metadata": {},
   "outputs": [
    {
     "name": "stdout",
     "output_type": "stream",
     "text": [
      "54\n",
      "-14\n"
     ]
    }
   ],
   "source": [
    "#2.Returning multiple values (using tuple unpacking):\n",
    "def calculate(c,d):\n",
    "    summa=c+d\n",
    "    diffe=c-d\n",
    "    return summa,diffe\n",
    "summa,diffe=calculate(20,34)\n",
    "print(summa)\n",
    "print(diffe)\n"
   ]
  },
  {
   "cell_type": "code",
   "execution_count": 7,
   "id": "42defde9-fa6e-4b3a-bfbe-0455def4b61e",
   "metadata": {},
   "outputs": [
    {
     "name": "stdout",
     "output_type": "stream",
     "text": [
      "Negative\n"
     ]
    }
   ],
   "source": [
    "#3.Returning early from a function:\n",
    "def abt(g):\n",
    "    if g>0:\n",
    "        return \"Positive\"\n",
    "    elif g<0:\n",
    "        return  \"Negative\" \n",
    "    else:\n",
    "        return \"zero\"\n",
    "result=abt(-9)\n",
    "print(result)\n",
    "        "
   ]
  },
  {
   "cell_type": "code",
   "execution_count": null,
   "id": "e39f501d-00da-4c65-916b-a322e005073c",
   "metadata": {},
   "outputs": [],
   "source": [
    "QUESTION 2.Explain the concept of variable scope in Python, including local and global variables."
   ]
  },
  {
   "cell_type": "code",
   "execution_count": null,
   "id": "7aa1ad57-b95b-4ccd-b497-3c94eb00b643",
   "metadata": {},
   "outputs": [],
   "source": [
    "1.Local  Variable:\n",
    "    LOCAL SCOPE: pertains to variables defined within a specific block, typically within a function.\n",
    "    These variables are accessible only within that block or function.\n",
    "    When a variable is defined inside a function, it's considered local to that\n",
    "    function and can't be directly accessed from outside that function.\n",
    " Example Below:   "
   ]
  },
  {
   "cell_type": "code",
   "execution_count": 14,
   "id": "f005ea8f-79d3-4fb5-9977-9bf6bf5d5284",
   "metadata": {},
   "outputs": [
    {
     "name": "stdout",
     "output_type": "stream",
     "text": [
      "10\n"
     ]
    }
   ],
   "source": [
    "def my_function():\n",
    "    x = 10  # Local variable\n",
    "    print(x)\n",
    "\n",
    "my_function()  # Output: 10\n"
   ]
  },
  {
   "cell_type": "code",
   "execution_count": null,
   "id": "a8b193ad-7312-4f1d-8d13-63130270cabe",
   "metadata": {},
   "outputs": [],
   "source": [
    "2.Global Variables: It  refers to variables that are defined outside of any function or block. These variables are\n",
    "accessible throughout the entire program."
   ]
  },
  {
   "cell_type": "code",
   "execution_count": 15,
   "id": "a451b214-6a7c-4cb7-996b-6ab93bb296ca",
   "metadata": {},
   "outputs": [
    {
     "name": "stdout",
     "output_type": "stream",
     "text": [
      "20000\n"
     ]
    }
   ],
   "source": [
    "z = 20000  # Global variable\n",
    "\n",
    "def another():\n",
    "    print(z)  # Accessing global variable 'z'\n",
    "\n",
    "another()  # Output: 20000\n"
   ]
  },
  {
   "cell_type": "code",
   "execution_count": null,
   "id": "33f3aa16-a532-403d-8940-2cf39962d243",
   "metadata": {},
   "outputs": [],
   "source": [
    "QUESTION 3:Write a Python program that demonstrates the use of global variables within functions."
   ]
  },
  {
   "cell_type": "code",
   "execution_count": 18,
   "id": "90d839ac-df0b-4732-83fb-fa02be03c715",
   "metadata": {},
   "outputs": [
    {
     "name": "stdout",
     "output_type": "stream",
     "text": [
      "1\n"
     ]
    }
   ],
   "source": [
    "# Define a global variable\n",
    "g=9\n",
    "def set_globvar_to():\n",
    "    #use the global keyword  to modify the global variable\n",
    "    global g\n",
    "    g=1\n",
    "def print_globe():\n",
    "    #no need for the global keyword to read  the global varaible\n",
    "    print(g)\n",
    "# call the functions\n",
    "set_globvar_to()\n",
    "print_globe()\n",
    "    "
   ]
  },
  {
   "cell_type": "code",
   "execution_count": null,
   "id": "f49baa75-d7a6-437c-b9ca-d98f862f7984",
   "metadata": {},
   "outputs": [],
   "source": [
    "Using global within a function allows modification of a variable that exists in the global scope, \n",
    "but it's often considered better practice to avoid global variables when possible, as they can make code harder to understand\n",
    "and maintain."
   ]
  },
  {
   "cell_type": "code",
   "execution_count": null,
   "id": "3e3d58a8-de86-4d4d-a227-1304add09f53",
   "metadata": {},
   "outputs": [],
   "source": [
    "4.Create a Python function that calculates the factorial of a number and returns it."
   ]
  },
  {
   "cell_type": "code",
   "execution_count": 26,
   "id": "7d91d314-9a4a-4c02-b94d-d80d5245e8ab",
   "metadata": {},
   "outputs": [
    {
     "name": "stdout",
     "output_type": "stream",
     "text": [
      "The factorial of 23 is 25852016738884976640000\n"
     ]
    }
   ],
   "source": [
    "def factorial(c):\n",
    "    if c == 0 or c == 1:\n",
    "        return 1\n",
    "    else:\n",
    "        return c * factorial(c - 1)\n",
    "\n",
    "# Calculate factorial of a number\n",
    "number = 23\n",
    "result = factorial(number)\n",
    "print(f\"The factorial of {number} is {result}\")  # Output: The factorial of 5 is 120\n"
   ]
  },
  {
   "cell_type": "code",
   "execution_count": null,
   "id": "d5d3b323-47c4-4593-80fe-ab4d595101b2",
   "metadata": {},
   "outputs": [],
   "source": [
    "5.How can you access variables defined outside a function from within the function?"
   ]
  },
  {
   "cell_type": "code",
   "execution_count": 29,
   "id": "d01e46c0-1fa0-4c44-937d-7d7a3c428502",
   "metadata": {},
   "outputs": [
    {
     "name": "stdout",
     "output_type": "stream",
     "text": [
      "Before modification: 10\n",
      "After modification: 15\n"
     ]
    }
   ],
   "source": [
    "global_var = 10  #  step 1 Global variable\n",
    "\n",
    "def modify_global():\n",
    "    global global_var  #  step 2 Accessing the global variable within the function\n",
    "    global_var += 5   #  step 3 Modifying the global variable\n",
    "\n",
    "#  step 4 Before modification\n",
    "print(\"Before modification:\", global_var)  # Output: Before modification: 10\n",
    "\n",
    "#  step 5 Modifying the global variable within the function\n",
    "modify_global()\n",
    "\n",
    "# step 6  After modification\n",
    "print(\"After modification:\", global_var)  # Output: After modification: 15\n"
   ]
  },
  {
   "cell_type": "code",
   "execution_count": null,
   "id": "e5afc022-b196-436f-9c2e-a16ba630b618",
   "metadata": {},
   "outputs": [],
   "source": [
    "                                Topic-Lambda Functions and Higher-Order Functions:"
   ]
  },
  {
   "cell_type": "code",
   "execution_count": null,
   "id": "caf600b5-c056-4236-8ffd-0fb0deb951f7",
   "metadata": {},
   "outputs": [],
   "source": [
    "question 1.What are lambda functions in Python, and when are they typically used?"
   ]
  },
  {
   "cell_type": "code",
   "execution_count": null,
   "id": "5e122303-bff0-4584-aa08-b7e80b87dfc0",
   "metadata": {},
   "outputs": [],
   "source": [
    "Ans: Lambda function  , also Known as   unamed founction in python , are small,Function defined \n",
    "using the lambda keyword .They are used for creating small ,one-time and simple founctions without the need to form all\n",
    "define a function 'def'\n",
    "sytax : 'lambda arguements: expression'\n",
    "example below:"
   ]
  },
  {
   "cell_type": "code",
   "execution_count": 1,
   "id": "61471634-bc75-4af1-bef2-f309b010fc50",
   "metadata": {},
   "outputs": [
    {
     "name": "stdout",
     "output_type": "stream",
     "text": [
      "8\n"
     ]
    }
   ],
   "source": [
    "#  step 1 A lambda function that adds two numbers\n",
    "add = lambda x, y: x + y\n",
    "\n",
    "# step 2  Using the lambda function\n",
    "result = add(3, 5)\n",
    "print(result)  # Output: 8\n"
   ]
  },
  {
   "cell_type": "code",
   "execution_count": null,
   "id": "63d3d649-2f9b-4087-89d4-0c303a7bfe4c",
   "metadata": {},
   "outputs": [],
   "source": [
    "USES of A lambda:\n",
    "As Arguements: Lambda function are often used as arguements to higher \n",
    "-order functions\n",
    "Transforming  Data: THey are handy for quick data Transformation or when small\n",
    "function is needed temporaily\n"
   ]
  },
  {
   "cell_type": "code",
   "execution_count": null,
   "id": "c18900f3-d06a-491b-9059-aa74ed19e7f6",
   "metadata": {},
   "outputs": [],
   "source": [
    "question 2 :Write a Python program that uses lambda functions to sort a list of tuples based on the second element.\n"
   ]
  },
  {
   "cell_type": "code",
   "execution_count": 2,
   "id": "f64fb1bd-d6eb-492a-95c4-baaf85510b59",
   "metadata": {},
   "outputs": [
    {
     "name": "stdout",
     "output_type": "stream",
     "text": [
      "[(23, 45), (43, 56), (334, 90), (333, 555)]\n"
     ]
    }
   ],
   "source": [
    "# step1 sample list of a tuple \n",
    "list_of_tuple=[(23,45), (334,90),(333,555),(43,56)]\n",
    "# by creating the lambda founction  we are are sorting the based on second element using the lambda\n",
    "slist=sorted(list_of_tuple,key=lambda x:x[1])\n",
    "print(slist)"
   ]
  },
  {
   "cell_type": "code",
   "execution_count": null,
   "id": "fa6d55cd-9401-4763-8734-a08ff39ea226",
   "metadata": {},
   "outputs": [],
   "source": [
    "3.Explain the concept of higher-order functions in Python, and provide an example."
   ]
  },
  {
   "cell_type": "code",
   "execution_count": null,
   "id": "5a98518f-d3cf-420c-8113-a6b53e3db479",
   "metadata": {},
   "outputs": [],
   "source": [
    "Ans: Higher ordef ounction that can take other function as a arguements or \n",
    "return  d function as a results, it treat function as a first class citizens,enabling them\n",
    "to bemanipulated and passed around like any object."
   ]
  },
  {
   "cell_type": "code",
   "execution_count": null,
   "id": "fca92fc7-fe6c-496b-a5d0-f09f40770c2b",
   "metadata": {},
   "outputs": [],
   "source": [
    "1.Founction As a arguements:Higher -order Functions can accept fumnction as a arguements"
   ]
  },
  {
   "cell_type": "code",
   "execution_count": 1,
   "id": "734f9f72-4142-4712-bf6c-c7b4fbcec9b6",
   "metadata": {},
   "outputs": [
    {
     "name": "stdout",
     "output_type": "stream",
     "text": [
      "[144, 1089, 2025, 81, 100]\n"
     ]
    }
   ],
   "source": [
    "#  step 1 A function to square a number\n",
    "def square(x):\n",
    "    return x ** 2\n",
    "\n",
    "# step 2  List of numbers\n",
    "numbers = [12, 33, 45, 9, 10]\n",
    "\n",
    "# step 3  Using map as a higher-order function to apply the square function to each element in the list\n",
    "squared_numbers = list(map(square, numbers))\n",
    "print(squared_numbers)  # Output: [1, 4, 9, 16, 25]\n"
   ]
  },
  {
   "cell_type": "markdown",
   "id": "070f0af6-b60d-4e11-880d-df1bad8be294",
   "metadata": {},
   "source": [
    "2.Function as Return Values:They can also return functions as their results."
   ]
  },
  {
   "cell_type": "code",
   "execution_count": 2,
   "id": "5f7b284f-be91-4468-944d-0001cd7ae3f5",
   "metadata": {},
   "outputs": [
    {
     "name": "stdout",
     "output_type": "stream",
     "text": [
      "15\n"
     ]
    }
   ],
   "source": [
    "# step 1  function that generates a multiplier function\n",
    "def multiplier(n):\n",
    "    def multiply(x):\n",
    "        return x * n\n",
    "    return multiply\n",
    "\n",
    "#  step 2 Creating a multiplier function that multiplies by 3\n",
    "times_three = multiplier(3)\n",
    "\n",
    "# step 3  Using the returned function\n",
    "result = times_three(5)  # Result will be 5 * 3 = 15\n",
    "print(result)  # Output: 15\n"
   ]
  },
  {
   "cell_type": "code",
   "execution_count": null,
   "id": "ef12d9cd-93d7-45fd-8c99-b1ff7459fd46",
   "metadata": {},
   "outputs": [],
   "source": [
    "4.Create a Python function that takes a list of numbers and a function as arguments, applying the function to each element in the list."
   ]
  },
  {
   "cell_type": "code",
   "execution_count": 6,
   "id": "6144bd5d-1b2c-460d-a8c9-986809aec2a8",
   "metadata": {},
   "outputs": [
    {
     "name": "stdout",
     "output_type": "stream",
     "text": [
      "Squared numbers: [121, 1024, 1849, 16, 25]\n",
      "Doubled numbers: [22, 64, 86, 8, 10]\n"
     ]
    }
   ],
   "source": [
    "def apply_list(numbers, func):\n",
    "    result = [func(x) for x in numbers]\n",
    "    return result\n",
    "\n",
    "# step 1  Example functions\n",
    "def square(x):\n",
    "    return x ** 2\n",
    "\n",
    "def double(x):\n",
    "    return x * 2\n",
    "\n",
    "# step 2  List of numbers\n",
    "numbers = [11, 32, 43, 4, 5]\n",
    "\n",
    "# step 3  Applying the square function to each element in the list\n",
    "result_square = apply_list(numbers, square)\n",
    "print(\"Squared numbers:\", result_square)  # Output: Squared numbers: [1, 4, 9, 16, 25]\n",
    "\n",
    "#  step 4 Applying the double function to each element in the list\n",
    "result_double = apply_list(numbers, double)\n",
    "print(\"Doubled numbers:\", result_double)  # Output: Doubled numbers: [2, 4, 6, 8, 10]\n"
   ]
  },
  {
   "cell_type": "code",
   "execution_count": null,
   "id": "5178b35f-e817-42a5-89c4-79bd3877d928",
   "metadata": {},
   "outputs": [],
   "source": [
    "                            Topic->Built-in Functions:"
   ]
  },
  {
   "cell_type": "code",
   "execution_count": null,
   "id": "2c8c9d30-763e-44cb-825a-c6c1247b2a10",
   "metadata": {},
   "outputs": [],
   "source": [
    "1.Describe the role of built-in functions like `len()`, `max()`, and `min()` in Python."
   ]
  },
  {
   "cell_type": "code",
   "execution_count": null,
   "id": "bcf3720e-88fa-403c-9d53-7fb91bf6b362",
   "metadata": {},
   "outputs": [],
   "source": [
    "Ams: \n",
    "    1.len():\n",
    "            This function used to determine the length of an object , such as string , list\n",
    "             , tuple , dictionary or an other iterable.\n",
    "    2. max():This function is utilized to find the maximum value from a squence or a collection \n",
    "             of elements. it can take multiple arguements or an iterable and return the largest\n",
    "              items.\n",
    "    3. min(): Similar to max  the min() function determine the minimum value from a squence or collection of items "
   ]
  },
  {
   "cell_type": "code",
   "execution_count": null,
   "id": "fe9da9cd-f935-4ade-bb5f-25e92066c813",
   "metadata": {},
   "outputs": [],
   "source": [
    "2.Write a Python program that uses the `map()` function to apply a function to each element of a list."
   ]
  },
  {
   "cell_type": "code",
   "execution_count": 1,
   "id": "b35c1e33-c920-4952-bd6e-9511d3aabbe7",
   "metadata": {},
   "outputs": [
    {
     "name": "stdout",
     "output_type": "stream",
     "text": [
      "[69, 9, 12, 15, 1998, 2331]\n"
     ]
    }
   ],
   "source": [
    "#step 1 defing the founction \n",
    "def triplenumb(n):\n",
    "    return n*3\n",
    "# step 2  sample list of numbers\n",
    "l=[23,3,4,5,666,777]\n",
    "# step 3  using the map  to apply function and list of number \n",
    "triple=list(map(triplenumb, l))\n",
    "# step 4 result\n",
    "print(triple)\n"
   ]
  },
  {
   "cell_type": "code",
   "execution_count": null,
   "id": "faa8018c-4b29-4463-ac8c-8b86b3b60b5a",
   "metadata": {},
   "outputs": [],
   "source": [
    "3.How does the `filter()` function work in Python, and when would you use it?"
   ]
  },
  {
   "cell_type": "code",
   "execution_count": null,
   "id": "86fb078e-b838-4739-b8a6-bb12acfaad6c",
   "metadata": {},
   "outputs": [],
   "source": [
    "ANS:The filter() function in Python is used to filter elements from an iterable (like a list, tuple, etc.) based on a given function's condition.\n",
    "It returns an iterator that yields those elements which satisfy the condition specified in the function.\n",
    "The syntax: filter(function, iterable )\n",
    "1.Function :: This is a function that tests each element of the iterable. It should return True or False. If function is None, it simply returns the\n",
    "elements that are True\n",
    "2.iterable: This is the iterable (list, tuple, etc.) that you want to filter.\n",
    "WE USE IT At The Place:\n",
    "    filter() when you want to selectively extract elements from an iterable based on certain criteria defined by a function. It's particularly useful when \n",
    "    you need to filter out elements that meet specific conditions without needing to write explicit loops or list comprehensions."
   ]
  },
  {
   "cell_type": "code",
   "execution_count": null,
   "id": "a9ee0368-a0de-4dd0-943b-0d3ffadf97a7",
   "metadata": {},
   "outputs": [],
   "source": [
    "4.Create a Python program that uses the `reduce()` function to find the product of all elements in a list."
   ]
  },
  {
   "cell_type": "code",
   "execution_count": 3,
   "id": "0fc4cea1-a7a7-4277-bb72-ba47e02c7b52",
   "metadata": {},
   "outputs": [
    {
     "name": "stdout",
     "output_type": "stream",
     "text": [
      "product: 1119552\n"
     ]
    }
   ],
   "source": [
    "# step1 import functiontools\n",
    "from functools import reduce\n",
    "# step 2  function to multiply  two numbers\n",
    "def multiply(f,g):\n",
    "    return f*g\n",
    "# step 3 list of numbers\n",
    "numbers=[12,34,56,7,7]\n",
    "#step 4 # Using reduce() to find the product of all elements in the list\n",
    "product = reduce(multiply, numbers)\n",
    "print(\"product:\", product)\n"
   ]
  },
  {
   "cell_type": "code",
   "execution_count": null,
   "id": "b362c77b-515b-420d-baae-43ff8c99c063",
   "metadata": {},
   "outputs": [],
   "source": [
    "                                         Topic:Function Documentation and Best Practices:                                   "
   ]
  },
  {
   "cell_type": "code",
   "execution_count": null,
   "id": "a421a2ea-c34b-41c1-bb52-d5a302eca285",
   "metadata": {},
   "outputs": [],
   "source": [
    "1.Explain the purpose of docstrings in Python functions and how to write them."
   ]
  },
  {
   "cell_type": "code",
   "execution_count": null,
   "id": "da632ea5-0d87-405e-9be0-cc33da7d93c2",
   "metadata": {},
   "outputs": [],
   "source": [
    "Docstring in python serve  the purpose  of docmenting functions, classes\n",
    "modules or method within your code. They are essentially multi-line strings\n",
    "placed immediately after the function , class , or module defination, Docstrings\n",
    "are used to decribe what the code does , its parameters  return values and usage\n",
    ", making it easier for developers to understand use the code.\n",
    "\n",
    "\n",
    "To write a docstring for a function , you place a multi -line string rigth after the function \n",
    "defination inside triple quotes  (''' ''' or \"\"\" \"\"\")\n",
    "example below:"
   ]
  },
  {
   "cell_type": "code",
   "execution_count": null,
   "id": "12c8acb8-3552-4620-88a9-5a304e98f9cf",
   "metadata": {},
   "outputs": [],
   "source": [
    "def calculate_square(x):\n",
    "    '''\n",
    "    Calculate the square of a number.\n",
    "\n",
    "    Parameters:\n",
    "    x (int): The number to be squared.\n",
    "\n",
    "    Returns:\n",
    "    int: The square of the input number.\n",
    "    '''\n",
    "    return x * x"
   ]
  },
  {
   "cell_type": "code",
   "execution_count": null,
   "id": "ee5ec9f5-e168-4fa0-8d58-3ced16aa7304",
   "metadata": {},
   "outputs": [],
   "source": [
    "2.Describe some best practices for naming functions and variables in Python, including naming conventions and guidelines."
   ]
  },
  {
   "cell_type": "code",
   "execution_count": null,
   "id": "3ba59c76-f55b-4a77-8d61-bda8307dedd6",
   "metadata": {},
   "outputs": [],
   "source": [
    "ANS: Here are some best practices for naming functions and variables in Python:\n",
    "   1. Use descriptive and meaningful names:\n",
    "    Function and variable names should describe what the function or variable represents or contains. For example, a function that calculates the\n",
    "    area of a circle might be named calculate_area_of_circle(), and a variable that stores the radius of a circle might be named radius.\n",
    "   2.Follow a consistent naming convention.:\n",
    "    It's important to follow a consistent naming convention to make your code more readable and understandable. \n",
    "    One common convention is to use lowercase letters for variable names and function names, with words separated by underscores. For example, the variable my_variable and the function my_function() are both following this convention.\n",
    "   3.Avoid reserved keywords.:\n",
    "    Python has a number of reserved keywords that cannot be used as variable names or function names. For example, the keyword if cannot be used as a variable name or function name.\n",
    "   4.Don't use abbreviations:\n",
    "    It's generally best to avoid using abbreviations in variable names or function names. Abbreviations can make your code less readable and understandable.\n",
    "   5.Be mindful of variable scope.:\n",
    "    In Python, variables have a scope that determines where they can be accessed. It's important to be mindful of the scope of your variables to avoid errors.\n",
    "    For example, a variable that is declared inside a function can only be accessed inside that function.\n",
    "    \n",
    "2 GUIDELINES:\n",
    "ANS:\n",
    "1. Be consistent: Maintain a consistent naming style throughout your codebase.\n",
    "2.Avoid abbreviations unless they're widely understood: Clarity is crucial; abbreviations might obscure meaning.\n",
    "3.Use comments for clarity when necessary: If a name doesn’t fully convey the purpose, use comments to provide additional context.\n",
    "    "
   ]
  }
 ],
 "metadata": {
  "kernelspec": {
   "display_name": "Python 3 (ipykernel)",
   "language": "python",
   "name": "python3"
  },
  "language_info": {
   "codemirror_mode": {
    "name": "ipython",
    "version": 3
   },
   "file_extension": ".py",
   "mimetype": "text/x-python",
   "name": "python",
   "nbconvert_exporter": "python",
   "pygments_lexer": "ipython3",
   "version": "3.10.8"
  }
 },
 "nbformat": 4,
 "nbformat_minor": 5
}
