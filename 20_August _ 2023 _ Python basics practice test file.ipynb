{
 "cells": [
  {
   "cell_type": "code",
   "execution_count": null,
   "id": "b104c6ff-9ca4-4e0f-8450-cf4c0d557892",
   "metadata": {},
   "outputs": [],
   "source": [
    "TOPIC: String Based Assignment Problem\n"
   ]
  },
  {
   "cell_type": "code",
   "execution_count": null,
   "id": "501a8d56-e3c5-4677-bf19-e3eba007347f",
   "metadata": {},
   "outputs": [],
   "source": [
    "1. write a program for reversing a string"
   ]
  },
  {
   "cell_type": "code",
   "execution_count": 1,
   "id": "85f5d77f-5163-4063-9d47-615a9c9aad37",
   "metadata": {},
   "outputs": [
    {
     "name": "stdin",
     "output_type": "stream",
     "text": [
      " enter the value amrit\n"
     ]
    },
    {
     "data": {
      "text/plain": [
       "'tirma'"
      ]
     },
     "execution_count": 1,
     "metadata": {},
     "output_type": "execute_result"
    }
   ],
   "source": [
    "#step 1 taking the in[put for a string\n",
    "str= input(\" enter the value\")\n",
    "#step 2 reversing a string\n",
    "str[::-1]"
   ]
  },
  {
   "cell_type": "code",
   "execution_count": null,
   "id": "11ada3a7-3cfc-4ef3-9b5b-6abc7db6f79c",
   "metadata": {},
   "outputs": [],
   "source": [
    "2. Check if a string is pailindrome"
   ]
  },
  {
   "cell_type": "code",
   "execution_count": 3,
   "id": "9766dcef-c95f-4b56-b84d-8a08c86b0ce4",
   "metadata": {},
   "outputs": [
    {
     "name": "stdin",
     "output_type": "stream",
     "text": [
      "enter the value for a string rahul\n"
     ]
    },
    {
     "data": {
      "text/plain": [
       "False"
      ]
     },
     "execution_count": 3,
     "metadata": {},
     "output_type": "execute_result"
    }
   ],
   "source": [
    "#step 1 taking the input for  a string\n",
    "vim=input(\"enter the value for a string\")\n",
    "#step 2 reversing a stinng\n",
    "vi=vim[::-1]\n",
    "# step 3 now checking with the real value \n",
    "vim==vi"
   ]
  },
  {
   "cell_type": "code",
   "execution_count": null,
   "id": "f689eeba-42bf-4fbb-8c32-74d627e5f351",
   "metadata": {},
   "outputs": [],
   "source": [
    "3. Convert the string into uppercase\n"
   ]
  },
  {
   "cell_type": "code",
   "execution_count": 5,
   "id": "6fc5fdfb-ca2b-43a2-af6c-6e018c8c3bac",
   "metadata": {},
   "outputs": [
    {
     "name": "stdin",
     "output_type": "stream",
     "text": [
      "enter the value for a string  idot\n"
     ]
    },
    {
     "data": {
      "text/plain": [
       "'IDOT'"
      ]
     },
     "execution_count": 5,
     "metadata": {},
     "output_type": "execute_result"
    }
   ],
   "source": [
    "#step 1 taking the input from a string for converting it into the uppercase\n",
    "st5=input(\"enter the value for a string \")\n",
    "#step 2 converting the sting into uppercase\n",
    "st5.upper()"
   ]
  },
  {
   "cell_type": "code",
   "execution_count": null,
   "id": "281590e7-4995-4a6e-bdaa-24eee8ed7083",
   "metadata": {},
   "outputs": [],
   "source": [
    "4. Converting a string into a lowercase\n"
   ]
  },
  {
   "cell_type": "code",
   "execution_count": 6,
   "id": "8c03c784-9459-44f6-9e0c-0624692fea5c",
   "metadata": {},
   "outputs": [
    {
     "name": "stdin",
     "output_type": "stream",
     "text": [
      "enter the value for a input AMRIT\n"
     ]
    },
    {
     "data": {
      "text/plain": [
       "'amrit'"
      ]
     },
     "execution_count": 6,
     "metadata": {},
     "output_type": "execute_result"
    }
   ],
   "source": [
    "#step1 taking the input for a string\n",
    "sir=input (\"enter the value for a input\")\n",
    "#step2 using the founction to caonvert into lowercase\n",
    "sir.lower()"
   ]
  },
  {
   "cell_type": "code",
   "execution_count": null,
   "id": "dafb489f-3f35-462a-95b1-166498979241",
   "metadata": {},
   "outputs": [],
   "source": [
    "5.count the number of vowels in a string\n"
   ]
  },
  {
   "cell_type": "code",
   "execution_count": null,
   "id": "7481e6b9-9abd-45d4-944f-fe3bf57c39e8",
   "metadata": {},
   "outputs": [],
   "source": [
    "#step 1 taking a input for astring\n",
    "st=input(\"enter the value for string\")\n",
    "vowel=0;\n",
    "#step 2  using for loop for calculating the number of vowels in the string\n",
    "for  ch in st:\n",
    "     if  ch=='a'or ch=='i' or ch=='e' or ch=='o' or ch=='u':\n",
    "        vowel =vowel+1\n",
    "vowel"
   ]
  },
  {
   "cell_type": "code",
   "execution_count": null,
   "id": "16fa1f9b-6e3b-4595-83ed-931949cd9387",
   "metadata": {},
   "outputs": [],
   "source": [
    "6. count the number of consonent in the string\n"
   ]
  },
  {
   "cell_type": "code",
   "execution_count": 2,
   "id": "9f0f04d5-4732-49f0-a50f-36b7bdab1657",
   "metadata": {},
   "outputs": [
    {
     "name": "stdout",
     "output_type": "stream",
     "text": [
      "Number of consonants: 24\n"
     ]
    }
   ],
   "source": [
    "# step 1  Input string\n",
    "input_string = \" count the number of consonant in the string\"\n",
    "\n",
    "# step 2  Define a set of vowels\n",
    "vowels = \"AEIOUaeiou\"\n",
    "\n",
    "#  step 3 Initialize a variable to store the count of consonants\n",
    "consonant_count = 0\n",
    "\n",
    "#  step 4 Iterate through each character in the string\n",
    "for char in input_string:\n",
    "    # Check if the character is an alphabet and not a vowel\n",
    "    if char.isalpha() and char not in vowels:\n",
    "        consonant_count += 1\n",
    "\n",
    "#  step 5 Print the count of consonants\n",
    "print(\"Number of consonants:\", consonant_count)"
   ]
  },
  {
   "cell_type": "code",
   "execution_count": null,
   "id": "099ad9ac-5227-4b04-a2d3-98cbbb44a66a",
   "metadata": {},
   "outputs": [],
   "source": [
    "7. Remove white space  from string"
   ]
  },
  {
   "cell_type": "code",
   "execution_count": 5,
   "id": "012b8fe1-fe74-4d90-86b8-529b9ce6f4cf",
   "metadata": {},
   "outputs": [
    {
     "name": "stdin",
     "output_type": "stream",
     "text": [
      " enter the value for a string  India will win this world one day\n"
     ]
    },
    {
     "data": {
      "text/plain": [
       "'Indiawillwinthisworldoneday'"
      ]
     },
     "execution_count": 5,
     "metadata": {},
     "output_type": "execute_result"
    }
   ],
   "source": [
    "#step 1 taking the input for the string\n",
    "st = input(\" enter the value for a string \")\n",
    "newst=''\n",
    "#step 2  we checking chracter is  the space in string or not \n",
    "for ch in st:\n",
    "    if ch != ' ':\n",
    "        # step 3 Concatenate the character in newString\n",
    "        newst = newst + ch\n",
    "# Step 4  : Printing the new string which does not have any spaces\n",
    "newst\n",
    "        \n",
    "        \n",
    "\n",
    "\n",
    "\n",
    "\n"
   ]
  },
  {
   "cell_type": "code",
   "execution_count": null,
   "id": "af169fbd-5c67-413c-97ee-909d7573cf51",
   "metadata": {},
   "outputs": [],
   "source": [
    "8. Find the length of a string using without len() operator"
   ]
  },
  {
   "cell_type": "code",
   "execution_count": 1,
   "id": "bfa81012-5d37-45b2-ad59-8c14ff3fe078",
   "metadata": {},
   "outputs": [
    {
     "name": "stdout",
     "output_type": "stream",
     "text": [
      "Length of the string: 13\n"
     ]
    }
   ],
   "source": [
    "#step 1  creating the founction   for string  to calculate length\n",
    "\n",
    "def string_length(s):\n",
    "# step 2 initializing the count \n",
    "    count = 0\n",
    "# step 3 using the for loop\n",
    "    for _ in s:\n",
    "        count += 1\n",
    "# step 4 printing the count\n",
    "    return count\n",
    "\n",
    "# Example usage:\n",
    "my_string = \"Hello, World!\"\n",
    "length = string_length(my_string)\n",
    "print(\"Length of the string:\", length)\n",
    "\n",
    "\n",
    "\n",
    "\n",
    "\n"
   ]
  },
  {
   "cell_type": "code",
   "execution_count": null,
   "id": "8183f0dd-adba-448f-bcfc-59d889cb1769",
   "metadata": {},
   "outputs": [],
   "source": [
    "9. check weather specific word in as string or not\n"
   ]
  },
  {
   "cell_type": "code",
   "execution_count": 9,
   "id": "e0d13f8f-e1a9-4169-8de9-214a21088199",
   "metadata": {},
   "outputs": [
    {
     "name": "stdout",
     "output_type": "stream",
     "text": [
      "present\n"
     ]
    }
   ],
   "source": [
    " # step1 taking the input for the strings\n",
    "st=\"tiger love to eat soft lamp\"\n",
    "#step2  using the find method for finding the  word\n",
    " if st.find(\"lamp\") != -1:\n",
    "        print(\"present\")\n",
    "else:\n",
    "        print(\"not present\")\n",
    "\n",
    "\n",
    "\n",
    "\n",
    "\n",
    "\n",
    "\n",
    "\n",
    "\n",
    "\n"
   ]
  },
  {
   "cell_type": "code",
   "execution_count": null,
   "id": "3760a19f-bc2f-443a-bf48-6c574f1268b6",
   "metadata": {},
   "outputs": [],
   "source": [
    "10. Replace word in a string with another word"
   ]
  },
  {
   "cell_type": "code",
   "execution_count": 10,
   "id": "eb4b9c22-ba64-4e86-85d9-630e7ea4d87f",
   "metadata": {},
   "outputs": [
    {
     "name": "stdout",
     "output_type": "stream",
     "text": [
      "pwskills\n",
      "pwlearn\n"
     ]
    }
   ],
   "source": [
    "# step1 taking the input for the strings\n",
    "st=\"pwskills\"\n",
    "#step2  we are using replace method in string for replacing word\n",
    "newst=st.replace(\"skills\", \"learn\")\n",
    "print(st)\n",
    "print(newst)\n",
    "\n",
    "\n",
    "\n",
    "\n"
   ]
  },
  {
   "cell_type": "code",
   "execution_count": null,
   "id": "9e20c9b9-0af4-4c04-aabe-c6e0d83193ef",
   "metadata": {},
   "outputs": [],
   "source": [
    "11.count the number of occurrence of words in strings"
   ]
  },
  {
   "cell_type": "code",
   "execution_count": 21,
   "id": "01076633-c27d-488f-87f6-dbccd44f7235",
   "metadata": {},
   "outputs": [
    {
     "name": "stdin",
     "output_type": "stream",
     "text": [
      "enter a string i love india india india\n",
      "enter a word for count india\n"
     ]
    },
    {
     "name": "stdout",
     "output_type": "stream",
     "text": [
      "3\n"
     ]
    }
   ],
   "source": [
    "s=input(\"enter a string\")\n",
    "n=input(\"enter a word for count\")\n",
    "m=s.count(n)\n",
    "print(m)\n"
   ]
  },
  {
   "cell_type": "code",
   "execution_count": null,
   "id": "fbd63844-a8e6-4e6f-9b15-77b39229381f",
   "metadata": {},
   "outputs": [],
   "source": [
    "12. finding the first occurence of  word in a string"
   ]
  },
  {
   "cell_type": "code",
   "execution_count": 24,
   "id": "241367ea-bda4-47e6-9cf8-e8ced8e01bdd",
   "metadata": {},
   "outputs": [
    {
     "name": "stdout",
     "output_type": "stream",
     "text": [
      "The first occurrence of 'sample' is at word index 3.\n"
     ]
    }
   ],
   "source": [
    "def find_first_occurrence(string, word):\n",
    "    # step 1  Split the string into words\n",
    "    words = string.split()\n",
    "    \n",
    "    #  step 2 Iterate through the words and find the first occurrence of the word\n",
    "    for i, w in enumerate(words):\n",
    "        if w == word:\n",
    "            return i\n",
    "\n",
    "    #  step 3 If the word is not found, return None\n",
    "    return None\n",
    "\n",
    "# Example usage\n",
    "input_string = \"This is a sample string. It contains some sample words. This is a simple example.\"\n",
    "search_word = \"sample\"\n",
    "\n",
    "result = find_first_occurrence(input_string, search_word)\n",
    "\n",
    "if result is not None:\n",
    "    print(f\"The first occurrence of '{search_word}' is at word index {result}.\")\n",
    "else:\n",
    "    print(f\"'{search_word}' not found in the string.\")"
   ]
  },
  {
   "cell_type": "code",
   "execution_count": null,
   "id": "bf32f86a-8e50-49cc-b811-1c855177685d",
   "metadata": {},
   "outputs": [],
   "source": [
    "13. finding the last occurence of word in string"
   ]
  },
  {
   "cell_type": "code",
   "execution_count": 2,
   "id": "ed959407-aa4f-4dd4-b2e7-762666d68c94",
   "metadata": {},
   "outputs": [
    {
     "name": "stdin",
     "output_type": "stream",
     "text": [
      "enter the value for a string i love india india is good country\n",
      "enter the  value  of word india\n"
     ]
    },
    {
     "name": "stdout",
     "output_type": "stream",
     "text": [
      "13\n"
     ]
    }
   ],
   "source": [
    "#step 1 enter the value  for a sting\n",
    "st1 = input(\"enter the value for a string\")\n",
    "# step 2 enter the  word for calculating the first occurence of string\n",
    "word = input(\"enter the  value  of word\")\n",
    "# step 3 for finding the last occurence  index\n",
    "index  = st1.rfind(word)\n",
    "print(index)\n",
    "\n",
    "\n"
   ]
  },
  {
   "cell_type": "code",
   "execution_count": null,
   "id": "3e466df6-ff48-4516-a7ca-148e092faf37",
   "metadata": {},
   "outputs": [],
   "source": [
    "14 split the string in list of words"
   ]
  },
  {
   "cell_type": "code",
   "execution_count": 2,
   "id": "2bfdf4c7-68fe-4d62-b565-68914d66b461",
   "metadata": {},
   "outputs": [
    {
     "name": "stdin",
     "output_type": "stream",
     "text": [
      "enter the value for a string i love india\n"
     ]
    },
    {
     "data": {
      "text/plain": [
       "['i', 'love', 'india']"
      ]
     },
     "execution_count": 2,
     "metadata": {},
     "output_type": "execute_result"
    }
   ],
   "source": [
    "#step 1 enter the value  for a sting\n",
    "st1 = input(\"enter the value for a string\")\n",
    "# splitting strings in list of words\n",
    "st1.split()\n",
    "\n"
   ]
  },
  {
   "cell_type": "code",
   "execution_count": null,
   "id": "bd82ede3-7f38-484e-9a38-d38f0d9969e8",
   "metadata": {},
   "outputs": [],
   "source": [
    "15. join  a list of words into string."
   ]
  },
  {
   "cell_type": "code",
   "execution_count": 6,
   "id": "01d27f77-7659-4c4a-9496-712b29b0d611",
   "metadata": {},
   "outputs": [
    {
     "name": "stdout",
     "output_type": "stream",
     "text": [
      "Hello World Python\n"
     ]
    }
   ],
   "source": [
    "# step 1 creating the world list\n",
    "word = [\"Hello\", \"World\", \"Python\"]\n",
    "separator = \" \"  #step 2  You can specify the separator you want between the words\n",
    "# step 3 storing the result\n",
    "result = separator.join(word)\n",
    "# step 4 printing the result\n",
    "print(result)\n"
   ]
  },
  {
   "cell_type": "code",
   "execution_count": null,
   "id": "4aecbd6d-7620-41e9-bf4a-0060cdf51aa1",
   "metadata": {},
   "outputs": [],
   "source": [
    "16. Convert a string where words are seprated by spaces to one where are seprated by underscore"
   ]
  },
  {
   "cell_type": "code",
   "execution_count": 8,
   "id": "a71d9d36-7974-405e-9e6c-98e0f554176b",
   "metadata": {},
   "outputs": [
    {
     "name": "stdin",
     "output_type": "stream",
     "text": [
      "enter  a string  i love india and indian girls\n"
     ]
    },
    {
     "name": "stdout",
     "output_type": "stream",
     "text": [
      "i_love_india_and_indian_girls\n"
     ]
    }
   ],
   "source": [
    "#step1 taking the in put for the string\n",
    "st=input(\"enter  a string \");\n",
    "#step2 splitting the strings into spaces\n",
    "words=st.split()\n",
    "#step2 join the words into the underscore\n",
    "newst=\"_\".join(words)\n",
    "#step 3 printing it\n",
    "print(newst)\n"
   ]
  },
  {
   "cell_type": "code",
   "execution_count": null,
   "id": "fcf00e3d-0af6-455b-af73-4ed513fd562e",
   "metadata": {},
   "outputs": [],
   "source": [
    "17.check string start with the specific word or phrase \n"
   ]
  },
  {
   "cell_type": "code",
   "execution_count": 25,
   "id": "b028a829-4cfb-45a7-aa9b-bb9e93092649",
   "metadata": {},
   "outputs": [
    {
     "name": "stdin",
     "output_type": "stream",
     "text": [
      "enter  a string  love love india\n",
      "enter  a  word or phrase love\n"
     ]
    },
    {
     "name": "stdout",
     "output_type": "stream",
     "text": [
      "The string starts with the word or phrase\n"
     ]
    }
   ],
   "source": [
    "#step1 taking the in put for the string\n",
    "st=input(\"enter  a string \")\n",
    "#step 2 enter the word or phrase for checking \n",
    "st1=input(\"enter  a  word or phrase\")\n",
    "if st.startswith(st1):\n",
    "    print(\"The string starts with the word or phrase\")\n",
    "else:\n",
    "    print(\"The string does not start with the word or phrase\")\n",
    "    \n",
    "    \n"
   ]
  },
  {
   "cell_type": "code",
   "execution_count": null,
   "id": "0a73018c-d172-4cf0-b6af-9767e67742ce",
   "metadata": {},
   "outputs": [],
   "source": [
    "18. check string end with the specific worsd or phrase \n"
   ]
  },
  {
   "cell_type": "code",
   "execution_count": 26,
   "id": "9983ab64-3fdb-4185-9953-dd67ec9a8ac3",
   "metadata": {},
   "outputs": [
    {
     "name": "stdin",
     "output_type": "stream",
     "text": [
      "enter  a string  this ia sbhay he loves to abuse\n",
      "enter  a  word or phrase abuse\n"
     ]
    },
    {
     "name": "stdout",
     "output_type": "stream",
     "text": [
      "The string starts with the word or phrase\n"
     ]
    }
   ],
   "source": [
    "#step1 taking the in put for the string\n",
    "st=input(\"enter  a string \")\n",
    "#step 2 enter the word or phrase for checking \n",
    "st1=input(\"enter  a  word or phrase\")\n",
    "if st.endswith(st1):\n",
    "    print(\"The string starts with the word or phrase\")\n",
    "else:\n",
    "    print(\"The string does not start with the word or phrase\")\n",
    "    \n",
    "    \n"
   ]
  },
  {
   "cell_type": "code",
   "execution_count": null,
   "id": "f6b31b27-098f-4f8a-9a12-d2b8b7f3e3f7",
   "metadata": {},
   "outputs": [],
   "source": [
    "19. convert the string in to tittle  case"
   ]
  },
  {
   "cell_type": "code",
   "execution_count": 7,
   "id": "43c8bc41-9e3e-413b-975f-e9cd33ed69bd",
   "metadata": {},
   "outputs": [
    {
     "name": "stdin",
     "output_type": "stream",
     "text": [
      "enter  a string  abhay good\n"
     ]
    },
    {
     "name": "stdout",
     "output_type": "stream",
     "text": [
      "Abhay Good\n"
     ]
    }
   ],
   "source": [
    "#step1 taking the in put for the string\n",
    "st=input(\"enter  a string \")\n",
    "#step2  using the title method \n",
    "st1=st.title()\n",
    "# step 3 printing the title\n",
    "print(st1)\n"
   ]
  },
  {
   "cell_type": "code",
   "execution_count": null,
   "id": "8bf68fbd-2b07-4f38-a411-61889abec227",
   "metadata": {},
   "outputs": [],
   "source": [
    "20.find the  longest word in a string\n"
   ]
  },
  {
   "cell_type": "code",
   "execution_count": 29,
   "id": "e4cb7a14-9947-49b7-b4a0-06c752420fd4",
   "metadata": {},
   "outputs": [
    {
     "name": "stdin",
     "output_type": "stream",
     "text": [
      " enter  a string  i love india , america, spain , swizerland\n"
     ]
    },
    {
     "name": "stdout",
     "output_type": "stream",
     "text": [
      "Longest word is:  swizerland\n"
     ]
    }
   ],
   "source": [
    "#step1 taking the input for the string\n",
    "st=input(\" enter  a string \")\n",
    "#step 2 finding the longest in string\n",
    "longest= max(st.split())\n",
    "#step3 pritng the longest word\n",
    "print(\"Longest word is: \", longest)\n",
    "\n",
    "\n",
    "\n"
   ]
  },
  {
   "cell_type": "code",
   "execution_count": null,
   "id": "ab157e1a-09cb-41d7-a893-0b0c5362cce8",
   "metadata": {},
   "outputs": [],
   "source": [
    "21.find the shortest word in  a string"
   ]
  },
  {
   "cell_type": "code",
   "execution_count": 35,
   "id": "e12cd786-5364-4292-9b9e-d1ad9a8bbd4e",
   "metadata": {},
   "outputs": [
    {
     "name": "stdin",
     "output_type": "stream",
     "text": [
      " enter  a string  we love ashoka and a raj a raj\n"
     ]
    },
    {
     "name": "stdout",
     "output_type": "stream",
     "text": [
      "Longest word is:  a\n"
     ]
    }
   ],
   "source": [
    "#step1 taking the input for the string\n",
    "st=input(\" enter  a string \")\n",
    "#step 2 finding the shortest in string\n",
    "shortest= min(st.split())\n",
    "#step3 pritng the shortest word\n",
    "print(\"Longest word is: \", shortest)\n"
   ]
  },
  {
   "cell_type": "code",
   "execution_count": null,
   "id": "54643c6a-48ba-4d1a-91f7-5e8fadb23eeb",
   "metadata": {},
   "outputs": [],
   "source": [
    "22.Reverse the order of words in a string"
   ]
  },
  {
   "cell_type": "code",
   "execution_count": 38,
   "id": "ac89c991-9fc2-4c8e-a5d5-bdcd3e2f399e",
   "metadata": {},
   "outputs": [
    {
     "name": "stdin",
     "output_type": "stream",
     "text": [
      " enter  a string  i love amrit\n"
     ]
    },
    {
     "data": {
      "text/plain": [
       "'tirma evol i'"
      ]
     },
     "execution_count": 38,
     "metadata": {},
     "output_type": "execute_result"
    }
   ],
   "source": [
    "#step1 taking the input for the string\n",
    "st=input(\" enter  a string \")\n",
    "#step2  reversing order by using the reverse order\n",
    "st[::-1]\n"
   ]
  },
  {
   "cell_type": "raw",
   "id": "766eff5a-45cf-4c40-902d-f94f4db37b66",
   "metadata": {},
   "source": [
    "23.Check if a string is alphanumeric"
   ]
  },
  {
   "cell_type": "code",
   "execution_count": 39,
   "id": "1d848e06-23d7-4022-af73-52145b5c771f",
   "metadata": {},
   "outputs": [
    {
     "name": "stdin",
     "output_type": "stream",
     "text": [
      " enter  a string  i344amrit\n"
     ]
    },
    {
     "name": "stdout",
     "output_type": "stream",
     "text": [
      "True\n"
     ]
    }
   ],
   "source": [
    "#step1 taking the input for the string\n",
    "st=input(\" enter  a string \")\n",
    "# step2 using the isalnum method \n",
    "t=st.isalnum()\n",
    "print(t)"
   ]
  },
  {
   "cell_type": "code",
   "execution_count": null,
   "id": "8478bd20-77eb-40b6-8ac1-3f43aadd23ba",
   "metadata": {},
   "outputs": [],
   "source": [
    "24. Extract all digits from a string."
   ]
  },
  {
   "cell_type": "code",
   "execution_count": 8,
   "id": "98d4afee-c85c-4fc5-8f33-9bcb4ddb26bb",
   "metadata": {},
   "outputs": [
    {
     "name": "stdin",
     "output_type": "stream",
     "text": [
      " enter  a string  i love india 3000\n"
     ]
    },
    {
     "name": "stdout",
     "output_type": "stream",
     "text": [
      "Extracted numbers from the list : 3\n",
      "Extracted numbers from the list : 30\n",
      "Extracted numbers from the list : 300\n",
      "Extracted numbers from the list : 3000\n"
     ]
    }
   ],
   "source": [
    "#step1 taking the input for the string\n",
    "st=input(\" enter  a string \")\n",
    "#step 2 intialiazing the num\n",
    "num = \"\"\n",
    "#step 3 using the for loop in sting st\n",
    "for c in st:\n",
    "    if c.isdigit():\n",
    "        num = num + c\n",
    "        print(\"Extracted numbers from the list : \" + num) \n"
   ]
  },
  {
   "cell_type": "code",
   "execution_count": null,
   "id": "818e81dc-ca9f-4be6-adc7-8b5119d0d8ce",
   "metadata": {},
   "outputs": [],
   "source": [
    "25. Extract all alphabets from a string."
   ]
  },
  {
   "cell_type": "code",
   "execution_count": 65,
   "id": "eea4fe27-3178-4ea8-a631-69b94879e2da",
   "metadata": {},
   "outputs": [
    {
     "name": "stdout",
     "output_type": "stream",
     "text": [
      "Given string :  Qwer34^&t%y\n",
      "Result:  Qwerty\n"
     ]
    }
   ],
   "source": [
    "import re\n",
    "stringA = \"Qwer34^&t%y\"\n",
    "\n",
    "# printing the  Given string\n",
    "print(\"Given string : \", stringA)\n",
    "\n",
    "# Finding the characters\n",
    "res = \"\".join(re.findall(\"[a-zA-Z]+\", stringA))\n",
    "\n",
    "# Result\n",
    "print(\"Result: \", res)"
   ]
  },
  {
   "cell_type": "code",
   "execution_count": null,
   "id": "22c88e0d-8f82-49c3-a7b2-1b906d82d072",
   "metadata": {},
   "outputs": [],
   "source": [
    "26.Count the number of uppercase letters in a string"
   ]
  },
  {
   "cell_type": "code",
   "execution_count": 10,
   "id": "562e4d94-b3e7-4a20-8757-e1e122b923c1",
   "metadata": {},
   "outputs": [
    {
     "name": "stdin",
     "output_type": "stream",
     "text": [
      "Enter string: i Love India \n"
     ]
    },
    {
     "name": "stdout",
     "output_type": "stream",
     "text": [
      "The number of uppercase characters is:\n",
      "2\n"
     ]
    }
   ],
   "source": [
    "#step 1 taking the input for string\n",
    "string=input(\"Enter string:\")\n",
    "#step 2 intializing the count \n",
    "count1=0\n",
    "# step 3 using for loop for  finding the uppercase letter\n",
    "for i in string:\n",
    "#step 4 using conditional operator and upper method\n",
    "      if(i.isupper()):\n",
    "            count1=count1+1\n",
    "#step5  printing the result\n",
    "print(\"The number of uppercase characters is:\")\n",
    "print(count1)"
   ]
  },
  {
   "cell_type": "code",
   "execution_count": null,
   "id": "9978056d-3d9e-4e5b-a9c9-f3bab03507bf",
   "metadata": {},
   "outputs": [],
   "source": [
    "27.Count the number of lowercase letters in a string."
   ]
  },
  {
   "cell_type": "code",
   "execution_count": 12,
   "id": "c48a0bde-80bb-440a-af41-c9321a97a36a",
   "metadata": {},
   "outputs": [
    {
     "name": "stdin",
     "output_type": "stream",
     "text": [
      "enter the string  amrit\n"
     ]
    },
    {
     "name": "stdout",
     "output_type": "stream",
     "text": [
      "the number of chracters are lowercase is:\n",
      "5\n"
     ]
    }
   ],
   "source": [
    "#step1 taking the input  for string\n",
    "st1= input(\"enter the string \")\n",
    "#step 2 intializing the count \n",
    "count =0\n",
    "# step 3  using for loop for identifying the lowercase letters\n",
    "for i in st1:\n",
    "#step 4 using conditional operator and upper method\n",
    "    if(i.islower()):\n",
    "        count=count+1\n",
    "#step5  printing the result\n",
    "print(\"the number of chracters are lowercase is:\")\n",
    "print(count)"
   ]
  },
  {
   "cell_type": "code",
   "execution_count": null,
   "id": "5338b57f-52b9-41e5-b250-d8cba221a81a",
   "metadata": {},
   "outputs": [],
   "source": [
    "28.Swap the case of each character in a string."
   ]
  },
  {
   "cell_type": "code",
   "execution_count": 27,
   "id": "aef9bebc-30eb-4742-ab72-6a2da48008b0",
   "metadata": {},
   "outputs": [
    {
     "name": "stdin",
     "output_type": "stream",
     "text": [
      "enter the string   I love Amrit\n"
     ]
    },
    {
     "name": "stdout",
     "output_type": "stream",
     "text": [
      " i LOVE aMRIT\n"
     ]
    }
   ],
   "source": [
    "#step1 taking the input  for string\n",
    "st1= input(\"enter the string \")\n",
    "#step 2 using the python method for swapiung\n",
    "st2=st1.swapcase()\n",
    "# step 3  printing the  result\n",
    "print(st2)\n"
   ]
  },
  {
   "cell_type": "code",
   "execution_count": null,
   "id": "88c0345f-f6ec-45b7-a98e-753a36593488",
   "metadata": {},
   "outputs": [],
   "source": [
    "29.Remove a specific word from a string."
   ]
  },
  {
   "cell_type": "code",
   "execution_count": 39,
   "id": "7d2ae776-62eb-40ea-bd44-ceb6248bc04e",
   "metadata": {},
   "outputs": [
    {
     "name": "stdin",
     "output_type": "stream",
     "text": [
      "Enter a string:   i love amrit , he is good person\n",
      "Enter a word to delete:  good\n"
     ]
    },
    {
     "name": "stdout",
     "output_type": "stream",
     "text": [
      "String after deletion: i love amrit , he is person\n"
     ]
    }
   ],
   "source": [
    "#step1 taking the input  for string\n",
    "text = input('Enter a string: ')\n",
    "#step2 splitting the words\n",
    "words = text.split()\n",
    "#step 3 taking the in puts for string\n",
    "data = input('Enter a word to delete: ')\n",
    "status = False\n",
    "#step 4 using for loop for matching a removing words from the string\n",
    "for word in words:\n",
    "    if word == data:\n",
    "#step 5 using remove operator\n",
    "        words.remove(word)\n",
    "        status = True\n",
    "if status:\n",
    "# step 6 joining the splitted items\n",
    "    text = ' '.join(words)\n",
    "#step 7 printing the result \n",
    "    print('String after deletion:',text)"
   ]
  },
  {
   "cell_type": "code",
   "execution_count": null,
   "id": "f1804372-54c0-4f86-a2c5-cf16dadd6416",
   "metadata": {},
   "outputs": [],
   "source": [
    "30. Check if a string is a valid email address."
   ]
  },
  {
   "cell_type": "code",
   "execution_count": 4,
   "id": "ac0577d5-a227-463c-bce2-5c9aa7a582ce",
   "metadata": {},
   "outputs": [
    {
     "name": "stdin",
     "output_type": "stream",
     "text": [
      "enter your email amri34@gmail.com\n"
     ]
    },
    {
     "name": "stdout",
     "output_type": "stream",
     "text": [
      "Valid Email\n"
     ]
    }
   ],
   "source": [
    "\n",
    "#step 1 enter the input for string\n",
    "email= input(\"enter your email\")\n",
    "#step1 calling the founction\n",
    "check(email)\n",
    "\n",
    "import re\n",
    " \n",
    "#step 2 Make a regular expression\n",
    "#step 3 for validating an Email\n",
    "regex = r'\\b[A-Za-z0-9._%+-]+@[A-Za-z0-9.-]+\\.[A-Z|a-z]{2,7}\\b'\n",
    " \n",
    "#step4 Define a function for\n",
    "#step 5 for validating an Email\n",
    "def check(email):\n",
    " \n",
    "    #step 6  pass the regular expression and the string into the fullmatch() method\n",
    "    if(re.fullmatch(regex, email)):\n",
    "        print(\"Valid Email\")\n",
    " \n",
    "    else:\n",
    "        print(\"Invalid Email\")\n",
    "\n"
   ]
  },
  {
   "cell_type": "code",
   "execution_count": null,
   "id": "fd39df11-691d-4421-aa1e-d825298d37de",
   "metadata": {},
   "outputs": [],
   "source": [
    "31. Extract the username from an email address string."
   ]
  },
  {
   "cell_type": "code",
   "execution_count": 22,
   "id": "84bb17af-1693-46ab-9e1f-f15ed4e9defb",
   "metadata": {},
   "outputs": [
    {
     "name": "stdin",
     "output_type": "stream",
     "text": [
      "enter your email amrit334@gmail.com\n"
     ]
    },
    {
     "data": {
      "text/plain": [
       "'amrit'"
      ]
     },
     "execution_count": 22,
     "metadata": {},
     "output_type": "execute_result"
    }
   ],
   "source": [
    "#step 1 enter the input for string\n",
    "email= input(\"enter your email\")\n",
    "#step 2  splitting the data\n",
    "data = email.split(\"@\")[0]\n",
    "#step 3  intializing the  result\n",
    "result =\"\"\n",
    "for i in data:\n",
    "        if i.isalpha():\n",
    "            result+=i\n",
    "result\n"
   ]
  },
  {
   "cell_type": "code",
   "execution_count": null,
   "id": "05adebf5-3fa0-4d82-af31-79b9b7737497",
   "metadata": {},
   "outputs": [],
   "source": [
    "32.Extract the domain name from an email address string."
   ]
  },
  {
   "cell_type": "code",
   "execution_count": 2,
   "id": "13487330-3520-4d17-9b96-8a00c6c46f9e",
   "metadata": {},
   "outputs": [
    {
     "name": "stdin",
     "output_type": "stream",
     "text": [
      "enter your email amrti33445@gmail.com\n"
     ]
    },
    {
     "name": "stdout",
     "output_type": "stream",
     "text": [
      "gmail.com\n"
     ]
    }
   ],
   "source": [
    "#step1 enter the input for the string\n",
    "email = input(\"enter your email\")\n",
    "#step 2 using slicing techniques\n",
    "new = email[email.index('@') + 1 : ]\n",
    "#step 3 result\n",
    "print(new)\n"
   ]
  },
  {
   "cell_type": "code",
   "execution_count": null,
   "id": "4168d7af-c866-411f-9b74-d818b7a11f45",
   "metadata": {},
   "outputs": [],
   "source": [
    "33.Replace multiple spaces in a string with a single space."
   ]
  },
  {
   "cell_type": "code",
   "execution_count": 4,
   "id": "f171d0ad-de8d-4f9e-b80e-88de1e5fc2df",
   "metadata": {},
   "outputs": [
    {
     "name": "stdin",
     "output_type": "stream",
     "text": [
      "enter the input for a string i  love\n"
     ]
    },
    {
     "name": "stdout",
     "output_type": "stream",
     "text": [
      "i love\n"
     ]
    }
   ],
   "source": [
    "#step1 enter the input for the string\n",
    "st1=input(\"enter the input for a string\")\n",
    "#step 2 using replace method\n",
    "st2=st1.replace(\"  \",\" \")\n",
    "#step 3 printing the result\n",
    "print(st2)\n",
    "\n",
    "    "
   ]
  },
  {
   "cell_type": "code",
   "execution_count": null,
   "id": "b1276578-a473-43b5-b66d-987279879403",
   "metadata": {},
   "outputs": [],
   "source": [
    "34.Check if a string is a valid URL."
   ]
  },
  {
   "cell_type": "code",
   "execution_count": 19,
   "id": "a7c5bd72-ed47-4736-aacd-b568e1a26f39",
   "metadata": {},
   "outputs": [
    {
     "name": "stdin",
     "output_type": "stream",
     "text": [
      "enter url https://purple-waitress-vmlye.pwskills.app/lab/workspaces/auto-m/tree/work/20_August%20_%202023.ipynb\n"
     ]
    },
    {
     "name": "stdout",
     "output_type": "stream",
     "text": [
      "The URL is:  https://purple-waitress-vmlye.pwskills.app/lab/workspaces/auto-m/tree/work/20_August%20_%202023.ipynb\n"
     ]
    }
   ],
   "source": [
    "#step 1importing re module from python library\n",
    "import re\n",
    "#step 2 findall() function used with the conditions which is valid for url in the strings\n",
    "string = input(\"enter url\")\n",
    "#step 3 using regular expression for checking url \n",
    "regex= 'http[s]?://(?:[a-zA-Z]|[0-9]|[$-_@.&+]|[!*\\(\\), ]|(?:%[0-9a-fA-F][0-9a-fA-F]))+'\n",
    "result = re.search(regex,string).group()\n",
    "#step 4 printing the rtesult\n",
    "print(\"The URL is: \", result)"
   ]
  },
  {
   "cell_type": "code",
   "execution_count": null,
   "id": "0de288c6-a900-432a-a364-81718527f4f8",
   "metadata": {},
   "outputs": [],
   "source": [
    "35.Extract the protocol (http or https) from a URL string."
   ]
  },
  {
   "cell_type": "code",
   "execution_count": 2,
   "id": "8375b72f-7e2e-4e26-ae5d-010222e7bdd1",
   "metadata": {},
   "outputs": [
    {
     "name": "stdin",
     "output_type": "stream",
     "text": [
      "enter the value for string https://purple-waitress-vmlye.pwskills.app/lab/workspaces/auto-9/tree/work/20_August%20_%202023.ipynb\n"
     ]
    },
    {
     "name": "stdout",
     "output_type": "stream",
     "text": [
      "Protocol: https\n"
     ]
    }
   ],
   "source": [
    "# step 1 inmporting the library\n",
    "from urllib.parse import urlparse\n",
    "# step 2 enter the value for string\n",
    "st=input(\"enter the value for string\")\n",
    "#  step 3 Parse the URL\n",
    "parsed_url = urlparse(st)\n",
    "# Extract the protocol\n",
    "protocol = parsed_url.scheme\n",
    "print(\"Protocol:\", protocol)"
   ]
  },
  {
   "cell_type": "code",
   "execution_count": null,
   "id": "41a4080a-d61b-407d-ad59-1c12a74241aa",
   "metadata": {},
   "outputs": [],
   "source": [
    "36. Find the frequency of each character in a string."
   ]
  },
  {
   "cell_type": "code",
   "execution_count": 14,
   "id": "ee25a517-4841-4450-818f-48035bc050fe",
   "metadata": {},
   "outputs": [
    {
     "name": "stdin",
     "output_type": "stream",
     "text": [
      "enter the string i love india hate khaliostani sikhs\n"
     ]
    },
    {
     "name": "stdout",
     "output_type": "stream",
     "text": [
      "Character: 'i' Frequency: 6\n",
      "Character: 'l' Frequency: 2\n",
      "Character: 'o' Frequency: 2\n",
      "Character: 'v' Frequency: 1\n",
      "Character: 'e' Frequency: 2\n",
      "Character: 'n' Frequency: 2\n",
      "Character: 'd' Frequency: 1\n",
      "Character: 'a' Frequency: 4\n",
      "Character: 'h' Frequency: 3\n",
      "Character: 't' Frequency: 2\n",
      "Character: 'k' Frequency: 2\n",
      "Character: 's' Frequency: 3\n"
     ]
    }
   ],
   "source": [
    "input_string = input(\"enter the string\")\n",
    "\n",
    "# Use Counter to calculate character frequencies\n",
    "char_frequencies = Counter(input_string)\n",
    "\n",
    "# Print the character frequencies\n",
    "for char, freq in char_frequencies.items():\n",
    "    if char.isalnum():  # Optionally, filter out non-alphanumeric characters\n",
    "        print(f\"Character: '{char}' Frequency: {freq}\")\n"
   ]
  },
  {
   "cell_type": "code",
   "execution_count": null,
   "id": "e84883fe-51ec-4825-b50d-c890358603f6",
   "metadata": {},
   "outputs": [],
   "source": [
    "37.Remove all punctuation from a string."
   ]
  },
  {
   "cell_type": "code",
   "execution_count": 5,
   "id": "a7afa48c-e5fb-4c63-87ce-1f22b5f3ab27",
   "metadata": {},
   "outputs": [
    {
     "name": "stdin",
     "output_type": "stream",
     "text": [
      "enter the string i love india \"s food\n"
     ]
    },
    {
     "name": "stdout",
     "output_type": "stream",
     "text": [
      "i love india s food\n"
     ]
    }
   ],
   "source": [
    "\n",
    "# step 1Enter  string with punctuation\n",
    "input_string = input(\"enter the string\")\n",
    "\n",
    "# step 2 Create a translation table to remove punctuation\n",
    "translator = str.maketrans('', '', string.punctuation)\n",
    "\n",
    "# step 3 Use translate() to remove punctuation from the string\n",
    "cleaned_string = input_string.translate(translator)\n",
    "\n",
    "# step 4 Print the cleaned string\n",
    "print(cleaned_string)"
   ]
  },
  {
   "cell_type": "code",
   "execution_count": null,
   "id": "8848f002-1aad-4b3f-817b-c079b310a7e7",
   "metadata": {},
   "outputs": [],
   "source": [
    "38.Check if a string contains only digits."
   ]
  },
  {
   "cell_type": "code",
   "execution_count": 7,
   "id": "69e1b1a0-d6b5-4947-9d34-e8de7713b6c7",
   "metadata": {},
   "outputs": [
    {
     "name": "stdin",
     "output_type": "stream",
     "text": [
      "enter the string value amri123\n"
     ]
    },
    {
     "data": {
      "text/plain": [
       "False"
      ]
     },
     "execution_count": 7,
     "metadata": {},
     "output_type": "execute_result"
    }
   ],
   "source": [
    "#step 1 enter the input of a string\n",
    "st=input(\"enter the string value\")\n",
    "#step 2 checking the string hjave only digit or not\n",
    "result=st.isdigit()\n",
    "result"
   ]
  },
  {
   "cell_type": "code",
   "execution_count": null,
   "id": "7c1a7a3a-addc-454b-987f-ab0ea7126447",
   "metadata": {},
   "outputs": [],
   "source": [
    "39.Check if a string contains only alphabets."
   ]
  },
  {
   "cell_type": "code",
   "execution_count": 8,
   "id": "35282060-6e74-4842-83e4-c422f5257ade",
   "metadata": {},
   "outputs": [
    {
     "name": "stdin",
     "output_type": "stream",
     "text": [
      "enter the string value amrit\n"
     ]
    },
    {
     "data": {
      "text/plain": [
       "True"
      ]
     },
     "execution_count": 8,
     "metadata": {},
     "output_type": "execute_result"
    }
   ],
   "source": [
    "#step 1 enter the input of a string\n",
    "st=input(\"enter the string value\")\n",
    "#step 2 checking the string have only alphabat or not\n",
    "result=st.isalpha()\n",
    "result"
   ]
  },
  {
   "cell_type": "code",
   "execution_count": null,
   "id": "0a460a0e-f416-456c-8151-2e027ffb1ddb",
   "metadata": {},
   "outputs": [],
   "source": [
    "40.Convert a string to a list of characters."
   ]
  },
  {
   "cell_type": "code",
   "execution_count": 10,
   "id": "4060219e-02d8-44ea-ac8e-ce3a8d7f6cb9",
   "metadata": {},
   "outputs": [
    {
     "name": "stdin",
     "output_type": "stream",
     "text": [
      "enter the string value i love amrit\n"
     ]
    },
    {
     "name": "stdout",
     "output_type": "stream",
     "text": [
      "['i', ' ', 'l', 'o', 'v', 'e', ' ', 'a', 'm', 'r', 'i', 't']\n"
     ]
    }
   ],
   "source": [
    "#step 1 enter the input of a string\n",
    "st=input(\"enter the string value\")\n",
    "#step 2  creating list\n",
    "a=[char for char in st]\n",
    "#step 3 printing result\n",
    "print(a)"
   ]
  },
  {
   "cell_type": "code",
   "execution_count": null,
   "id": "2eb650ef-020a-4474-a2e6-2115982c6f8c",
   "metadata": {},
   "outputs": [],
   "source": [
    "41.Check if two strings are anagrams."
   ]
  },
  {
   "cell_type": "code",
   "execution_count": 27,
   "id": "cc85d18f-7c47-403d-8838-53503991254d",
   "metadata": {},
   "outputs": [
    {
     "name": "stdin",
     "output_type": "stream",
     "text": [
      "enter the string value race\n",
      "enter the value of second string care\n"
     ]
    },
    {
     "name": "stdout",
     "output_type": "stream",
     "text": [
      "yes\n"
     ]
    }
   ],
   "source": [
    "#step 1 enter the input of a string\n",
    "st=input(\"enter the string value\")\n",
    "#step2 enter the input for 2nd string\n",
    "st2= input(\"enter the value of second string\")\n",
    "# step 3 remove spaces and convert both string chracter into lowercase\n",
    "st1=st.replace(\" \",\"\").lower()\n",
    "st3=st.replace(\" \",\"\").lower()\n",
    "#step 4  Check if the sorted characters of both strings match\n",
    "if sorted(st1)==sorted(st3):\n",
    "    print(\"yes\")\n",
    "else:\n",
    "    print(\"false\")\n",
    "    \n",
    "\n",
    "\n",
    "\n",
    "\n"
   ]
  },
  {
   "cell_type": "code",
   "execution_count": null,
   "id": "8079ec29-4092-40d5-8b86-27d8c7898393",
   "metadata": {},
   "outputs": [],
   "source": [
    "42.Encode a string using a Caesar cipher."
   ]
  },
  {
   "cell_type": "code",
   "execution_count": 23,
   "id": "407768bc-a2d1-4fd4-8c72-1f583c44e10b",
   "metadata": {},
   "outputs": [
    {
     "name": "stdout",
     "output_type": "stream",
     "text": [
      "Original Text: Hello, World!\n",
      "Encoded Text: Khoor, Zruog!\n"
     ]
    }
   ],
   "source": [
    "# step 1 creating the founction \n",
    "def caesar_cipher(text, shift):\n",
    "    encoded_text = \"\"\n",
    "# step 2  using the for loop\n",
    "    for char in text:\n",
    "        #  step 3 Check if the character is a letter\n",
    "        if char.isalpha():\n",
    "            # step 4  Determine if it's uppercase or lowercase\n",
    "            is_upper = char.isupper()\n",
    "            \n",
    "            #  step 5 Apply the Caesar cipher shift\n",
    "            shifted_char = chr(((ord(char) - ord('A' if is_upper else 'a') + shift) % 26) + ord('A' if is_upper else 'a'))\n",
    "            encoded_text += shifted_char\n",
    "        else:\n",
    "            #step 6 If the character is not a letter, keep it unchanged\n",
    "            encoded_text += char\n",
    "\n",
    "    return encoded_text\n",
    "\n",
    "#  sample use\n",
    "original_text = \"Hello, World!\"\n",
    "shift_value = 3\n",
    "encoded_text = caesar_cipher(original_text, shift_value)\n",
    "\n",
    "print(\"Original Text:\", original_text)\n",
    "print(\"Encoded Text:\", encoded_text)\n"
   ]
  },
  {
   "cell_type": "code",
   "execution_count": null,
   "id": "d64701b7-b0ec-4d7a-b60f-4c98208001aa",
   "metadata": {},
   "outputs": [],
   "source": [
    "43. Decode a Caesar cipher encoded string."
   ]
  },
  {
   "cell_type": "code",
   "execution_count": 5,
   "id": "05f5f98d-9fae-4620-b6bd-89bb94ae355f",
   "metadata": {},
   "outputs": [
    {
     "name": "stdout",
     "output_type": "stream",
     "text": [
      "Hello, World!\n"
     ]
    }
   ],
   "source": [
    "from collections import Counter\n",
    "import re\n",
    "\n",
    "# step 1 cearting a founction\n",
    "def caesar_cipher_decrypt(encrypted_string, shift):\n",
    "    decrypted_string = \"\"\n",
    "\n",
    "    for char in encrypted_string:\n",
    "        if char.isalpha():  #step 2  Check if the character is an alphabet letter\n",
    "            # step 3Determine whether the character is uppercase or lowercase\n",
    "            is_upper = char.isupper()\n",
    "\n",
    "            # step 4Calculate the new character code after shifting it backward by 'shift' positions\n",
    "            char_code = ord(char)\n",
    "            char_code -= shift\n",
    "\n",
    "            # step 5 Handle wrapping around the alphabet\n",
    "            if is_upper:\n",
    "                if char_code > ord('Z'):\n",
    "                    char_code += 26\n",
    "                elif char_code < ord('A'):\n",
    "                    char_code -= 26\n",
    "            else:\n",
    "                if char_code > ord('z'):\n",
    "                    char_code += 26\n",
    "                elif char_code < ord('a'):\n",
    "                    char_code -= 26\n",
    "\n",
    "            # step 6Append the shifted character to the decrypted string\n",
    "            decrypted_string += chr(char_code)\n",
    "        else:\n",
    "            # step 7 Non-alphabet characters are not modified\n",
    "            decrypted_string += char\n",
    "\n",
    "    return decrypted_string\n",
    "\n",
    "# step 8 Example usage:\n",
    "encrypted_string = \"Khoor, Zruog!\"\n",
    "shift = 3\n",
    "decrypted_string = caesar_cipher_decrypt(encrypted_string, shift)\n",
    "print(decrypted_string)\n"
   ]
  },
  {
   "cell_type": "code",
   "execution_count": null,
   "id": "ac72514f-8358-4783-a7a6-7a8a2905a497",
   "metadata": {},
   "outputs": [],
   "source": [
    "44. Find the most frequent word in a string."
   ]
  },
  {
   "cell_type": "code",
   "execution_count": 6,
   "id": "4f1c31b7-ce99-4c63-847b-86b9d2cfb732",
   "metadata": {},
   "outputs": [
    {
     "name": "stdout",
     "output_type": "stream",
     "text": [
      "Most frequent word: this\n"
     ]
    }
   ],
   "source": [
    "#step 1 make a founction \n",
    "def most_frequent_word(input_string):\n",
    "    #step 2Convert the input string to lowercase\n",
    "    input_string = input_string.lower()\n",
    "\n",
    "    #step 3 Split the string into words\n",
    "    words = input_string.split()\n",
    "\n",
    "    #step 4 Create a dictionary to store word frequencies\n",
    "    word_freq = {}\n",
    "\n",
    "    #step 6 Count the frequency of each word\n",
    "    for word in words:\n",
    "        if word in word_freq:\n",
    "            word_freq[word] += 1\n",
    "        else:\n",
    "            word_freq[word] = 1\n",
    "\n",
    "    #step 7 Find the word with the highest frequency\n",
    "    most_frequent = max(word_freq, key=word_freq.get)\n",
    "\n",
    "    return most_frequent\n",
    "\n",
    "#step 8  Example usage:\n",
    "input_string = \"This is a test. This is only a test. Testing, testing, 1, 2, 3.\"\n",
    "result = most_frequent_word(input_string)\n",
    "print(\"Most frequent word:\", result)"
   ]
  },
  {
   "cell_type": "code",
   "execution_count": null,
   "id": "fc8651a6-9300-4bf3-983d-050239dc5ee3",
   "metadata": {},
   "outputs": [],
   "source": [
    "45. Find all unique words in a string."
   ]
  },
  {
   "cell_type": "code",
   "execution_count": 1,
   "id": "b79ec221-e5a8-443e-85c7-ad1c17832245",
   "metadata": {},
   "outputs": [
    {
     "name": "stdin",
     "output_type": "stream",
     "text": [
      "enter the string this this is good good boy\n"
     ]
    },
    {
     "name": "stdout",
     "output_type": "stream",
     "text": [
      "{'boy', 'is', 'this', 'good'}\n"
     ]
    }
   ],
   "source": [
    "#step1 enter the string for input\n",
    "st1=input(\"enter the string\")\n",
    "#step 2 We convert the input string to lowercase using .lower() to make the comparison case-insensitive.\n",
    "\n",
    "#step 2.1 We split the string into words using .split(), which splits the string by whitespace.\n",
    "\n",
    "#step 2.2 We create a set called unique_words to store unique words. Sets automatically remove \n",
    "words=st1.lower().split()\n",
    "unique_words = set(words)\n",
    "print(unique_words)\n",
    "    "
   ]
  },
  {
   "cell_type": "code",
   "execution_count": null,
   "id": "2c76d304-db09-4189-9bfe-fc9883ac61db",
   "metadata": {},
   "outputs": [],
   "source": [
    "46.Count the number of syllables in a string."
   ]
  },
  {
   "cell_type": "code",
   "execution_count": 13,
   "id": "46359591-5ab9-46dc-8051-a7549591f57f",
   "metadata": {},
   "outputs": [
    {
     "name": "stdout",
     "output_type": "stream",
     "text": [
      "The word 'example' has 2 syllable(s).\n"
     ]
    }
   ],
   "source": [
    "#step 1 creating the founctions\n",
    "def count_syllables(word):\n",
    "    vowels = \"aeiouAEIOU\"\n",
    "    count = 0\n",
    "    previous_char_was_vowel = False\n",
    "# step 2 using the for loop \n",
    "    for char in word:\n",
    "        if char in vowels:\n",
    "            if not previous_char_was_vowel:\n",
    "                count += 1\n",
    "            previous_char_was_vowel = True\n",
    "        else:\n",
    "            previous_char_was_vowel = False\n",
    "\n",
    "# step 3 Adjust for words ending with 'e'\n",
    "    if word.endswith('e') and count > 1:\n",
    "        count -= 1\n",
    "\n",
    "# step 4 Ensure at least one syllable for very short words\n",
    "    if count == 0:\n",
    "        count = 1\n",
    "\n",
    "    return count\n",
    "\n",
    "# step 5 Example usage:\n",
    "word = \"example\"\n",
    "syllable_count = count_syllables(word)\n",
    "print(f\"The word '{word}' has {syllable_count} syllable(s).\")"
   ]
  },
  {
   "cell_type": "code",
   "execution_count": null,
   "id": "7fb7262c-e476-43fb-8808-29b603b3a900",
   "metadata": {},
   "outputs": [],
   "source": [
    "47. Check if a string contains any special characters."
   ]
  },
  {
   "cell_type": "code",
   "execution_count": 25,
   "id": "44308d96-bca4-4696-9807-02dab8cd8bc2",
   "metadata": {},
   "outputs": [
    {
     "name": "stdout",
     "output_type": "stream",
     "text": [
      "The string contains special characters.\n"
     ]
    }
   ],
   "source": [
    "import re\n",
    "# step 1  creating the founction \n",
    "def contains_special_characters(input_string):\n",
    "    # step 2  Define a regular expression pattern to match special characters\n",
    "    pattern = r'[!@#$%^&*()_+{}\\[\\]:;<>,.?~\\\\|/-]'\n",
    "\n",
    "    # step 3  Use re.search() to find a match in the string\n",
    "    if re.search(pattern, input_string):\n",
    "        return True\n",
    "    else:\n",
    "        return False\n",
    "\n",
    "#  step 4 Example usage\n",
    "test_string = \"Hello123!\"\n",
    "result = contains_special_characters(test_string)\n",
    "\n",
    "if result:\n",
    "    print(\"The string contains special characters.\")\n",
    "else:\n",
    "    print(\"The string does not contain special characters.\")\n"
   ]
  },
  {
   "cell_type": "code",
   "execution_count": null,
   "id": "63c7c67c-25ce-416d-9ed0-a07f5d465f36",
   "metadata": {},
   "outputs": [],
   "source": [
    "48.Remove the nth word from a string."
   ]
  },
  {
   "cell_type": "code",
   "execution_count": 1,
   "id": "ee515ab5-7484-45b4-a633-fb602b913a88",
   "metadata": {},
   "outputs": [
    {
     "name": "stdout",
     "output_type": "stream",
     "text": [
      "This is sample sentence for testing\n"
     ]
    }
   ],
   "source": [
    "def remove_nth_word(input_string, n):\n",
    "    #  step 1declaring founction aboeve and  Split the string into words using whitespace as the separator\n",
    "    words = input_string.split()\n",
    "    \n",
    "    #step 2  Check if n is a valid index\n",
    "    if n >= 0 and n < len(words):\n",
    "        # Remove the nth word\n",
    "        del words[n]\n",
    "        \n",
    "        #step 3 Join the remaining words back into a string with whitespace\n",
    "        result_string = ' '.join(words)\n",
    "        return result_string\n",
    "    else:\n",
    "        # step4 Return the original string if n is out of bounds\n",
    "        return input_string\n",
    "\n",
    "# step 5 Example usage:\n",
    "input_string = \"This is a sample sentence for testing\"\n",
    "n = 2  # Remove the 3rd word (\"a\")\n",
    "result = remove_nth_word(input_string, n)\n",
    "print(result)  # Output: \"This is sample sentence for testing\""
   ]
  },
  {
   "cell_type": "code",
   "execution_count": null,
   "id": "0d95d608-595f-4c96-9aa1-eb7e693b3cfc",
   "metadata": {},
   "outputs": [],
   "source": [
    "49.Insert a word at the nth position in a string."
   ]
  },
  {
   "cell_type": "code",
   "execution_count": 2,
   "id": "4db13d7b-3fc5-4a27-9ca3-465687b1e6dd",
   "metadata": {},
   "outputs": [
    {
     "name": "stdout",
     "output_type": "stream",
     "text": [
      "This is new a sample sentence for testing\n"
     ]
    }
   ],
   "source": [
    "# step 1 taking the input of string \n",
    "input_string = \"This is a sample sentence for testing\"\n",
    "n = 2  # step 2 Insert the word \"new\" at the 3rd position (index 2)\n",
    "word_to_insert = \"new\"\n",
    "\n",
    "# step 3  Split the input string into words using whitespace as the separator\n",
    "words = input_string.split()\n",
    "\n",
    "# step 4  Check if n is a valid index\n",
    "if n >= 0 and n <= len(words):\n",
    "    # step 5 Insert the word at the specified position\n",
    "    words.insert(n, word_to_insert)\n",
    "\n",
    "    #step 6  Join the updated list of words back into a string with whitespace\n",
    "    result_string = ' '.join(words)\n",
    "    print(result_string)  # Output: \"This is new a sample sentence for testing\"\n",
    "else:\n",
    "    # step 7 If n is out of bounds, print the original string\n",
    "    print(input_string)"
   ]
  },
  {
   "cell_type": "code",
   "execution_count": null,
   "id": "838de9bd-2ee7-40a8-aa9a-4115f65adb3e",
   "metadata": {},
   "outputs": [],
   "source": [
    "50. Convert a CSV string to a list of lists."
   ]
  },
  {
   "cell_type": "code",
   "execution_count": 3,
   "id": "e4ee4796-caf1-44d4-b43a-c4f5b0f80605",
   "metadata": {},
   "outputs": [
    {
     "name": "stdout",
     "output_type": "stream",
     "text": [
      "['John', 'Doe', '30']\n",
      "['Jane', 'Smith', '25']\n",
      "['Bob', 'Johnson', '35']\n"
     ]
    }
   ],
   "source": [
    "csv_string = \"John,Doe,30\\nJane,Smith,25\\nBob,Johnson,35\"\n",
    "\n",
    "# step 1  Split the CSV string into lines\n",
    "lines = csv_string.split('\\n')\n",
    "\n",
    "#  step 2 Initialize an empty list to store the result\n",
    "csv_data = []\n",
    "\n",
    "#  step 3 Iterate through the lines and split each line into fields\n",
    "for line in lines:\n",
    "    fields = line.split(',')\n",
    "    csv_data.append(fields)\n",
    "\n",
    "#  step 4 Remove any empty lines if present (e.g., at the end)\n",
    "csv_data = [fields for fields in csv_data if fields]\n",
    "\n",
    "# step 5 Print the resulting list of lists\n",
    "for row in csv_data:\n",
    "    print(row)"
   ]
  },
  {
   "cell_type": "code",
   "execution_count": null,
   "id": "2a8ceec3-4d5e-49ad-8968-f7b16ff349f6",
   "metadata": {},
   "outputs": [],
   "source": [
    "TOPIC-                            List Based Practice Problem "
   ]
  },
  {
   "cell_type": "code",
   "execution_count": null,
   "id": "7276d588-cf7e-4628-8740-7ee10535b98b",
   "metadata": {},
   "outputs": [],
   "source": [
    "1. Create a list with integers from 1 to 10."
   ]
  },
  {
   "cell_type": "code",
   "execution_count": 22,
   "id": "01d1a4c7-8ddd-41ca-a262-ab6654917fe2",
   "metadata": {},
   "outputs": [
    {
     "data": {
      "text/plain": [
       "[1, 2, 3, 4, 5, 6, 7, 8, 9, 10]"
      ]
     },
     "execution_count": 22,
     "metadata": {},
     "output_type": "execute_result"
    }
   ],
   "source": [
    "#step 1  crating  a list \n",
    "a=[1,2,3,4,5,6,7,8,9,10]\n",
    "a\n",
    "\n"
   ]
  },
  {
   "cell_type": "code",
   "execution_count": null,
   "id": "3cfdaa9d-ef93-488c-9e02-764162d72e70",
   "metadata": {},
   "outputs": [],
   "source": [
    "2. Find the length of a list without using the `len()` function."
   ]
  },
  {
   "cell_type": "code",
   "execution_count": 21,
   "id": "3e09c946-670a-446f-9ffa-0ec95316cd80",
   "metadata": {},
   "outputs": [
    {
     "data": {
      "text/plain": [
       "10"
      ]
     },
     "execution_count": 21,
     "metadata": {},
     "output_type": "execute_result"
    }
   ],
   "source": [
    "#step 1  crating  a list \n",
    "a=[1,2,3,4,5,6,7,8,9,10]\n",
    "# step 2 intializing the count with 0\n",
    "count=0\n",
    "# step 3  using the for loop \n",
    "for i in a:\n",
    "   count += 1\n",
    "count\n",
    "   \n",
    "\n"
   ]
  },
  {
   "cell_type": "code",
   "execution_count": null,
   "id": "c46c73b1-58ab-4b09-bd81-646a5a388ccf",
   "metadata": {},
   "outputs": [],
   "source": [
    "3. Append an element to the end of a list."
   ]
  },
  {
   "cell_type": "code",
   "execution_count": 20,
   "id": "2e64799a-c301-449f-b833-89b3796aa3d8",
   "metadata": {},
   "outputs": [
    {
     "data": {
      "text/plain": [
       "[1, 2, 3, 4, 5, 6, 7, 8, 9, 10, 11]"
      ]
     },
     "execution_count": 20,
     "metadata": {},
     "output_type": "execute_result"
    }
   ],
   "source": [
    "#step 1  crating  a list \n",
    "a=[1,2,3,4,5,6,7,8,9,10]\n",
    "# step 2 apppending elementin las\n",
    "a.append(11)\n",
    "a"
   ]
  },
  {
   "cell_type": "code",
   "execution_count": null,
   "id": "8a71bd0d-496e-453b-aaf6-984d8c64bcd2",
   "metadata": {},
   "outputs": [],
   "source": [
    "4 .Insert an element at a specific index in a list."
   ]
  },
  {
   "cell_type": "code",
   "execution_count": 2,
   "id": "a9e4853b-2b16-4366-aa19-455ea0022786",
   "metadata": {},
   "outputs": [
    {
     "data": {
      "text/plain": [
       "[1, 2, 3, '5', 4, 5, 6, 7, 8, 9, 10]"
      ]
     },
     "execution_count": 2,
     "metadata": {},
     "output_type": "execute_result"
    }
   ],
   "source": [
    "#step 1  crating  a list \n",
    "a=[1,2,3,4,5,6,7,8,9,10]\n",
    "# step 2  using inser build in method\n",
    "a.insert(3,\"5\")\n",
    "# step 3 result \n",
    "a"
   ]
  },
  {
   "cell_type": "code",
   "execution_count": null,
   "id": "1ab36f79-af7d-456f-aed7-385aa08f19ce",
   "metadata": {},
   "outputs": [],
   "source": [
    "5. Remove an element from a list by its value."
   ]
  },
  {
   "cell_type": "code",
   "execution_count": 6,
   "id": "d1473edc-5bfa-4959-8ff1-8740b64fd1b6",
   "metadata": {},
   "outputs": [
    {
     "data": {
      "text/plain": [
       "[1, 2, 3, 5, 6, 7, 8, 9, 10]"
      ]
     },
     "execution_count": 6,
     "metadata": {},
     "output_type": "execute_result"
    }
   ],
   "source": [
    "#step 1  crating  a list \n",
    "a=[1,2,3,4,5,6,7,8,9,10]\n",
    "# step 2 using the remove method\n",
    "a.remove(4)\n",
    "a"
   ]
  },
  {
   "cell_type": "code",
   "execution_count": null,
   "id": "15bd8c68-6ad1-4da1-bb3e-6647195b8d43",
   "metadata": {},
   "outputs": [],
   "source": [
    "6. Remove an element from a list by its index."
   ]
  },
  {
   "cell_type": "code",
   "execution_count": 8,
   "id": "64273653-4332-46f9-ad9c-55cad647c7bc",
   "metadata": {},
   "outputs": [
    {
     "data": {
      "text/plain": [
       "[1, 2, 3, 5, 6, 7, 8, 9, 10]"
      ]
     },
     "execution_count": 8,
     "metadata": {},
     "output_type": "execute_result"
    }
   ],
   "source": [
    "#step 1  crating  a list \n",
    "a=[1,2,3,4,5,6,7,8,9,10]\n",
    "# step 2 using the pop method\n",
    "a.pop(3)\n",
    "# step 3 printing the result\n",
    "a"
   ]
  },
  {
   "cell_type": "code",
   "execution_count": null,
   "id": "fcabc55e-20a8-446d-854a-a0fb380c9a07",
   "metadata": {},
   "outputs": [],
   "source": [
    "7. Check if an element exists in a list."
   ]
  },
  {
   "cell_type": "code",
   "execution_count": 1,
   "id": "8b91d043-91cb-4fa8-9c00-e6b0007af20a",
   "metadata": {},
   "outputs": [
    {
     "name": "stdout",
     "output_type": "stream",
     "text": [
      "exist\n"
     ]
    }
   ],
   "source": [
    "#step 1  crating  a list \n",
    "a=[1,2,3,4,5,6,7,8,9,10]\n",
    "# step 2 enter the value for checking iun the list\n",
    "i= 5\n",
    "# step 3 using a if else\n",
    "if i in a:\n",
    "    print(\"exist\")\n",
    "else:\n",
    "    print(\"not exist\")"
   ]
  },
  {
   "cell_type": "code",
   "execution_count": null,
   "id": "e160998a-ce26-4f98-adc8-36e83278a6b3",
   "metadata": {},
   "outputs": [],
   "source": [
    "8. Find the index of the first occurrence of an element in a list."
   ]
  },
  {
   "cell_type": "code",
   "execution_count": 24,
   "id": "0b72eb35-0b18-4f00-a9aa-16d307666008",
   "metadata": {},
   "outputs": [
    {
     "name": "stdout",
     "output_type": "stream",
     "text": [
      "The first occurrence of 30 is at index 2\n"
     ]
    }
   ],
   "source": [
    "#step 1 list \n",
    "my_list = [10, 20, 30, 30, 30,40, 50]\n",
    "\n",
    "# step 2 Element to search for\n",
    "element_to_find = 30\n",
    "\n",
    "# Find the index of the first occurrence of the element\n",
    "index = my_list.index(element_to_find)\n",
    "\n",
    "print(f\"The first occurrence of {element_to_find} is at index {index}\")"
   ]
  },
  {
   "cell_type": "code",
   "execution_count": null,
   "id": "fc46a4af-2fb0-4eed-8202-1ddf1ed6be87",
   "metadata": {},
   "outputs": [],
   "source": [
    "9. Count the occurrences of an element in a list."
   ]
  },
  {
   "cell_type": "code",
   "execution_count": 12,
   "id": "b82db033-5ddc-4ee3-b10a-2b2f87ef9f00",
   "metadata": {},
   "outputs": [
    {
     "data": {
      "text/plain": [
       "3"
      ]
     },
     "execution_count": 12,
     "metadata": {},
     "output_type": "execute_result"
    }
   ],
   "source": [
    "#step 1 list \n",
    "my_list = [10, 20, 30, 30, 30,40, 50]\n",
    "\n",
    "# step 2 Element to search for\n",
    "k = 30\n",
    "count=0\n",
    "for j in my_list:\n",
    "    if (j==k):\n",
    "        count +=1\n",
    "    \n",
    "count"
   ]
  },
  {
   "cell_type": "code",
   "execution_count": null,
   "id": "1dcb37f6-e440-4dad-b936-9146dc859585",
   "metadata": {},
   "outputs": [],
   "source": [
    "10. Reverse the order of elements in a list."
   ]
  },
  {
   "cell_type": "code",
   "execution_count": 1,
   "id": "5f1c8a56-00e9-4899-b06f-5003f68be283",
   "metadata": {},
   "outputs": [
    {
     "data": {
      "text/plain": [
       "[50, 40, 30, 30, 30, 20, 10]"
      ]
     },
     "execution_count": 1,
     "metadata": {},
     "output_type": "execute_result"
    }
   ],
   "source": [
    "# step 1  list\n",
    "my_list = [10, 20, 30, 30, 30,40, 50]\n",
    "# step 2 reversing it\n",
    "my_list.reverse()\n",
    "my_list\n"
   ]
  },
  {
   "cell_type": "code",
   "execution_count": null,
   "id": "cb68c266-ae74-4ca5-9417-134d2ca01f44",
   "metadata": {},
   "outputs": [],
   "source": [
    "11. Sort a list in ascending order."
   ]
  },
  {
   "cell_type": "code",
   "execution_count": 2,
   "id": "ce8ac470-be9b-41b2-bf18-13e3528d3a88",
   "metadata": {},
   "outputs": [
    {
     "data": {
      "text/plain": [
       "[19, 20, 30, 40, 45, 50, 57]"
      ]
     },
     "execution_count": 2,
     "metadata": {},
     "output_type": "execute_result"
    }
   ],
   "source": [
    "# step 1  list\n",
    "my_list = [19, 20,45 ,30, 57,40, 50]\n",
    "#  step 2 sorting list in ascending order\n",
    "my_list.sort()\n",
    "# step 3 printing the result \n",
    "my_list\n",
    "\n",
    "\n"
   ]
  },
  {
   "cell_type": "code",
   "execution_count": null,
   "id": "f690f827-1ac3-4df5-8853-f8701752fc3a",
   "metadata": {},
   "outputs": [],
   "source": [
    "12. Sort a list in descending order."
   ]
  },
  {
   "cell_type": "code",
   "execution_count": 3,
   "id": "fa3c718d-9740-4217-a4ca-24ee0cb5f31c",
   "metadata": {},
   "outputs": [
    {
     "data": {
      "text/plain": [
       "[57, 50, 45, 40, 30, 20, 19]"
      ]
     },
     "execution_count": 3,
     "metadata": {},
     "output_type": "execute_result"
    }
   ],
   "source": [
    "# step 1  list\n",
    "my_list = [19, 20,45 ,30, 57,40, 50]\n",
    "#  step 2 sorting list in  descending oreder\n",
    "my_list.sort(reverse=True)\n",
    "# step 3 printing the result \n",
    "my_list\n"
   ]
  },
  {
   "cell_type": "code",
   "execution_count": null,
   "id": "75199a9c-85e1-4baa-8a0a-a0fb48317ed3",
   "metadata": {},
   "outputs": [],
   "source": [
    "13. Create a list of even numbers from 1 to 20."
   ]
  },
  {
   "cell_type": "code",
   "execution_count": 11,
   "id": "e0c5f696-8681-40e2-b8cf-d2e7253f882f",
   "metadata": {},
   "outputs": [
    {
     "name": "stdout",
     "output_type": "stream",
     "text": [
      "[2, 4, 6, 8, 10, 12, 14, 16, 18, 20]\n"
     ]
    }
   ],
   "source": [
    "# step 1  creating list for input\n",
    "even_numbers = []\n",
    "# step 2  using the for loop for even number 1 to 20\n",
    "for i in range(1, 21):\n",
    "  if i % 2 == 0:\n",
    "# step 3 appending the even numbers in list\n",
    "    even_numbers.append(i)\n",
    "# step 4 printing the result \n",
    "print(even_numbers)"
   ]
  },
  {
   "cell_type": "code",
   "execution_count": 2,
   "id": "c4c7476d-4fcd-43c2-aceb-8276e7241ef2",
   "metadata": {},
   "outputs": [
    {
     "name": "stdout",
     "output_type": "stream",
     "text": [
      "[1, 3, 5, 7, 9, 11, 13, 15, 17, 19]\n"
     ]
    }
   ],
   "source": [
    "# step 1 creating list for odd input \n",
    "ood_number = []\n",
    "# step 2 using the for loop for odd numbers 1  to 20\n",
    "for i in range(1, 21):\n",
    "    if i%2 != 0:\n",
    "# step 3  appending the odd numbers\n",
    "      ood_number.append(i)\n",
    "# step 4 printing the result \n",
    "print(ood_number)\n"
   ]
  },
  {
   "cell_type": "code",
   "execution_count": null,
   "id": "d4b40587-ff20-4522-bdd1-db9dd67c15a7",
   "metadata": {},
   "outputs": [],
   "source": [
    "15. Find the sum of all elements in a list."
   ]
  },
  {
   "cell_type": "code",
   "execution_count": 3,
   "id": "8049e92f-ec8b-4542-8653-c4747ddebd7f",
   "metadata": {},
   "outputs": [
    {
     "data": {
      "text/plain": [
       "291"
      ]
     },
     "execution_count": 3,
     "metadata": {},
     "output_type": "execute_result"
    }
   ],
   "source": [
    "# step1  list\n",
    "my = [1,45,66,67,43,23,46]\n",
    "# step 2   using sum method\n",
    "total=sum(my)\n",
    "# step 3 priting the result \n",
    "total\n",
    "\n",
    "    \n",
    "    \n",
    "    "
   ]
  },
  {
   "cell_type": "code",
   "execution_count": null,
   "id": "4bbe1228-1c0f-44d5-aa47-4ab405b8327e",
   "metadata": {},
   "outputs": [],
   "source": [
    "16. Find the maximum value in a list."
   ]
  },
  {
   "cell_type": "code",
   "execution_count": 4,
   "id": "37a5caf6-094e-4cfd-bfe0-742dc3ed0904",
   "metadata": {},
   "outputs": [
    {
     "data": {
      "text/plain": [
       "67"
      ]
     },
     "execution_count": 4,
     "metadata": {},
     "output_type": "execute_result"
    }
   ],
   "source": [
    "# step1  list\n",
    "my = [1,45,66,67,43,23,46]\n",
    "# step 2   using max method\n",
    "maxi= max(my)\n",
    "maxi"
   ]
  },
  {
   "cell_type": "code",
   "execution_count": null,
   "id": "a3503702-fcf9-474d-bbd4-0bbff5b95b20",
   "metadata": {},
   "outputs": [],
   "source": [
    "17. Find the minimum value in a list."
   ]
  },
  {
   "cell_type": "code",
   "execution_count": 5,
   "id": "e7a64852-790f-4633-8fdd-b8ceee404d74",
   "metadata": {},
   "outputs": [
    {
     "data": {
      "text/plain": [
       "1"
      ]
     },
     "execution_count": 5,
     "metadata": {},
     "output_type": "execute_result"
    }
   ],
   "source": [
    "# step1  list\n",
    "my = [1,45,66,67,43,23,46]\n",
    "# step 2   using min method\n",
    "mini= min(my)\n",
    "mini"
   ]
  },
  {
   "cell_type": "code",
   "execution_count": null,
   "id": "7d23a2d2-6368-455e-8500-95f71c69fce7",
   "metadata": {},
   "outputs": [],
   "source": [
    "18. Create a list of squares of numbers from 1 to 10."
   ]
  },
  {
   "cell_type": "code",
   "execution_count": 6,
   "id": "ac51fde7-3b56-453f-a4bd-59d53b4741fc",
   "metadata": {},
   "outputs": [
    {
     "name": "stdout",
     "output_type": "stream",
     "text": [
      "[1]\n",
      "[1, 4]\n",
      "[1, 4, 9]\n",
      "[1, 4, 9, 16]\n",
      "[1, 4, 9, 16, 25]\n",
      "[1, 4, 9, 16, 25, 36]\n",
      "[1, 4, 9, 16, 25, 36, 49]\n",
      "[1, 4, 9, 16, 25, 36, 49, 64]\n",
      "[1, 4, 9, 16, 25, 36, 49, 64, 81]\n",
      "[1, 4, 9, 16, 25, 36, 49, 64, 81, 100]\n"
     ]
    }
   ],
   "source": [
    "# step 1 creating list for squres \n",
    "squrex=[]\n",
    "# step 2 using the for loop for 1 to 10\n",
    "for i in range(1, 11):\n",
    "    squrex.append(i*i)\n",
    "    print(squrex)\n",
    "    \n",
    "    \n"
   ]
  },
  {
   "cell_type": "code",
   "execution_count": null,
   "id": "bd782254-7365-42ce-af0b-609adabff16d",
   "metadata": {},
   "outputs": [],
   "source": [
    "19. Create a list of random numbers."
   ]
  },
  {
   "cell_type": "code",
   "execution_count": 11,
   "id": "4b405232-b11e-4f01-9b7d-d4b28265406e",
   "metadata": {},
   "outputs": [
    {
     "name": "stdout",
     "output_type": "stream",
     "text": [
      "[54, 78, 98, 44, 82, 70, 17, 57, 4, 8]\n"
     ]
    }
   ],
   "source": [
    "\n",
    "# step 1 Create an empty list\n",
    "random_numbers = []\n",
    "\n",
    "# step 2 Iterate through the range 10 times and append a random number to the list each time\n",
    "for i in range(10):\n",
    "    random_numbers.append(random.randint(1, 100))\n",
    "\n",
    "# step 3 Print the list of random numbers\n",
    "print(random_numbers)"
   ]
  },
  {
   "cell_type": "code",
   "execution_count": null,
   "id": "51eb2db4-a0c2-4dda-8e05-20e1cb5935e1",
   "metadata": {},
   "outputs": [],
   "source": [
    "20. Remove duplicates from a list."
   ]
  },
  {
   "cell_type": "code",
   "execution_count": 17,
   "id": "18ab0e1a-986a-40b0-b483-762f531587b1",
   "metadata": {},
   "outputs": [
    {
     "name": "stdout",
     "output_type": "stream",
     "text": [
      "[1, 444, 67, 78, 57, 567, 35, 26, 28]\n"
     ]
    }
   ],
   "source": [
    "# step 1 list\n",
    "my=[1,444,67,78,57,567,567,35,26,28]\n",
    "# step2   creating anpother list\n",
    "a=[]\n",
    "for i in my:\n",
    "     # step 2Add to the new list\n",
    "    #step 3  only if not present\n",
    "    if i not in a:\n",
    "        a.append(i)\n",
    "    # step 4 result\n",
    "print(a)\n"
   ]
  },
  {
   "cell_type": "code",
   "execution_count": null,
   "id": "3a672c90-a684-4ef9-9314-f7b6991a3dfe",
   "metadata": {},
   "outputs": [],
   "source": [
    "21. Find the common elements between two lists."
   ]
  },
  {
   "cell_type": "code",
   "execution_count": 20,
   "id": "546fa5cd-fbad-44cc-bbf8-2e60fff84e53",
   "metadata": {},
   "outputs": [
    {
     "data": {
      "text/plain": [
       "{1, 67, 78, 567}"
      ]
     },
     "execution_count": 20,
     "metadata": {},
     "output_type": "execute_result"
    }
   ],
   "source": [
    "# step 1 list\n",
    "my=[1,444,67,78,57,567,567,35,26,28]\n",
    "# step2   creating anpother list\n",
    "a=[1,23,67,89,78,45788,567]\n",
    "# converting them in sets\n",
    "set1= set(my)\n",
    "set2= set(a)\n",
    "commonelements= set1 & set2\n",
    "commonelements\n"
   ]
  },
  {
   "cell_type": "code",
   "execution_count": null,
   "id": "2c898181-c762-454b-9730-8608768bf461",
   "metadata": {},
   "outputs": [],
   "source": [
    "22. Find the difference between two lists."
   ]
  },
  {
   "cell_type": "code",
   "execution_count": 21,
   "id": "2ec692ce-7514-4e17-9b44-4ef25bcb0a9d",
   "metadata": {},
   "outputs": [
    {
     "data": {
      "text/plain": [
       "[444, 57, 35, 26, 28]"
      ]
     },
     "execution_count": 21,
     "metadata": {},
     "output_type": "execute_result"
    }
   ],
   "source": [
    "# step 1 list\n",
    "my=[1,444,67,78,57,567,567,35,26,28]\n",
    "# step2   creating anpother list\n",
    "a=[1,23,67,89,78,45788,567]\n",
    "# converting in list 2\n",
    "s=set(a)\n",
    "temp=[i for  i in my if  i not  in s ]\n",
    "temp"
   ]
  },
  {
   "cell_type": "code",
   "execution_count": null,
   "id": "a7e8cf4a-5a67-47c5-a1a6-a565cabb65f1",
   "metadata": {},
   "outputs": [],
   "source": [
    "23. Merge two lists"
   ]
  },
  {
   "cell_type": "code",
   "execution_count": 24,
   "id": "50c2d687-96ab-4147-b36b-c4b224d2f8b3",
   "metadata": {},
   "outputs": [
    {
     "data": {
      "text/plain": [
       "[1, 23, 67, 89, 78, 45788, 567, 1, 444, 67, 78, 57, 567, 567, 35, 26, 28]"
      ]
     },
     "execution_count": 24,
     "metadata": {},
     "output_type": "execute_result"
    }
   ],
   "source": [
    "# step 1 list\n",
    "my=[1,444,67,78,57,567,567,35,26,28]\n",
    "# step2   creating anpother list\n",
    "a=[1,23,67,89,78,45788,567]\n",
    "p=[]\n",
    "# step 3 merging two list\n",
    "p=a+my\n",
    "p"
   ]
  },
  {
   "cell_type": "code",
   "execution_count": null,
   "id": "fd4a1635-9f80-4bf8-bde5-d92542b940d9",
   "metadata": {},
   "outputs": [],
   "source": [
    "24. Multiply all elements in a list by 2."
   ]
  },
  {
   "cell_type": "code",
   "execution_count": 26,
   "id": "05c49865-d0dd-4428-b03a-0557545f32cc",
   "metadata": {},
   "outputs": [
    {
     "data": {
      "text/plain": [
       "[2, 888, 134, 156, 114, 1134, 1134, 70, 52, 56]"
      ]
     },
     "execution_count": 26,
     "metadata": {},
     "output_type": "execute_result"
    }
   ],
   "source": [
    "# step 1 list\n",
    "my=[1,444,67,78,57,567,567,35,26,28]\n",
    "#step 2 creating another list\n",
    "u=[]\n",
    "# step 3 using for loop\n",
    "for i in my :\n",
    "    u.append(2*i)\n",
    "# step 3 printing result\n",
    "u\n",
    "        \n",
    "    \n"
   ]
  },
  {
   "cell_type": "code",
   "execution_count": null,
   "id": "55f6220a-545a-4642-9df8-c0774da33c9d",
   "metadata": {},
   "outputs": [],
   "source": [
    "25. Filter out all even numbers from a list."
   ]
  },
  {
   "cell_type": "code",
   "execution_count": 27,
   "id": "ced0d6ec-c286-411c-ae46-32bcf0e63f5b",
   "metadata": {},
   "outputs": [
    {
     "data": {
      "text/plain": [
       "[444, 78, 26, 28]"
      ]
     },
     "execution_count": 27,
     "metadata": {},
     "output_type": "execute_result"
    }
   ],
   "source": [
    "# step 1 list\n",
    "my=[1,444,67,78,57,567,567,35,26,28]\n",
    "# step creatinf another list\n",
    "c=[]\n",
    "# step 2using for loop\n",
    "for i in my :\n",
    "    if i%2==0:\n",
    "        c.append(i)\n",
    "# step  3 result\n",
    "c\n",
    "        \n"
   ]
  },
  {
   "cell_type": "code",
   "execution_count": null,
   "id": "7400c6fd-9b77-49aa-ae04-7e7dc10b0f67",
   "metadata": {},
   "outputs": [],
   "source": [
    "26. Convert a list of strings to a list of integers."
   ]
  },
  {
   "cell_type": "code",
   "execution_count": 5,
   "id": "e012b4a4-a170-4c40-95ea-0d69bd2c5083",
   "metadata": {},
   "outputs": [
    {
     "data": {
      "text/plain": [
       "[1, 3, 4, 10]"
      ]
     },
     "execution_count": 5,
     "metadata": {},
     "output_type": "execute_result"
    }
   ],
   "source": [
    "# step 1 string lit\n",
    "l=[\"1\",\"3\",\"4\",\"10\"]\n",
    "# step 2  converting the list of stings into the list of strings\n",
    "\n",
    "integer_list=[int(x) for x in l]\n",
    "integer_list\n"
   ]
  },
  {
   "cell_type": "code",
   "execution_count": null,
   "id": "01e7b1c6-5095-4ed0-b569-3cb1af3d0b5e",
   "metadata": {},
   "outputs": [],
   "source": [
    "28. Flatten a nested list."
   ]
  },
  {
   "cell_type": "code",
   "execution_count": 8,
   "id": "7695dbb6-1578-4d7e-b442-91e33e8ef28e",
   "metadata": {},
   "outputs": [
    {
     "name": "stdout",
     "output_type": "stream",
     "text": [
      "[1, 2, 3, 4, 5, 6, 7]\n"
     ]
    }
   ],
   "source": [
    "# step 1 creating list\n",
    "my_list = [[1], [2, 3], [4, 5, 6, 7]]\n",
    "# step 2 printing the flat list\n",
    "flat_list = [num for sublist in my_list for num in sublist]\n",
    "print(flat_list)"
   ]
  },
  {
   "cell_type": "code",
   "execution_count": null,
   "id": "ea1276ea-d0e4-43d9-960e-1e488c6e97b1",
   "metadata": {},
   "outputs": [],
   "source": [
    "29.create a list of the first 10 Fibonacci numbers."
   ]
  },
  {
   "cell_type": "code",
   "execution_count": 10,
   "id": "0ba49ec1-c4a7-438b-8490-58bb160e5b58",
   "metadata": {},
   "outputs": [
    {
     "name": "stdout",
     "output_type": "stream",
     "text": [
      "[0, 1, 1, 2, 3, 5, 8, 13, 21, 34, 55]\n"
     ]
    }
   ],
   "source": [
    "# STEP 1 creating  a list \n",
    "fib=[]\n",
    "# step 2  appending value in list\n",
    "fib.append(0)\n",
    "fib.append(1)\n",
    "# step 3  using for loop\n",
    "for i in range (2,11):\n",
    "    fib.append(fib[i-1]+fib[i-2])\n",
    "#  step 4 printing the result \n",
    "print(fib)\n",
    "    \n",
    "    \n",
    "\n",
    "\n"
   ]
  },
  {
   "cell_type": "code",
   "execution_count": null,
   "id": "a496e1f4-95af-4634-943c-0cdc8c73ce92",
   "metadata": {},
   "outputs": [],
   "source": [
    "30. Check if a list is sorted."
   ]
  },
  {
   "cell_type": "code",
   "execution_count": 20,
   "id": "784fafcf-059a-4b92-abe4-bf55094d4e9d",
   "metadata": {},
   "outputs": [
    {
     "name": "stdout",
     "output_type": "stream",
     "text": [
      "Yes, List is sorted.\n"
     ]
    }
   ],
   "source": [
    "# step 1 creating the list \n",
    "my=[1,2,3,4,5]\n",
    "# step2 initializaing the flag\n",
    "flag=0\n",
    "# step3 using the if -else conditions\n",
    "if(my == sorted(my)):\n",
    "    flag = 1\n",
    "if(flag):\n",
    "    print (\"Yes, List is sorted.\")\n",
    "else :\n",
    "    print (\"No, List is not sorted.\")"
   ]
  },
  {
   "cell_type": "code",
   "execution_count": null,
   "id": "f96036ea-cd02-41ae-b963-220d09411c19",
   "metadata": {},
   "outputs": [],
   "source": [
    "31 Rotate a list to the left by `n` positions."
   ]
  },
  {
   "cell_type": "code",
   "execution_count": 1,
   "id": "e78f2f79-1518-43f9-9f27-573356d78058",
   "metadata": {},
   "outputs": [
    {
     "name": "stdout",
     "output_type": "stream",
     "text": [
      "[3, 4, 5, 1, 2]\n"
     ]
    }
   ],
   "source": [
    "# step 1 creatig the founction\n",
    "def rotate_left(lst,n):\n",
    "    # step 2 ensure  n is within the range of list \n",
    "    n %= len(lst)\n",
    "    return lst[n:] + lst[:n]\n",
    "my_list = [1, 2, 3, 4, 5]\n",
    "n = 2\n",
    "# step 3 calling founction\n",
    "result = rotate_left(my_list, n)\n",
    "print(result)"
   ]
  },
  {
   "cell_type": "code",
   "execution_count": null,
   "id": "bc4ad8cf-dc1f-4ceb-ad90-5b93eb99aac4",
   "metadata": {},
   "outputs": [],
   "source": [
    "32.Rotate a list to the right by `n` positions."
   ]
  },
  {
   "cell_type": "code",
   "execution_count": 3,
   "id": "4f3d95ad-0a7c-4054-b3b5-d903343fe604",
   "metadata": {},
   "outputs": [
    {
     "name": "stdout",
     "output_type": "stream",
     "text": [
      "[4, 5, 1, 2, 3]\n"
     ]
    }
   ],
   "source": [
    "# step 1 creatig the founction\n",
    "def rotate_ryt(lst,n):\n",
    " # step 2 ensue  n is within the range of list \n",
    "    n %= len(lst)\n",
    "    return lst[-n:] + lst[:-n]\n",
    "my_list = [1, 2, 3, 4, 5]\n",
    "n = 2\n",
    "# step 3 calling founction\n",
    "result = rotate_ryt(my_list, n)\n",
    "print(result)"
   ]
  },
  {
   "cell_type": "code",
   "execution_count": null,
   "id": "736c661b-6dc8-4376-85ca-ebd53b02dd40",
   "metadata": {},
   "outputs": [],
   "source": [
    "33. Create a list of prime numbers up to 50."
   ]
  },
  {
   "cell_type": "code",
   "execution_count": 1,
   "id": "d9b2fe36-36ec-420f-94a0-dd4785b08fb6",
   "metadata": {},
   "outputs": [
    {
     "name": "stdout",
     "output_type": "stream",
     "text": [
      "[2, 3, 5, 7, 11, 13, 17, 19, 23, 29, 31, 37, 41, 43, 47]\n"
     ]
    }
   ],
   "source": [
    "# step 1 creating  alist \n",
    "primes = []\n",
    "# step 2 using  for loop \n",
    "for num in range(2, 51):  # Start from 2 and go up to 50\n",
    "    is_prime = True\n",
    "    \n",
    " # step 3 Check if the number is divisible by any number from 2 to the square root of the number\n",
    "    for i in range(2, int(num ** 0.5) + 1):\n",
    " # step 4 using idf foer checking it divisible by i or not\n",
    "        if num % i == 0:\n",
    "            is_prime = False\n",
    "            break\n",
    "    \n",
    "    if is_prime:\n",
    "        primes.append(num)\n",
    "# step 5 printing the result\n",
    "print(primes)\n"
   ]
  },
  {
   "cell_type": "code",
   "execution_count": null,
   "id": "7f57cf51-7cd9-413a-bf2a-e83d6ab190b8",
   "metadata": {},
   "outputs": [],
   "source": [
    "34. Split a list into chunks of size `n`."
   ]
  },
  {
   "cell_type": "code",
   "execution_count": 6,
   "id": "6f9f35cd-e231-479b-92ae-70f67ebb9882",
   "metadata": {},
   "outputs": [
    {
     "name": "stdout",
     "output_type": "stream",
     "text": [
      "[[1, 2, 3], [4, 5, 6], [7, 8, 9]]\n"
     ]
    }
   ],
   "source": [
    "# step 1 intialize a list \n",
    "my_list = [1, 2, 3, 4, 5, 6, 7, 8, 9]\n",
    "# step 2 giving chunk size\n",
    "chunk_size = 3\n",
    "# step3 creating a chunk list\n",
    "chunks = []\n",
    "# step 4 using a for loop\n",
    "for i in range(0, len(my_list), chunk_size):\n",
    "    chunk = my_list[i:i + chunk_size]\n",
    "    chunks.append(chunk)\n",
    "\n",
    "print(chunks)\n"
   ]
  },
  {
   "cell_type": "code",
   "execution_count": null,
   "id": "77f90a22-e75d-45f7-9579-940502cafe51",
   "metadata": {},
   "outputs": [],
   "source": [
    "35.Find the second largest number in a list."
   ]
  },
  {
   "cell_type": "code",
   "execution_count": 1,
   "id": "5cfae418-6185-4c2f-bc13-f79078765922",
   "metadata": {},
   "outputs": [
    {
     "name": "stdout",
     "output_type": "stream",
     "text": [
      "The second largest number is: 25\n"
     ]
    }
   ],
   "source": [
    "numbers = [10, 5, 8, 20, 15, 30, 25]\n",
    "\n",
    "# step1 Initialize variables to hold the largest and second largest numbers\n",
    "largest = second_largest = float('-inf')\n",
    "\n",
    "# step 2Iterate through the list\n",
    "for num in numbers:\n",
    "    #  step 3 If the current number is larger than the largest, update both largest and second_largest\n",
    "    if num > largest:\n",
    "        second_largest = largest\n",
    "        largest = num\n",
    "    #step 4  If the current number is larger than the second largest but not the largest, update second_largest\n",
    "    elif num > second_largest and num != largest:\n",
    "        second_largest = num\n",
    "\n",
    "# step 5 Check if a second largest number exists\n",
    "if second_largest != float('-inf'):\n",
    "    print(\"The second largest number is:\", second_largest)\n",
    "else:\n",
    "    print(\"There is no second largest number in the list.\")\n",
    "\n"
   ]
  },
  {
   "cell_type": "code",
   "execution_count": null,
   "id": "f520f779-ade0-4a76-9ae9-c0f6b3f6f226",
   "metadata": {},
   "outputs": [],
   "source": [
    "36. Replace every element in a list with its square."
   ]
  },
  {
   "cell_type": "code",
   "execution_count": 1,
   "id": "a3006efa-4977-46a6-9d56-148fb961a368",
   "metadata": {},
   "outputs": [
    {
     "name": "stdout",
     "output_type": "stream",
     "text": [
      "[1, 4, 9, 16, 25, 36, 64]\n"
     ]
    }
   ],
   "source": [
    "# step 1 intialise the list\n",
    "my= [1,2,3,4,5,6,8]\n",
    "# step 2 using for loop \n",
    "for  i in range(len(my)):\n",
    "# step 3 squaring every element in th list\n",
    "    my[i]=my[i]**2\n",
    "print(my)"
   ]
  },
  {
   "cell_type": "code",
   "execution_count": null,
   "id": "b7480f1c-3e35-4117-973c-74a449010723",
   "metadata": {},
   "outputs": [],
   "source": [
    "37.Convert a list to a dictionary where list elements become keys and their\n",
    "indices become values."
   ]
  },
  {
   "cell_type": "code",
   "execution_count": 2,
   "id": "eedbb9be-29bf-4a24-8cb2-00e2f47a958e",
   "metadata": {},
   "outputs": [
    {
     "name": "stdout",
     "output_type": "stream",
     "text": [
      "{'apple': 0, 'banana': 1, 'cherry': 2, 'date': 3}\n"
     ]
    }
   ],
   "source": [
    "# step 1 sample list\n",
    "my_list = [\"apple\", \"banana\", \"cherry\", \"date\"]\n",
    "# step 2 # Initialize an empty dictionary\n",
    "my_dict = {}\n",
    "\n",
    "# step 3 Iterate through the list and populate the dictionary\n",
    "for index, item in enumerate(my_list):\n",
    "    my_dict[item] = index\n",
    "\n",
    "print(my_dict)"
   ]
  },
  {
   "cell_type": "code",
   "execution_count": null,
   "id": "4b60366a-8c80-47e5-9c4a-5ae564343cfe",
   "metadata": {},
   "outputs": [],
   "source": [
    "38.Shuffle the elements of a list randomly."
   ]
  },
  {
   "cell_type": "code",
   "execution_count": 3,
   "id": "b5a0aa0b-3c98-4d73-b347-d42b0b8c05a4",
   "metadata": {},
   "outputs": [
    {
     "name": "stdout",
     "output_type": "stream",
     "text": [
      "[4, 1, 3, 5, 2]\n"
     ]
    }
   ],
   "source": [
    "import random\n",
    "\n",
    "#step 1\n",
    "my_list = [1, 2, 3, 4, 5]\n",
    "\n",
    "#step 2 Custom shuffle using Fisher-Yates algorithm\n",
    "for i in range(len(my_list) - 1, 0, -1):\n",
    "    j = random.randint(0, i)  #  step 3 Generate a random index between 0 and i (inclusive)\n",
    "    my_list[i], my_list[j] = my_list[j], my_list[i]  #step 3  Swap the elements at i and j\n",
    "\n",
    "print(my_list)\n"
   ]
  },
  {
   "cell_type": "code",
   "execution_count": null,
   "id": "aa1853ac-b394-4bfa-b03e-d96fc55a4cbc",
   "metadata": {},
   "outputs": [],
   "source": [
    "39. Create a list of the first 10 factorial numbers."
   ]
  },
  {
   "cell_type": "code",
   "execution_count": 10,
   "id": "3de389b3-53a6-409c-b0c9-4f063f96ee71",
   "metadata": {},
   "outputs": [
    {
     "name": "stdout",
     "output_type": "stream",
     "text": [
      "[1, 2, 6, 24, 120, 720, 5040, 40320, 362880, 3628800]\n"
     ]
    }
   ],
   "source": [
    "# step1  intilaize value in factorial and result \n",
    "factorial=[1]\n",
    "result=1\n",
    "# step 2 calculate the factgorial from (2,11)\n",
    "for i in range(2,11):\n",
    "    \n",
    "# step 3 multiply current list  by next number  \n",
    "    result*=i  # step 3 multiply current list  by next number\n",
    "    factorial.append(result)  # Append the result to the list\n",
    "\n",
    "print(factorial)\n"
   ]
  },
  {
   "cell_type": "code",
   "execution_count": null,
   "id": "6bf4bc3b-1b2f-42f6-98cd-4406a50e1343",
   "metadata": {},
   "outputs": [],
   "source": [
    "40.Check if two lists have at least one element in common."
   ]
  },
  {
   "cell_type": "code",
   "execution_count": 20,
   "id": "86d24dd0-b334-4170-a074-9bee801ed737",
   "metadata": {},
   "outputs": [
    {
     "name": "stdout",
     "output_type": "stream",
     "text": [
      "list have atleat common\n"
     ]
    }
   ],
   "source": [
    "# step 1 creating the 2  sample list\n",
    "my=[12,45,67,38]\n",
    "mi=[234,45,67,38]\n",
    "# step 2  comnsidering  has common false\n",
    "hascommon=False\n",
    "# step 3  using the for loop\n",
    "for i in my:\n",
    "        if i  in mi:\n",
    "            hascommon=True\n",
    "            break\n",
    "# step 3 using the if -else condition            \n",
    "if hascommon:\n",
    "    print(\"list have atleat common\")\n",
    "else:\n",
    "    print(\"list does not have common\")\n",
    "    \n",
    "\n",
    "\n",
    "    "
   ]
  },
  {
   "cell_type": "code",
   "execution_count": null,
   "id": "390748dd-af52-45aa-8647-0046fd7251a3",
   "metadata": {},
   "outputs": [],
   "source": [
    "41.Remove all elements from a list."
   ]
  },
  {
   "cell_type": "code",
   "execution_count": 18,
   "id": "b6598f8b-f9db-4c02-b21b-82077c19be03",
   "metadata": {},
   "outputs": [
    {
     "data": {
      "text/plain": [
       "[]"
      ]
     },
     "execution_count": 18,
     "metadata": {},
     "output_type": "execute_result"
    }
   ],
   "source": [
    "#step 1 creating  a the list \n",
    "listi=[233444,5677,5677,3455,987654]\n",
    "#step 2  using the clear method\n",
    "listi.clear()\n",
    "# step 3 prointing the result \n",
    "listi"
   ]
  },
  {
   "cell_type": "code",
   "execution_count": null,
   "id": "e7b0ee1e-09e3-41a9-a079-46e90fc78dd5",
   "metadata": {},
   "outputs": [],
   "source": [
    "42. Replace negative numbers in a list with 0."
   ]
  },
  {
   "cell_type": "code",
   "execution_count": 1,
   "id": "43cb7c35-072e-4512-adc9-8b0dbd563ca3",
   "metadata": {},
   "outputs": [
    {
     "data": {
      "text/plain": [
       "[1, 223, 0, 0, 45]"
      ]
     },
     "execution_count": 1,
     "metadata": {},
     "output_type": "execute_result"
    }
   ],
   "source": [
    "# step1  sample list\n",
    "liso=[1,223,-90,-890,45]\n",
    "# step 2 using the for loop \n",
    "for i in range(len(liso)):\n",
    "    if  liso[i]<0:\n",
    "        liso[i]=0\n",
    "# step 3 printing the result\n",
    "liso\n",
    "    \n",
    "   \n",
    "    \n",
    "    "
   ]
  },
  {
   "cell_type": "code",
   "execution_count": null,
   "id": "81f14b64-e77b-43ad-9ba4-b8977b6665f8",
   "metadata": {},
   "outputs": [],
   "source": [
    "43. Convert a string into a list of words."
   ]
  },
  {
   "cell_type": "code",
   "execution_count": 2,
   "id": "60d06abf-1da4-45fe-b4da-4e824b72c185",
   "metadata": {},
   "outputs": [
    {
     "data": {
      "text/plain": [
       "['i', 'love', 'india']"
      ]
     },
     "execution_count": 2,
     "metadata": {},
     "output_type": "execute_result"
    }
   ],
   "source": [
    "# step 1 sample string\n",
    "amri=\"i love india\"\n",
    "# step 2 using the split founnction which automatically convert string into list\n",
    "my= amri.split()\n",
    "# step 3 \n",
    "my"
   ]
  },
  {
   "cell_type": "code",
   "execution_count": null,
   "id": "fe439fc4-82f3-41e4-af28-b91ce4ebf512",
   "metadata": {},
   "outputs": [],
   "source": [
    " 44. Convert a list of words into a string."
   ]
  },
  {
   "cell_type": "code",
   "execution_count": 4,
   "id": "5d946aeb-89a1-4d8e-bb49-33c886c7e31b",
   "metadata": {},
   "outputs": [
    {
     "data": {
      "text/plain": [
       "'i love girls i want beautiful wife'"
      ]
     },
     "execution_count": 4,
     "metadata": {},
     "output_type": "execute_result"
    }
   ],
   "source": [
    "# step 1 sample list with  words\n",
    "lim=[\"i love girls i want beautiful wife\"]\n",
    "# step 2 using join method\n",
    "mi=''.join(lim)\n",
    "# step 3 print result \n",
    "mi"
   ]
  },
  {
   "cell_type": "code",
   "execution_count": null,
   "id": "bf5f4f9d-5d83-46ac-bc7b-37e2f9e6bbac",
   "metadata": {},
   "outputs": [],
   "source": [
    "45. Create a list of the first `n` powers of 2."
   ]
  },
  {
   "cell_type": "code",
   "execution_count": 8,
   "id": "37f41f8e-16c4-4677-9af1-933a2243e273",
   "metadata": {},
   "outputs": [
    {
     "name": "stdin",
     "output_type": "stream",
     "text": [
      "enter the value for n  5\n"
     ]
    },
    {
     "data": {
      "text/plain": [
       "[1, 2, 4, 8, 16]"
      ]
     },
     "execution_count": 8,
     "metadata": {},
     "output_type": "execute_result"
    }
   ],
   "source": [
    "# step 1 taking the the input for n\n",
    "n=int(input(\"enter the value for n \"))\n",
    "# step 2 using for loop\n",
    "m=[2**i for i in range (n)]\n",
    "m"
   ]
  },
  {
   "cell_type": "code",
   "execution_count": null,
   "id": "b41b3879-11b2-4cff-8c83-8e5e6cfc26b0",
   "metadata": {},
   "outputs": [],
   "source": [
    "46. Find the longest string in a list of strings."
   ]
  },
  {
   "cell_type": "code",
   "execution_count": 1,
   "id": "08c2fea0-519e-47f5-925e-f1c45be52f4b",
   "metadata": {},
   "outputs": [
    {
     "name": "stdout",
     "output_type": "stream",
     "text": [
      "The longest string is: banana\n"
     ]
    }
   ],
   "source": [
    "# step 1  sample string \n",
    "string_list = [\"apple\", \"banana\", \"cherry\", \"date\"]\n",
    "# step 2  finding longest string\n",
    "longest_string = max(string_list, key=len)\n",
    "# step 3  printing the  result \n",
    "print(\"The longest string is:\", longest_string)"
   ]
  },
  {
   "cell_type": "code",
   "execution_count": null,
   "id": "da826287-dbf6-4292-acdf-84e2d9e8e867",
   "metadata": {},
   "outputs": [],
   "source": [
    "47. Find the shortest string in a list of strings."
   ]
  },
  {
   "cell_type": "code",
   "execution_count": 2,
   "id": "1040c5bc-5b51-471c-aad4-072bbcabaef0",
   "metadata": {},
   "outputs": [
    {
     "name": "stdout",
     "output_type": "stream",
     "text": [
      "the shortest string  is: rice\n"
     ]
    }
   ],
   "source": [
    "# step 1 sample string\n",
    "string_list = [ \"apple\",\" mango\", \"rainbow\" , \" rainbow\", \"rice\" ]\n",
    "# step 2  finding the shortest string\n",
    "shortest_string = min(string_list, key=len)\n",
    "# step 3  printing the result \n",
    "print(\"the shortest string  is:\", shortest_string)"
   ]
  },
  {
   "cell_type": "code",
   "execution_count": null,
   "id": "17e402a4-2879-4d49-92dd-94c2860d0006",
   "metadata": {},
   "outputs": [],
   "source": [
    "48. Create a list of the first `n` triangular numbers."
   ]
  },
  {
   "cell_type": "code",
   "execution_count": null,
   "id": "20efb736-d516-4b17-8138-566baf475718",
   "metadata": {},
   "outputs": [
    {
     "name": "stdin",
     "output_type": "stream",
     "text": [
      "Enter the value of n:  7\n"
     ]
    },
    {
     "name": "stdout",
     "output_type": "stream",
     "text": [
      "The first 7 triangular numbers are: [1, 3, 6, 10, 15, 21, 28]\n"
     ]
    }
   ],
   "source": [
    "# step 1  creating the founction\n",
    "def generate_triangular_numbers(n):\n",
    "    triangular_numbers = []\n",
    "    current_sum = 0\n",
    "# step 2  using the for loop \n",
    "    for i in range(1, n + 1):\n",
    "        current_sum += i\n",
    "        triangular_numbers.append(current_sum)\n",
    "# step 3 returning the value  \n",
    "    return triangular_numbers\n",
    "# step 4  writing the code for \n",
    "n = int(input(\"Enter the value of n: \"))  # Input the number of triangular numbers you want\n",
    "triangular_numbers_list = generate_triangular_numbers(n)\n",
    "print(\"The first\", n, \"triangular numbers are:\", triangular_numbers_list)"
   ]
  },
  {
   "cell_type": "code",
   "execution_count": null,
   "id": "6bf93e73-7caf-4c9c-8201-029d4ff99712",
   "metadata": {},
   "outputs": [],
   "source": [
    "49. Check if a list contains another list as a subsequence."
   ]
  },
  {
   "cell_type": "code",
   "execution_count": 19,
   "id": "b0ef0271-abeb-4542-9a95-8a6d209eaacb",
   "metadata": {},
   "outputs": [
    {
     "data": {
      "text/plain": [
       "True"
      ]
     },
     "execution_count": 19,
     "metadata": {},
     "output_type": "execute_result"
    }
   ],
   "source": [
    "# step 1 creating the founction \n",
    "def is_subsequence(list1, list2):\n",
    "    j = 0\n",
    "# step 2 using the for loop\n",
    "    for i in range(len(list1)):\n",
    "# step 3  using the if -else  condition      \n",
    "        if list1[i] == list2[j]:\n",
    "             j += 1\n",
    "        if j == len(list2):\n",
    "             return True\n",
    "             return False\n",
    "is_subsequence([1, 2, 4,3], [4, 3])"
   ]
  },
  {
   "cell_type": "code",
   "execution_count": null,
   "id": "9e2277bc-a460-48fb-9848-bb2f7fede510",
   "metadata": {},
   "outputs": [],
   "source": [
    "50. Swap two elements in a list by their indices."
   ]
  },
  {
   "cell_type": "code",
   "execution_count": 32,
   "id": "42d0646c-e7b3-4b1e-b523-ece355550373",
   "metadata": {},
   "outputs": [
    {
     "name": "stdout",
     "output_type": "stream",
     "text": [
      "[1, 4, 3, 2, 5]\n"
     ]
    }
   ],
   "source": [
    " #step 1 #Declare a list\n",
    "list = [1, 2, 3, 4, 5]\n",
    "\n",
    "#  step 2 Swap the elements at indexes 1 and 3\n",
    "list[1], list[3] = list[3], list[1]\n",
    "\n",
    "# step 3 Print the list\n",
    "print(list)"
   ]
  },
  {
   "cell_type": "code",
   "execution_count": null,
   "id": "c51d0ec3-260a-4ca4-94a3-190890466b7a",
   "metadata": {},
   "outputs": [],
   "source": [
    "TOPIC-                            Tuple  Based Practice Problem "
   ]
  },
  {
   "cell_type": "code",
   "execution_count": null,
   "id": "8338dc3c-5147-45d5-83e3-4a85fc473431",
   "metadata": {},
   "outputs": [],
   "source": [
    "1. Create a tuple with integers from 1 to 5."
   ]
  },
  {
   "cell_type": "code",
   "execution_count": 14,
   "id": "59ce75c9-226f-431d-baa3-d6715891a0eb",
   "metadata": {},
   "outputs": [
    {
     "data": {
      "text/plain": [
       "(1, 2, 3, 4, 5)"
      ]
     },
     "execution_count": 14,
     "metadata": {},
     "output_type": "execute_result"
    }
   ],
   "source": [
    "# step 1 intialiazing the value for  tuple\n",
    "my_tuple = (1, 2, 3, 4, 5)\n",
    "# step 2 printing the result \n",
    "my_tuple"
   ]
  },
  {
   "cell_type": "code",
   "execution_count": null,
   "id": "6732f12c-71c6-4f9b-9fd4-e071e95abfba",
   "metadata": {},
   "outputs": [],
   "source": [
    "2. Access the third element of a tuple."
   ]
  },
  {
   "cell_type": "code",
   "execution_count": 3,
   "id": "ed3e95cd-9b9e-4702-a486-2de9a08d159c",
   "metadata": {},
   "outputs": [
    {
     "name": "stdout",
     "output_type": "stream",
     "text": [
      "love india\n"
     ]
    }
   ],
   "source": [
    "# step 1 intialise  the tuple \n",
    "tup =(\" i\" ,\"love india\",\" and\", \"america\")\n",
    "# step 2 acessing the specific element  of a tuple \n",
    "print(tup[1])"
   ]
  },
  {
   "cell_type": "code",
   "execution_count": null,
   "id": "95d9d2f5-bb70-49a5-bba2-2fbd25f376fd",
   "metadata": {},
   "outputs": [],
   "source": [
    "3. Find the length of a tuple without using the `len()` function."
   ]
  },
  {
   "cell_type": "code",
   "execution_count": 8,
   "id": "2c8f8fce-5b69-4c12-81be-e5a1be7db09d",
   "metadata": {},
   "outputs": [
    {
     "data": {
      "text/plain": [
       "6"
      ]
     },
     "execution_count": 8,
     "metadata": {},
     "output_type": "execute_result"
    }
   ],
   "source": [
    "# step 1 initializing the  tuple \n",
    "tom = (1,2,3,5,7,9)\n",
    "# step 2 for initializng  the count \n",
    "count =0\n",
    "# step 3  using for loop\n",
    "for i in  tom:\n",
    "        count += 1\n",
    "# step 3 printing result \n",
    "count\n",
    "\n",
    "    \n"
   ]
  },
  {
   "cell_type": "code",
   "execution_count": null,
   "id": "38972252-a89a-4576-b9ad-b175e091d54f",
   "metadata": {},
   "outputs": [],
   "source": [
    "4. Count the occurrences of an element in a tuple."
   ]
  },
  {
   "cell_type": "code",
   "execution_count": 22,
   "id": "8a23b069-41f1-4ef4-8901-70019bb43717",
   "metadata": {},
   "outputs": [
    {
     "name": "stdout",
     "output_type": "stream",
     "text": [
      "The element 2 appears 4 times in the tuple.\n"
     ]
    }
   ],
   "source": [
    "#  step 1 Define a tuple\n",
    "my_tuple = (1, 2, 2, 3, 4, 2, 5, 2)\n",
    "\n",
    "#  step 2 Count the occurrences of an element in the tuple\n",
    "element_to_count = 2\n",
    "count = my_tuple.count(element_to_count)\n",
    " \n",
    "#  step 3 Print the count\n",
    "print(f\"The element {element_to_count} appears {count} times in the tuple.\")"
   ]
  },
  {
   "cell_type": "code",
   "execution_count": null,
   "id": "7b96b73d-7402-4eeb-aa8e-d5474de1fbad",
   "metadata": {},
   "outputs": [],
   "source": [
    " 5. Find the index of the first occurrence of an element in a tuple."
   ]
  },
  {
   "cell_type": "code",
   "execution_count": 14,
   "id": "22486749-65a6-4277-a340-7a29bd78c754",
   "metadata": {},
   "outputs": [
    {
     "name": "stdin",
     "output_type": "stream",
     "text": [
      "enter the element  2\n"
     ]
    },
    {
     "name": "stdout",
     "output_type": "stream",
     "text": [
      "1\n"
     ]
    }
   ],
   "source": [
    "#step 1 Define a tuple\n",
    "my_tuple = (1, 2, 2, 3, 4, 2, 5, 2)\n",
    "#step 2 count the occurence of first index\n",
    "element=int(input(\"enter the element \"))\n",
    "#step 3 using index method \n",
    "indexi= my_tuple.index(element)\n",
    "print(indexi)"
   ]
  },
  {
   "cell_type": "code",
   "execution_count": null,
   "id": "fec51bf1-20b0-4e30-b12d-bd2ddba74676",
   "metadata": {},
   "outputs": [],
   "source": [
    " 6. Check if an element exists in a tuple."
   ]
  },
  {
   "cell_type": "code",
   "execution_count": 15,
   "id": "fb67a57e-516c-4039-a367-e8fa6c0b889a",
   "metadata": {},
   "outputs": [
    {
     "name": "stdin",
     "output_type": "stream",
     "text": [
      " enter the element to check  2\n"
     ]
    },
    {
     "name": "stdout",
     "output_type": "stream",
     "text": [
      "The element 2 exists in the tuple.\n"
     ]
    }
   ],
   "source": [
    " #step 1 Create a tuple\n",
    "my_tuple = (1, 2, 3, 4, 5)\n",
    "\n",
    "# step 2 Element to check for\n",
    "element_to_check = int (input(\" enter the element to check \"))\n",
    "\n",
    "# step 3 Initialize a variable to store the result\n",
    "element_exists = False\n",
    "\n",
    "#  step 4 Iterate through the tuple to check if the element exists\n",
    "for item in my_tuple:\n",
    "    if item == element_to_check:\n",
    "        element_exists = True\n",
    "        break \n",
    "#  step 5  Stop searching once the element is found\n",
    "\n",
    "if element_exists:\n",
    "    print(f\"The element {element_to_check} exists in the tuple.\")\n",
    "else:\n",
    "    print(f\"The element {element_to_check} does not exist in the tuple.\")"
   ]
  },
  {
   "cell_type": "code",
   "execution_count": null,
   "id": "9eb21097-378a-4ecc-9b81-53ba70670c57",
   "metadata": {},
   "outputs": [],
   "source": [
    " 7.Convert a tuple to a list."
   ]
  },
  {
   "cell_type": "code",
   "execution_count": 20,
   "id": "66e8998d-9c1c-48ab-a078-c9cb74a19253",
   "metadata": {},
   "outputs": [
    {
     "data": {
      "text/plain": [
       "[1, 2, 3, 44555]"
      ]
     },
     "execution_count": 20,
     "metadata": {},
     "output_type": "execute_result"
    }
   ],
   "source": [
    "# step 1 sample tuple \n",
    "tup=(1,2,3,44555)\n",
    "# step 2 converting it into the list \n",
    "l = list(tup)\n",
    "# step 3 printing the result \n",
    "l\n"
   ]
  },
  {
   "cell_type": "code",
   "execution_count": null,
   "id": "ea45984d-a8bf-4935-98b4-ad1a9b2ad5d6",
   "metadata": {},
   "outputs": [],
   "source": [
    "8. Convert a list to a tuple."
   ]
  },
  {
   "cell_type": "code",
   "execution_count": 22,
   "id": "5a256901-d21f-429f-ae3e-58b1b6e4116b",
   "metadata": {},
   "outputs": [
    {
     "data": {
      "text/plain": [
       "(1, 2, 3, 4, 45)"
      ]
     },
     "execution_count": 22,
     "metadata": {},
     "output_type": "execute_result"
    }
   ],
   "source": [
    "#  step 1 sample list \n",
    "l=[1,2,3,4,45]\n",
    "# step 2 converting it into the tuple \n",
    "tupi=tuple(l)\n",
    "# step 3 printing the result \n",
    "tupi\n"
   ]
  },
  {
   "cell_type": "code",
   "execution_count": null,
   "id": "a89143a7-ef10-43ba-afc9-e2764c8d3143",
   "metadata": {},
   "outputs": [],
   "source": [
    "9. Unpack the elements of a tuple into variables."
   ]
  },
  {
   "cell_type": "code",
   "execution_count": 27,
   "id": "8d184422-25fe-48c7-b603-78c3650fa381",
   "metadata": {},
   "outputs": [
    {
     "name": "stdout",
     "output_type": "stream",
     "text": [
      "swami keshvanand Institute\n",
      "200000\n",
      " engneering\n"
     ]
    }
   ],
   "source": [
    "#  step 1  packing the tuple  \n",
    "a= (\"swami keshvanand Institute\", 200000 ,\" engneering\")\n",
    "# step 2  unpacking  a tuple \n",
    "(college, student, field)=a\n",
    "# step 3 printing the college name, no. of students,  type of  study \n",
    "print(college)\n",
    "print(student)\n",
    "print(field)"
   ]
  },
  {
   "cell_type": "code",
   "execution_count": null,
   "id": "4a94d989-8680-4942-ac96-ed88a2f57be1",
   "metadata": {},
   "outputs": [],
   "source": [
    "10. Create a tuple of even numbers from 1 to 10."
   ]
  },
  {
   "cell_type": "code",
   "execution_count": 34,
   "id": "22effdf8-eb63-4b9e-b20f-b1d98c469685",
   "metadata": {},
   "outputs": [
    {
     "data": {
      "text/plain": [
       "(2, 4, 6, 8, 10)"
      ]
     },
     "execution_count": 34,
     "metadata": {},
     "output_type": "execute_result"
    }
   ],
   "source": [
    "# step 1 creating a tuple for  initializing  the value\n",
    "even=()\n",
    "# step 2 using the for loop \n",
    "for i in range(1,11):\n",
    "    if i%2==0:\n",
    "         even+=(i,)  \n",
    "even\n"
   ]
  },
  {
   "cell_type": "code",
   "execution_count": null,
   "id": "bce92a17-cfef-40e8-82b2-e53f2de9f994",
   "metadata": {},
   "outputs": [],
   "source": [
    "11. Create a tuple of odd numbers from 1 to 10."
   ]
  },
  {
   "cell_type": "code",
   "execution_count": 35,
   "id": "7f6d8e8f-b599-48ab-9f0f-468de6341216",
   "metadata": {},
   "outputs": [
    {
     "data": {
      "text/plain": [
       "(3, 6, 9)"
      ]
     },
     "execution_count": 35,
     "metadata": {},
     "output_type": "execute_result"
    }
   ],
   "source": [
    "# step 1 creating a tuple ' for intialiazing the value\n",
    "odd=()\n",
    "# step 2 using the for loop \n",
    "for i in range (1,11):\n",
    "    if i%3==0:\n",
    "        odd+=(i,)\n",
    "odd"
   ]
  },
  {
   "cell_type": "code",
   "execution_count": null,
   "id": "eb064924-1bdf-4f1e-883c-afa1c6cee99c",
   "metadata": {},
   "outputs": [],
   "source": [
    "12. Concatenate two tuples."
   ]
  },
  {
   "cell_type": "code",
   "execution_count": 37,
   "id": "7c8828d6-7da0-49d6-a977-1949d1d13fce",
   "metadata": {},
   "outputs": [
    {
     "data": {
      "text/plain": [
       "(1, 2, 3, 4, 5, 1, 234, 456, 334)"
      ]
     },
     "execution_count": 37,
     "metadata": {},
     "output_type": "execute_result"
    }
   ],
   "source": [
    "# step 1 creating 2 tuple for concatenate and  crating tup to strorng the  concatenate value\n",
    "tup1=(1,2,3,4,5)\n",
    "tup2=(1,234,456,334)\n",
    "tup=()\n",
    "# step 2 concatenating the tuple\n",
    "tup=tup1 + tup2\n",
    "tup"
   ]
  },
  {
   "cell_type": "code",
   "execution_count": null,
   "id": "2d56c3c1-5088-4a21-b40c-834e500ef266",
   "metadata": {},
   "outputs": [],
   "source": [
    "13. Repeat a tuple three times."
   ]
  },
  {
   "cell_type": "code",
   "execution_count": 38,
   "id": "5e82c098-145f-4bbc-aedd-c36b5ee34b57",
   "metadata": {},
   "outputs": [
    {
     "data": {
      "text/plain": [
       "(1, 2, 3, 4, 1, 2, 3, 4, 1, 2, 3, 4)"
      ]
     },
     "execution_count": 38,
     "metadata": {},
     "output_type": "execute_result"
    }
   ],
   "source": [
    "# step 1 creaqting a tuple \n",
    "tup=(1,2,3,4)\n",
    "# step 2 storing the value in the repeated tuple \n",
    "repeatedtuple=3*tup\n",
    "# step 3 printing the  repeated tuple\n",
    "repeatedtuple"
   ]
  },
  {
   "cell_type": "code",
   "execution_count": null,
   "id": "8a1b7c49-0ab2-4e80-b39c-a5d97d260d20",
   "metadata": {},
   "outputs": [],
   "source": [
    "14. Check if a tuple is empty."
   ]
  },
  {
   "cell_type": "code",
   "execution_count": 39,
   "id": "bccbeee9-2587-49a9-b1df-c2657ae35550",
   "metadata": {},
   "outputs": [
    {
     "name": "stdout",
     "output_type": "stream",
     "text": [
      "tuple is  empty\n"
     ]
    }
   ],
   "source": [
    "# step 1 creaqting a tuple \n",
    "tup=()\n",
    "# step 2  using if and else\n",
    "if not tup:\n",
    "    print(\"tuple is  empty\")\n",
    "else:\n",
    "    print(\"tuple is  not empty\")"
   ]
  },
  {
   "cell_type": "code",
   "execution_count": null,
   "id": "b39cc79e-d254-4c99-b014-bd34a57c9a3e",
   "metadata": {},
   "outputs": [],
   "source": [
    "15. Create a nested tuple."
   ]
  },
  {
   "cell_type": "code",
   "execution_count": 42,
   "id": "e3cd2186-252c-415b-9995-53b799ebab0d",
   "metadata": {},
   "outputs": [
    {
     "data": {
      "text/plain": [
       "((1, 2, 3, 4), (13, 45, 67, 90), (1, 2, 3, 44))"
      ]
     },
     "execution_count": 42,
     "metadata": {},
     "output_type": "execute_result"
    }
   ],
   "source": [
    "# step 1 creating the tuple \n",
    "nested_tup=((1,2,3,4),(13,45,67,90),(1,2,3,44,))\n",
    "nested_tup\n"
   ]
  },
  {
   "cell_type": "code",
   "execution_count": null,
   "id": "a603188a-2815-4637-94ba-688ec917066d",
   "metadata": {},
   "outputs": [],
   "source": [
    "16. Access the first element of a nested tuple."
   ]
  },
  {
   "cell_type": "code",
   "execution_count": 16,
   "id": "5a002d12-fb76-4a66-9a86-273d371c37af",
   "metadata": {},
   "outputs": [
    {
     "data": {
      "text/plain": [
       "3"
      ]
     },
     "execution_count": 16,
     "metadata": {},
     "output_type": "execute_result"
    }
   ],
   "source": [
    "# step 1 creating the tuple \n",
    "nested_tup=((1,2,3,4),(13,45,67,90),(1,2,3,44,))\n",
    "# step2  aceesing the  first element of tuple\n",
    "element=nested_tup[2][2]\n",
    "# step 3  printing the result\n",
    "element\n",
    "\n",
    "    \n",
    "    "
   ]
  },
  {
   "cell_type": "code",
   "execution_count": null,
   "id": "57876d60-38de-45d1-800a-c8ca82244073",
   "metadata": {},
   "outputs": [],
   "source": [
    "17. Create a tuple with a single element."
   ]
  },
  {
   "cell_type": "code",
   "execution_count": 46,
   "id": "d676ba20-9353-4142-b32c-99b867d10271",
   "metadata": {},
   "outputs": [
    {
     "name": "stdout",
     "output_type": "stream",
     "text": [
      "1\n"
     ]
    }
   ],
   "source": [
    "# step 1 initializing the tuple from  single element\n",
    "am=(1,)\n",
    "# step 2  printing the result \n",
    "print(am)\n"
   ]
  },
  {
   "cell_type": "code",
   "execution_count": null,
   "id": "e35a93c7-4b13-4500-a3c9-69fcfbbb55ba",
   "metadata": {},
   "outputs": [],
   "source": [
    "18. Compare two tuples.\n"
   ]
  },
  {
   "cell_type": "code",
   "execution_count": 48,
   "id": "06e1125c-56a5-4a01-acf7-0c3b5a51033c",
   "metadata": {},
   "outputs": [
    {
     "name": "stdout",
     "output_type": "stream",
     "text": [
      "tup1 and tup2 are not equal\n",
      "tup1 and tup2 are not equal\n",
      "tup1 is not greater than tup2\n",
      "tup1 is less than tup2\n"
     ]
    }
   ],
   "source": [
    "# step 1 creating 2 tuple for comparison\n",
    "tup1=(1,2,3,4,5)\n",
    "tup2=(1,234,456,334)\n",
    "#  step 1 Compare for equality\n",
    "if tup1 == tup2:\n",
    "    print(\"tup1 and tup2 are equal\")\n",
    "else:\n",
    "    print(\"tup1 and tup2 are not equal\")\n",
    "\n",
    "#  step 2 Compare for inequality\n",
    "if tup1 != tup2:\n",
    "    print(\"tup1 and tup2 are not equal\")\n",
    "else:\n",
    "    print(\"tup1 and tup2 are equal\")\n",
    "\n",
    "# step 3 Compare for greater than\n",
    "if tup1 > tup2:\n",
    "    print(\"tup1 is greater than tup2\")\n",
    "else:\n",
    "    print(\"tup1 is not greater than tup2\")\n",
    "\n",
    "#  step 4 Compare for less than\n",
    "if tup1 < tup2:\n",
    "    print(\"tup1 is less than tup2\")\n",
    "else:\n",
    "    print(\"tup1 is not less than tup2\")"
   ]
  },
  {
   "cell_type": "code",
   "execution_count": null,
   "id": "25926219-7ca9-4ab0-a236-98899867e236",
   "metadata": {},
   "outputs": [],
   "source": [
    "19. Delete a tuple."
   ]
  },
  {
   "cell_type": "code",
   "execution_count": 56,
   "id": "5549adea-a6ad-4525-bf2e-277670b7df49",
   "metadata": {},
   "outputs": [
    {
     "name": "stdout",
     "output_type": "stream",
     "text": [
      "('tutorials', 'point', 2022, True)\n",
      "After deleting the tuple:\n"
     ]
    },
    {
     "ename": "NameError",
     "evalue": "name 'tup' is not defined",
     "output_type": "error",
     "traceback": [
      "\u001b[0;31m---------------------------------------------------------------------------\u001b[0m",
      "\u001b[0;31mNameError\u001b[0m                                 Traceback (most recent call last)",
      "Cell \u001b[0;32mIn[56], line 5\u001b[0m\n\u001b[1;32m      3\u001b[0m \u001b[38;5;28;01mdel\u001b[39;00m(tup)\n\u001b[1;32m      4\u001b[0m \u001b[38;5;28mprint\u001b[39m(\u001b[38;5;124m\"\u001b[39m\u001b[38;5;124mAfter deleting the tuple:\u001b[39m\u001b[38;5;124m\"\u001b[39m)\n\u001b[0;32m----> 5\u001b[0m \u001b[38;5;28mprint\u001b[39m(\u001b[43mtup\u001b[49m)\n",
      "\u001b[0;31mNameError\u001b[0m: name 'tup' is not defined"
     ]
    }
   ],
   "source": [
    "# step 1 initializing the value in the tuple\n",
    "tup=('tutorials', 'point', 2022,True)\n",
    "# step 2 printing the tuple abefore deletion\n",
    "print(tup)\n",
    "# step3 using the del method in python\n",
    "del(tup)\n",
    "# step 4 printing  after deletion \n",
    "print(\"After deleting the tuple:\")\n",
    "# step 5 printing the result\n",
    "\n",
    "print(tup)"
   ]
  },
  {
   "cell_type": "code",
   "execution_count": null,
   "id": "d9d32328-43f4-45b6-8f6a-96ebf27f54f6",
   "metadata": {},
   "outputs": [],
   "source": [
    "20. Slice a tuple."
   ]
  },
  {
   "cell_type": "code",
   "execution_count": 57,
   "id": "01193f03-e84c-4161-9618-e5aa3247c167",
   "metadata": {},
   "outputs": [
    {
     "data": {
      "text/plain": [
       "(3, 45, 56)"
      ]
     },
     "execution_count": 57,
     "metadata": {},
     "output_type": "execute_result"
    }
   ],
   "source": [
    "# step 1 sample tuple \n",
    "tupi=(1,2,3,45,56,3,4,5,90,45,67)\n",
    "# step 2  slicing the tuple\n",
    "sliced=tupi[2:5]\n",
    "# step 3 printing the result \n",
    "sliced"
   ]
  },
  {
   "cell_type": "code",
   "execution_count": null,
   "id": "f9216187-67e6-4e37-afe1-8bf2adf0d692",
   "metadata": {},
   "outputs": [],
   "source": [
    "21. Find the maximum value in a tuple."
   ]
  },
  {
   "cell_type": "code",
   "execution_count": 59,
   "id": "48d51ed0-ae82-4d6b-9baf-f5f649e0c496",
   "metadata": {},
   "outputs": [
    {
     "data": {
      "text/plain": [
       "90"
      ]
     },
     "execution_count": 59,
     "metadata": {},
     "output_type": "execute_result"
    }
   ],
   "source": [
    "# step 1 sample tuple \n",
    "tupi=(1,2,3,45,56,3,4,5,90,45,67)\n",
    "# step 2 using the max method\n",
    "t=max(tupi)\n",
    "# step 3 printing the result \n",
    "t"
   ]
  },
  {
   "cell_type": "code",
   "execution_count": null,
   "id": "37b9dc63-501e-4392-88a7-693460766ce0",
   "metadata": {},
   "outputs": [],
   "source": [
    "23. Convert a string to a tuple of characters."
   ]
  },
  {
   "cell_type": "code",
   "execution_count": 2,
   "id": "4cb0d936-c14b-49b5-96a6-7f8b1a996b3f",
   "metadata": {},
   "outputs": [
    {
     "name": "stdin",
     "output_type": "stream",
     "text": [
      " enter the value for string i love amrit\n"
     ]
    },
    {
     "data": {
      "text/plain": [
       "('i', ' ', 'l', 'o', 'v', 'e', ' ', 'a', 'm', 'r', 'i', 't')"
      ]
     },
     "execution_count": 2,
     "metadata": {},
     "output_type": "execute_result"
    }
   ],
   "source": [
    "# step 1 sample tuple\n",
    "st=input(\" enter the value for string\")\n",
    "# step 2 converting string into tuple\n",
    "tup=tuple(st)\n",
    "# step 3 printing the result\n",
    "tup\n",
    "\n"
   ]
  },
  {
   "cell_type": "code",
   "execution_count": null,
   "id": "1982f152-9696-4411-ae51-e5d8fdb8cade",
   "metadata": {},
   "outputs": [],
   "source": [
    "24. Convert a tuple of characters to a string."
   ]
  },
  {
   "cell_type": "code",
   "execution_count": 5,
   "id": "62577595-1aa4-45aa-bb4d-866de29477de",
   "metadata": {},
   "outputs": [
    {
     "data": {
      "text/plain": [
       "'amrit'"
      ]
     },
     "execution_count": 5,
     "metadata": {},
     "output_type": "execute_result"
    }
   ],
   "source": [
    "# step 1 sample tuple  of chracters\n",
    "tup=('a', 'm','r','i','t')\n",
    "# step 2 converting tuple into string\n",
    "st=''.join(tup)\n",
    "# step 3 printing the result\n",
    "st\n"
   ]
  },
  {
   "cell_type": "code",
   "execution_count": null,
   "id": "7f3d68bc-aa00-4b71-bb55-9c6ddd28a4f6",
   "metadata": {},
   "outputs": [],
   "source": [
    "25. Create a tuple from multiple data types."
   ]
  },
  {
   "cell_type": "code",
   "execution_count": 6,
   "id": "12478ada-e269-4f92-a821-c2a2f10f6e1d",
   "metadata": {},
   "outputs": [
    {
     "data": {
      "text/plain": [
       "('amrit', 3.14, True, 1)"
      ]
     },
     "execution_count": 6,
     "metadata": {},
     "output_type": "execute_result"
    }
   ],
   "source": [
    "# step 1 crating a sample tuple\n",
    "tuplee=('amrit',3.14,True,1)\n",
    "# step 2  print result\n",
    "tuplee"
   ]
  },
  {
   "cell_type": "code",
   "execution_count": null,
   "id": "ed8a4838-2c12-43e3-9b46-c1926caaf17d",
   "metadata": {},
   "outputs": [],
   "source": [
    "26. Check if two tuples are identical."
   ]
  },
  {
   "cell_type": "code",
   "execution_count": 9,
   "id": "37b6e297-b8f3-4b25-9b1e-31cfe2e5fb10",
   "metadata": {},
   "outputs": [
    {
     "name": "stdout",
     "output_type": "stream",
     "text": [
      " tuples are not identical\n"
     ]
    }
   ],
   "source": [
    "# step 1 create a sample tuples\n",
    "tumpi=(1,2,3,4)\n",
    "tumpe=(1,2,3,45)\n",
    "# step 2 using the if else condition\n",
    "if tumpi==tumpe:\n",
    "    print(\" tuples are identical\")\n",
    "else:\n",
    "     print(\" tuples are not identical\")\n",
    "\n"
   ]
  },
  {
   "cell_type": "code",
   "execution_count": null,
   "id": "2e8bab09-9282-4c02-bf16-0af6abf1028b",
   "metadata": {},
   "outputs": [],
   "source": [
    "27. Sort the elements of a tuple."
   ]
  },
  {
   "cell_type": "code",
   "execution_count": 11,
   "id": "f864e76f-19b7-4c82-a244-2ee9b99a5dcf",
   "metadata": {},
   "outputs": [
    {
     "data": {
      "text/plain": [
       "(4, 5, 6, 7, 32)"
      ]
     },
     "execution_count": 11,
     "metadata": {},
     "output_type": "execute_result"
    }
   ],
   "source": [
    "# step 1 create a sample tuple \n",
    "tumpi=(5,6,7,32,4)\n",
    "# step 2  converting it into the the list \n",
    "\n",
    "tump=tuple(sorted(tumpi))\n",
    "# step 3 printing the result\n",
    "tump\n",
    "\n",
    "\n"
   ]
  },
  {
   "cell_type": "code",
   "execution_count": null,
   "id": "0e8d06c1-9d57-448e-97f6-76e442e7debd",
   "metadata": {},
   "outputs": [],
   "source": [
    "28. Convert a tuple of integers to a tuple of strings."
   ]
  },
  {
   "cell_type": "code",
   "execution_count": 13,
   "id": "5802c75c-8f38-4793-92dd-1b931b8e72ea",
   "metadata": {},
   "outputs": [
    {
     "name": "stdout",
     "output_type": "stream",
     "text": [
      "('1', '2', '44', '56', '65')\n"
     ]
    }
   ],
   "source": [
    "# step 1 sample tuple of  integers\n",
    "tum=(1,2,44,56,65)\n",
    "# step 2   creating the string for initailizing the value in sting\n",
    "tuple_of_strings = ()\n",
    "# step 3 using the for loop\n",
    "for num in tum:\n",
    "    tuple_of_strings += (str(num),)\n",
    "# step 4  printing the result\n",
    "\n",
    "print(tuple_of_strings)\n"
   ]
  },
  {
   "cell_type": "code",
   "execution_count": null,
   "id": "10088275-0640-4a59-9997-a872210bc132",
   "metadata": {},
   "outputs": [],
   "source": [
    "29. Convert a tuple of strings to a tuple of integers."
   ]
  },
  {
   "cell_type": "code",
   "execution_count": 6,
   "id": "8f360b94-38b3-438a-9bf9-3fa79fff3a54",
   "metadata": {},
   "outputs": [
    {
     "name": "stdout",
     "output_type": "stream",
     "text": [
      "(1, 2, 3, 4)\n"
     ]
    }
   ],
   "source": [
    "# step 1 sample tuple of   strings\n",
    "tum=('1','2','3','4')\n",
    "# step 2  creating the  tuple for integers\n",
    "inti=()\n",
    "# step 3  creating  the  tuple \n",
    "for i in tum:\n",
    "        inti+=(int(i),)\n",
    "print(inti)\n",
    "                \n",
    "\n"
   ]
  },
  {
   "cell_type": "code",
   "execution_count": null,
   "id": "6ffa7fbb-e4e0-43d4-a783-795e7d772d11",
   "metadata": {},
   "outputs": [],
   "source": [
    "30. Merge two tuples."
   ]
  },
  {
   "cell_type": "code",
   "execution_count": 8,
   "id": "d4d04d74-5c4f-4576-8eef-e2de32eae9f9",
   "metadata": {},
   "outputs": [
    {
     "data": {
      "text/plain": [
       "(1, 2, 3, 4, 5, 1, 3, 56, 23)"
      ]
     },
     "execution_count": 8,
     "metadata": {},
     "output_type": "execute_result"
    }
   ],
   "source": [
    "# step 1 creating 2 sample tuple\n",
    "tup1=(1,2,3,4,5)\n",
    "tup2= (1,3,56,23)\n",
    "# step 2 merging the tuple\n",
    "tupli= tup1+tup2\n",
    "# step 3 printing the result\n",
    "tupli"
   ]
  },
  {
   "cell_type": "code",
   "execution_count": null,
   "id": "befeec9b-e676-4b96-b3e0-25ba45b00a9f",
   "metadata": {},
   "outputs": [],
   "source": [
    "31. Flatten a nested tuple."
   ]
  },
  {
   "cell_type": "code",
   "execution_count": 1,
   "id": "22214eda-acf4-4cac-83bb-ccc8b007ce7e",
   "metadata": {},
   "outputs": [
    {
     "name": "stdout",
     "output_type": "stream",
     "text": [
      "(1, 2, 3, 4, 5, 6, (7, 8))\n"
     ]
    }
   ],
   "source": [
    "# step1  sample nested tuple \n",
    "nested_tuple = ((1, 2, 3), (4, 5), (6, (7, 8)))\n",
    "\n",
    "# step 2 making flateend tuple for taking the input \n",
    "flattened_tuple = tuple(item for sublist in nested_tuple for item in (sublist if isinstance(sublist, tuple) else (sublist,)))\n",
    "# step 3  printing result\n",
    "print(flattened_tuple)\n"
   ]
  },
  {
   "cell_type": "code",
   "execution_count": null,
   "id": "8cbc2ca9-211c-434e-a849-299d8eee7d0e",
   "metadata": {},
   "outputs": [],
   "source": [
    "32. Create a tuple of the first 5 prime numbers."
   ]
  },
  {
   "cell_type": "code",
   "execution_count": 2,
   "id": "17a8de82-065b-490d-9b23-f858c3feee7d",
   "metadata": {},
   "outputs": [
    {
     "name": "stdout",
     "output_type": "stream",
     "text": [
      "Tuple of the first 5 prime numbers: (2, 3, 5, 7, 11)\n"
     ]
    }
   ],
   "source": [
    "# step 1  crating tuple for taking the input\n",
    "prime_numbers = ()\n",
    "# step 2 initialiazing the count \n",
    "count = 0\n",
    "# step 2  start checking from 2 \n",
    "num = 2  \n",
    "# step 3  using the  while  loop to find the number till 5\n",
    "while count < 5:\n",
    "    is_prime = True\n",
    "# step 4 t checks for primality by iterating through potential divisors from 2 to the square root of the number being tested.\n",
    "    for i in range(2, int(num ** 0.5) + 1):\n",
    "        if num % i == 0:\n",
    "            is_prime = False\n",
    "            break\n",
    "    if is_prime:\n",
    "        prime_numbers += (num,)\n",
    "        count += 1\n",
    "    num += 1\n",
    "\n",
    "print(\"Tuple of the first 5 prime numbers:\", prime_numbers)\n"
   ]
  },
  {
   "cell_type": "code",
   "execution_count": null,
   "id": "e9cfbda6-e0cb-494e-8cfa-15f0cdfee268",
   "metadata": {},
   "outputs": [],
   "source": [
    "33. Check if a tuple is a palindrome."
   ]
  },
  {
   "cell_type": "code",
   "execution_count": 2,
   "id": "b3f3a0a0-0a3d-4e6c-be4e-e296977d52ab",
   "metadata": {},
   "outputs": [
    {
     "name": "stdout",
     "output_type": "stream",
     "text": [
      " samp is  not pailndrome\n"
     ]
    }
   ],
   "source": [
    "# step 1 sample tuple   for checking its is pailndromne\n",
    "samp=(1,2,3,4,500)\n",
    "# step 2   making another temp tuple\n",
    "temp=()\n",
    "# step 3 storing the value in temp after reversing\n",
    "temp=samp[::-1]\n",
    "# step 3  using the if else condition and printing the result \n",
    "if samp!=temp:\n",
    "    print(\" samp is  not pailndrome\")\n",
    "else:\n",
    "    print(\" samp is palindrome\")\n",
    "\n"
   ]
  },
  {
   "cell_type": "code",
   "execution_count": null,
   "id": "8bb68413-8043-4412-9005-847caee30b02",
   "metadata": {},
   "outputs": [],
   "source": [
    "34. Create a tuple of squares of numbers from 1 to 5."
   ]
  },
  {
   "cell_type": "code",
   "execution_count": 5,
   "id": "1e96ed60-51ef-495f-abd4-e316d2ee54e1",
   "metadata": {},
   "outputs": [
    {
     "data": {
      "text/plain": [
       "(1, 4, 9, 16, 25)"
      ]
     },
     "execution_count": 5,
     "metadata": {},
     "output_type": "execute_result"
    }
   ],
   "source": [
    "# step 1  using  the for loop  storing the squre values in the tuple\n",
    "samp=tuple(x**2 for x in range(1,6))\n",
    "# step 2  giving the result\n",
    "samp\n",
    "           \n",
    "   \n",
    "\n"
   ]
  },
  {
   "cell_type": "code",
   "execution_count": null,
   "id": "1a5a44cf-26d0-4222-b0cd-470bf7b627e1",
   "metadata": {},
   "outputs": [],
   "source": [
    "35. Filter out all even numbers from a tuple."
   ]
  },
  {
   "cell_type": "code",
   "execution_count": 11,
   "id": "4689451b-8408-41a4-8ba5-06f9c3a61d7d",
   "metadata": {},
   "outputs": [
    {
     "data": {
      "text/plain": [
       "(24, 298)"
      ]
     },
     "execution_count": 11,
     "metadata": {},
     "output_type": "execute_result"
    }
   ],
   "source": [
    "# step 1  crating the samplre tuple\n",
    "samp=(123,24,55,67,298)\n",
    "# step 2 using the for loop in list \n",
    "sampi=[i for i in samp if i%2==0]\n",
    "# step 3  converting  list back it into the tuple \n",
    "filterr=tuple(sampi)\n",
    "# step 4 printing the result\n",
    "filterr\n",
    "        "
   ]
  },
  {
   "cell_type": "code",
   "execution_count": null,
   "id": "cc2ffaba-b1de-46cb-aad0-e2521d02ce92",
   "metadata": {},
   "outputs": [],
   "source": [
    "36. Multiply all elements in a tuple by 2."
   ]
  },
  {
   "cell_type": "code",
   "execution_count": 12,
   "id": "120cda2d-f1f8-4064-818c-7134177ba260",
   "metadata": {},
   "outputs": [
    {
     "data": {
      "text/plain": [
       "(123, 24, 55, 67, 298)"
      ]
     },
     "execution_count": 12,
     "metadata": {},
     "output_type": "execute_result"
    }
   ],
   "source": [
    "# step 1  crating the sample tuple\n",
    "samp=(123,24,55,67,298)\n",
    "# step 2 multiply by 3\n",
    "samp*3\n",
    "# step 3  printing the  result\n",
    "samp"
   ]
  },
  {
   "cell_type": "code",
   "execution_count": null,
   "id": "1fb016d0-8692-413d-912b-1fa57b882e54",
   "metadata": {},
   "outputs": [],
   "source": [
    "37. Create a tuple of random numbers."
   ]
  },
  {
   "cell_type": "code",
   "execution_count": 15,
   "id": "c53784ca-3544-4b1f-b67a-ff381452c94e",
   "metadata": {},
   "outputs": [
    {
     "name": "stdout",
     "output_type": "stream",
     "text": [
      "(38, 86, 49, 31, 17)\n"
     ]
    }
   ],
   "source": [
    "# step 1 importing the random library\n",
    "import random\n",
    "# step 2 creating a tuple of random_ tuple We use a list comprehension to generate 5 random numbers between 1 and 100 using the random.randint() function.\n",
    "random_tuple = tuple(random.randint(1, 100) for _ in range(5))\n",
    "# step 3  IN Above line  Finally, we convert the list of random numbers into a tuple using the tuple() constructor, and random_tuple contains the 5 random numbers.\n",
    "# step 34 printing the result \n",
    "print(random_tuple)"
   ]
  },
  {
   "cell_type": "code",
   "execution_count": null,
   "id": "3b50a8ed-a580-4812-a8ef-9516f9000895",
   "metadata": {},
   "outputs": [],
   "source": [
    "38. Check if a tuple is sorted."
   ]
  },
  {
   "cell_type": "code",
   "execution_count": 23,
   "id": "ae1eaaf9-63ed-4da8-9c22-6451c5d40703",
   "metadata": {},
   "outputs": [
    {
     "name": "stdout",
     "output_type": "stream",
     "text": [
      " tuple is not sorted\n"
     ]
    }
   ],
   "source": [
    "# step 1  crating the samplre tuple\n",
    "samp=(123,24,55,67,298)\n",
    "# step2 converting it into  list\n",
    "sampl=list(samp)\n",
    "sampl.sort()\n",
    "# step 3 now agian converting it into the tuple\n",
    "sampi= tuple(sampl)\n",
    "# step 4  using the if else condition \n",
    "if samp==sampi:\n",
    "    print(\" the tuple is sorted\")\n",
    "else:\n",
    "    print(\" tuple is not sorted\")\n"
   ]
  },
  {
   "cell_type": "code",
   "execution_count": null,
   "id": "777375bb-e1e5-4aa8-8f8d-30b42b9e4672",
   "metadata": {},
   "outputs": [],
   "source": [
    "39. Rotate a tuple to the left by `n` positions."
   ]
  },
  {
   "cell_type": "code",
   "execution_count": 35,
   "id": "4c883d70-6ffb-4931-98ce-b274b6cd2dbd",
   "metadata": {},
   "outputs": [
    {
     "name": "stdout",
     "output_type": "stream",
     "text": [
      "(3, 4, 5, 1, 2)\n"
     ]
    }
   ],
   "source": [
    "# step 1 creatig the founction\n",
    "def rotate_left(tup,n):\n",
    "    # step 2 ensure  n is within the range of  tuple\n",
    "    n %= len(tup)\n",
    "    # step 3 slicing\n",
    "    return tup[n:] + tup[:n]\n",
    "tup = (1, 2, 3, 4,5)\n",
    "n = 2#step 4 Number of positions to rotate  left\n",
    "# step 5 calling founction\n",
    "result = rotate_left(tup, n)\n",
    "print(result)"
   ]
  },
  {
   "cell_type": "code",
   "execution_count": null,
   "id": "230f89d8-d8c2-4af0-aca3-622dc793a2d6",
   "metadata": {},
   "outputs": [],
   "source": [
    "40. Rotate a tuple to the right by `n` positions."
   ]
  },
  {
   "cell_type": "code",
   "execution_count": 36,
   "id": "7092e74d-e2f5-4e62-80a5-0cb2298b7d0d",
   "metadata": {},
   "outputs": [
    {
     "name": "stdout",
     "output_type": "stream",
     "text": [
      "(4, 5, 1, 2, 3)\n"
     ]
    }
   ],
   "source": [
    "\n",
    "# step 1 creatig the founction\n",
    "def rotate_right_tuple(tup, n):\n",
    "     # step 2 ensure  n is within the range of  tuple\n",
    "    n = n % len(tup) \n",
    "    # step 3 slicing according to n\n",
    "    return tup[-n:] + tup[:-n]\n",
    "\n",
    "# Example usage:\n",
    "original_tuple = (1, 2, 3, 4, 5)\n",
    "n = 2  #step 4 Number of positions to rotate right\n",
    "# step 5 calling founction\n",
    "rotated_tuple = rotate_right_tuple(original_tuple, n)\n",
    "print(rotated_tuple)\n"
   ]
  },
  {
   "cell_type": "code",
   "execution_count": null,
   "id": "f5dcdc36-6656-4c8f-b1dd-c046c585795e",
   "metadata": {},
   "outputs": [],
   "source": [
    "41. Create a tuple of the first 5 Fibonacci numbers."
   ]
  },
  {
   "cell_type": "code",
   "execution_count": 1,
   "id": "58b31f3c-f0a7-41a7-bdce-f1c6ca1ecf85",
   "metadata": {},
   "outputs": [
    {
     "name": "stdout",
     "output_type": "stream",
     "text": [
      "(0, 1, 1, 2, 3)\n"
     ]
    }
   ],
   "source": [
    "#  step 1 Function to generate the first n Fibonacci numbers and return them as a tuple\n",
    "def generate_fibonacci(n):\n",
    "#step 2  Initialize with the first two Fibonacci numbers\n",
    "    fibonacci = [0, 1]  \n",
    "    while len(fibonacci) < n:\n",
    "# step 3  Calculate the next Fibonacci number\n",
    "        next_fib = fibonacci[-1] + fibonacci[-2]  \n",
    "# step 4   Add it to the list\n",
    "\n",
    "        fibonacci.append(next_fib)  \n",
    "\n",
    "    return tuple(fibonacci)\n",
    "\n",
    "#  step 5 Generate the first 5 Fibonacci numbers and store them in a tuple\n",
    "fibonacci_tuple = generate_fibonacci(5)\n",
    "\n",
    "# step 6  Print the tuple\n",
    "print(fibonacci_tuple)\n"
   ]
  },
  {
   "cell_type": "code",
   "execution_count": null,
   "id": "6a4de7ed-5807-4638-bcfe-dd688496bc2b",
   "metadata": {},
   "outputs": [],
   "source": [
    "42. Create a tuple from user input."
   ]
  },
  {
   "cell_type": "code",
   "execution_count": 10,
   "id": "9dc98710-dc41-4858-9b5f-051193ee2a39",
   "metadata": {},
   "outputs": [
    {
     "name": "stdin",
     "output_type": "stream",
     "text": [
      "Enter a tuple of numbers:  1 2 3\n"
     ]
    },
    {
     "name": "stdout",
     "output_type": "stream",
     "text": [
      "('1', '2', '3')\n"
     ]
    }
   ],
   "source": [
    "# step 1  Prompt the user to enter a tuple of numbers.\n",
    "numbers = input(\"Enter a tuple of numbers: \")\n",
    "\n",
    "# step 2  Convert the user input into a list.\n",
    "numbers_list = numbers.split()\n",
    "\n",
    "# step 3  Use the `tuple()` function to convert the list into a tuple.\n",
    "numbers_tuple = tuple(numbers_list)\n",
    "\n",
    "#  step 4 Print the tuple to the console.\n",
    "print(numbers_tuple)"
   ]
  },
  {
   "cell_type": "code",
   "execution_count": null,
   "id": "5e45639d-bf89-4c43-bc8b-d641d323368c",
   "metadata": {},
   "outputs": [],
   "source": [
    "43. Swap two elements in a tuple."
   ]
  },
  {
   "cell_type": "code",
   "execution_count": 12,
   "id": "d68f7e74-f375-4221-9639-d55dafed3c36",
   "metadata": {},
   "outputs": [
    {
     "data": {
      "text/plain": [
       "(1, 3, 2, 445, 56)"
      ]
     },
     "execution_count": 12,
     "metadata": {},
     "output_type": "execute_result"
    }
   ],
   "source": [
    "# step 1 creating  the sample tuple \n",
    "samp=(1,2,3,445,56)\n",
    "# step 2 converting the tuple into the list\n",
    "ls=list(samp)\n",
    "# step 3 swaping the elemnts in list \n",
    "ls[1],ls[2]=ls[2],ls[1]\n",
    "# step 4  converting the list in tuple \n",
    "my=tuple(ls)\n",
    "# step 5 result \n",
    "my\n",
    "\n"
   ]
  },
  {
   "cell_type": "code",
   "execution_count": null,
   "id": "b63b87e3-4342-4db2-887b-8a0280bc58aa",
   "metadata": {},
   "outputs": [],
   "source": [
    "44. Reverse the elements of a tuple."
   ]
  },
  {
   "cell_type": "code",
   "execution_count": 13,
   "id": "cea0be0d-f0b4-45ba-a311-c6aeb0e38b8f",
   "metadata": {},
   "outputs": [
    {
     "data": {
      "text/plain": [
       "(56, 445, 3, 2, 1)"
      ]
     },
     "execution_count": 13,
     "metadata": {},
     "output_type": "execute_result"
    }
   ],
   "source": [
    "# step 1 creating  the sample tuple \n",
    "samp=(1,2,3,445,56)\n",
    "# step 2 converting the  tuple into the list\n",
    "ls=list(samp)\n",
    "# step 3 using the reverse method of strings\n",
    "ls.reverse()\n",
    "# step 4 converting the list into tuple\n",
    "tim=tuple(ls)\n",
    "# step 5 printing the result\n",
    "tim\n",
    "\n"
   ]
  },
  {
   "cell_type": "code",
   "execution_count": null,
   "id": "16cdf279-5fe7-495a-beaa-8a9f0dd1db07",
   "metadata": {},
   "outputs": [],
   "source": [
    "45. Create a tuple of the first `n` powers of 2."
   ]
  },
  {
   "cell_type": "code",
   "execution_count": 17,
   "id": "92729fe3-d8e8-4ebf-aeb9-4ec36e4237b1",
   "metadata": {},
   "outputs": [
    {
     "name": "stdin",
     "output_type": "stream",
     "text": [
      "Enter the value of n:  2\n"
     ]
    },
    {
     "name": "stdout",
     "output_type": "stream",
     "text": [
      "Tuple of the first 2 powers of 2: (1, 2)\n"
     ]
    }
   ],
   "source": [
    "#  step 1 taking the input for n\n",
    "n = int(input(\"Enter the value of n: \"))\n",
    "\n",
    "#  step 2 Initialize an empty tuple to store the powers of 2\n",
    "powers_of_2 = ()\n",
    "\n",
    "#  step 3 Generate the first n powers of 2 and add them to the tuple\n",
    "for i in range(n):\n",
    "    power = 2 ** i\n",
    "    powers_of_2 += (power,)\n",
    "\n",
    "# step 4  Print the tuple of powers of 2\n",
    "print(\"Tuple of the first\", n, \"powers of 2:\", powers_of_2)"
   ]
  },
  {
   "cell_type": "code",
   "execution_count": null,
   "id": "f532f9a6-93bc-454a-b869-f9d4ea4a0fb8",
   "metadata": {},
   "outputs": [],
   "source": [
    "46. Find the longest string in a tuple of strings."
   ]
  },
  {
   "cell_type": "code",
   "execution_count": 19,
   "id": "1da4f79b-6669-4972-94ba-88566ec0c4a8",
   "metadata": {},
   "outputs": [
    {
     "name": "stdout",
     "output_type": "stream",
     "text": [
      "Longest string in the tuple: saloni\n"
     ]
    }
   ],
   "source": [
    "# step 1 creating the sample tuple \n",
    "samp=(\"amrit\",\"banana\",\" abhay \", \" yashi \", \"saloni\")\n",
    "# step 2  creating  a variable  itiliazing it\n",
    "longest=\"\"\n",
    "# step 3 using the for loop\n",
    "for  string in samp:\n",
    "    if len(string) > len(longest):\n",
    "        longest=string\n",
    "print(\"Longest string in the tuple:\", string)\n",
    "        "
   ]
  },
  {
   "cell_type": "code",
   "execution_count": null,
   "id": "bba37cb5-10f5-4734-a4d1-efd6c325551b",
   "metadata": {},
   "outputs": [],
   "source": [
    "47. Find the shortest string in a tuple of strings."
   ]
  },
  {
   "cell_type": "code",
   "execution_count": 23,
   "id": "f8393a84-374b-4011-a247-aed560216b96",
   "metadata": {},
   "outputs": [
    {
     "name": "stdout",
     "output_type": "stream",
     "text": [
      "shortest string in the tuple: amrit\n"
     ]
    }
   ],
   "source": [
    "# step 1 creating the sample tuple \n",
    "samp=(\"amrit\",\"banana\", \"saloni\")\n",
    "# step 2  creating  a variable and assuming first string the shortest\n",
    "shortest=samp[0]\n",
    "# step 3 using the for loop\n",
    "for  string in samp:\n",
    "    if len(string) < len(shortest):\n",
    "        shortest=string\n",
    "print(\"shortest string in the tuple:\", shortest)\n",
    "        "
   ]
  },
  {
   "cell_type": "code",
   "execution_count": null,
   "id": "3b16da93-c071-417d-a58e-636260382aa6",
   "metadata": {},
   "outputs": [],
   "source": [
    "48. Create a tuple of the first `n` triangular numbers."
   ]
  },
  {
   "cell_type": "code",
   "execution_count": null,
   "id": "9db06e57-2ac5-4cb9-bd1c-8ddbbcd4195e",
   "metadata": {},
   "outputs": [
    {
     "name": "stdin",
     "output_type": "stream",
     "text": [
      "Enter the value of n:  4\n"
     ]
    },
    {
     "name": "stdout",
     "output_type": "stream",
     "text": [
      "Tuple of the first 4 triangular numbers: (1, 3, 6, 10)\n"
     ]
    }
   ],
   "source": [
    "# step 1 taking the input \n",
    "n = int(input(\"Enter the value of n: \"))\n",
    "\n",
    "# step 2  Initialize an empty tuple to store the triangular numbers\n",
    "triangular_numbers = ()\n",
    "\n",
    "# step 3  Generate the first n triangular numbers and add them to the tuple\n",
    "for i in range(1, n + 1):\n",
    "    triangular_number = (i * (i + 1)) // 2\n",
    "    triangular_numbers += (triangular_number,)\n",
    "\n",
    "# step 4 Print the tuple of triangular numbers\n",
    "print(\"Tuple of the first\", n, \"triangular numbers:\", triangular_numbers)"
   ]
  },
  {
   "cell_type": "code",
   "execution_count": null,
   "id": "470ce02d-3b34-418c-83ef-1008155d082a",
   "metadata": {},
   "outputs": [],
   "source": [
    "49. Check if a tuple contains another tuple as a subsequence."
   ]
  },
  {
   "cell_type": "code",
   "execution_count": 25,
   "id": "0128242c-1024-4598-b150-79666b4f0453",
   "metadata": {},
   "outputs": [
    {
     "name": "stdout",
     "output_type": "stream",
     "text": [
      "The smaller tuple is a subsequence of the larger tuple.\n"
     ]
    }
   ],
   "source": [
    "# step 1  Example tuples\n",
    "larger_tuple = (1, 2, 3, 4, 5, 6)\n",
    "smaller_tuple = (3, 4, 5)\n",
    "\n",
    "# step 2  Initialize variables for indices\n",
    "i = 0  #  Index for the larger tuple\n",
    "j = 0  # Index for the smaller tuple\n",
    "\n",
    "while i < len(larger_tuple) and j < len(smaller_tuple):\n",
    "    if larger_tuple[i] == smaller_tuple[j]:\n",
    "        j += 1\n",
    "    i += 1\n",
    "\n",
    "#  step 3 Check if the smaller tuple is a subsequence\n",
    "if j == len(smaller_tuple):\n",
    "    print(\"The smaller tuple is a subsequence of the larger tuple.\")\n",
    "else:\n",
    "    print(\"The smaller tuple is not a subsequence of the larger tuple.\")\n"
   ]
  },
  {
   "cell_type": "code",
   "execution_count": null,
   "id": "6bd43a12-b36a-4eaf-a6aa-0fd4e4e12bb5",
   "metadata": {},
   "outputs": [],
   "source": [
    "50. Create a tuple of alternating 1s and 0s of length `n`."
   ]
  },
  {
   "cell_type": "code",
   "execution_count": 26,
   "id": "625ddd61-c337-4494-af43-db81c0a491e7",
   "metadata": {},
   "outputs": [
    {
     "name": "stdin",
     "output_type": "stream",
     "text": [
      "Enter the length of the tuple:  3\n"
     ]
    },
    {
     "name": "stdout",
     "output_type": "stream",
     "text": [
      "Tuple of alternating 1s and 0s: (0, 1, 0)\n"
     ]
    }
   ],
   "source": [
    "#step 1 taking the input \n",
    "n = int(input(\"Enter the length of the tuple: \"))\n",
    "\n",
    "#  step 2 Create a tuple of alternating 1s and 0s\n",
    "alternating_tuple = tuple((i % 2) for i in range(n))\n",
    "\n",
    "# step 3 Print the tuple\n",
    "print(\"Tuple of alternating 1s and 0s:\", alternating_tuple)"
   ]
  },
  {
   "cell_type": "code",
   "execution_count": null,
   "id": "785b3100-a01e-48cb-a022-9a0350ecef4d",
   "metadata": {},
   "outputs": [],
   "source": [
    "TOPIC - SET BASED PRACTICE PROBLEM"
   ]
  },
  {
   "cell_type": "code",
   "execution_count": null,
   "id": "65b499a1-e245-4a99-aadc-4a1d393a454e",
   "metadata": {},
   "outputs": [],
   "source": [
    "1. Create a set with integers from 1 to 5."
   ]
  },
  {
   "cell_type": "code",
   "execution_count": 1,
   "id": "a393d90c-0c42-4a67-94fa-058cb935e380",
   "metadata": {},
   "outputs": [
    {
     "name": "stdout",
     "output_type": "stream",
     "text": [
      "{1, 2, 3, 4, 5}\n"
     ]
    }
   ],
   "source": [
    "# step 1  creating the set s\n",
    "s = {1,2,3,4,5}\n",
    "# step 2 printing the result\n",
    "print(s)"
   ]
  },
  {
   "cell_type": "code",
   "execution_count": null,
   "id": "5596f7d8-7681-40af-953f-e61c3ec9b6b1",
   "metadata": {},
   "outputs": [],
   "source": [
    "2. Add an element to a set."
   ]
  },
  {
   "cell_type": "code",
   "execution_count": 2,
   "id": "06070629-bbf5-42f6-a996-bcb4da52a368",
   "metadata": {},
   "outputs": [
    {
     "name": "stdout",
     "output_type": "stream",
     "text": [
      "{1, 2, 3, 4, 5, 8}\n"
     ]
    }
   ],
   "source": [
    "# step 1 creatinf the sample set\n",
    "s = {1,2,3,4,5}\n",
    "# step 2  adding the element  8in s\n",
    "s.add(8)\n",
    "# step 3 printing the result\n",
    "print(s)"
   ]
  },
  {
   "cell_type": "code",
   "execution_count": null,
   "id": "5ce5fb8c-7694-4356-9a7d-f7e89cd12847",
   "metadata": {},
   "outputs": [],
   "source": [
    "3. Remove an element from a set."
   ]
  },
  {
   "cell_type": "code",
   "execution_count": 3,
   "id": "d7ed9229-66cb-4384-8b47-6c4d92e6cb9f",
   "metadata": {},
   "outputs": [
    {
     "name": "stdout",
     "output_type": "stream",
     "text": [
      "{1, 2, 3, 4}\n"
     ]
    }
   ],
   "source": [
    "# step 1 creating  the sample list\n",
    "s = {1,2,3,4,5}\n",
    "# step 2 removing the element 5 from the\n",
    "s.remove(5)\n",
    "# step 3 printing aftewr the result\n",
    "print(s)"
   ]
  },
  {
   "cell_type": "code",
   "execution_count": null,
   "id": "9b30a5cd-359f-43eb-9f2c-05f490f231a4",
   "metadata": {},
   "outputs": [],
   "source": [
    "4. Check if an element exists in a set."
   ]
  },
  {
   "cell_type": "code",
   "execution_count": 8,
   "id": "90f5f598-09c0-42d3-b2dd-0eea772a43c9",
   "metadata": {},
   "outputs": [
    {
     "name": "stdout",
     "output_type": "stream",
     "text": [
      "f{element} exist in set\n"
     ]
    }
   ],
   "source": [
    "# step 1 creating  the sample  set \n",
    "s = {1,2,3,4,5}\n",
    "# step 2 element  for whom we will check for\n",
    "element=3\n",
    "# step 3 using the flag and inidicate weather the element is exist or not \n",
    "element_exist=False\n",
    "# step 4 using the for loop \n",
    "for  i in s:\n",
    "    if i==element:\n",
    "        element_exist = True\n",
    "        break # step 5 exit the loop as element is found\n",
    "if element_exist:\n",
    "    print(\"f{element} exist in set\")\n",
    "else:\n",
    "    print(f\"{element_to_check} does not exist in set\")"
   ]
  },
  {
   "cell_type": "code",
   "execution_count": null,
   "id": "62334138-371c-4e26-825b-6c478bfea4a8",
   "metadata": {},
   "outputs": [],
   "source": [
    "5. Find the length of a set without using the `len()` function."
   ]
  },
  {
   "cell_type": "code",
   "execution_count": 3,
   "id": "3d284a4c-1606-4304-acfc-6f51ebc6b127",
   "metadata": {},
   "outputs": [
    {
     "name": "stdout",
     "output_type": "stream",
     "text": [
      "3\n"
     ]
    }
   ],
   "source": [
    "# step 1 creating the sample set\n",
    "set_var = {\"a\", \"b\", \"c\"}\n",
    "# step 2 initializ the count \n",
    "count = 0\n",
    "# step 3 using the for loop \n",
    "for element in set_var:\n",
    "    count += 1\n",
    "#step 4 printing the result\n",
    "print(count)"
   ]
  },
  {
   "cell_type": "code",
   "execution_count": null,
   "id": "54b2e2b7-edd8-4611-a534-e2f71a2bb88b",
   "metadata": {},
   "outputs": [],
   "source": [
    "6. Clear all elements from a set."
   ]
  },
  {
   "cell_type": "code",
   "execution_count": 7,
   "id": "240aa8ab-abd8-4946-87e9-d8c64afc629a",
   "metadata": {},
   "outputs": [
    {
     "name": "stdout",
     "output_type": "stream",
     "text": [
      "set()\n"
     ]
    }
   ],
   "source": [
    "# step 1 creating the sample set\n",
    "set_var = {\"a\", \"b\", \"c\"}\n",
    "# step2 using the clear method  of list\n",
    "set_var.clear()\n",
    "# step 3 printing the result\n",
    "print(set_var)\n"
   ]
  },
  {
   "cell_type": "code",
   "execution_count": null,
   "id": "44f4d217-c30d-4b78-a857-67104084e097",
   "metadata": {},
   "outputs": [],
   "source": [
    "7. Create a set of even numbers from 1 to 10."
   ]
  },
  {
   "cell_type": "code",
   "execution_count": 14,
   "id": "9ee03ff4-62fa-444a-a92d-6a7143c60171",
   "metadata": {},
   "outputs": [
    {
     "data": {
      "text/plain": [
       "{2, 4, 6, 8, 10}"
      ]
     },
     "execution_count": 14,
     "metadata": {},
     "output_type": "execute_result"
    }
   ],
   "source": [
    "# step 1 creatinfg the set which will have the even numbers using for loop inside it having range 1 to 11\n",
    "seti={i for i in range(1,11) if  i%2==0}\n",
    "# step 2 printing  the result\n",
    "seti\n",
    "        "
   ]
  },
  {
   "cell_type": "code",
   "execution_count": null,
   "id": "3508a7dc-b1c0-4cda-a5e6-e62fffbde1e7",
   "metadata": {},
   "outputs": [],
   "source": [
    "8. Create a set of odd numbers from 1 to 10."
   ]
  },
  {
   "cell_type": "code",
   "execution_count": 15,
   "id": "99e064f6-d32c-44b2-b3f4-25f4afa9ba44",
   "metadata": {},
   "outputs": [
    {
     "data": {
      "text/plain": [
       "{3, 6, 9}"
      ]
     },
     "execution_count": 15,
     "metadata": {},
     "output_type": "execute_result"
    }
   ],
   "source": [
    "# step 1 creatinfg the set which will have the even numbers\n",
    "seti={i for i in range(1,11) if  i%3==0}\n",
    "# step 2 printing  the result\n",
    "seti\n",
    "     "
   ]
  },
  {
   "cell_type": "code",
   "execution_count": null,
   "id": "e9004245-8ca3-4e1a-9a63-cf4f76ddde25",
   "metadata": {},
   "outputs": [],
   "source": [
    "9. Find the union of two sets."
   ]
  },
  {
   "cell_type": "code",
   "execution_count": 16,
   "id": "f72cf300-ce1a-426f-b8fa-70a293d6abd5",
   "metadata": {},
   "outputs": [
    {
     "data": {
      "text/plain": [
       "{' h', 'a', 'b', 'c', 'f', 'g'}"
      ]
     },
     "execution_count": 16,
     "metadata": {},
     "output_type": "execute_result"
    }
   ],
   "source": [
    "# step 1 creating the sample  set  1 and 2\n",
    "set_var = {\"a\", \"b\", \"c\"}\n",
    "setm= {\"f\",\"g\",\" h\"}\n",
    "# step 2 using  the union method\n",
    "set_var.union(setm)\n"
   ]
  },
  {
   "cell_type": "code",
   "execution_count": null,
   "id": "f01773ed-2e00-4527-b803-eeb33ed1eef6",
   "metadata": {},
   "outputs": [],
   "source": [
    "10. Find the intersection of two sets."
   ]
  },
  {
   "cell_type": "code",
   "execution_count": 1,
   "id": "65a66234-6e2f-4327-8759-4974e4aae104",
   "metadata": {},
   "outputs": [
    {
     "data": {
      "text/plain": [
       "{'a'}"
      ]
     },
     "execution_count": 1,
     "metadata": {},
     "output_type": "execute_result"
    }
   ],
   "source": [
    "# step 1 creating the sample  set  1 and 2\n",
    "set_var = {\"a\", \"b\", \"c\"}\n",
    "setm= {\"f\",\"g\",\" h\", \"a\"}\n",
    "# step 2 using in built intersection method\n",
    "set_var.intersection(setm)\n"
   ]
  },
  {
   "cell_type": "code",
   "execution_count": null,
   "id": "df04cc48-8f1e-472c-bbff-8c53ba6a3f95",
   "metadata": {},
   "outputs": [],
   "source": [
    "11. Find the difference between two sets.\n"
   ]
  },
  {
   "cell_type": "code",
   "execution_count": 5,
   "id": "ec7dc7a4-5d6c-4993-9c73-2a9996c21578",
   "metadata": {},
   "outputs": [
    {
     "data": {
      "text/plain": [
       "{' h', 'f', 'g'}"
      ]
     },
     "execution_count": 5,
     "metadata": {},
     "output_type": "execute_result"
    }
   ],
   "source": [
    "# step 1 creating the sample  set  1 and 2\n",
    "set_var = {\"a\", \"b\", \"c\"}\n",
    "setm= {\"f\",\"g\",\" h\", \"a\"}\n",
    "# step 2 using the  built in diffrence method\n",
    "setm.difference(set_var)\n"
   ]
  },
  {
   "cell_type": "code",
   "execution_count": null,
   "id": "adacbc82-5b99-4049-8593-bcb508d1fdf3",
   "metadata": {},
   "outputs": [],
   "source": [
    "12. Check if a set is a subset of another set."
   ]
  },
  {
   "cell_type": "code",
   "execution_count": 7,
   "id": "512babc3-5479-461e-ad1b-9bdc8a45614c",
   "metadata": {},
   "outputs": [
    {
     "data": {
      "text/plain": [
       "False"
      ]
     },
     "execution_count": 7,
     "metadata": {},
     "output_type": "execute_result"
    }
   ],
   "source": [
    "# step 1 creating the sample  set  1 and 2\n",
    "set_var = {\"a\", \"b\", \"c\", \"f\",\" g\", \"h\",\"a\"}\n",
    "setm= {\"f\",\"g\",\" h\", \"a\"}\n",
    "# step 2 using the subset method\n",
    "setm.issubset(set_var)\n"
   ]
  },
  {
   "cell_type": "code",
   "execution_count": null,
   "id": "9f32a7da-a2dd-4291-810c-a40085566d57",
   "metadata": {},
   "outputs": [],
   "source": [
    "13. Check if a set is a superset of another set."
   ]
  },
  {
   "cell_type": "code",
   "execution_count": 10,
   "id": "62fff403-acee-4621-b815-50f18cd0caeb",
   "metadata": {},
   "outputs": [
    {
     "name": "stdout",
     "output_type": "stream",
     "text": [
      "True\n"
     ]
    }
   ],
   "source": [
    "# step 1 Define the 2  sets\n",
    "set1 = {1, 2, 3, 4, 5}\n",
    "set2 = {3, 4}\n",
    "\n",
    "#  step 2 Check if set1 is a superset of set2\n",
    "is_superset = set1.issuperset(set2)\n",
    "\n",
    "# step 3  Print the result\n",
    "print(is_superset)\n"
   ]
  },
  {
   "cell_type": "code",
   "execution_count": null,
   "id": "aa99636c-6022-4c1e-bb90-ed514aa8437a",
   "metadata": {},
   "outputs": [],
   "source": [
    "14. Create a set from a list."
   ]
  },
  {
   "cell_type": "code",
   "execution_count": 11,
   "id": "133fc3ec-6ddf-4d70-8fc5-7be1a6c19b1f",
   "metadata": {},
   "outputs": [
    {
     "data": {
      "text/plain": [
       "{1, 2, 3, 4, 5}"
      ]
     },
     "execution_count": 11,
     "metadata": {},
     "output_type": "execute_result"
    }
   ],
   "source": [
    "# step 1 creating the list\n",
    "li=[1,2,3,4,5]\n",
    "# step 2 converting the list into the set\n",
    "seti=set(li)\n",
    "# step 3 printing the result\n",
    "seti"
   ]
  },
  {
   "cell_type": "code",
   "execution_count": null,
   "id": "45e2fa8f-7035-4d03-93eb-369a6dc9a684",
   "metadata": {},
   "outputs": [],
   "source": [
    "15.Convert a set to a list."
   ]
  },
  {
   "cell_type": "code",
   "execution_count": 13,
   "id": "dfe7725a-f682-4494-99eb-c1094d4172d8",
   "metadata": {},
   "outputs": [
    {
     "data": {
      "text/plain": [
       "[1, 2, 3, 5, 54]"
      ]
     },
     "execution_count": 13,
     "metadata": {},
     "output_type": "execute_result"
    }
   ],
   "source": [
    "#step 1 creating the set\n",
    "sem={1,2,3,54,5}\n",
    "# step 2  converting the set into list\n",
    "li=list(sem)\n",
    "# step 3  printing the result\n",
    "li"
   ]
  },
  {
   "cell_type": "code",
   "execution_count": null,
   "id": "77ce3067-eff5-4c29-bf99-1d4cc6a6d3ba",
   "metadata": {},
   "outputs": [],
   "source": [
    "16. Remove a random element from a set."
   ]
  },
  {
   "cell_type": "code",
   "execution_count": 1,
   "id": "1abceb1d-12f2-43f4-a6a6-d5c8ff50cccc",
   "metadata": {},
   "outputs": [
    {
     "name": "stdout",
     "output_type": "stream",
     "text": [
      "1\n"
     ]
    }
   ],
   "source": [
    "#step 1 creating the sample set\n",
    "seti={1,2,3,4}\n",
    "# step 2  using the pop method for taking out \n",
    "remove=seti.pop()\n",
    "# step 3 printing the random element remove from set\n",
    "print(remove)\n"
   ]
  },
  {
   "cell_type": "code",
   "execution_count": null,
   "id": "8ef0c32d-550a-410e-9fb8-5b5b3a5aec98",
   "metadata": {},
   "outputs": [],
   "source": [
    "17. Pop an element from a set."
   ]
  },
  {
   "cell_type": "code",
   "execution_count": 3,
   "id": "8b4ee5e6-c4c6-42de-89cc-a63f0b2e86e3",
   "metadata": {},
   "outputs": [
    {
     "data": {
      "text/plain": [
       "{2, 3, 4}"
      ]
     },
     "execution_count": 3,
     "metadata": {},
     "output_type": "execute_result"
    }
   ],
   "source": [
    "#step 1 creating the sample set\n",
    "seti={1,2,3,4} \n",
    "# step 2 usiong the  remove  method for removing the an element in a set\n",
    "seti.remove(1)\n",
    "#step 3 printing the result\n",
    "seti"
   ]
  },
  {
   "cell_type": "code",
   "execution_count": null,
   "id": "d7716ae2-ac12-4f5a-ab2b-a6c716af18fc",
   "metadata": {},
   "outputs": [],
   "source": [
    "18. Check if two sets have no elements in common."
   ]
  },
  {
   "cell_type": "code",
   "execution_count": 4,
   "id": "a5581b3d-fdb6-4901-9cce-c10f67e76125",
   "metadata": {},
   "outputs": [
    {
     "name": "stdout",
     "output_type": "stream",
     "text": [
      "The sets have at least one element in common.\n"
     ]
    }
   ],
   "source": [
    "# step 1 creating the  2 sample set \n",
    "my= {1,2,3,4,5,6}\n",
    "mi={12,34,5,6}\n",
    "# step 2 using  disjoint method\n",
    "are_disjoint =my.isdisjoint(mi)\n",
    "\n",
    "#  step 3 Print the result\n",
    "if are_disjoint:\n",
    "    print(\"The sets have no elements in common.\")\n",
    "else:\n",
    "    print(\"The sets have at least one element in common.\")"
   ]
  },
  {
   "cell_type": "code",
   "execution_count": null,
   "id": "d1226d50-5deb-4239-9f27-78a3ffc73951",
   "metadata": {},
   "outputs": [],
   "source": [
    "19. Find the symmetric difference between two sets."
   ]
  },
  {
   "cell_type": "code",
   "execution_count": 13,
   "id": "b5c8e14a-2427-41a7-9afd-2f8a356dd11d",
   "metadata": {},
   "outputs": [
    {
     "name": "stdout",
     "output_type": "stream",
     "text": [
      "{1, 2, 3, 6, 7, 8}\n"
     ]
    }
   ],
   "source": [
    "# step 1 Define two sets\n",
    "set1 = {1, 2, 3, 4, 5}\n",
    "set2 = {4, 5, 6, 7, 8}\n",
    "\n",
    "#  step 2 Find the symmetric difference\n",
    "symmetric_diff = set1.symmetric_difference(set2)\n",
    "\n",
    "#  step 3 Print the result\n",
    "print(symmetric_diff)\n"
   ]
  },
  {
   "cell_type": "code",
   "execution_count": null,
   "id": "412506c6-71fd-42f5-9313-aa4876adb022",
   "metadata": {},
   "outputs": [],
   "source": [
    "20. Update a set with elements from another set."
   ]
  },
  {
   "cell_type": "code",
   "execution_count": 14,
   "id": "b60eea6d-7121-409b-8232-c8bf6cee40b3",
   "metadata": {},
   "outputs": [
    {
     "data": {
      "text/plain": [
       "{1, 2, 3, 4, 5, 6, 7, 8}"
      ]
     },
     "execution_count": 14,
     "metadata": {},
     "output_type": "execute_result"
    }
   ],
   "source": [
    "# step 1 Define two sets\n",
    "set1 = {1, 2, 3, 4, 5}\n",
    "set2 = {4, 5, 6, 7, 8}\n",
    "# step 2 using the update method\n",
    "set1.update(set2)\n",
    "# step 2 printing the redult\n",
    "set1"
   ]
  },
  {
   "cell_type": "code",
   "execution_count": null,
   "id": "0fc8800c-c02a-41f6-b5e9-710b0b3085bd",
   "metadata": {},
   "outputs": [],
   "source": [
    "21. Create a set of the first 5 prime numbers."
   ]
  },
  {
   "cell_type": "code",
   "execution_count": 19,
   "id": "9686ebaf-f48f-4099-b439-83b8195fda38",
   "metadata": {},
   "outputs": [
    {
     "name": "stdout",
     "output_type": "stream",
     "text": [
      "{2, 3, 5, 7, 11}\n"
     ]
    }
   ],
   "source": [
    "#  step 1 Function to check if a number is prime\n",
    "def is_prime(num):\n",
    "    if num <= 1:\n",
    "        return False\n",
    "    if num <= 3:\n",
    "        return True\n",
    "    if num % 2 == 0 or num % 3 == 0:\n",
    "        return False\n",
    "    i = 5\n",
    "    while i * i <= num:\n",
    "        if num % i == 0 or num % (i + 2) == 0:\n",
    "            return False\n",
    "        i += 6\n",
    "    return True\n",
    "\n",
    "# step 2  Create a set to store the first 5 prime numbers\n",
    "prime_numbers = set()\n",
    " #  step 3 Start with the first prime number, which is 2\n",
    "number = 2\n",
    "\n",
    "while len(prime_numbers) < 5:\n",
    "    if is_prime(number):\n",
    "        prime_numbers.add(number)\n",
    "    number += 1\n",
    "\n",
    "# step 4  Print the set of the first 5 prime numbers\n",
    "print(prime_numbers)"
   ]
  },
  {
   "cell_type": "code",
   "execution_count": null,
   "id": "5649d6aa-53a9-4746-ad97-9e74120d5bda",
   "metadata": {},
   "outputs": [],
   "source": [
    "22. Check if two sets are identical."
   ]
  },
  {
   "cell_type": "code",
   "execution_count": 4,
   "id": "530cd483-e35c-4819-a70a-9444ea58e906",
   "metadata": {},
   "outputs": [
    {
     "name": "stdout",
     "output_type": "stream",
     "text": [
      " sets are not identical\n"
     ]
    }
   ],
   "source": [
    "#step 1  creating 2 sample sets\n",
    "set1={1,2,3,4}\n",
    "set2={1,2,3,4,5}\n",
    "# step 2 using the if else condition\n",
    "if set1==set2:\n",
    "    print(\" sets are identical\")\n",
    "else:\n",
    "    print(\" sets are not identical\")\n",
    "    "
   ]
  },
  {
   "cell_type": "code",
   "execution_count": null,
   "id": "0e7da3ca-8fa4-42b3-8722-5964bb49f3ce",
   "metadata": {},
   "outputs": [],
   "source": [
    "23. Create a frozen set."
   ]
  },
  {
   "cell_type": "code",
   "execution_count": 10,
   "id": "89be91bf-879b-44d7-abd6-a670946f0b59",
   "metadata": {},
   "outputs": [
    {
     "name": "stdout",
     "output_type": "stream",
     "text": [
      "frozenset({1, 2, 3, 4})\n"
     ]
    }
   ],
   "source": [
    "#step 1  creating 1 sample sets\n",
    "set1={1,2,3,4}\n",
    "# step 2 using the frozen set method\n",
    "\n",
    "sto=frozenset(set1)\n",
    "#   Attempt to modify the frozen set (will result in an error)\n",
    "#  This will raise a 'TypeError' because frozen sets are immutable\n",
    "# step 3 printing the result\n",
    "print(sto)\n"
   ]
  },
  {
   "cell_type": "code",
   "execution_count": null,
   "id": "59030dc3-0cb5-422b-af67-06b47cb4b69a",
   "metadata": {},
   "outputs": [],
   "source": [
    "24. Check if a set is disjoint with another set."
   ]
  },
  {
   "cell_type": "code",
   "execution_count": 11,
   "id": "da75f201-bd6b-4aec-8ad2-1025ca9c8d94",
   "metadata": {},
   "outputs": [
    {
     "name": "stdout",
     "output_type": "stream",
     "text": [
      " seti are not disjoint\n"
     ]
    }
   ],
   "source": [
    "#step 1  creating 2 sample sets\n",
    "set1={1,2,3,4}\n",
    "set2= {1,2,3,4,5,6,7}\n",
    "# step 2 using the disjoint method\n",
    "seti= set1.isdisjoint(set2)\n",
    "# step 3 using the if else\n",
    "if seti:\n",
    "    print(\"set are disjoint\")\n",
    "else:\n",
    "    print(\" seti are not disjoint\")\n",
    "    "
   ]
  },
  {
   "cell_type": "code",
   "execution_count": null,
   "id": "4840cb6a-11d4-4250-81b8-d9bfd3731755",
   "metadata": {},
   "outputs": [],
   "source": [
    "25. Create a set of squares of numbers from 1 to 5."
   ]
  },
  {
   "cell_type": "code",
   "execution_count": 2,
   "id": "ba5f03b8-42a6-4a66-9bcc-7fcd08198704",
   "metadata": {},
   "outputs": [
    {
     "data": {
      "text/plain": [
       "{1, 4, 9, 16, 25}"
      ]
     },
     "execution_count": 2,
     "metadata": {},
     "output_type": "execute_result"
    }
   ],
   "source": [
    "# step 1 creating the set for keeping th squres of numbers\n",
    "setq={i**2 for i in range(1 , 6)}\n",
    "# step 2 printing thw squre set\n",
    "setq"
   ]
  },
  {
   "cell_type": "code",
   "execution_count": null,
   "id": "feca2066-4c72-41c1-ba36-69e47db031e2",
   "metadata": {},
   "outputs": [],
   "source": [
    "26. Filter out all even numbers from a set."
   ]
  },
  {
   "cell_type": "code",
   "execution_count": 6,
   "id": "5819c17a-38f2-4299-be8f-0d7ec24fa892",
   "metadata": {},
   "outputs": [
    {
     "data": {
      "text/plain": [
       "{2, 4, 8, 10, 12}"
      ]
     },
     "execution_count": 6,
     "metadata": {},
     "output_type": "execute_result"
    }
   ],
   "source": [
    "# step 1 creating the  sample set\n",
    "s={1,2,3,4,5,8,12,9,10}\n",
    "# step 2 converting the set  into the list\n",
    "l=list(s)\n",
    "M=list()\n",
    "# step 3 using the for loop \n",
    "for i in l :\n",
    "    if i%2 == 0:\n",
    "        M.append(i)\n",
    "# step 4 coverting the list in set\n",
    "seti=set(M)\n",
    "seti\n",
    "\n",
    "\n",
    "        "
   ]
  },
  {
   "cell_type": "code",
   "execution_count": null,
   "id": "bb270780-6f6b-4314-b099-bac45af0722d",
   "metadata": {},
   "outputs": [],
   "source": [
    "27. Multiply all elements in a set by 2."
   ]
  },
  {
   "cell_type": "code",
   "execution_count": 13,
   "id": "44efac71-8117-4bc8-8d67-0cc5b2c9f04c",
   "metadata": {},
   "outputs": [
    {
     "name": "stdout",
     "output_type": "stream",
     "text": [
      "{2, 4, 6, 8, 10}\n"
     ]
    }
   ],
   "source": [
    "#  step 1 Create a set\n",
    "my_set = {1, 2, 3, 4, 5}\n",
    "\n",
    "#step 2 Multiply all elements in the set by 2 using a set comprehension with the help of for loop\n",
    "doubled_set = {x * 2 for x in my_set}\n",
    "\n",
    "#  step 3  Print the resulting set\n",
    "print(doubled_set)"
   ]
  },
  {
   "cell_type": "code",
   "execution_count": null,
   "id": "a91572c9-570e-4b26-98d2-b3f012c277b3",
   "metadata": {},
   "outputs": [],
   "source": [
    "28. Create a set of random numbers."
   ]
  },
  {
   "cell_type": "code",
   "execution_count": 14,
   "id": "25e58254-0ff1-4480-8d2f-70864718aee3",
   "metadata": {},
   "outputs": [
    {
     "name": "stdout",
     "output_type": "stream",
     "text": [
      "{51}\n",
      "{51, 30}\n",
      "{51, 52, 30}\n",
      "{51, 52, 30, 7}\n",
      "{51, 52, 30, 7}\n",
      "{7, 9, 51, 52, 30}\n",
      "{65, 7, 9, 51, 52, 30}\n",
      "{65, 7, 9, 51, 52, 30}\n",
      "{65, 7, 9, 73, 51, 52, 30}\n",
      "{65, 7, 9, 73, 51, 52, 55, 30}\n"
     ]
    }
   ],
   "source": [
    "import random\n",
    "\n",
    "#  step 1 Set the seed for reproducibility (optional)\n",
    "#  step 2 random.seed(42)\n",
    "\n",
    "#  step 3 Create a set of random numbers\n",
    "random_set = set()\n",
    "\n",
    "#  step 4 Generate and add random numbers to the set\n",
    "for _ in range(10):  #  step 5 Change the range to control the number of random numbers\n",
    "    random_number = random.randint(1, 100)  #  step 6 Generate a random integer between 1 and 100 (adjust as needed)\n",
    "    random_set.add(random_number)\n",
    "    # step 7 printing the result \n",
    "    print(random_set)\n",
    "    \n",
    " \n"
   ]
  },
  {
   "cell_type": "code",
   "execution_count": null,
   "id": "1cfb28bf-ac02-4ccb-99d7-4d75af1f6a87",
   "metadata": {},
   "outputs": [],
   "source": [
    "29. Check if a set is empty."
   ]
  },
  {
   "cell_type": "code",
   "execution_count": 18,
   "id": "a66105fd-fb98-4687-b6ab-484e85a63884",
   "metadata": {},
   "outputs": [
    {
     "name": "stdout",
     "output_type": "stream",
     "text": [
      "The set is not empty.\n"
     ]
    }
   ],
   "source": [
    "# step 1 creating  the sample set\n",
    "s= {1,2,3,4}\n",
    "# step 3 using the if else condition with the help of using the  len  founction\n",
    "if len(my_set) == 0:\n",
    "    print(\"The set is empty.\")\n",
    "else:\n",
    "    print(\"The set is not empty.\")"
   ]
  },
  {
   "cell_type": "code",
   "execution_count": null,
   "id": "ef912896-56ea-4eab-9930-5391431c0b37",
   "metadata": {},
   "outputs": [],
   "source": [
    "30. Create a nested set (hint: use frozenset)."
   ]
  },
  {
   "cell_type": "code",
   "execution_count": 19,
   "id": "e665f39f-96ab-48ee-a9f8-326a1b89abcf",
   "metadata": {},
   "outputs": [
    {
     "name": "stdout",
     "output_type": "stream",
     "text": [
      "(frozenset({1, 2, 3}), frozenset({4, 5, 6}), frozenset({8, 9, 7}))\n"
     ]
    }
   ],
   "source": [
    "\n",
    "#  stp 1 Create some frozensets\n",
    "nested_set1 = frozenset({1, 2, 3})\n",
    "nested_set2 = frozenset({4, 5, 6})\n",
    "nested_set3 = frozenset({7, 8, 9})\n",
    "\n",
    "#  step 2 Create a nested structure using a tuple\n",
    "nested_structure = (nested_set1, nested_set2, nested_set3)\n",
    "\n",
    "# step 3  Print the nested structure\n",
    "print(nested_structure)"
   ]
  },
  {
   "cell_type": "code",
   "execution_count": null,
   "id": "e9277e87-9d02-4a2c-ad84-1e746cccd66b",
   "metadata": {},
   "outputs": [],
   "source": [
    "31. Remove an element from a set using the discard method."
   ]
  },
  {
   "cell_type": "code",
   "execution_count": 5,
   "id": "e4e3101d-9a61-4216-95e9-d8604f86b0d2",
   "metadata": {},
   "outputs": [
    {
     "name": "stdout",
     "output_type": "stream",
     "text": [
      "{1, 3, 4}\n"
     ]
    }
   ],
   "source": [
    "#step 1 creating the sample set\n",
    "s={1,2,3,4}\n",
    "# step 2 using the discard method\n",
    "s.discard(2)\n",
    "# step 3 printing the result\n",
    "print(s)\n"
   ]
  },
  {
   "cell_type": "code",
   "execution_count": null,
   "id": "79828ae1-add0-4872-b863-f14566ada172",
   "metadata": {},
   "outputs": [],
   "source": [
    "32. Compare two sets."
   ]
  },
  {
   "cell_type": "code",
   "execution_count": 6,
   "id": "09d75241-97ec-49de-8e69-a2b76085723a",
   "metadata": {},
   "outputs": [
    {
     "name": "stdout",
     "output_type": "stream",
     "text": [
      " s1 not equal to s2\n"
     ]
    }
   ],
   "source": [
    "# step 1  creating the sample set\n",
    "s1={12,34,5,6}\n",
    "s2={23.45, 76,45}\n",
    "# step 2  using the if else condition \n",
    "if s1==s2:\n",
    "    print(\" s1 and s2 are equal\")\n",
    "else:\n",
    "    print(\" s1 not equal to s2\")"
   ]
  },
  {
   "cell_type": "code",
   "execution_count": null,
   "id": "9fb32a9a-3ecb-49df-85ab-ed1d62618b86",
   "metadata": {},
   "outputs": [],
   "source": [
    " 33. Create a set from a string."
   ]
  },
  {
   "cell_type": "code",
   "execution_count": 7,
   "id": "e6fa4caf-da8e-464a-8efd-218f5941e40e",
   "metadata": {},
   "outputs": [
    {
     "name": "stdin",
     "output_type": "stream",
     "text": [
      " enter the string ilove\n"
     ]
    },
    {
     "data": {
      "text/plain": [
       "{'e', 'i', 'l', 'o', 'v'}"
      ]
     },
     "execution_count": 7,
     "metadata": {},
     "output_type": "execute_result"
    }
   ],
   "source": [
    "# step 1 enter the input for the string\n",
    "s = input(\" enter the string\")\n",
    "# step 2 converting the set into string\n",
    "p=set(s)\n",
    "# step 3 printing the result\n",
    "p\n"
   ]
  },
  {
   "cell_type": "code",
   "execution_count": null,
   "id": "84ef0a01-018e-4b03-b6be-44c3c6e4dfb9",
   "metadata": {},
   "outputs": [],
   "source": [
    "34. Convert a set of strings to a set of integers."
   ]
  },
  {
   "cell_type": "code",
   "execution_count": 8,
   "id": "cac90c44-a058-4b25-8822-de500366cf34",
   "metadata": {},
   "outputs": [
    {
     "data": {
      "text/plain": [
       "{1, 2, 3, 4, 5}"
      ]
     },
     "execution_count": 8,
     "metadata": {},
     "output_type": "execute_result"
    }
   ],
   "source": [
    "#  step1  sample Set of strings\n",
    "string_set = {\"1\", \"2\", \"3\", \"4\", \"5\"}\n",
    "\n",
    "#  step 2 Using a set comprehension to convert strings to integers\n",
    "int_set = {int(string_element) for string_element in string_set}\n",
    "\n",
    "# step 3 print result\n",
    "int_set"
   ]
  },
  {
   "cell_type": "code",
   "execution_count": null,
   "id": "14f57c25-1ae2-482f-a8b8-9ca1e7b4b96d",
   "metadata": {},
   "outputs": [],
   "source": [
    "35. Convert a set of integers to a set of strings."
   ]
  },
  {
   "cell_type": "code",
   "execution_count": 10,
   "id": "223e7b1e-6212-4fe4-a611-ab275e2decf5",
   "metadata": {},
   "outputs": [
    {
     "data": {
      "text/plain": [
       "{'1', '2', '3', '4'}"
      ]
     },
     "execution_count": 10,
     "metadata": {},
     "output_type": "execute_result"
    }
   ],
   "source": [
    "# step 1   creating the sample set\n",
    "s={1,2,3,4}\n",
    "#step 2     converting the into strings\n",
    "l={str(i) for i in s  }\n",
    "# step 3 printing the result\n",
    "l"
   ]
  },
  {
   "cell_type": "code",
   "execution_count": null,
   "id": "86058c09-902f-43b7-91f3-ad086bac7d84",
   "metadata": {},
   "outputs": [],
   "source": [
    "36. Create a set from a tuple."
   ]
  },
  {
   "cell_type": "code",
   "execution_count": 14,
   "id": "a1f7c911-ca87-4abd-977b-05f8d7bf3c9e",
   "metadata": {},
   "outputs": [
    {
     "data": {
      "text/plain": [
       "{1, 2, 3, 4, 5}"
      ]
     },
     "execution_count": 14,
     "metadata": {},
     "output_type": "execute_result"
    }
   ],
   "source": [
    "# step1  Create a sample  tuple\n",
    "my_tuple = (1, 2, 3, 4, 5)\n",
    "\n",
    "# step 2  Convert the tuple to a set using the set() constructor\n",
    "my_set = set(my_tuple)\n",
    "# step 3 printing the result\n",
    "my_set"
   ]
  },
  {
   "cell_type": "code",
   "execution_count": null,
   "id": "5e419faa-f9e5-4d23-816f-720831af34bb",
   "metadata": {},
   "outputs": [],
   "source": [
    "37. Convert a set to a tuple."
   ]
  },
  {
   "cell_type": "code",
   "execution_count": 15,
   "id": "93ad66b4-d70c-4dc8-844c-4f84f609521a",
   "metadata": {},
   "outputs": [
    {
     "data": {
      "text/plain": [
       "{1, 2, 4, 5}"
      ]
     },
     "execution_count": 15,
     "metadata": {},
     "output_type": "execute_result"
    }
   ],
   "source": [
    "# step 1 create sa,mple  set\n",
    "s= {1,2,4,5}\n",
    "# step 2  converting the set into tuple \n",
    "f=(s)\n",
    "# step 3 printing  the result\n",
    "f"
   ]
  },
  {
   "cell_type": "code",
   "execution_count": null,
   "id": "1cd97ff0-46ae-4348-9dae-fe7f1d62d3b3",
   "metadata": {},
   "outputs": [],
   "source": [
    "38. Find the maximum value in a set."
   ]
  },
  {
   "cell_type": "code",
   "execution_count": 16,
   "id": "03816690-6b2f-4916-8d37-df7b588557a4",
   "metadata": {},
   "outputs": [
    {
     "data": {
      "text/plain": [
       "5"
      ]
     },
     "execution_count": 16,
     "metadata": {},
     "output_type": "execute_result"
    }
   ],
   "source": [
    "# step 1 create sample  set\n",
    "s= {1,2,4,5}\n",
    "# step 2   using the max operator\n",
    "m=max(s)\n",
    "# step 3 printing the result\n",
    "m"
   ]
  },
  {
   "cell_type": "code",
   "execution_count": null,
   "id": "ff1c4dba-8391-483a-983c-c55ebfd221e8",
   "metadata": {},
   "outputs": [],
   "source": [
    "39. Find the minimum value in a set."
   ]
  },
  {
   "cell_type": "code",
   "execution_count": 17,
   "id": "2860d959-6515-4f31-82c7-7f7a0c45e9bd",
   "metadata": {},
   "outputs": [
    {
     "data": {
      "text/plain": [
       "1"
      ]
     },
     "execution_count": 17,
     "metadata": {},
     "output_type": "execute_result"
    }
   ],
   "source": [
    "# step 1 create sample  set\n",
    "s= {1,2,4,5,8,9}\n",
    "# step 2   using the max operator\n",
    "m=min(s)\n",
    "# step 3 print result\n",
    "m"
   ]
  },
  {
   "cell_type": "code",
   "execution_count": null,
   "id": "69dd99d8-ba46-4525-8fc5-ee514e08b869",
   "metadata": {},
   "outputs": [],
   "source": [
    "40. Create a set from user input."
   ]
  },
  {
   "cell_type": "code",
   "execution_count": 18,
   "id": "31436541-2834-48d5-98b9-35a5eb63532d",
   "metadata": {},
   "outputs": [
    {
     "name": "stdin",
     "output_type": "stream",
     "text": [
      "Enter a comma-separated list of values:  1,2,3\n"
     ]
    },
    {
     "name": "stdout",
     "output_type": "stream",
     "text": [
      "{'3', '1', '2'}\n"
     ]
    }
   ],
   "source": [
    "#  step 1 Taking user input as a comma-separated string\n",
    "user_input = input(\"Enter a comma-separated list of values: \")\n",
    "\n",
    "#  step 2 Split the input string into a list using a comma as the delimiter\n",
    "input_list = user_input.split(\",\")\n",
    "\n",
    "#  step 3 Create a set from the input list\n",
    "my_set = set(input_list)\n",
    "\n",
    "#  step 4 Now, my_set contains the unique elements entered by the user\n",
    "print(my_set)"
   ]
  },
  {
   "cell_type": "code",
   "execution_count": null,
   "id": "7d574c4b-cc08-4d1c-94f9-092447630091",
   "metadata": {},
   "outputs": [],
   "source": [
    "41. Check if the intersection of two sets is empty."
   ]
  },
  {
   "cell_type": "code",
   "execution_count": null,
   "id": "1fc1b423-34dc-4250-94c8-c8d4ad84bdb3",
   "metadata": {},
   "outputs": [],
   "source": [
    "# step 1  Create two sets\n",
    "set1 = {1, 2, 3}\n",
    "set2 = {4, 5, 6}\n",
    "\n",
    "#  step 2 Check if the intersection is empty\n",
    "is_empty_intersection = set1.isdisjoint(set2)\n",
    "# step 3 using the if -else condition\n",
    "if is_empty_intersection:\n",
    "    print(\"The intersection is empty.\")\n",
    "else:\n",
    "    print(\"The intersection is not empty.\")"
   ]
  },
  {
   "cell_type": "code",
   "execution_count": null,
   "id": "b55d79fa-43f3-4088-9cce-d35088b69956",
   "metadata": {},
   "outputs": [],
   "source": [
    "42. Create a set of the first 5 Fibonacci numbers."
   ]
  },
  {
   "cell_type": "code",
   "execution_count": 1,
   "id": "c0ba363a-ab95-41eb-a8cc-ad2d7a5ddf34",
   "metadata": {},
   "outputs": [
    {
     "name": "stdout",
     "output_type": "stream",
     "text": [
      "{0, 1, 2, 3}\n"
     ]
    }
   ],
   "source": [
    "#  step 1 Initialize a set to store the first 5 Fibonacci numbers\n",
    "fibonacci_set = set()\n",
    "\n",
    "#  step 2 Initialize the first two Fibonacci numbers\n",
    "a, b = 0, 1\n",
    "\n",
    "# step 3  Generate the first 5 Fibonacci numbers and add them to the set\n",
    "for _ in range(5):\n",
    "    fibonacci_set.add(a)\n",
    "    a, b = b, a + b\n",
    "\n",
    "#  step 4 Now, fibonacci_set contains the first 5 Fibonacci numbers\n",
    "print(fibonacci_set) "
   ]
  },
  {
   "cell_type": "code",
   "execution_count": null,
   "id": "7cbdc4b6-6520-4740-868f-e34dd28ee425",
   "metadata": {},
   "outputs": [],
   "source": [
    "43. Remove duplicates from a list using sets."
   ]
  },
  {
   "cell_type": "code",
   "execution_count": 2,
   "id": "e413efc2-10bd-45a5-883a-bd9fd21e69c3",
   "metadata": {},
   "outputs": [
    {
     "data": {
      "text/plain": [
       "{1, 3, 22, 33, 44}"
      ]
     },
     "execution_count": 2,
     "metadata": {},
     "output_type": "execute_result"
    }
   ],
   "source": [
    "# step 1 creating the sample list which have \n",
    "l=[1,22,22,3,33,44,44]\n",
    "# stwp 2  using set for removing the duplicates\n",
    "m= set(l)\n",
    "# step 3 printing the result\n",
    "m"
   ]
  },
  {
   "cell_type": "code",
   "execution_count": null,
   "id": "8a16b103-c67c-4874-bf49-7d8a072fe1f7",
   "metadata": {},
   "outputs": [],
   "source": [
    "44. Check if two sets have the same elements, regardless of their count."
   ]
  },
  {
   "cell_type": "code",
   "execution_count": 4,
   "id": "bc0783f4-91de-4d5b-aad3-f400bdfd7527",
   "metadata": {},
   "outputs": [
    {
     "name": "stdout",
     "output_type": "stream",
     "text": [
      "The sets do not have the same elements, regardless of count.\n"
     ]
    }
   ],
   "source": [
    "#  step 1 Create two sets\n",
    "set1 = {1, 2, 3, 4}\n",
    "set2 = {3, 4, 5, 6}\n",
    "\n",
    "#  step 2 Check if the two sets have the same elements, regardless of count\n",
    "if set1.union(set2) == set1.intersection(set2):\n",
    "    print(\"The sets have the same elements, regardless of count.\")\n",
    "else:\n",
    "    print(\"The sets do not have the same elements, regardless of count.\")"
   ]
  },
  {
   "cell_type": "code",
   "execution_count": null,
   "id": "3db03e09-6db4-4e08-a395-540a509b1a5d",
   "metadata": {},
   "outputs": [],
   "source": [
    "45. Create a set of the first `n` powers of 2."
   ]
  },
  {
   "cell_type": "code",
   "execution_count": 6,
   "id": "07fa78f8-28db-4df2-88bc-81628fd9a109",
   "metadata": {},
   "outputs": [
    {
     "name": "stdout",
     "output_type": "stream",
     "text": [
      "{1, 2, 4, 8, 16}\n"
     ]
    }
   ],
   "source": [
    "# step1  Define the number of powers of 2 you want to generate\n",
    "n = 5\n",
    "\n",
    "#  step 2 Using a set comprehension to generate the first 'n' powers of 2\n",
    "powers_of_2_set = {2 ** i for i in range(n)}\n",
    "\n",
    "# step 3  Now, powers_of_2_set contains the first 'n' powers of 2\n",
    "print(powers_of_2_set) "
   ]
  },
  {
   "cell_type": "code",
   "execution_count": null,
   "id": "390de539-7a1d-43da-8c6b-24c37d8f3920",
   "metadata": {},
   "outputs": [],
   "source": [
    "46. Find the common elements between a set and a list."
   ]
  },
  {
   "cell_type": "code",
   "execution_count": 8,
   "id": "adeabd21-a7da-4392-9fee-f43d8cd4b76f",
   "metadata": {},
   "outputs": [
    {
     "name": "stdout",
     "output_type": "stream",
     "text": [
      "{3, 4, 5}\n"
     ]
    }
   ],
   "source": [
    "#  step 1 Create a set and a list\n",
    "my_set = {1, 2, 3, 4, 5}\n",
    "my_list = [3, 4, 5, 6, 7]\n",
    "\n",
    "# step 2  Convert the list to a set\n",
    "list_as_set = set(my_list)\n",
    "\n",
    "#  step 3 Find the common elements between the set and the list\n",
    "common_elements = my_set.intersection(list_as_set)\n",
    "\n",
    "# step 4  Now, common_elements contains the common elements\n",
    "print(common_elements)  # Output: {3, 4, 5}"
   ]
  },
  {
   "cell_type": "code",
   "execution_count": null,
   "id": "78571f58-e67d-43a6-966f-b125ac791266",
   "metadata": {},
   "outputs": [],
   "source": [
    "47. Create a set of the first `n` triangular numbers."
   ]
  },
  {
   "cell_type": "code",
   "execution_count": 7,
   "id": "8a6e8493-2048-4179-947d-a7b55f9e8c69",
   "metadata": {},
   "outputs": [
    {
     "name": "stdout",
     "output_type": "stream",
     "text": [
      "{1, 3, 6, 10, 15}\n"
     ]
    }
   ],
   "source": [
    "# step 1  Define the number of triangular numbers you want to generate\n",
    "n = 5\n",
    "\n",
    "#  step 2 Using a set comprehension to generate the first 'n' triangular numbers\n",
    "triangular_numbers_set = {i * (i + 1) // 2 for i in range(1, n + 1)}\n",
    "\n",
    "# step 3  Now, triangular_numbers_set contains the first 'n' triangular numbers\n",
    "print(triangular_numbers_set) "
   ]
  },
  {
   "cell_type": "code",
   "execution_count": null,
   "id": "366fbd5c-b97b-4482-8569-2731e44b427c",
   "metadata": {},
   "outputs": [],
   "source": [
    "48. Check if a set contains another set as a subset."
   ]
  },
  {
   "cell_type": "code",
   "execution_count": 17,
   "id": "3c9a6aad-cf18-41df-b281-67626ee4542f",
   "metadata": {},
   "outputs": [
    {
     "name": "stdout",
     "output_type": "stream",
     "text": [
      "set2 is a subset of set1.\n"
     ]
    }
   ],
   "source": [
    "#  step 1 Create two  sample sets\n",
    "set1 = {1, 2, 3, 4, 5}\n",
    "set2 = {2, 3}\n",
    "\n",
    "# step 2  Check if set2 is a subset of set1\n",
    "is_subset = set2.issubset(set1)\n",
    "# step 3 using the if- else condition\n",
    "if is_subset:\n",
    "    print(\"set2 is a subset of set1.\")\n",
    "else:\n",
    "    print(\"set2 is not a subset of set1.\")\n"
   ]
  },
  {
   "cell_type": "code",
   "execution_count": null,
   "id": "f82788fa-ee2d-42a5-922b-2e3caf37b544",
   "metadata": {},
   "outputs": [],
   "source": [
    "49. Create a set of alternating 1s and 0s of length `n`."
   ]
  },
  {
   "cell_type": "code",
   "execution_count": 20,
   "id": "5e4a21ee-c757-4033-a916-9e2348aee48e",
   "metadata": {},
   "outputs": [
    {
     "name": "stdout",
     "output_type": "stream",
     "text": [
      "{0, 1}\n"
     ]
    }
   ],
   "source": [
    "# step 1  Define the length 'n' of the alternating sequence\n",
    "n = 10\n",
    "\n",
    "#  step 2 Initialize an empty set for the alternating sequence\n",
    "alternating_set = set()\n",
    "\n",
    "#  step 3 Use a loop to create the alternating sequence\n",
    "for i in range(n):\n",
    "    alternating_set.add(1 if i % 2 == 0 else 0)\n",
    "\n",
    "# step 4  Now, alternating_set contains the alternating sequence\n",
    "print(alternating_set)  #  real OUTPUT: {0, 1, 0, 1, 0, 1, 0, 1, 0, 1}  \n",
    "#DUE TO SET INBUILT PROPERTY NOT TO HAVE DUPLICATE THAT'S WHY we get output{0,1}"
   ]
  },
  {
   "cell_type": "code",
   "execution_count": null,
   "id": "3f330a1e-8a10-45a6-a97d-aeac54564215",
   "metadata": {},
   "outputs": [],
   "source": [
    "50. Merge multiple sets into one."
   ]
  },
  {
   "cell_type": "code",
   "execution_count": 21,
   "id": "bd822eb8-572e-44d7-8825-a754cb9147a9",
   "metadata": {},
   "outputs": [
    {
     "name": "stdout",
     "output_type": "stream",
     "text": [
      "{1, 2, 3, 4, 5, 6, 7}\n"
     ]
    }
   ],
   "source": [
    "#  STEP 1 Create three sets\n",
    "set1 = {1, 2, 3}\n",
    "set2 = {3, 4, 5}\n",
    "set3 = {5, 6, 7}\n",
    "\n",
    "#  STEP 2 Merge the sets using the union() method\n",
    "merged_set = set1.union(set2, set3)\n",
    "\n",
    "#  STEP 3 Now, merged_set contains all the elements from the three sets\n",
    "print(merged_set)"
   ]
  },
  {
   "cell_type": "code",
   "execution_count": null,
   "id": "b4460772-3106-485f-ab34-f69252861efb",
   "metadata": {},
   "outputs": [],
   "source": []
  }
 ],
 "metadata": {
  "kernelspec": {
   "display_name": "Python 3 (ipykernel)",
   "language": "python",
   "name": "python3"
  },
  "language_info": {
   "codemirror_mode": {
    "name": "ipython",
    "version": 3
   },
   "file_extension": ".py",
   "mimetype": "text/x-python",
   "name": "python",
   "nbconvert_exporter": "python",
   "pygments_lexer": "ipython3",
   "version": "3.10.8"
  }
 },
 "nbformat": 4,
 "nbformat_minor": 5
}
