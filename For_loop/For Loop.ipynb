{
 "cells": [
  {
   "cell_type": "code",
   "execution_count": null,
   "id": "fbd99eeb-e98c-4315-a126-e87a461d322e",
   "metadata": {},
   "outputs": [],
   "source": [
    "                                          Level-Basic Level"
   ]
  },
  {
   "cell_type": "code",
   "execution_count": null,
   "id": "b5819c98-da7a-4f2b-9183-5ee4dfbe5f42",
   "metadata": {},
   "outputs": [],
   "source": [
    "1. Write a Python program to print the numbers from 1 to 10 using a `for` loop."
   ]
  },
  {
   "cell_type": "code",
   "execution_count": 3,
   "id": "9d789207-84c3-46bc-9ae1-582c4efafba9",
   "metadata": {},
   "outputs": [
    {
     "name": "stdout",
     "output_type": "stream",
     "text": [
      "1\n",
      "2\n",
      "3\n",
      "4\n",
      "5\n",
      "6\n",
      "7\n",
      "8\n",
      "9\n",
      "10\n"
     ]
    }
   ],
   "source": [
    "# step1 creating the loop using the range 1 to 10\n",
    "for i in range(1 , 11):\n",
    "# step 2 printing the result\n",
    "    print(i)\n",
    "    \n",
    "    "
   ]
  },
  {
   "cell_type": "code",
   "execution_count": null,
   "id": "933f72bb-7371-4c43-a256-e87a42c082b6",
   "metadata": {},
   "outputs": [],
   "source": [
    "\n",
    "2. Create a program that calculates the sum of all numbers in a list using a `for` loop."
   ]
  },
  {
   "cell_type": "code",
   "execution_count": 13,
   "id": "ee241e7c-d61d-4a5c-b26b-c2c6ece310a7",
   "metadata": {},
   "outputs": [
    {
     "data": {
      "text/plain": [
       "15"
      ]
     },
     "execution_count": 13,
     "metadata": {},
     "output_type": "execute_result"
    }
   ],
   "source": [
    "# step 1 creating the  sample list\n",
    "sample=[1,2,3,4,5]\n",
    "# step 3 initializing the zero\n",
    "d=0\n",
    "# step 2 using the fopr loop\n",
    "for sample in sample:\n",
    "    d += sample\n",
    "d"
   ]
  },
  {
   "cell_type": "code",
   "execution_count": null,
   "id": "aae791ca-8774-4fbe-9d2e-aa6d60589cd7",
   "metadata": {},
   "outputs": [],
   "source": [
    "\n",
    "3. Write a program to print the characters of a string in reverse order using a `for` loop."
   ]
  },
  {
   "cell_type": "code",
   "execution_count": 16,
   "id": "1a2e0fc7-0552-42ab-b842-dc48f79ba409",
   "metadata": {},
   "outputs": [
    {
     "name": "stdin",
     "output_type": "stream",
     "text": [
      " enter the string amrit\n"
     ]
    },
    {
     "name": "stdout",
     "output_type": "stream",
     "text": [
      "tirma\n"
     ]
    }
   ],
   "source": [
    "# step 1 taking the input for string\n",
    "sr= input(\" enter the string\")\n",
    "# step 2  creating the another string \n",
    "sm=''\n",
    "# step 3 using the for loop\n",
    "for i in range(len(sr)-1,-1,-1):\n",
    "       sm+= sr[i]\n",
    "# step 4 result\n",
    "print(sm)\n",
    "    \n"
   ]
  },
  {
   "cell_type": "code",
   "execution_count": null,
   "id": "5272ebaf-f28b-4eed-b31b-06c580c817c1",
   "metadata": {},
   "outputs": [],
   "source": [
    "4. Develop a program that finds the factorial of a given number using a `for` loop."
   ]
  },
  {
   "cell_type": "code",
   "execution_count": 34,
   "id": "cc7ae440-fd74-4016-8b2d-623c288fa299",
   "metadata": {},
   "outputs": [
    {
     "name": "stdin",
     "output_type": "stream",
     "text": [
      "Enter a number:  4\n"
     ]
    },
    {
     "name": "stdout",
     "output_type": "stream",
     "text": [
      "24\n"
     ]
    }
   ],
   "source": [
    "#  step 1 Get the input number from the user\n",
    "num = int(input(\"Enter a number: \"))\n",
    "\n",
    "# step 2  Initialize a variable to store the factorial\n",
    "factorial = 1\n",
    "\n",
    "# step 3  Check if the number is negative\n",
    "if num < 0:\n",
    "    print(\"Factorial is not defined for negative numbers.\")\n",
    "elif num == 0:\n",
    "    print(\"The factorial of 0 is 1\")\n",
    "else:\n",
    "    # step 4 Calculate the factorial using a for loop\n",
    "    for i in range(1, num + 1):\n",
    "        factorial *= i\n",
    "\n",
    "    # Print the factorial\n",
    "    print(factorial)\n",
    "\n",
    "\n",
    "          \n",
    "          \n",
    "          "
   ]
  },
  {
   "cell_type": "code",
   "execution_count": null,
   "id": "123a9150-ee66-46df-818e-1874a43bf0f6",
   "metadata": {},
   "outputs": [],
   "source": [
    "5. Create a program to print the multiplication table of a given number using a `for` loop."
   ]
  },
  {
   "cell_type": "code",
   "execution_count": 3,
   "id": "63e89830-c7ee-475c-84e6-6e8e41b7c2c0",
   "metadata": {},
   "outputs": [
    {
     "name": "stdin",
     "output_type": "stream",
     "text": [
      "enter the value for table: 4\n"
     ]
    },
    {
     "name": "stdout",
     "output_type": "stream",
     "text": [
      "4 x 1 = 4\n",
      "4 x 2 = 8\n",
      "4 x 3 = 12\n",
      "4 x 4 = 16\n",
      "4 x 5 = 20\n",
      "4 x 6 = 24\n",
      "4 x 7 = 28\n",
      "4 x 8 = 32\n",
      "4 x 9 = 36\n",
      "4 x 10 = 40\n"
     ]
    }
   ],
   "source": [
    "# step 1  taking the input for table\n",
    "n= int(input(\"enter the value for table:\"))\n",
    "\n",
    "# step 2 using the for loop\n",
    "for i in range(1,11):\n",
    "    product = n * i\n",
    "    print(f\"{n} x {i} = {product}\")"
   ]
  },
  {
   "cell_type": "code",
   "execution_count": null,
   "id": "f578a2e3-9df9-496c-9350-90895899751d",
   "metadata": {},
   "outputs": [],
   "source": [
    "\n",
    "6. Write a program that counts the number of even and odd numbers in a list using a `for` loop."
   ]
  },
  {
   "cell_type": "code",
   "execution_count": 2,
   "id": "53ef50ce-0c0f-4db9-ab3e-2d7e37450c0a",
   "metadata": {},
   "outputs": [
    {
     "name": "stdout",
     "output_type": "stream",
     "text": [
      "[2, 6, 84]\n",
      "[3, 45, 6, 9, 84]\n"
     ]
    }
   ],
   "source": [
    "# step1 creating the sample list\n",
    "l=[2,3,45,6,7,9,84,35]\n",
    "# step 2 creating the  odd and even list\n",
    "e=[]\n",
    "o=[]\n",
    "# step 3  using the for loop\n",
    "for i in l:\n",
    "    if i%2==0:\n",
    "        e.append(i)\n",
    "    if i%3== 0:\n",
    "        o.append(i)\n",
    "# step 4  printing the odd and even list\n",
    "print(e)\n",
    "print(o)\n",
    "\n",
    "\n",
    "        \n",
    "        "
   ]
  },
  {
   "cell_type": "code",
   "execution_count": null,
   "id": "733bbaba-7be9-4518-8ebb-2c27d956f5c6",
   "metadata": {},
   "outputs": [],
   "source": [
    "7. Develop a program that prints the squares of numbers from 1 to 5 using a `for` loop."
   ]
  },
  {
   "cell_type": "code",
   "execution_count": 3,
   "id": "04e79ca3-5ccf-4e4b-af4a-e3a862f98350",
   "metadata": {},
   "outputs": [
    {
     "data": {
      "text/plain": [
       "[1, 4, 9, 16, 25]"
      ]
     },
     "execution_count": 3,
     "metadata": {},
     "output_type": "execute_result"
    }
   ],
   "source": [
    "# step 1 creating the sample list \n",
    "l=[]\n",
    "# step 2 using the for loop\n",
    "for i in range (1,6):\n",
    "    l.append(i*i)\n",
    "l"
   ]
  },
  {
   "cell_type": "code",
   "execution_count": null,
   "id": "e1689fbc-e816-46d0-8fa1-018d574209ec",
   "metadata": {},
   "outputs": [],
   "source": [
    "8. Create a program to find the length of a string without using the `len()` function."
   ]
  },
  {
   "cell_type": "code",
   "execution_count": 24,
   "id": "2b6d3893-5fde-4071-a3c0-63897dc6f82d",
   "metadata": {},
   "outputs": [
    {
     "name": "stdout",
     "output_type": "stream",
     "text": [
      "Length of the string: 13\n"
     ]
    }
   ],
   "source": [
    "# step 1 creating the  founction \n",
    "def string_length(s):\n",
    "# step 2 initializing the count\n",
    "    count = 0\n",
    "# step 3 using the for loop\n",
    "    for _ in s:\n",
    "        count += 1\n",
    "    return count\n",
    "\n",
    "# Example usage:\n",
    "input_string = \"Hello, World!\"\n",
    "length = string_length(input_string)\n",
    "print(\"Length of the string:\", length)\n",
    "    "
   ]
  },
  {
   "cell_type": "code",
   "execution_count": null,
   "id": "56e65ac0-3583-4d8c-9b88-9ea5da5ef600",
   "metadata": {},
   "outputs": [],
   "source": [
    "9. Write a program that calculates the average of a list of numbers using a `for` loop."
   ]
  },
  {
   "cell_type": "code",
   "execution_count": 28,
   "id": "396f5cc0-dc79-4c20-9288-1bb2bcedecec",
   "metadata": {},
   "outputs": [
    {
     "data": {
      "text/plain": [
       "109"
      ]
     },
     "execution_count": 28,
     "metadata": {},
     "output_type": "execute_result"
    }
   ],
   "source": [
    "# step 1 creating the sample list\n",
    "l= [12,34,56,7]\n",
    "total=0\n",
    "count=0\n",
    "# step 2 using the for loop\n",
    "for i in  l:\n",
    "    total +=i\n",
    "total\n",
    "    "
   ]
  },
  {
   "cell_type": "code",
   "execution_count": null,
   "id": "eea95036-7db7-4ab4-9090-802d95695fd2",
   "metadata": {},
   "outputs": [],
   "source": [
    "10. Develop a program that prints the first `n` Fibonacci numbers using a `for` loop."
   ]
  },
  {
   "cell_type": "code",
   "execution_count": 39,
   "id": "966406a2-64a8-4401-b357-a6ad2787b1aa",
   "metadata": {},
   "outputs": [
    {
     "name": "stdout",
     "output_type": "stream",
     "text": [
      "First 10 Fibonacci numbers: [0, 1, 1, 2, 3, 5, 8, 13, 21, 34]\n"
     ]
    }
   ],
   "source": [
    "# step 1 making the founcrtion for fibonnaci sequence \n",
    "def generate_fibonacci(n):\n",
    "    fibonacci_sequence = []\n",
    "# step 2 using the if- else condition \n",
    "    if n >= 1:\n",
    "        fibonacci_sequence.append(0)\n",
    "    if n >= 2:\n",
    "        fibonacci_sequence.append(1)\n",
    "\n",
    "    for i in range(2, n):\n",
    "        next_fibonacci = fibonacci_sequence[-1] + fibonacci_sequence[-2]\n",
    "        fibonacci_sequence.append(next_fibonacci)\n",
    "\n",
    "    return fibonacci_sequence\n",
    "\n",
    "# Example usage:\n",
    "n = 10  # Change this to the number of Fibonacci numbers you want to generate\n",
    "fibonacci_numbers = generate_fibonacci(n)\n",
    "print(\"First\", n, \"Fibonacci numbers:\", fibonacci_numbers)"
   ]
  },
  {
   "cell_type": "code",
   "execution_count": null,
   "id": "9be33b88-2990-4592-8399-652e4d5f4a87",
   "metadata": {},
   "outputs": [],
   "source": [
    "                                            LEVEL-Intermediate Level"
   ]
  },
  {
   "cell_type": "code",
   "execution_count": null,
   "id": "a762c4b1-c39a-41a7-bb8e-a3f482a67096",
   "metadata": {},
   "outputs": [],
   "source": [
    "11. Write a program to check if a given list contains any duplicates using a `for` loop."
   ]
  },
  {
   "cell_type": "code",
   "execution_count": 34,
   "id": "8b22e5b2-b0cf-4ff6-8a13-4a6d594c0173",
   "metadata": {},
   "outputs": [
    {
     "name": "stdout",
     "output_type": "stream",
     "text": [
      "The list contains duplicates.\n"
     ]
    }
   ],
   "source": [
    "# step 1 creating the founction \n",
    "def has_duplicates(input_list):\n",
    "# step 2  using the for loop\n",
    "    for i in range(len(input_list)):\n",
    "# step 3 using the  another loop\n",
    "        for j in range(i + 1, len(input_list)):\n",
    " # step 4 using the if -else condition        \n",
    "            if input_list[i] == input_list[j]:\n",
    "                return True\n",
    "    return False\n",
    "\n",
    "# Example usage:\n",
    "my_list = [1, 2, 3, 4, 5, 1]  # Change this list to the one you want to check\n",
    "if has_duplicates(my_list):\n",
    "    print(\"The list contains duplicates.\")\n",
    "else:\n",
    "    print(\"The list does not contain duplicates.\")\n"
   ]
  },
  {
   "cell_type": "code",
   "execution_count": null,
   "id": "2fb6e6db-4c29-410d-aa7b-360e24b6ecd3",
   "metadata": {},
   "outputs": [],
   "source": [
    "12. Create a program that prints the prime numbers in a given range using a `for` loop."
   ]
  },
  {
   "cell_type": "code",
   "execution_count": 3,
   "id": "0c9cdbc8-de51-4224-b989-dca2ffb97499",
   "metadata": {},
   "outputs": [
    {
     "name": "stdin",
     "output_type": "stream",
     "text": [
      " enter the lower range 2\n",
      " enter the number 10\n"
     ]
    },
    {
     "name": "stdout",
     "output_type": "stream",
     "text": [
      " prime  the number for range\n",
      "2\n",
      "3\n",
      "5\n",
      "7\n"
     ]
    }
   ],
   "source": [
    "# step 1   enter lower range \n",
    "lower =int( input(\" enter the lower range\"))\n",
    "# step 2 enter upper range\n",
    "upper=int(input(\" enter the number\"))\n",
    "print(\" prime  the number for range\")\n",
    "# step 3 using the for loop\n",
    "for n in range(lower, upper+1):\n",
    "# step 4 using the if - else condition\n",
    "    if n>1:\n",
    "        for i in range (2, n):  \n",
    "            if (n % i) == 0:  \n",
    "                break  \n",
    "        else:  \n",
    "            print (n)  \n",
    "        \n",
    "    \n",
    "\n",
    "            \n"
   ]
  },
  {
   "cell_type": "code",
   "execution_count": null,
   "id": "b65a4eea-320a-43eb-ae52-e5a81f0b5448",
   "metadata": {},
   "outputs": [],
   "source": [
    "13. Develop a program that counts the number of vowels in a string using a `for` loop."
   ]
  },
  {
   "cell_type": "code",
   "execution_count": 12,
   "id": "b20396b4-474d-492d-91e6-97be1bf3f2b8",
   "metadata": {},
   "outputs": [
    {
     "name": "stdin",
     "output_type": "stream",
     "text": [
      "enter the value for string  i love india\n"
     ]
    },
    {
     "name": "stdout",
     "output_type": "stream",
     "text": [
      "6\n"
     ]
    }
   ],
   "source": [
    "# step 1 creating the sample string\n",
    "s=input(\"enter the value for string\")\n",
    "# step 2 initailizing the value of vowels \n",
    "ch=\"AEIOUaeiou\"\n",
    "# step 3 initialiazing the count\n",
    "count=0\n",
    "# step 4 using the for loop\n",
    "for  i  in s:\n",
    "    if i in ch:\n",
    "        count+=1\n",
    "# step 5 printingthe result\n",
    "print(count)"
   ]
  },
  {
   "cell_type": "code",
   "execution_count": null,
   "id": "717ad92a-60f9-4ae5-b034-e34d8e772d78",
   "metadata": {},
   "outputs": [],
   "source": [
    "14. Write a program to find the maximum element in a 2D list using a nested `for` loop."
   ]
  },
  {
   "cell_type": "code",
   "execution_count": 2,
   "id": "7d78ebd1-d761-4ae8-b4af-6e3832d3d2b9",
   "metadata": {},
   "outputs": [
    {
     "name": "stdout",
     "output_type": "stream",
     "text": [
      "The maximum element in the 2D list is: 10\n"
     ]
    }
   ],
   "source": [
    "# step 1   creating the sample  2 d list\n",
    "matrix=[\n",
    "    [1,2,3],\n",
    "    [4,5,6],\n",
    "    [8,9,10]\n",
    "]\n",
    "# step 2 initialize the negati ve value\n",
    "maxi=float(\"-inf\")\n",
    "# step 3 iterate thrrough row\n",
    "for row in matrix:\n",
    "    for element  in row:\n",
    "        if element> maxi:\n",
    "            maxi = element\n",
    "print(\"The maximum element in the 2D list is:\", maxi)\n"
   ]
  },
  {
   "cell_type": "code",
   "execution_count": null,
   "id": "a0d7b8be-7cf0-4a3b-81c8-86429eb127b1",
   "metadata": {},
   "outputs": [],
   "source": [
    "\n",
    "15.Create a program that removes all occurrences of a specific element from a list using a `for` loop."
   ]
  },
  {
   "cell_type": "code",
   "execution_count": 4,
   "id": "89adf395-863c-45ba-9d9d-11c5b79b2546",
   "metadata": {},
   "outputs": [
    {
     "data": {
      "text/plain": [
       "{3, 4, 5, 6, 12}"
      ]
     },
     "execution_count": 4,
     "metadata": {},
     "output_type": "execute_result"
    }
   ],
   "source": [
    "# step 1 creating the sample list\n",
    "s={12,12,3,4,5,5,6}\n",
    "# step 2 using the for loop\n",
    "for i in s:\n",
    "    for j in (i+1, len(s)):\n",
    "        if i==j:\n",
    "            break\n",
    "            s.remove(i)\n",
    "# step 3 printing the result            \n",
    "s\n"
   ]
  },
  {
   "cell_type": "code",
   "execution_count": null,
   "id": "a8af4bbe-1e8a-4958-aff5-e8c28dc1594f",
   "metadata": {},
   "outputs": [],
   "source": [
    "\n",
    "16. Develop a program that generates a multiplication table for numbers from 1 to 5 using a nested `for` loop."
   ]
  },
  {
   "cell_type": "code",
   "execution_count": 24,
   "id": "f1de5756-5527-48b2-8257-d0d749e7114a",
   "metadata": {},
   "outputs": [
    {
     "name": "stdout",
     "output_type": "stream",
     "text": [
      "Multiplication table for 1:\n",
      "1 x 1 = 1\n",
      "1 x 2 = 2\n",
      "1 x 3 = 3\n",
      "1 x 4 = 4\n",
      "1 x 5 = 5\n",
      "1 x 6 = 6\n",
      "1 x 7 = 7\n",
      "1 x 8 = 8\n",
      "1 x 9 = 9\n",
      "1 x 10 = 10\n",
      "Multiplication table for 2:\n",
      "2 x 1 = 2\n",
      "2 x 2 = 4\n",
      "2 x 3 = 6\n",
      "2 x 4 = 8\n",
      "2 x 5 = 10\n",
      "2 x 6 = 12\n",
      "2 x 7 = 14\n",
      "2 x 8 = 16\n",
      "2 x 9 = 18\n",
      "2 x 10 = 20\n",
      "Multiplication table for 3:\n",
      "3 x 1 = 3\n",
      "3 x 2 = 6\n",
      "3 x 3 = 9\n",
      "3 x 4 = 12\n",
      "3 x 5 = 15\n",
      "3 x 6 = 18\n",
      "3 x 7 = 21\n",
      "3 x 8 = 24\n",
      "3 x 9 = 27\n",
      "3 x 10 = 30\n",
      "Multiplication table for 4:\n",
      "4 x 1 = 4\n",
      "4 x 2 = 8\n",
      "4 x 3 = 12\n",
      "4 x 4 = 16\n",
      "4 x 5 = 20\n",
      "4 x 6 = 24\n",
      "4 x 7 = 28\n",
      "4 x 8 = 32\n",
      "4 x 9 = 36\n",
      "4 x 10 = 40\n",
      "Multiplication table for 5:\n",
      "5 x 1 = 5\n",
      "5 x 2 = 10\n",
      "5 x 3 = 15\n",
      "5 x 4 = 20\n",
      "5 x 5 = 25\n",
      "5 x 6 = 30\n",
      "5 x 7 = 35\n",
      "5 x 8 = 40\n",
      "5 x 9 = 45\n",
      "5 x 10 = 50\n",
      "\n"
     ]
    }
   ],
   "source": [
    "# step 1 initializing the start and end with 1 and 5\n",
    "start = 1\n",
    "end = 5\n",
    "# step 2 using the for loop\n",
    "for i in range(start,end+1):\n",
    "    print(f\"Multiplication table for {i}:\")\n",
    "# step 3  creating  the  nested for loop\n",
    "    for j in  range (1,11):\n",
    "        product = i * j\n",
    "        print(f\"{i} x {j} = {product}\")   \n",
    "# step 4 printing the result\n",
    "print()\n",
    "        "
   ]
  },
  {
   "cell_type": "code",
   "execution_count": null,
   "id": "3d7f6945-a25b-4e27-ab04-d60da8e2514e",
   "metadata": {},
   "outputs": [],
   "source": [
    "17. Write a program that converts a list of Fahrenheit temperatures to Celsius using a `for` loop."
   ]
  },
  {
   "cell_type": "code",
   "execution_count": 28,
   "id": "f63550a7-49eb-48cb-99de-68ea635cdfeb",
   "metadata": {},
   "outputs": [
    {
     "data": {
      "text/plain": [
       "[-5.0,\n",
       " 1.1111111111111112,\n",
       " 1.6666666666666667,\n",
       " 13.333333333333334,\n",
       " -3.888888888888889]"
      ]
     },
     "execution_count": 28,
     "metadata": {},
     "output_type": "execute_result"
    }
   ],
   "source": [
    "# step 1  creating the sample list of fahrenheit temprature\n",
    "f=[23,34,35,56,25]\n",
    "# step 2 creating the second the list\n",
    "l=[]\n",
    "# step 3  using the for loop\n",
    "for  i in f:\n",
    "    c = (i - 32)*5/9. \n",
    "    l.append(c)\n",
    "# step 4 printing the result\n",
    "l\n",
    "\n"
   ]
  },
  {
   "cell_type": "code",
   "execution_count": null,
   "id": "378ef8fd-f14d-4084-a480-0892cb6ab114",
   "metadata": {},
   "outputs": [],
   "source": [
    "18. Create a program to print the common elements from two lists using a `for` loop."
   ]
  },
  {
   "cell_type": "code",
   "execution_count": 33,
   "id": "1784f0c5-d8f1-48b2-a96f-ca877f7c2e8c",
   "metadata": {},
   "outputs": [
    {
     "data": {
      "text/plain": [
       "[12, 12, 3, 12]"
      ]
     },
     "execution_count": 33,
     "metadata": {},
     "output_type": "execute_result"
    }
   ],
   "source": [
    "# step 1 creating the sample list\n",
    "s=[12,12,3,12,4,5]\n",
    "t=[12,12,3,45,24]\n",
    "m=[]\n",
    "# step 2 usinmg the for loop\n",
    "for i in s:\n",
    "    if i in t:\n",
    "        m.append(i)\n",
    "# step 3 printing the result \n",
    "m\n",
    "            \n"
   ]
  },
  {
   "cell_type": "code",
   "execution_count": null,
   "id": "e51a5147-1a7b-4dae-8212-d3265998f0e7",
   "metadata": {},
   "outputs": [],
   "source": [
    "\n",
    "19. Develop a program that prints the pattern of right-angled triangles using a `for` loop. Use ‘*’ to draw the\n",
    "pattern"
   ]
  },
  {
   "cell_type": "code",
   "execution_count": 36,
   "id": "0ef2e815-0962-402a-8705-025c2dfd93b3",
   "metadata": {},
   "outputs": [
    {
     "name": "stdout",
     "output_type": "stream",
     "text": [
      "* \n",
      "* * \n",
      "* * * \n",
      "* * * * \n",
      "* * * * * \n",
      "* * * * * * \n",
      "* * * * * * * \n",
      "* * * * * * * * \n",
      "* * * * * * * * * \n",
      "* * * * * * * * * * \n"
     ]
    }
   ],
   "source": [
    "#  step 1 Define the number of rows for the triangle\n",
    "n = 10  # You can change this to adjust the size of the triangle\n",
    "\n",
    "# step 2  Outer loop for the number of rows\n",
    "for i in range(1, n + 1):\n",
    "    # step 3  Inner loop to print '*' for each row\n",
    "    for j in range(i):\n",
    "        print(\"*\", end=\" \")\n",
    "    print() "
   ]
  },
  {
   "cell_type": "code",
   "execution_count": null,
   "id": "bc2daea7-0480-4516-9edd-6317fac5d67a",
   "metadata": {},
   "outputs": [],
   "source": [
    "\n",
    "20. Write a program to find the greatest common divisor (GCD) of two numbers using a `for` loop."
   ]
  },
  {
   "cell_type": "code",
   "execution_count": 40,
   "id": "4c83ecbb-4706-462a-b490-197c12b40b9f",
   "metadata": {},
   "outputs": [
    {
     "name": "stdout",
     "output_type": "stream",
     "text": [
      "GCD of 50 and 100 is: 50\n"
     ]
    }
   ],
   "source": [
    "# step 1 taking  with the sample input\n",
    "x = 50\n",
    "y = 100\n",
    "# step 2 using the if - else  condition \n",
    "if x > y:\n",
    "  x, y = y, x\n",
    "# step 3 using the for loop\n",
    "for i in range(1,x+1):\n",
    "  if x%i == 0 and y%i == 0:\n",
    "    gcd = i\n",
    "\n",
    "print(\"GCD of\", x, \"and\", y, \"is:\", gcd)"
   ]
  },
  {
   "cell_type": "code",
   "execution_count": null,
   "id": "804441e6-a001-4f42-8096-13ca627f8f8c",
   "metadata": {},
   "outputs": [],
   "source": [
    "                                      level-Advanced Level"
   ]
  },
  {
   "cell_type": "code",
   "execution_count": null,
   "id": "c67dd33e-a53c-4181-b3b0-efac78fddfd6",
   "metadata": {},
   "outputs": [],
   "source": [
    "\n",
    "21. Create a program that calculates the sum of the digits of numbers in a list using a list comprehension."
   ]
  },
  {
   "cell_type": "code",
   "execution_count": 1,
   "id": "f6ea20a2-26b7-44e7-a45d-80224c406387",
   "metadata": {},
   "outputs": [
    {
     "name": "stdout",
     "output_type": "stream",
     "text": [
      "Sum of digits for 123 is 6\n",
      "Sum of digits for 45 is 9\n",
      "Sum of digits for 6789 is 30\n",
      "Sum of digits for 555 is 15\n"
     ]
    }
   ],
   "source": [
    "# step 1  creating the founction \n",
    "def sum_of_digits(number):\n",
    "    return sum(int(digit) for digit in str(number))\n",
    "\n",
    "#  step 2 Sample list of numbers\n",
    "numbers = [123, 45, 6789, 555]\n",
    "\n",
    "#  step 3 Calculate the sum of digits for each number in the list using a list comprehension\n",
    "digit_sums = [sum_of_digits(number) for number in numbers]\n",
    "\n",
    "#  step 4 Print the results\n",
    "for i in range(len(numbers)):\n",
    "    print(f\"Sum of digits for {numbers[i]} is {digit_sums[i]}\")\n",
    "\n"
   ]
  },
  {
   "cell_type": "code",
   "execution_count": null,
   "id": "9f3a3d4e-c8d4-471a-bb9e-178ec247dece",
   "metadata": {},
   "outputs": [],
   "source": [
    "\n",
    "22. Write a program to find the prime factors of a given number using a `for` loop and list comprehension."
   ]
  },
  {
   "cell_type": "code",
   "execution_count": 10,
   "id": "e37e26e6-c9e5-4d57-9434-ad7bf5443eb7",
   "metadata": {},
   "outputs": [
    {
     "name": "stdin",
     "output_type": "stream",
     "text": [
      " enter a number: 88\n"
     ]
    },
    {
     "name": "stdout",
     "output_type": "stream",
     "text": [
      "Prime factors of 88: [11]\n"
     ]
    }
   ],
   "source": [
    "# step 1  creating the founction it will help in checking the number is prime or not\n",
    "def is_prime(n):\n",
    "    if n <2:\n",
    "        return False\n",
    "    for i in range(2, int(n**0.5)+1):\n",
    "        if n %i ==0:\n",
    "            return False\n",
    "        return True\n",
    "# step 2  prime factors is a founction which will  uses a list comphrehnsion to find the prime factors of a given number n by iterating through numbers from 2 to n and checking if they are both factors of n and prime using the is_prime function. \n",
    "def prime_factors(ni):\n",
    "    factors=[x for x in range(2,ni+1) if n%x==0 and is_prime(x)]\n",
    "    return factors\n",
    "# step 3  input a number from a user\n",
    "n= int(input(\" enter a number:\"))\n",
    "# find and print the prime factors\n",
    "factors=prime_factors(n)\n",
    "if len(factors) == 0:\n",
    "    print(f\"{n} has no prime factors.\")\n",
    "else:\n",
    "    print(f\"Prime factors of {n}: {factors}\")"
   ]
  },
  {
   "cell_type": "code",
   "execution_count": null,
   "id": "1453cc54-8f13-4582-8115-82158e2c8112",
   "metadata": {},
   "outputs": [],
   "source": [
    "\n",
    "23. Develop a program that extracts unique elements from a list and stores them in a new list using a list\n",
    "comprehension."
   ]
  },
  {
   "cell_type": "code",
   "execution_count": 11,
   "id": "f0e11e2c-885e-45c5-a496-3d674023718b",
   "metadata": {},
   "outputs": [
    {
     "name": "stdout",
     "output_type": "stream",
     "text": [
      "oeignal list:  [12, 12, 2, 3, 4, 5]\n",
      " unique list: [2, 3, 4, 5]\n"
     ]
    }
   ],
   "source": [
    "#step 1 creating the sample list\n",
    "s=[12,12,2,3,4,5]\n",
    "# step 2  using the list comprehension\n",
    "m=[x for x in s if s.count(x)==1]\n",
    "# step 3 printing both list\n",
    "print(\"oeignal list: \",s)\n",
    "print(\" unique list:\" ,m)\n"
   ]
  },
  {
   "cell_type": "code",
   "execution_count": null,
   "id": "35633e29-07e7-49b6-9b4c-616e7abb7525",
   "metadata": {},
   "outputs": [],
   "source": [
    "\n",
    "24. Create a program that generates a list of all palindromic numbers up to a specified limit using a list\n",
    "comprehension."
   ]
  },
  {
   "cell_type": "code",
   "execution_count": 8,
   "id": "4e511ee8-5261-4931-bf33-d08e8d87c811",
   "metadata": {},
   "outputs": [
    {
     "name": "stdin",
     "output_type": "stream",
     "text": [
      "enter the limit  34\n"
     ]
    },
    {
     "name": "stdout",
     "output_type": "stream",
     "text": [
      "[1, 2, 3, 4, 5, 6, 7, 8, 9, 11, 22, 33]\n"
     ]
    }
   ],
   "source": [
    "# step 1 taking the input  for limi\n",
    "p= int(input(\"enter the limit \"))\n",
    "# step 2  using the list comphrension\n",
    "l= [i for i  in range(1,p+1) if str(i) == str(i)[::-1]]\n",
    "# step  3 print result\n",
    "print(l)"
   ]
  },
  {
   "cell_type": "code",
   "execution_count": null,
   "id": "8432fa56-00e9-4739-8faf-1c5d96a9d6eb",
   "metadata": {},
   "outputs": [],
   "source": [
    "\n",
    "25. Write a program to flatten a nested list using list comprehension."
   ]
  },
  {
   "cell_type": "code",
   "execution_count": 10,
   "id": "33c91dbd-6453-458a-b2d1-7651437b17ea",
   "metadata": {},
   "outputs": [
    {
     "name": "stdout",
     "output_type": "stream",
     "text": [
      "[1, 2, 3, 4, 5, 6, 7, 8, 9]\n"
     ]
    }
   ],
   "source": [
    "# step 1 creating  nested list\n",
    "m=[[1, 2, 3], [4, 5, 6], [7, 8, 9]]\n",
    "# step 2  using the list comprehension \n",
    "flattend=[ i for sublist in m for i in sublist]\n",
    "print(flattend)\n",
    "\n",
    "\n"
   ]
  },
  {
   "cell_type": "code",
   "execution_count": null,
   "id": "5aad2894-1c88-4b0a-b8c3-cf4fca141750",
   "metadata": {},
   "outputs": [],
   "source": [
    "26. Develop a program that computes the sum of even and odd numbers in a list separately using list\n",
    "comprehension."
   ]
  },
  {
   "cell_type": "code",
   "execution_count": 18,
   "id": "e4e71686-c215-4de8-b3ba-09d926fdc0c4",
   "metadata": {},
   "outputs": [
    {
     "name": "stdout",
     "output_type": "stream",
     "text": [
      "even  sum : 14\n",
      "odd sum : 45\n"
     ]
    }
   ],
   "source": [
    "# step 1 creating the sample list of odd and even\n",
    "l=[2,4,8,15,27,3]\n",
    "# step 2 using list comprehension\n",
    "even=[i for i  in l if i%2==0]\n",
    "odd=[i for i in l if i%3==0]\n",
    "sumeven=sum(even)\n",
    "sumodd=sum(odd)\n",
    "print(\"even  sum :\",sumeven)\n",
    "print(\"odd sum :\",sumodd)\n"
   ]
  },
  {
   "cell_type": "code",
   "execution_count": null,
   "id": "b344bfa2-6d60-40b7-8102-fa98fc5ab277",
   "metadata": {},
   "outputs": [],
   "source": [
    "\n",
    "27. Create a program that generates a list of squares of odd numbers between 1 and 10 using list\n",
    "comprehension."
   ]
  },
  {
   "cell_type": "code",
   "execution_count": 26,
   "id": "ed92c9a5-76ec-4988-a6e9-6fbae2b6cf71",
   "metadata": {},
   "outputs": [
    {
     "name": "stdout",
     "output_type": "stream",
     "text": [
      "[1, 9, 25, 49, 81]\n"
     ]
    }
   ],
   "source": [
    "#  step 1 create a  sample list  for odd numbers\n",
    "odd=[]\n",
    "# step 2 creating the list of odd numbers with the help of list comprehension\n",
    "odd=[ i**2 for i in  range(1,11) if i%2!=0]\n",
    "# step 3  printing the list\n",
    "print(odd)\n",
    "\n"
   ]
  },
  {
   "cell_type": "code",
   "execution_count": null,
   "id": "91db44a6-913b-4032-92e4-ebace59bf538",
   "metadata": {},
   "outputs": [],
   "source": [
    "28. Write a program that combines two lists into a dictionary using list comprehension."
   ]
  },
  {
   "cell_type": "code",
   "execution_count": 7,
   "id": "f003f155-480c-4617-a3fd-ef0df69a89db",
   "metadata": {},
   "outputs": [
    {
     "data": {
      "text/plain": [
       "{'name': 'amrit', 'age': 21, 'sex': ' male'}"
      ]
     },
     "execution_count": 7,
     "metadata": {},
     "output_type": "execute_result"
    }
   ],
   "source": [
    "# step 1 creating the sample list for combining \n",
    "key=[\"name\", \"age\", \"sex\"]\n",
    "values=[\"amrit\", 21,\" male\"]\n",
    "# step 2 using the list comprehension \n",
    "di={key[i]: values[i] for i in range(len(key))}\n",
    "# step 3 print dictonary\n",
    "di"
   ]
  },
  {
   "cell_type": "code",
   "execution_count": null,
   "id": "3f8e6c5f-8521-4060-bcea-7947154a902e",
   "metadata": {},
   "outputs": [],
   "source": [
    "\n",
    "29. Develop a program that extracts the vowels from a string and stores them in a list using list comprehension."
   ]
  },
  {
   "cell_type": "code",
   "execution_count": 8,
   "id": "8b9bc98c-c3c6-4d50-8bb6-722d01df80bf",
   "metadata": {},
   "outputs": [
    {
     "name": "stdin",
     "output_type": "stream",
     "text": [
      " enter the value for string  amrit\n"
     ]
    },
    {
     "name": "stdout",
     "output_type": "stream",
     "text": [
      "['a', 'i']\n"
     ]
    }
   ],
   "source": [
    "# step 1 take a input value for a string\n",
    "s=input(\" enter the value for string \")\n",
    "# step 2 using the list comprehension\n",
    "l=[ i for i in s if  i.lower() in \"aieou\"]\n",
    "# step 3 printing the list\n",
    "print(l)\n",
    "\n"
   ]
  },
  {
   "cell_type": "code",
   "execution_count": null,
   "id": "0c5dce36-6843-4f7a-b108-1c4da04c59aa",
   "metadata": {},
   "outputs": [],
   "source": [
    "30. Create a program that removes all non-numeric characters from a list of strings using list comprehension."
   ]
  },
  {
   "cell_type": "code",
   "execution_count": 9,
   "id": "d7322e58-944a-4e1a-b8cb-196125c12ffe",
   "metadata": {},
   "outputs": [
    {
     "name": "stdout",
     "output_type": "stream",
     "text": [
      "['123', '45', '123', '456']\n"
     ]
    }
   ],
   "source": [
    "# step 1  Sample list of strings\n",
    "string_list = [\"abc123\", \"45xyz\", \"1.23\", \"abc456def\"]\n",
    "\n",
    "#  step 2 Using list comprehension to remove non-numeric characters\n",
    "numeric_strings = [''.join(char for char in s if char.isnumeric()) for s in string_list]\n",
    "\n",
    "#step  3 Print the list of numeric strings\n",
    "print(numeric_strings)"
   ]
  },
  {
   "cell_type": "code",
   "execution_count": null,
   "id": "40345613-96f4-41b7-bce3-ad194b6ab6c6",
   "metadata": {},
   "outputs": [],
   "source": [
    "                                     TOPIC-Challenge Level:"
   ]
  },
  {
   "cell_type": "code",
   "execution_count": null,
   "id": "6271d7f4-0a23-4bee-81f9-04ba0f148a92",
   "metadata": {},
   "outputs": [],
   "source": [
    "\n",
    "31. Write a program to generate a list of prime numbers using the Sieve of Eratosthenes algorithm and list\n",
    "comprehension."
   ]
  },
  {
   "cell_type": "code",
   "execution_count": 4,
   "id": "5872e4c7-a6e0-402a-a188-5594f8f88f08",
   "metadata": {},
   "outputs": [
    {
     "name": "stdin",
     "output_type": "stream",
     "text": [
      "Enter a limit to generate prime numbers up to:  10\n"
     ]
    },
    {
     "name": "stdout",
     "output_type": "stream",
     "text": [
      "Prime numbers up to 10 are: [2, 3, 5, 7]\n"
     ]
    }
   ],
   "source": [
    "# step 1  creating the  founction\n",
    "def sieve_eratosthenes(n):\n",
    "    is_prime = [True] * (n + 1)\n",
    "    is_prime[0] = is_prime[1] = False\n",
    "    p = 2\n",
    "# step 2 using the  while loop\n",
    "    while p ** 2 <= n:\n",
    "# step 3 using the if- else condition\n",
    "        if is_prime[p]:\n",
    "            for i in range(p ** 2, n + 1, p):\n",
    "                is_prime[i] = False\n",
    "        p += 1\n",
    "# step 4  using the  list comphresion\n",
    "    primes = [i for i in range(2, n + 1) if is_prime[i]]\n",
    "    return primes\n",
    "# step5  taking input for limit till whioh we have to find prime number\n",
    "limit = int(input(\"Enter a limit to generate prime numbers up to: \"))\n",
    "prime_list = sieve_eratosthenes(limit)\n",
    "print(\"Prime numbers up to\", limit, \"are:\", prime_list)\n"
   ]
  },
  {
   "cell_type": "code",
   "execution_count": null,
   "id": "a4bf9ed2-f7e1-41df-9ba1-4dfe73904724",
   "metadata": {},
   "outputs": [],
   "source": [
    "32. Create a program that generates a list of all Pythagorean triplets up to a specified limit using list\n",
    "comprehension."
   ]
  },
  {
   "cell_type": "code",
   "execution_count": 3,
   "id": "9a1d590c-6ab0-4424-b1f6-dcde4a5fa754",
   "metadata": {},
   "outputs": [
    {
     "name": "stdin",
     "output_type": "stream",
     "text": [
      " enter the limit for  genrarting the pythagorean triplets 100\n"
     ]
    },
    {
     "name": "stdout",
     "output_type": "stream",
     "text": [
      "Pythagorean triplets up to 100 are:\n",
      "(3, 4, 5)\n",
      "(6, 8, 10)\n",
      "(5, 12, 13)\n",
      "(9, 12, 15)\n",
      "(8, 15, 17)\n",
      "(12, 16, 20)\n",
      "(15, 20, 25)\n",
      "(7, 24, 25)\n",
      "(10, 24, 26)\n",
      "(20, 21, 29)\n",
      "(18, 24, 30)\n",
      "(16, 30, 34)\n",
      "(21, 28, 35)\n",
      "(12, 35, 37)\n",
      "(15, 36, 39)\n",
      "(24, 32, 40)\n",
      "(9, 40, 41)\n",
      "(27, 36, 45)\n",
      "(30, 40, 50)\n",
      "(14, 48, 50)\n",
      "(24, 45, 51)\n",
      "(20, 48, 52)\n",
      "(28, 45, 53)\n",
      "(33, 44, 55)\n",
      "(40, 42, 58)\n",
      "(36, 48, 60)\n",
      "(11, 60, 61)\n",
      "(39, 52, 65)\n",
      "(33, 56, 65)\n",
      "(25, 60, 65)\n",
      "(16, 63, 65)\n",
      "(32, 60, 68)\n",
      "(42, 56, 70)\n",
      "(48, 55, 73)\n",
      "(24, 70, 74)\n",
      "(45, 60, 75)\n",
      "(21, 72, 75)\n",
      "(30, 72, 78)\n",
      "(48, 64, 80)\n",
      "(18, 80, 82)\n",
      "(51, 68, 85)\n",
      "(40, 75, 85)\n",
      "(36, 77, 85)\n",
      "(13, 84, 85)\n",
      "(60, 63, 87)\n",
      "(39, 80, 89)\n",
      "(54, 72, 90)\n",
      "(35, 84, 91)\n",
      "(57, 76, 95)\n",
      "(65, 72, 97)\n",
      "(60, 80, 100)\n",
      "(28, 96, 100)\n"
     ]
    }
   ],
   "source": [
    "# step1  taking the limit as a input\n",
    "l=int(input(\" enter the limit for  genrarting the pythagorean triplets\"))\n",
    "# step 2  Genrate  pythagorean triplets using the list comprehension\n",
    "pythagorean_triplets = [(a, b, c) for c in range(1, l + 1) for b in range(1, c) for a in range(1, b) if a**2 + b**2 == c**2]\n",
    "\n",
    "print(\"Pythagorean triplets up to\", l, \"are:\")\n",
    "for triplet in pythagorean_triplets:\n",
    "    print(triplet)\n"
   ]
  },
  {
   "cell_type": "code",
   "execution_count": null,
   "id": "d128b3b9-c74e-40e6-ab30-d741a69f8805",
   "metadata": {},
   "outputs": [],
   "source": [
    "\n",
    "33. Develop a program that generates a list of all possible combinations of two lists using list comprehension.\n"
   ]
  },
  {
   "cell_type": "code",
   "execution_count": 4,
   "id": "ad248e36-5e24-4f25-8315-d9d5a7391923",
   "metadata": {},
   "outputs": [
    {
     "name": "stdin",
     "output_type": "stream",
     "text": [
      "  enter the element  for list 1 7 6 8\n",
      " entet he element for list 2 6 7 5\n"
     ]
    },
    {
     "name": "stdout",
     "output_type": "stream",
     "text": [
      "All possible combination of 2 list\n",
      "('7', '6')\n",
      "('7', '7')\n",
      "('7', '5')\n",
      "('6', '6')\n",
      "('6', '7')\n",
      "('6', '5')\n",
      "('8', '6')\n",
      "('8', '7')\n",
      "('8', '5')\n"
     ]
    }
   ],
   "source": [
    "# step 1 Taking the input  for list 1\n",
    "list1=input(\"  enter the element  for list 1\").split()\n",
    "list2= input(\" entet he element for list 2\").split()\n",
    "# step 2 using the list comphrension\n",
    "cobi=[(x,y) for x in  list1 for y in list2 ]\n",
    "print(\"All possible combination of 2 list\")\n",
    "for cobi in cobi:\n",
    "    print(cobi)"
   ]
  },
  {
   "cell_type": "code",
   "execution_count": null,
   "id": "292964a0-69e9-4918-be76-ef2e3afea556",
   "metadata": {},
   "outputs": [],
   "source": [
    "34. Write a program that calculates the mean, median, and mode of a list of numbers using list\n",
    "comprehension."
   ]
  },
  {
   "cell_type": "code",
   "execution_count": 11,
   "id": "f332af3a-f9eb-4f23-8c55-2b3326907a91",
   "metadata": {},
   "outputs": [
    {
     "name": "stdin",
     "output_type": "stream",
     "text": [
      "enter the list of numbers  seprsted by spaces: 12 23 45 67\n"
     ]
    },
    {
     "name": "stdout",
     "output_type": "stream",
     "text": [
      "Mean: 3.75\n",
      "Median: 3.5\n",
      "Mode: 2.0\n"
     ]
    }
   ],
   "source": [
    "from statistics import mean ,median ,mode\n",
    "# step 1 input enter the list of numberzs\n",
    "numbers=input(\"enter the list of numbers  seprsted by spaces:\")\n",
    "numbers=[float(x) for x in numbers  if x.replace(\".\",\"\").isdigit()]\n",
    "\n",
    "#  step 2 using the if -else condition\n",
    "if len(numbers)>0:\n",
    "    medianvalue=median(numbers)\n",
    "    meanvalue=mean(numbers)\n",
    "if len(numbers)==1:\n",
    "    modevalue=numnber[0]\n",
    "else:\n",
    "    modevalue=mode(numbers)\n",
    "# step 3 printing the result\n",
    "print(f\"Mean: {meanvalue:}\")\n",
    "print(f\"Median: {medianvalue:}\")\n",
    "print(f\"Mode: {modevalue}\")   \n",
    "    \n",
    "    \n",
    "    "
   ]
  },
  {
   "cell_type": "code",
   "execution_count": null,
   "id": "f91e986e-0f47-4a94-8291-3599c9fa7bc8",
   "metadata": {},
   "outputs": [],
   "source": [
    "35. Create a program that generates Pascal's triangle up to a specified number of rows using list\n",
    "comprehension."
   ]
  },
  {
   "cell_type": "code",
   "execution_count": 12,
   "id": "65403147-bf7b-42db-aa82-4a4e70af96d8",
   "metadata": {},
   "outputs": [
    {
     "name": "stdin",
     "output_type": "stream",
     "text": [
      "Enter the number of rows for Pascal's triangle:  5\n"
     ]
    },
    {
     "name": "stdout",
     "output_type": "stream",
     "text": [
      "Pascal's triangle with 5 rows:\n",
      "    1    \n",
      "   1 1   \n",
      "  1 2 1  \n",
      " 1 3 3 1 \n",
      "1 4 6 4 1\n"
     ]
    }
   ],
   "source": [
    "# step 1 creating the founction of pascals triangle\n",
    "def generate_pascals_triangle(num_rows):\n",
    "    pascals_triangle = []\n",
    "# step 2 using the for loop   \n",
    "    for i in range(num_rows):\n",
    "# step 3 using the if -else condition\n",
    "        if i == 0:\n",
    "            row = [1]\n",
    "        else:\n",
    "            prev_row = pascals_triangle[i - 1]\n",
    "            row = [1] + [prev_row[j] + prev_row[j + 1] for j in range(i - 1)] + [1]\n",
    "        pascals_triangle.append(row)\n",
    "    \n",
    "    return pascals_triangle\n",
    "\n",
    "# step 4  Input the number of rows for Pascal's triangle\n",
    "num_rows = int(input(\"Enter the number of rows for Pascal's triangle: \"))\n",
    "# staginep 5 using the if- else  \n",
    "if num_rows < 1:\n",
    "    print(\"Number of rows should be at least 1.\")\n",
    "else:\n",
    "    pascals_triangle = generate_pascals_triangle(num_rows)\n",
    "    print(\"Pascal's triangle with\", num_rows, \"rows:\")\n",
    "    \n",
    "    for row in pascals_triangle:\n",
    "        row_str = ' '.join(map(str, row))\n",
    "        print(row_str.center(len(' '.join(map(str, pascals_triangle[-1])))))\n"
   ]
  },
  {
   "cell_type": "code",
   "execution_count": null,
   "id": "54104423-1a4a-4a81-9b42-f43b655c7bbf",
   "metadata": {},
   "outputs": [],
   "source": [
    "\n",
    "36. Develop a program that calculates the sum of the digits of a factorial of numbers from 1 to 5 using list\n",
    "comprehension."
   ]
  },
  {
   "cell_type": "code",
   "execution_count": 13,
   "id": "c0625683-be49-4631-b7e7-1e09b5da2f4c",
   "metadata": {},
   "outputs": [
    {
     "name": "stdout",
     "output_type": "stream",
     "text": [
      "Sum of digits of 1! is 1\n",
      "Sum of digits of 2! is 2\n",
      "Sum of digits of 3! is 6\n",
      "Sum of digits of 4! is 6\n",
      "Sum of digits of 5! is 3\n"
     ]
    }
   ],
   "source": [
    "\n",
    "import math\n",
    "\n",
    "#  step 1 Function to calculate the sum of the digits of a number\n",
    "def sum_of_digits(number):\n",
    "    return sum(int(digit) for digit in str(number))\n",
    "\n",
    "# step 2  Calculate the sum of digits of factorials from 1 to 5 using list comprehension\n",
    "results = [sum_of_digits(math.factorial(n)) for n in range(1, 6)]\n",
    "\n",
    "# step 3  Print the results\n",
    "for n, result in enumerate(results, start=1):\n",
    "    print(f\"Sum of digits of {n}! is {result}\")"
   ]
  },
  {
   "cell_type": "code",
   "execution_count": null,
   "id": "d1b7d64c-2a42-4594-81bd-4eab8eafb871",
   "metadata": {},
   "outputs": [],
   "source": [
    "37. Write a program that finds the longest word in a sentence using list comprehension."
   ]
  },
  {
   "cell_type": "code",
   "execution_count": 16,
   "id": "d82db60f-7cdf-49cb-8e5b-2379c4dd7fbc",
   "metadata": {},
   "outputs": [
    {
     "name": "stdin",
     "output_type": "stream",
     "text": [
      "enter the sentece i love  my famliy\n"
     ]
    },
    {
     "name": "stdout",
     "output_type": "stream",
     "text": [
      " the longest word in sentence:famliy\n"
     ]
    }
   ],
   "source": [
    "# step 1 enter the value \n",
    "st=input(\"enter the sentece\");\n",
    "# step 2  using the  split method\n",
    "words=st.split()\n",
    "# step 3 finding the longest word using the list comphrension\n",
    "long= max(words, key=len)\n",
    "# step 4  printing the result\n",
    "print(f\" the longest word in sentence:{long}\")\n"
   ]
  },
  {
   "cell_type": "code",
   "execution_count": null,
   "id": "3ae9e180-21ea-4eb9-afda-47610a2a233c",
   "metadata": {},
   "outputs": [],
   "source": [
    "\n",
    "38. Create a program that filters a list of strings to include only those with more than three vowels using list\n",
    "comprehension."
   ]
  },
  {
   "cell_type": "code",
   "execution_count": 22,
   "id": "527e637f-6b3c-453d-a355-49568038ca9c",
   "metadata": {},
   "outputs": [
    {
     "name": "stdin",
     "output_type": "stream",
     "text": [
      "Enter a list of strings separated by spaces:  i love india and world\n"
     ]
    },
    {
     "name": "stdout",
     "output_type": "stream",
     "text": [
      "Strings with more than three vowels:\n"
     ]
    }
   ],
   "source": [
    "# step 1  Function to count vowels in a string\n",
    "def count_vowels(s):\n",
    "    vowels = \"AEIOUaeiou\"\n",
    "    return sum(1 for char in s if char in vowels)\n",
    "\n",
    "# step 2  Input a list of strings\n",
    "strings = input(\"Enter a list of strings separated by spaces: \").split()\n",
    "\n",
    "# step 3  Filter strings with more than three vowels using list comprehension\n",
    "filtered_strings = [s for s in strings if count_vowels(s) > 3]\n",
    "# step 4    result \n",
    "print(\"Strings with more than three vowels:\")\n",
    "for string in filtered_strings:\n",
    "    print(string)"
   ]
  },
  {
   "cell_type": "code",
   "execution_count": null,
   "id": "201f26fa-eb75-4944-9bd3-b31c385aa837",
   "metadata": {},
   "outputs": [],
   "source": [
    "\n",
    "39. Develop a program that calculates the sum of the digits of numbers from 1 to 1000 using list\n",
    "comprehension."
   ]
  },
  {
   "cell_type": "code",
   "execution_count": 26,
   "id": "12412fcf-5a61-4a88-b270-f7241cbe84b8",
   "metadata": {},
   "outputs": [
    {
     "name": "stdout",
     "output_type": "stream",
     "text": [
      "The sum of the digits of numbers from 1 to 1000 is: 13501\n"
     ]
    }
   ],
   "source": [
    "#  step 1 Function to calculate the sum of the digits of a number\n",
    "def sum_of_digits(number):\n",
    "    return sum(int(digit) for digit in str(number))\n",
    "\n",
    "#  step 2 Calculate the sum of digits of numbers from 1 to 1000 using list comprehension\n",
    "results = [sum_of_digits(n) for n in range(1, 1001)]\n",
    "\n",
    "# step 3  Calculate the total sum\n",
    "total_sum = sum(results)\n",
    "\n",
    "print(f\"The sum of the digits of numbers from 1 to 1000 is: {total_sum}\")\n"
   ]
  },
  {
   "cell_type": "code",
   "execution_count": null,
   "id": "4996d60b-f8bc-4ea7-8273-2ccc5f0ce71d",
   "metadata": {},
   "outputs": [],
   "source": [
    "40. Write a program that generates a list of prime palindromic numbers using list comprehension."
   ]
  },
  {
   "cell_type": "code",
   "execution_count": 27,
   "id": "6056d574-90eb-4203-aa9b-0eaceca29c5f",
   "metadata": {},
   "outputs": [
    {
     "name": "stdout",
     "output_type": "stream",
     "text": [
      "Prime palindromic numbers between 1 and 1000 are:\n",
      "[2, 3, 5, 7, 11, 101, 131, 151, 181, 191, 313, 353, 373, 383, 727, 757, 787, 797, 919, 929]\n"
     ]
    }
   ],
   "source": [
    "#  stwp 1 Function to check if a number is prime\n",
    "def is_prime(n):\n",
    "    if n <= 1:\n",
    "        return False\n",
    "    if n <= 3:\n",
    "        return True\n",
    "    if n % 2 == 0 or n % 3 == 0:\n",
    "        return False\n",
    "\n",
    "    i = 5\n",
    "    while i * i <= n:\n",
    "        if n % i == 0 or n % (i + 2) == 0:\n",
    "            return False\n",
    "        i += 6\n",
    "\n",
    "    return True\n",
    "\n",
    "#  step 2 Function to check if a number is a palindrome\n",
    "def is_palindrome(n):\n",
    "    return str(n) == str(n)[::-1]\n",
    "\n",
    "#  step 3 Generate a list of prime palindromic numbers using list comprehension\n",
    "prime_palindromes = [n for n in range(1, 1000) if is_prime(n) and is_palindrome(n)]\n",
    "\n",
    "print(\"Prime palindromic numbers between 1 and 1000 are:\")\n",
    "print(prime_palindromes)\n"
   ]
  },
  {
   "cell_type": "code",
   "execution_count": null,
   "id": "89c56a1b-f253-4cff-adfb-fd3a56dad099",
   "metadata": {},
   "outputs": [],
   "source": []
  }
 ],
 "metadata": {
  "kernelspec": {
   "display_name": "Python 3 (ipykernel)",
   "language": "python",
   "name": "python3"
  },
  "language_info": {
   "codemirror_mode": {
    "name": "ipython",
    "version": 3
   },
   "file_extension": ".py",
   "mimetype": "text/x-python",
   "name": "python",
   "nbconvert_exporter": "python",
   "pygments_lexer": "ipython3",
   "version": "3.10.8"
  }
 },
 "nbformat": 4,
 "nbformat_minor": 5
}
