{
 "cells": [
  {
   "cell_type": "code",
   "execution_count": null,
   "id": "e0c45e35-1872-4859-8cfa-0889be19eaec",
   "metadata": {},
   "outputs": [],
   "source": [
    "Problem 1: Bank Account Create a class representing a bank account with attributes like account number, account holder name, and balance. Implement methods to deposit and withdraw money from the account."
   ]
  },
  {
   "cell_type": "code",
   "execution_count": 18,
   "id": "81058b2a-3d76-407b-8791-15d4752bd7c1",
   "metadata": {},
   "outputs": [
    {
     "name": "stdout",
     "output_type": "stream",
     "text": [
      "amount in the bank AFTER DEPOSIT 90012233\n",
      "acoount balance now 90012133\n",
      "the remaining balance in account 90012133\n"
     ]
    },
    {
     "data": {
      "text/plain": [
       "'12324566'"
      ]
     },
     "execution_count": 18,
     "metadata": {},
     "output_type": "execute_result"
    }
   ],
   "source": [
    "# step1  creating the calss Bank Account\n",
    "class Bank_Acccount:\n",
    "# step 2 making the constructor by  using the dunder method  \n",
    "    def __init__(self, account_number, account_holder,balance):\n",
    "        self.account_number=account_number\n",
    "        self.account_holder=account_holder\n",
    "        self.balance=balance\n",
    "# step  3 Making the founction fro deposition of money\n",
    "    def deposit(self,amount):\n",
    "        if amount>0:\n",
    "            self.balance+=amount\n",
    "            print(\"amount in the bank AFTER DEPOSIT\" ,self.balance)\n",
    "        else:\n",
    "            print(\"invalid amount\")\n",
    "# step 4  Making the founction for withdrawing money\n",
    "    def withdraw(self,amount):\n",
    "        if 0 <amount<=self.balance:\n",
    "            self.balance-=amount\n",
    "            print(\"acoount balance now\", self.balance)\n",
    "        else:\n",
    "            print(\"Ivalid amount\")\n",
    "# step 5  Making the founction for displaying the balance\n",
    "    def displaybalance(self):\n",
    "        print(\"the remaining balance in account\", self.balance)\n",
    "# example usage\n",
    "account=Bank_Acccount(\"12324566\",\"ram\",90000000)\n",
    "account.deposit(12233)\n",
    "account.withdraw(100)\n",
    "account.displaybalance()\n",
    "account.account_number\n",
    "\n",
    "\n",
    "            \n",
    "   "
   ]
  },
  {
   "cell_type": "code",
   "execution_count": null,
   "id": "4cd3433c-9443-43b4-9d44-c360371dd0c4",
   "metadata": {},
   "outputs": [],
   "source": [
    "Problem 2: Employee Management Create a class representing an employee with attributes like employee ID, name, and salary. Implement methods to calculate the yearly bonus and display employee details."
   ]
  },
  {
   "cell_type": "code",
   "execution_count": 3,
   "id": "5d537382-3a44-47b9-80f7-012119177240",
   "metadata": {},
   "outputs": [
    {
     "name": "stdout",
     "output_type": "stream",
     "text": [
      "Yearly  bonus on a sallary 2000.0\n",
      "employeid 7899\n",
      "Name chavii\n",
      "Salary 10000\n"
     ]
    }
   ],
   "source": [
    "# step1 making the claass of employemanagement\n",
    "class Employemangement:\n",
    "# step 2 creating the constructor\n",
    "    def __init__(self,employeeid,name,salary):\n",
    "        self.emplyeeid=employeeid\n",
    "        self.name=name\n",
    "        self.salary=salary\n",
    "# step 3  creating the founction for creating the bonus\n",
    "    def bonus(self,bonous_per):\n",
    "        bonous=(bonous_per/100)*self.salary\n",
    "        return bonous\n",
    "# step 4  creating the founction  for display balance\n",
    "    def display(self):\n",
    "        print(\"employeid\",self.emplyeeid)\n",
    "        print(\"Name\", self.name)\n",
    "        print(\"Salary\",self.salary)\n",
    "        \n",
    "        \n",
    "        \n",
    "\n",
    "# example usage\n",
    "employ=Employemangement(7899,\"chavii\",10000)\n",
    "g=employ.bonus(20)\n",
    "print(\"Yearly  bonus on a sallary\",g)\n",
    "employ.display()\n",
    "\n",
    "\n",
    "        \n",
    "        "
   ]
  },
  {
   "cell_type": "code",
   "execution_count": null,
   "id": "f8ac1156-2e62-410a-bc58-36e9505e265e",
   "metadata": {},
   "outputs": [],
   "source": [
    "Problem 3: Vehicle Rental Create a class representing a vehicle rental system. Implement methods to rent a vehicle, return a vehicle, and display available vehicles."
   ]
  },
  {
   "cell_type": "code",
   "execution_count": null,
   "id": "6d07f603-4c15-4d91-bb5b-cbeb338f0765",
   "metadata": {},
   "outputs": [
    {
     "name": "stdout",
     "output_type": "stream",
     "text": [
      "Amount of money will be charged  400\n",
      "Please sir return the  Activa In 10 days\n"
     ]
    },
    {
     "data": {
      "text/plain": [
       "['pulsar', 'R15', 'Hondacity', 'Scorpio', 'Swift']"
      ]
     },
     "execution_count": 32,
     "metadata": {},
     "output_type": "execute_result"
    }
   ],
   "source": [
    "# step1  creating the class for vehicle rent\n",
    "class vehicle_rent:\n",
    "    def __init__(self, vehicle_name,model,vehicle_owner ):\n",
    "        self.vehicle_name=vehicle_name\n",
    "        self.model=model\n",
    "        self.vehicle_owner=vehicle_owner\n",
    "# step 2  creating the founction  for renting the vehicle \n",
    "    def rent_vehicle(self, days):\n",
    "        rente=days*100;\n",
    "        return  print( \"Amount of money will be charged \",rente)\n",
    "#step 3  Founction to return back the vehicle\n",
    "    def giveback(self):\n",
    "        return print(\"Please sir return the \", self.vehicle_name,\"In 10 days\")\n",
    "# step 4  founction to display the vehicle details\n",
    "    def display_vehicle(self):\n",
    "        l=[\"pulsar\", \"R15\", \"Activa\", \"Hondacity\",\"Scorpio\", \"Swift\" ]\n",
    "        l.remove( self.vehicle_name)\n",
    "        return l\n",
    "v=vehicle_rent(\"Activa\", \"xi\",\"Rahul\")\n",
    "v.rent_vehicle(4)\n",
    "v.giveback()\n",
    "v.display_vehicle()\n",
    "        "
   ]
  },
  {
   "cell_type": "markdown",
   "id": "8fb36f7e-ede5-40ee-829a-ce027f60e4ba",
   "metadata": {},
   "source": [
    "Problem 4: Library Catalog Create classes representing a library and a book. Implement methods to add books to the library, borrow books, and display available books."
   ]
  },
  {
   "cell_type": "code",
   "execution_count": 2,
   "id": "583cfa99-e128-42df-8a92-b708434c0f84",
   "metadata": {},
   "outputs": [
    {
     "name": "stdout",
     "output_type": "stream",
     "text": [
      "Book 'The Great Gatsby' by F. Scott Fitzgerald has been borrowed.\n",
      "Available Books:\n",
      "ID: 002, Title: 'To Kill a Mockingbird', Author: Harper Lee\n",
      "ID: 003, Title: '1984', Author: George Orwell\n",
      "Book 'The Great Gatsby' by F. Scott Fitzgerald has been returned.\n",
      "Available Books:\n",
      "ID: 001, Title: 'The Great Gatsby', Author: F. Scott Fitzgerald\n",
      "ID: 002, Title: 'To Kill a Mockingbird', Author: Harper Lee\n",
      "ID: 003, Title: '1984', Author: George Orwell\n"
     ]
    }
   ],
   "source": [
    "# step 1 creating the class Books\n",
    "class Book:\n",
    "    def __init__(self, book_id, title, author, available=True):\n",
    "        self.book_id = book_id\n",
    "        self.title = title\n",
    "        self.author = author\n",
    "        self.available = available\n",
    "\n",
    "# step 2 creating class of library\n",
    "class Library:\n",
    "    def __init__(self):\n",
    "        self.books = []\n",
    "# step 3 crating the founction  to add_ books\n",
    "    def add_book(self, book_id, title, author):\n",
    "        book = Book(book_id, title, author)\n",
    "        self.books.append(book)\n",
    "# step 4  creating the founction to borrow book\n",
    "    def borrow_book(self, book_id):\n",
    "        for book in self.books:\n",
    "            if book.book_id == book_id and book.available:\n",
    "                book.available = False\n",
    "                print(f\"Book '{book.title}' by {book.author} has been borrowed.\")\n",
    "                return\n",
    "        print(\"Book not available for borrowing.\")\n",
    "# step 5  creating the founction to return book\n",
    "    def return_book(self, book_id):\n",
    "        for book in self.books:\n",
    "            if book.book_id == book_id and not book.available:\n",
    "                book.available = True\n",
    "                print(f\"Book '{book.title}' by {book.author} has been returned.\")\n",
    "                return\n",
    "        print(\"Invalid book ID or book already available.\")\n",
    "# step 6   founction to display avilable books\n",
    "    def display_available_books(self):\n",
    "        available_books = [book for book in self.books if book.available]\n",
    "        if available_books:\n",
    "            print(\"Available Books:\")\n",
    "            for book in available_books:\n",
    "                print(f\"ID: {book.book_id}, Title: '{book.title}', Author: {book.author}\")\n",
    "        else:\n",
    "            print(\"No books available.\")\n",
    "\n",
    "# Example usage:\n",
    "library = Library()\n",
    "library.add_book(\"001\", \"The Great Gatsby\", \"F. Scott Fitzgerald\")\n",
    "library.add_book(\"002\", \"To Kill a Mockingbird\", \"Harper Lee\")\n",
    "library.add_book(\"003\", \"1984\", \"George Orwell\")\n",
    "\n",
    "library.borrow_book(\"001\")\n",
    "library.display_available_books()\n",
    "\n",
    "library.return_book(\"001\")\n",
    "library.display_available_books()\n",
    "    "
   ]
  },
  {
   "cell_type": "code",
   "execution_count": null,
   "id": "eef4ee3b-bba0-4892-91d1-0b5036c48022",
   "metadata": {},
   "outputs": [],
   "source": [
    "Problem 5: Product Inventory Create classes representing a product and an inventory system. Implement methods to add products to the inventory, update product quantity, and display available products."
   ]
  },
  {
   "cell_type": "code",
   "execution_count": 11,
   "id": "14452326-7406-4462-8677-e4d2b1de9a88",
   "metadata": {},
   "outputs": [
    {
     "name": "stdout",
     "output_type": "stream",
     "text": [
      "Product 'Electric fan' quantity updated to 2.\n",
      "Available Product:\n",
      "ID: 001, Title: 'Electric fan,quantity:2'\n",
      "ID: 002, Title: 'Air conditionar,quantity:10'\n",
      "ID: 003, Title: 'Electric press,quantity:123'\n"
     ]
    }
   ],
   "source": [
    "# step 1 creating the class for product\n",
    "class Product:\n",
    "# step 2 creating the constructor\n",
    "    def __init__(self, product_id, product_name,price, quantity):\n",
    "        self.product_id=product_id\n",
    "        self.product_name=product_name\n",
    "        self.price=price\n",
    "        self.quantity=quantity\n",
    "        \n",
    "# step  3 creating the Inventory class\n",
    "class Inventory:\n",
    "    # step 4   creating the  constructor for Inventory\n",
    "    def __init__(self):\n",
    "        self.product=[]\n",
    "\n",
    "    # step 5  creating the founction to add the product    \n",
    "    def add_product(self,product_id, product_name, price, quantity):\n",
    "        product= Product(product_id, product_name, price, quantity)\n",
    "        return self.product.append(product)\n",
    "    # step 6 creating the founction to update quantity\n",
    "    def update(self,product_id, new_quantity):\n",
    "        for product in self.product:\n",
    "             if product.product_id==product_id :\n",
    "                    product.quantity= new_quantity\n",
    "                    print(f\"Product '{product.product_name}' quantity updated to {new_quantity}.\")\n",
    "                    return\n",
    "        print(\"Product not found.\")\n",
    "     # step 7 creating the founction to display the products      \n",
    "    def display_avialble(self):\n",
    "        available_product = [product for product in self.product if product.quantity>0]\n",
    "        if available_product:\n",
    "            print(\"Available Product:\")\n",
    "            for product in available_product :\n",
    "                print(f\"ID: {product.product_id}, Title: '{product.product_name},quantity:{product.quantity}'\")\n",
    "        else:\n",
    "            print(\"No product  available.\")\n",
    "\n",
    "#example usage\n",
    "inve=Inventory()\n",
    "inve.add_product(\"001\", \"Electric fan\",9000, 12)\n",
    "inve.add_product(\"002\", \"Air conditionar\",300000,10)\n",
    "inve.add_product(\"003\", \"Electric press\",500, 123)\n",
    "\n",
    "inve.update(\"001\",2)\n",
    "inve.display_avialble()"
   ]
  },
  {
   "cell_type": "code",
   "execution_count": null,
   "id": "852e684c-fb9c-44ae-b287-7592452039d1",
   "metadata": {},
   "outputs": [],
   "source": [
    "Problem 6: Shape Calculation Create a class representing a shape with attributes like length, width, and height. Implement methods to calculate the area and perimeter of the shape."
   ]
  },
  {
   "cell_type": "code",
   "execution_count": 39,
   "id": "ac1d7d42-40ce-40c6-bff5-76b343123c82",
   "metadata": {},
   "outputs": [
    {
     "name": "stdout",
     "output_type": "stream",
     "text": [
      "perimeter of rectangle 94\n",
      "area of rectangle  47\n",
      "perimeter of triangle  72\n",
      "Area of triangle  437.5\n"
     ]
    }
   ],
   "source": [
    "# step  1 creating the  class  shape with arttributes,length, height, width\n",
    "class shape:\n",
    "# step 2  creating the constructor\n",
    "    def __init__(self, length, width, height):\n",
    "        self.length=length\n",
    "        self.width=width\n",
    "        self.height=height\n",
    "# step 3  create a   class of a rectangle  with inheritance\n",
    "class rectangle(shape) :\n",
    "# step 4  creating the founction for a perimeter \n",
    "    def perimeter(self):\n",
    "        return 2*self.length+2*self.width\n",
    "# step 5  create founction  for area\n",
    "    def area(self):\n",
    "        return self.length+self.width\n",
    "# step 6   create a class for teiangle with inheritance\n",
    "class triangle(shape):\n",
    "# step 7 create a founction of perimeter\n",
    "    def perimeter(self):\n",
    "        return self.length+self.width+self.height\n",
    "# step 8  create a founction for area\n",
    "    def area(self):\n",
    "        return 0.5*self.height*self.width\n",
    "\n",
    "# example usage\n",
    "s= shape(12,35,25)\n",
    "r=rectangle(12,35,25)\n",
    "print (\"perimeter of rectangle\",r.perimeter())\n",
    "print (\"area of rectangle \", r.area())\n",
    "t=triangle(12,35,25)\n",
    "print(\"perimeter of triangle \", t.perimeter())\n",
    "print(\"Area of triangle \", t.area())\n",
    "\n",
    "\n",
    "\n",
    "        "
   ]
  },
  {
   "cell_type": "code",
   "execution_count": null,
   "id": "9c2d78ac-fe42-4e65-b079-3bd8fcddf8ce",
   "metadata": {},
   "outputs": [],
   "source": [
    "Problem 7: Student Management Create a class representing a student with attributes like student ID, name, and grades. Implement methods to calculate the average grade and display student details."
   ]
  },
  {
   "cell_type": "code",
   "execution_count": 110,
   "id": "d8be0299-fb76-4181-9ab9-fd393d5eee0d",
   "metadata": {},
   "outputs": [
    {
     "name": "stdout",
     "output_type": "stream",
     "text": [
      "Student ID  12233\n",
      " Student Name Amrit\n",
      "Average Grades 49.0\n",
      "Student ID  899\n",
      " Student Name Amir\n",
      "Average Grades 72.25\n"
     ]
    }
   ],
   "source": [
    "# step 1 creating the calss of student\n",
    "class student:\n",
    "# step 2 creating the  constructor \n",
    "    def __init__(self, student_id,name,grades):\n",
    "        self.student_id=student_id\n",
    "        self.name=name\n",
    "        self.grades=grades\n",
    "# step 3  creating the founction for calculating the average of grades\n",
    "    def calculate_average_grade(self):\n",
    "        return sum(self.grades) / len(self.grades)\n",
    "# step 4  creating the founction to diplay the details\n",
    "    def display_details(self):\n",
    "        print(\"Student ID \",self.student_id)\n",
    "        print(\" Student Name\",self.name)\n",
    "        print(\"Average Grades\", self.calculate_average_grade())\n",
    "        \n",
    "# example usage\n",
    "s=student(12233,\"Amrit\",[12,45,49,90])\n",
    "s.display_details()\n",
    "\n",
    "s1=student(899,\"Amir\",[98,88,94,9])\n",
    "s1.display_details()\n",
    "    \n",
    "        \n",
    "    \n",
    "    \n",
    "    \n",
    "    \n",
    "    \n",
    "    \n",
    "    \n",
    "        "
   ]
  },
  {
   "cell_type": "code",
   "execution_count": null,
   "id": "ff2b8996-18ba-4cae-a630-b8dd09c042f0",
   "metadata": {},
   "outputs": [],
   "source": [
    "Problem 8: Email Management Create a class representing an email with attributes like sender, recipient, and subject. Implement methods to send an email and display email details."
   ]
  },
  {
   "cell_type": "code",
   "execution_count": 7,
   "id": "ba80cf47-c817-4d4d-a831-5bde59c855ea",
   "metadata": {},
   "outputs": [
    {
     "name": "stdout",
     "output_type": "stream",
     "text": [
      " Email sent Sucessfully\n",
      "Sendor name: Amrit\n",
      "Recipent Address: Abhay\n",
      "Subject of Sendor: Stop saying  musuuu  yashi\n",
      " Body of the Email: Stop it!\n"
     ]
    }
   ],
   "source": [
    "# step 1 creating the class  for email\n",
    "class email:\n",
    "    #step 2 creating the constructor\n",
    "    def __init__(self, sendor, recipient, subject, body):\n",
    "        self.sendor=sendor;\n",
    "        self.recipient=recipient\n",
    "        self.subject=subject\n",
    "        self.body=body\n",
    "      #strp 4 creating the founction  for sending the email  \n",
    "    def send(self):\n",
    "        return print(\" Email sent Sucessfully\")\n",
    "    #STEP 5 creating the founction to display details\n",
    "    def display_details(self):\n",
    "        print(\"Sendor name:\",self.sendor )\n",
    "        print(\"Recipent Address:\",self.recipient)\n",
    "        print(\"Subject of Sendor:\", self.subject)\n",
    "        print(\" Body of the Email:\", self.body)\n",
    " #exammple usage       \n",
    "# step 6 creating the  object of class email\n",
    "e=email(\"Amrit\", \"Abhay\", \"Stop saying  musuuu  yashi\",\"Stop it!\")\n",
    "e.send()\n",
    "e.display_details()\n",
    "        \n",
    "        \n",
    "        \n",
    "        \n",
    "    \n",
    "    "
   ]
  },
  {
   "cell_type": "code",
   "execution_count": null,
   "id": "3e2890f1-f42f-47d0-a905-76fb7ed7e81c",
   "metadata": {},
   "outputs": [],
   "source": [
    "\n",
    "Problem 9: Social Media Profile Create a class representing a social media profile with attributes like username and posts. Implement methods to add posts, display posts, and search for posts by keyword"
   ]
  },
  {
   "cell_type": "code",
   "execution_count": 16,
   "id": "e3977055-8f2e-4893-af10-3b8607c91377",
   "metadata": {},
   "outputs": [
    {
     "name": "stdout",
     "output_type": "stream",
     "text": [
      "New post is added  by  a user with  I AM BACK\n",
      "posted by  user amrit\n",
      "Posts containing 'Back':\n"
     ]
    }
   ],
   "source": [
    "# step 1 creating the class \n",
    "class social :\n",
    "# step 2  creating constructor  \n",
    "    def __init__(self, username):\n",
    "        self.username=username\n",
    "        self.post=[]\n",
    "# step 3  creating  founction to add_post\n",
    "    def add_post(self, caption):\n",
    "        self.post.append(caption)\n",
    "        print(\"New post is added  by  a user with \", caption)\n",
    "# step 4  creating the founction to display post\n",
    "    def display_post(self):\n",
    "        if not  self.post:\n",
    "            print(\"No post avilable \")\n",
    "        else:\n",
    "            print(\"posted by  user\", self.username)\n",
    "# step 5  create a  founction to search key word  \n",
    "    def search_posts_by_keyword(self, keyword):\n",
    "        found_posts = [post for post in self.post if keyword.lower() in post.lower()]\n",
    "        if found_posts:\n",
    "            print(f\"Posts containing '{keyword}':\")\n",
    "        else:\n",
    "            print(\"post not avilabel floowing \", keyword)\n",
    "# example usage\n",
    "s=social(\"amrit\")\n",
    "s.add_post(\"I AM BACK\")\n",
    "s.display_post()\n",
    "s.search_posts_by_keyword(\"Back\")\n",
    "\n",
    "\n",
    "            \n",
    "            \n",
    "            \n",
    "        \n",
    "        "
   ]
  },
  {
   "cell_type": "code",
   "execution_count": null,
   "id": "8ff90e30-2551-4e09-861b-dd986e86af44",
   "metadata": {},
   "outputs": [],
   "source": [
    "Problem 10: ToDo List Create a class representing a ToDo list with attributes like tasks and due dates. Implement methods to add tasks, mark tasks as completed, and display pending tasks."
   ]
  },
  {
   "cell_type": "code",
   "execution_count": 17,
   "id": "9e586d37-fa9f-4e0d-8007-a50e05e34a81",
   "metadata": {},
   "outputs": [
    {
     "name": "stdout",
     "output_type": "stream",
     "text": [
      "Task 'Finish report' added to the ToDo list.\n",
      "Task 'Buy groceries' added to the ToDo list.\n",
      "Task 'Call mom' added to the ToDo list.\n",
      "Pending Tasks:\n",
      "- Finish report (Due: 2023-12-05)\n",
      "- Buy groceries (Due: 2023-11-30)\n",
      "- Call mom (Due: 2023-11-28)\n",
      "\n",
      "Marking 'Buy groceries' as completed...\n",
      "Task 'Buy groceries' marked as completed.\n",
      "Pending Tasks:\n",
      "- Finish report (Due: 2023-12-05)\n",
      "- Call mom (Due: 2023-11-28)\n"
     ]
    }
   ],
   "source": [
    "# step 1  creating the  class to do- list\n",
    "class ToDoList:\n",
    "# step 2  creating the constructor \n",
    "    def __init__(self):\n",
    "        self.tasks = {}\n",
    "# step 3  creationg founction  to add tesk\n",
    "    def add_task(self, task_name, due_date):\n",
    "        self.tasks[task_name] = {\"due_date\": due_date, \"completed\": False}\n",
    "        print(f\"Task '{task_name}' added to the ToDo list.\")\n",
    "# step 4   creating a founction for telling task completed\n",
    "    def mark_task_as_completed(self, task_name):\n",
    "        if task_name in self.tasks:\n",
    "            self.tasks[task_name][\"completed\"] = True\n",
    "            print(f\"Task '{task_name}' marked as completed.\")\n",
    "        else:\n",
    "            print(f\"Task '{task_name}' not found in the ToDo list.\")\n",
    "# step 5  creating a founction to display pending task\n",
    "    def display_pending_tasks(self):\n",
    "        pending_tasks = [task for task, details in self.tasks.items() if not details[\"completed\"]]\n",
    "        if pending_tasks:\n",
    "            print(\"Pending Tasks:\")\n",
    "            for task in pending_tasks:\n",
    "                print(f\"- {task} (Due: {self.tasks[task]['due_date']})\")\n",
    "        else:\n",
    "            print(\"No pending tasks.\")\n",
    "\n",
    "# Example usage:\n",
    "todo = ToDoList()\n",
    "\n",
    "todo.add_task(\"Finish report\", \"2023-12-05\")\n",
    "todo.add_task(\"Buy groceries\", \"2023-11-30\")\n",
    "todo.add_task(\"Call mom\", \"2023-11-28\")\n",
    "\n",
    "todo.display_pending_tasks()\n",
    "\n",
    "print(\"\\nMarking 'Buy groceries' as completed...\")\n",
    "todo.mark_task_as_completed(\"Buy groceries\")\n",
    "\n",
    "todo.display_pending_tasks()\n"
   ]
  },
  {
   "cell_type": "code",
   "execution_count": null,
   "id": "27b099ab-1788-4d62-ad27-28ccd33b23f7",
   "metadata": {},
   "outputs": [],
   "source": []
  }
 ],
 "metadata": {
  "kernelspec": {
   "display_name": "Python 3 (ipykernel)",
   "language": "python",
   "name": "python3"
  },
  "language_info": {
   "codemirror_mode": {
    "name": "ipython",
    "version": 3
   },
   "file_extension": ".py",
   "mimetype": "text/x-python",
   "name": "python",
   "nbconvert_exporter": "python",
   "pygments_lexer": "ipython3",
   "version": "3.10.8"
  }
 },
 "nbformat": 4,
 "nbformat_minor": 5
}
