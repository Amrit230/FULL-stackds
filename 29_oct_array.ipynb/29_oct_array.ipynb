{
 "cells": [
  {
   "cell_type": "code",
   "execution_count": null,
   "id": "ced056c3-7bd5-4e2a-8105-80983e51a2f1",
   "metadata": {},
   "outputs": [],
   "source": [
    "1.Given an array, check if it contains any duplicates or not.\n",
    "arr = [1, 2, 4, 2, 5, 9]\n",
    "Output = True"
   ]
  },
  {
   "cell_type": "code",
   "execution_count": 11,
   "id": "cf7992d1-c85b-443d-9a50-3e29b8843890",
   "metadata": {},
   "outputs": [
    {
     "data": {
      "text/plain": [
       "True"
      ]
     },
     "execution_count": 11,
     "metadata": {},
     "output_type": "execute_result"
    }
   ],
   "source": [
    "# step 1 create a founction isduplicate  which will take array find the duplicate of it\n",
    "def isduplicate(arr):\n",
    "# step2 getting the length of an arry by inbuilt len founction\n",
    "    n=len(arr)\n",
    "# step 3   Runing the  first for loop with variable i\n",
    "    for i in range(n):\n",
    "# step 4 runing the  second for loop  with variable j  starting it  with i+1\n",
    "        for j in range(i+1,n):\n",
    "# step  5  by if statement checking is array of i is equal to array of j or not\n",
    "            if arr[i]==arr[j]:\n",
    "# step 6  returning true if equal\n",
    "                return True\n",
    "# step 7  returning false if not equal    \n",
    "    return False\n",
    "#step 8 calling the founction\n",
    "        \n",
    "arr = [1, 2, 4, 2, 5, 9]\n",
    "isduplicate(arr)\n"
   ]
  },
  {
   "cell_type": "code",
   "execution_count": null,
   "id": "b7511f11-a361-477a-a7e3-354032b65844",
   "metadata": {},
   "outputs": [],
   "source": [
    "2. Given an array and an integer k, rotate the array to the right by k steps.\n",
    "arr = [1, 2, 3, 4, 5, 6, 7] k = 3\n",
    "Output = [5, 6, 7, 1, 2, 3, 4]"
   ]
  },
  {
   "cell_type": "code",
   "execution_count": 60,
   "id": "0fda3e23-ec4a-4329-876a-ea8ba9409a2a",
   "metadata": {},
   "outputs": [
    {
     "data": {
      "text/plain": [
       "[5, 6, 7, 1, 2, 3, 4]"
      ]
     },
     "execution_count": 60,
     "metadata": {},
     "output_type": "execute_result"
    }
   ],
   "source": [
    "# step 1  creating the  founction to rotate array\n",
    "def rotate (arr, k):\n",
    "# step 2  creating the  another who will hold reverse values\n",
    "    arri=list()\n",
    "# step 3  finding the length of an array\n",
    "    n=len(arr)\n",
    "# step 4  adding 2 to the k \n",
    "    c=k+2\n",
    "# step  5 runing the for loop and appending \n",
    "    for i  in range(c,n+1):\n",
    "        arri.append(i)\n",
    "# step 6 ririning another for loop and appending\n",
    "    for j in range (1,c):\n",
    "        arri.append(j)\n",
    "# step 7 returnining the result\n",
    "    return arri\n",
    "arr = [1, 2, 3, 4,5,6,7] \n",
    "# step 8 calling the founction\n",
    "rotate (arr,3 )\n",
    "\n",
    "        \n",
    "        \n",
    "    \n",
    "    "
   ]
  },
  {
   "cell_type": "code",
   "execution_count": null,
   "id": "1e00ee71-e043-4114-ad92-8cee12d27cda",
   "metadata": {},
   "outputs": [],
   "source": [
    "3. Reverse the given array in-place, means without using any extra data structure.\n",
    "arr = [2, 4, 5, 7, 9, 12]\n",
    "Output = [12, 9, 7, 5, 4, 2]"
   ]
  },
  {
   "cell_type": "code",
   "execution_count": 61,
   "id": "b5b840ac-8d3b-4a3c-a8df-d72cc3b0cd8c",
   "metadata": {},
   "outputs": [
    {
     "data": {
      "text/plain": [
       "[12, 9, 7, 5, 4, 2]"
      ]
     },
     "execution_count": 61,
     "metadata": {},
     "output_type": "execute_result"
    }
   ],
   "source": [
    "# step 1 creating the founction  reverse for finding the reverse of a founction\n",
    "def reverse(arr):\n",
    "#step 2  using the slicing technique and reversing and returning it\n",
    "    return arr[::-1]\n",
    "arr = [2, 4, 5, 7, 9, 12]\n",
    "# step  3 calling the founction\n",
    "reverse(arr)"
   ]
  },
  {
   "cell_type": "code",
   "execution_count": null,
   "id": "0a4ffe8f-4cfe-436e-99e6-e1b967542a36",
   "metadata": {},
   "outputs": [],
   "source": [
    "4. Given an array of integers, find the maximum element in an array\n",
    "arr = [10, 5, 20, 8, 15]\n",
    "Output = 20"
   ]
  },
  {
   "cell_type": "code",
   "execution_count": 69,
   "id": "25de8e4c-b64d-4c4e-a093-bb4e2898acf8",
   "metadata": {},
   "outputs": [
    {
     "data": {
      "text/plain": [
       "20"
      ]
     },
     "execution_count": 69,
     "metadata": {},
     "output_type": "execute_result"
    }
   ],
   "source": [
    "# step 1 creating the founction  to find the maximum of array \n",
    "def maxima(arr):\n",
    "# step 2 finding the length of the array by using the len\n",
    "    n=len(arr)\n",
    "# step 3 considering the firest element  of array in max\n",
    "    max=arr[0]\n",
    "# step 4 using the for loop\n",
    "    for i in range(n):\n",
    "# step 5 runing the another loop to check other element in array\n",
    "        for j in range(i+1,n):\n",
    "            if arr[j]>max:\n",
    "                max=arr[j]\n",
    "    return max\n",
    "arr = [10, 5, 20, 8, 15]\n",
    "# step 6 calling the maxima founction \n",
    "maxima(arr)\n",
    "            "
   ]
  },
  {
   "cell_type": "code",
   "execution_count": null,
   "id": "9af3c955-434b-49d7-a5f6-d895ad323f89",
   "metadata": {},
   "outputs": [],
   "source": [
    "5. Given a sorted array, remove the duplicate element without using any extra data structure.\n",
    "arr = [1, 1, 2, 2, 2, 3, 3, 4, 4, 4, 5, 5]\n",
    "Output = [1, 2, 3, 4, 5]"
   ]
  },
  {
   "cell_type": "code",
   "execution_count": 71,
   "id": "d68ea86f-8d0e-4f7d-bf64-3ef08ed24479",
   "metadata": {},
   "outputs": [
    {
     "data": {
      "text/plain": [
       "[1, 2, 3, 4, 5]"
      ]
     },
     "execution_count": 71,
     "metadata": {},
     "output_type": "execute_result"
    }
   ],
   "source": [
    "# step 1 create a founction to remove  duplicate array\n",
    "def remove_duplicates(arr):\n",
    "# step 2   runing the if -else condition\n",
    "    if not arr:\n",
    "        return []\n",
    "# step 3  calculating the length of array\n",
    "    n = len(arr)\n",
    "    index = 0\n",
    "# step 4  runing the for loop from till  n-1\n",
    "    for i in range(n - 1):\n",
    "# step 5 runing the if -else condition\n",
    "        if arr[i] != arr[i + 1]:\n",
    "            arr[index] = arr[i]\n",
    "            index += 1\n",
    "\n",
    "    arr[index] = arr[n - 1]\n",
    "    return arr[:index + 1]\n",
    "\n",
    "arr = [1, 1, 2, 2, 2, 3, 3, 4, 4, 4, 5, 5]\n",
    "# step 6 calling the founction\n",
    "remove_duplicates(arr)"
   ]
  },
  {
   "cell_type": "code",
   "execution_count": null,
   "id": "9817fb35-8f59-4574-9fb8-1b602e243ec9",
   "metadata": {},
   "outputs": [],
   "source": []
  }
 ],
 "metadata": {
  "kernelspec": {
   "display_name": "Python 3 (ipykernel)",
   "language": "python",
   "name": "python3"
  },
  "language_info": {
   "codemirror_mode": {
    "name": "ipython",
    "version": 3
   },
   "file_extension": ".py",
   "mimetype": "text/x-python",
   "name": "python",
   "nbconvert_exporter": "python",
   "pygments_lexer": "ipython3",
   "version": "3.10.8"
  }
 },
 "nbformat": 4,
 "nbformat_minor": 5
}
