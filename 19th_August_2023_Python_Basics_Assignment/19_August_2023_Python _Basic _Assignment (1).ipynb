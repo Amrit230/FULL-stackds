{
 "cells": [
  {
   "cell_type": "code",
   "execution_count": null,
   "id": "f764c318-1615-4046-819f-b2a7fa6ddca7",
   "metadata": {},
   "outputs": [],
   "source": [
    "TOPIC: Python Basics Variable"
   ]
  },
  {
   "cell_type": "code",
   "execution_count": null,
   "id": "589bc461-7bc5-4271-92d2-8bc264bddb57",
   "metadata": {},
   "outputs": [],
   "source": [
    "1.Declare two variables, x and y, and assign them integer values. Swap the\n",
    "values of these variables without using any temporary variable."
   ]
  },
  {
   "cell_type": "code",
   "execution_count": null,
   "id": "d81c9aa0-3076-48be-9c5c-5b2ec7866c82",
   "metadata": {},
   "outputs": [
    {
     "name": "stdout",
     "output_type": "stream",
     "text": [
      "x= 89\n",
      "y= 90\n"
     ]
    }
   ],
   "source": [
    "  # Step 1 : Declaring and assignment of variables to x and y     \n",
    "x=90 \n",
    "y=89 \n",
    "# Step 2 : Swapping the variables with the help of grouping concept\n",
    "x,y=y,x   \n",
    "print(\"x=\",x) \n",
    "print(\"y=\",y)\n",
    "# output below "
   ]
  },
  {
   "cell_type": "code",
   "execution_count": null,
   "id": "6d44871f-b749-48e5-b3ed-bb3a49df5a67",
   "metadata": {},
   "outputs": [],
   "source": [
    "#   Above x=90  become 89  y =89 become 90"
   ]
  },
  {
   "cell_type": "code",
   "execution_count": null,
   "id": "cf5ead04-4d97-4201-ab3f-7565fbaa11a3",
   "metadata": {},
   "outputs": [],
   "source": [
    " 2.Create a program that calculates the area of a rectangle. Take the length and\n",
    "width as inputs from the user and store them in variables. Calculate and display the area."
   ]
  },
  {
   "cell_type": "code",
   "execution_count": 2,
   "id": "1b5986d0-db29-4587-bcd0-55251d880e7b",
   "metadata": {},
   "outputs": [
    {
     "name": "stdin",
     "output_type": "stream",
     "text": [
      "Please enter the length of rectangle :  33\n",
      "Please enter the breadth of rectangle :  33\n"
     ]
    },
    {
     "data": {
      "text/plain": [
       "1089.0"
      ]
     },
     "execution_count": 2,
     "metadata": {},
     "output_type": "execute_result"
    }
   ],
   "source": [
    "# Step 1 : Taking length and breadth as input from the user\n",
    "length = float(input('Please enter the length of rectangle : ')) \n",
    "breadth = float(input('Please enter the breadth of rectangle : ')) \n",
    "# Step 2 : Calculating the area \n",
    "area= length* breadth\n",
    "# Step 3 : Printing the area\n",
    "area"
   ]
  },
  {
   "cell_type": "code",
   "execution_count": null,
   "id": "6daec394-e30b-4690-a663-2d663ff0b0a6",
   "metadata": {},
   "outputs": [],
   "source": [
    "3.Write a Python program that converts temperatures from Celsius to\n",
    "Fahrenheit. Take the temperature in Celsius as input, store it in a variable, convert it to Fahrenheit, and display the results"
   ]
  },
  {
   "cell_type": "code",
   "execution_count": null,
   "id": "699888c0-7ca7-41cf-96b6-6aa8f2b0d013",
   "metadata": {},
   "outputs": [
    {
     "name": "stdin",
     "output_type": "stream",
     "text": [
      "please enter the celsius temprature  34\n"
     ]
    },
    {
     "data": {
      "text/plain": [
       "93.2"
      ]
     },
     "execution_count": 5,
     "metadata": {},
     "output_type": "execute_result"
    }
   ],
   "source": [
    "\n",
    "# Step 1 : Taking input of temperature in Celsius\n",
    "c=float(input(\"please enter the celsius temprature \"))\n",
    "f= (9/5)*c+32\n",
    "# Step 3 : Displaying temperature in Fahrenheit\n",
    "f"
   ]
  },
  {
   "cell_type": "code",
   "execution_count": null,
   "id": "9508b95c-7294-4b1e-973c-0595892a3026",
   "metadata": {},
   "outputs": [],
   "source": [
    "TOPIC: String Based Questions"
   ]
  },
  {
   "cell_type": "code",
   "execution_count": null,
   "id": "ff8115e3-a0a0-4e74-9044-6912a33e9109",
   "metadata": {},
   "outputs": [],
   "source": [
    "1.Write a Python program that takes a string as input and prints the length of\n",
    "the string."
   ]
  },
  {
   "cell_type": "code",
   "execution_count": null,
   "id": "2a220afb-df51-4acf-b8d2-eb9a95c3c6f1",
   "metadata": {},
   "outputs": [
    {
     "name": "stdin",
     "output_type": "stream",
     "text": [
      " enter the string  amrit\n"
     ]
    },
    {
     "data": {
      "text/plain": [
       "5"
      ]
     },
     "execution_count": 6,
     "metadata": {},
     "output_type": "execute_result"
    }
   ],
   "source": [
    "\n",
    "# Step 1 : Taking string as input\n",
    "str=input(\" enter the string \")\n",
    "# Step 2 : Displaying the length of string using inbuilt function\n",
    "len(str)"
   ]
  },
  {
   "cell_type": "code",
   "execution_count": null,
   "id": "6348239f-57ba-410f-a997-b05c9fb12129",
   "metadata": {},
   "outputs": [],
   "source": [
    "2.Create a program that takes a sentence from the user and counts the number\n",
    "of vowels (a, e, i, o, u) in the string"
   ]
  },
  {
   "cell_type": "code",
   "execution_count": null,
   "id": "a0692f29-6319-4966-919c-60ee9caebbd2",
   "metadata": {},
   "outputs": [
    {
     "name": "stdin",
     "output_type": "stream",
     "text": [
      " enter the sentence ilovennjn kmkm\n"
     ]
    },
    {
     "data": {
      "text/plain": [
       "3"
      ]
     },
     "execution_count": 1,
     "metadata": {},
     "output_type": "execute_result"
    }
   ],
   "source": [
    "\n",
    "# Step 1 : Taking string as input from the user\n",
    "str=input(\" enter the sentence\")\n",
    "vowel = 0\n",
    "# Step 2 : Simply traverse the string and for each character in string, simply check if it is a vowel or not\n",
    "for ch in str:  \n",
    "    if ch == 'a' or ch == 'e' or ch == 'i' or ch == 'o' or ch == 'u':\n",
    "       vowel = vowel +1\n",
    " # Step 3 : Printing the number of vowels in sentence\n",
    "vowel"
   ]
  },
  {
   "cell_type": "code",
   "execution_count": null,
   "id": "02baa598-1092-4506-9ad1-36136a98fe03",
   "metadata": {},
   "outputs": [],
   "source": [
    "3.Given a string, reverse the order of characters using string slicing and print\n",
    "the reversed string."
   ]
  },
  {
   "cell_type": "code",
   "execution_count": null,
   "id": "a1bbc6f0-20a5-48e5-8728-f71d02aa110e",
   "metadata": {},
   "outputs": [
    {
     "name": "stdin",
     "output_type": "stream",
     "text": [
      " enter the string  ilove indai and america\n"
     ]
    },
    {
     "data": {
      "text/plain": [
       "'acirema dna iadni evoli '"
      ]
     },
     "execution_count": 4,
     "metadata": {},
     "output_type": "execute_result"
    }
   ],
   "source": [
    "\n",
    "# Step 1 : Taking string as input\n",
    "str =input(\" enter the string\")\n",
    "# Step 2 : Reversing the string using slicing operation\n",
    "str[::-1]"
   ]
  },
  {
   "cell_type": "code",
   "execution_count": null,
   "id": "a3b85ebb-db58-418f-b156-9ae3a7a7340c",
   "metadata": {},
   "outputs": [],
   "source": [
    "4.Write a program that takes a string as input and checks if it is a palindrome\n",
    "(reads the same forwards and backwards)"
   ]
  },
  {
   "cell_type": "code",
   "execution_count": null,
   "id": "c395a115-02e7-44cc-b8de-35f6d950ae6e",
   "metadata": {},
   "outputs": [
    {
     "name": "stdin",
     "output_type": "stream",
     "text": [
      " enter the string naman\n"
     ]
    },
    {
     "data": {
      "text/plain": [
       "True"
      ]
     },
     "execution_count": 6,
     "metadata": {},
     "output_type": "execute_result"
    }
   ],
   "source": [
    "# Palindrome can be defined as the word which is same if read from forward or backward. \n",
    "# One example of palindrome can be abcba\n",
    "# Step 1 : Taking string as input from the user\n",
    "str=input(\" enter the string\")\n",
    " #Step 2 : Reversing the string and saving it to another variable\n",
    "str1= str[::-1]\n",
    "# Step 3 : Checking if the string is palindrome or not\n",
    "str==str1V\n",
    "\n",
    "\n"
   ]
  },
  {
   "cell_type": "code",
   "execution_count": 7,
   "id": "f9058f98-c886-4fb7-b15d-c5b918018e57",
   "metadata": {},
   "outputs": [
    {
     "name": "stdin",
     "output_type": "stream",
     "text": [
      "Please enter the string :  i love me\n"
     ]
    },
    {
     "data": {
      "text/plain": [
       "'iloveme'"
      ]
     },
     "execution_count": 7,
     "metadata": {},
     "output_type": "execute_result"
    }
   ],
   "source": [
    "#remove all the spaces from string\n",
    "myStr4 = input('Please enter the string : ')\n",
    "newString = \"\"\n",
    "# Step 2 : Traverse the input string and concatentate the character in the new string\n",
    "for ch in myStr4:\n",
    "    # Checking whether the character is a space or not.\n",
    "    if ch != ' ':\n",
    "        # Concatenate the character in newString\n",
    "        newString = newString + ch\n",
    "# Step 3 : Printing the new string which does not have any spaces\n",
    "newString"
   ]
  },
  {
   "cell_type": "code",
   "execution_count": null,
   "id": "ee4e02b0-8093-4b38-98b5-80d0a7abc9e1",
   "metadata": {},
   "outputs": [],
   "source": []
  },
  {
   "cell_type": "code",
   "execution_count": null,
   "id": "3b7d09a8-e89e-47ce-934c-c14a0d8a6d03",
   "metadata": {},
   "outputs": [],
   "source": []
  },
  {
   "cell_type": "code",
   "execution_count": null,
   "id": "42c09ded-b648-4ba2-b953-295fed2f6725",
   "metadata": {},
   "outputs": [],
   "source": []
  },
  {
   "cell_type": "code",
   "execution_count": null,
   "id": "b3d8c4e1-c9c9-4e53-8e97-d2b12dfc7aca",
   "metadata": {},
   "outputs": [],
   "source": []
  },
  {
   "cell_type": "code",
   "execution_count": null,
   "id": "c2bdc72d-addf-4d43-b738-ef729a3aa41c",
   "metadata": {},
   "outputs": [],
   "source": []
  }
 ],
 "metadata": {
  "kernelspec": {
   "display_name": "Python 3 (ipykernel)",
   "language": "python",
   "name": "python3"
  },
  "language_info": {
   "codemirror_mode": {
    "name": "ipython",
    "version": 3
   },
   "file_extension": ".py",
   "mimetype": "text/x-python",
   "name": "python",
   "nbconvert_exporter": "python",
   "pygments_lexer": "ipython3",
   "version": "3.10.8"
  }
 },
 "nbformat": 4,
 "nbformat_minor": 5
}
