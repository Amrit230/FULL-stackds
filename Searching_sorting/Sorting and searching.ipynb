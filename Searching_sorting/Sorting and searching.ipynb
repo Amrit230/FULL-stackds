{
 "cells": [
  {
   "cell_type": "code",
   "execution_count": null,
   "id": "1548e0a6-f3d7-49c8-ae55-b4f5b23b0f16",
   "metadata": {},
   "outputs": [],
   "source": [
    "Problem 1 :\n",
    "Intersection of Two Sorted Arrays\n",
    "Write a Python program to find the intersection of two sorted arrays.\n",
    "Input:\n",
    "A = [1, 3, 5, 7, 9]\n",
    "B = [2, 4, 5, 8]\n",
    "Output:\n",
    "Intersection: [5]"
   ]
  },
  {
   "cell_type": "code",
   "execution_count": 4,
   "id": "5fe29717-0296-4d4d-88d4-520f584a329e",
   "metadata": {},
   "outputs": [
    {
     "data": {
      "text/plain": [
       "5"
      ]
     },
     "execution_count": 4,
     "metadata": {},
     "output_type": "execute_result"
    }
   ],
   "source": [
    "# step 1 create a founction  to find the intersection of an array\n",
    "def intersect(A,B):\n",
    "    # step 2runing the for loop\n",
    "    for i in range(len(A)):\n",
    "        # step3  runing another for loop\n",
    "        for j in range(len(B)):\n",
    "            if A[i]==B[j]:\n",
    "                return A[i]\n",
    "            \n",
    "A = [1, 3, 5, 7, 9]\n",
    "B = [2, 4, 5, 8]\n",
    "intersect(A,B)\n",
    "\n",
    "            "
   ]
  },
  {
   "cell_type": "code",
   "execution_count": null,
   "id": "255370aa-288a-4459-a233-1d3933263c16",
   "metadata": {},
   "outputs": [],
   "source": [
    "Problem 2 :\n",
    "Find the Kth Smallest Element\n",
    "Write a Python function to find the kth smallest element in an unsorted list.\n",
    "Input:\n",
    "[12, 3, 1, 7, 8, 20], k = 3\n",
    "Output:\n",
    "The 3rd smallest element is 7"
   ]
  },
  {
   "cell_type": "code",
   "execution_count": 7,
   "id": "90ff6714-e3c3-4460-8512-eb73826dd606",
   "metadata": {},
   "outputs": [
    {
     "data": {
      "text/plain": [
       "7"
      ]
     },
     "execution_count": 7,
     "metadata": {},
     "output_type": "execute_result"
    }
   ],
   "source": [
    "# sterp1  creating  the founction f\n",
    "def ksmallest(arr,k):\n",
    "    arr.sort()#sorting  it\n",
    "    return arr[k-1]\n",
    "arr=[12, 3, 1, 7, 8, 20]\n",
    "k=3\n",
    "ksmallest(arr,k)"
   ]
  },
  {
   "cell_type": "code",
   "execution_count": null,
   "id": "a754d8ea-eddd-419b-a1bb-61e26ab64c67",
   "metadata": {},
   "outputs": [],
   "source": [
    "Problem 3 :\n",
    "Binary Search in a Rotated Sorted Array\n",
    "Implement a Python program to perform a binary search on a rotated sorted array.\n",
    "Input:\n",
    "[4, 5, 6, 7, 8, 9, 1, 2, 3], 6\n",
    "Output:\n",
    "Element 6 found at index 2"
   ]
  },
  {
   "cell_type": "code",
   "execution_count": 9,
   "id": "db796efc-4d4c-43fe-a512-69e572670cad",
   "metadata": {},
   "outputs": [
    {
     "data": {
      "text/plain": [
       "2"
      ]
     },
     "execution_count": 9,
     "metadata": {},
     "output_type": "execute_result"
    }
   ],
   "source": [
    "# step 1 writing the founction for binary  search\n",
    "def binarysearch(arr,k):\n",
    "    s=0\n",
    "    e=len(arr)-1\n",
    "    # step 2 runing the while loop\n",
    "    while(s<e):\n",
    "        mid=(e+(s-e)//2)\n",
    "        if arr[mid]==k:\n",
    "            return mid\n",
    "        if k<arr[mid]:\n",
    "            e=mid+1\n",
    "        else:\n",
    "            s=mid+1\n",
    "            \n",
    "# sample usecase          \n",
    "arr=[4, 5, 6, 7, 8, 9, 1, 2, 3]\n",
    "k=6\n",
    "binarysearch(arr,k)\n",
    "\n",
    "\n",
    "\n",
    "        \n",
    "            \n",
    "\n",
    "        "
   ]
  },
  {
   "cell_type": "code",
   "execution_count": null,
   "id": "3ce6fbd7-a6d6-41a6-b2a0-92abad2c242c",
   "metadata": {},
   "outputs": [],
   "source": [
    "Problem 4 :Searching in a Matrix Write a Python program that searches for a given element in a 2D matrix and returns its position.\n",
    "Input:\n",
    "Matrix = [\n",
    "[1, 3, 5],\n",
    "[7, 9, 11],\n",
    "[13, 15, 17]\n",
    "]\n",
    "Element = 11\n",
    "Output:\n",
    "Element 11 found at position (1, 2)"
   ]
  },
  {
   "cell_type": "code",
   "execution_count": 3,
   "id": "ef79da0e-ea66-4fe1-8e9d-e6e740ee5960",
   "metadata": {},
   "outputs": [
    {
     "data": {
      "text/plain": [
       "(1, 2)"
      ]
     },
     "execution_count": 3,
     "metadata": {},
     "output_type": "execute_result"
    }
   ],
   "source": [
    "# step 1  searching  in the matrix \n",
    "def searchMatrix(matrix, element):\n",
    "    # step2 runing the if else comndition \n",
    "    if not matrix or  not matrix[0]:\n",
    "        return None\n",
    "    \n",
    "    rows=len(matrix)\n",
    "    coloum=len(matrix[0])\n",
    "    \n",
    "    \n",
    "    row=0\n",
    "    col=coloum-1\n",
    "    # step3  runing the while loop\n",
    "    \n",
    "    while row<rows and col>=0:\n",
    "        if matrix[row][col]==element:\n",
    "            return (row,col)\n",
    "        elif matrix[row][col]<element:\n",
    "             row+=1\n",
    "        else:\n",
    "            col-=1\n",
    "    return None\n",
    "\n",
    "# sample use case\n",
    "matrix = [\n",
    "    [1, 3, 5],\n",
    "    [7, 9, 11],\n",
    "    [13, 15, 17]\n",
    "]\n",
    "element = 11\n",
    "p=searchMatrix(matrix, element)\n",
    "p\n",
    "    \n",
    "    \n",
    "    "
   ]
  },
  {
   "cell_type": "code",
   "execution_count": null,
   "id": "4a92f43d-7356-413b-87d0-1eecf05ea1e0",
   "metadata": {},
   "outputs": [],
   "source": [
    "Problem 5 :\n",
    "Sorting Strings by Length\n",
    "Write a Python program that takes a list of strings and sorts them based on their length.\n",
    "Input:\n",
    "['apple', 'banana', 'kiwi', 'orange', 'grape']\n",
    "Output:\n",
    "['kiwi', 'grape', 'apple', 'banana', 'orange']"
   ]
  },
  {
   "cell_type": "code",
   "execution_count": 10,
   "id": "ed8d48fe-45fe-4827-a234-4b9ae6560c1f",
   "metadata": {},
   "outputs": [
    {
     "name": "stdout",
     "output_type": "stream",
     "text": [
      "['kiwi', 'apple', 'grape', 'banana', 'orange']\n"
     ]
    }
   ],
   "source": [
    "def sort_strings_by_length(strings):\n",
    "    return sorted(strings, key=len)\n",
    "\n",
    "# Input list of strings\n",
    "input_strings = ['apple', 'banana', 'kiwi', 'orange', 'grape']\n",
    "\n",
    "# Sort the strings by length\n",
    "sorted_strings = sort_strings_by_length(input_strings)\n",
    "\n",
    "# Output the sorted list\n",
    "print(sorted_strings)\n"
   ]
  },
  {
   "cell_type": "code",
   "execution_count": null,
   "id": "c0710544-a63c-499f-bf94-c0ce4b9526cd",
   "metadata": {},
   "outputs": [],
   "source": [
    "Problem 6 :\n",
    "Implementing the merge sort ( Will be discussed in the class )."
   ]
  },
  {
   "cell_type": "code",
   "execution_count": 30,
   "id": "22507798-b8c3-4b12-a7f1-3c55058c20e5",
   "metadata": {},
   "outputs": [],
   "source": [
    "def mergeSort(arr):\n",
    "    # step 1 runing the if -else \n",
    "    if (len(arr)<=1):\n",
    "        return\n",
    "\n",
    "    mid = len(arr)//2\n",
    "    \n",
    "    \n",
    "    left = arr[:mid]\n",
    "\n",
    "  # step 2 Right half of the arr\n",
    "    right = arr[mid:]\n",
    "\n",
    "  #step3 sort the left part\n",
    "    mergeSort(left)\n",
    "\n",
    "  #step 4 sort the right part\n",
    "    mergeSort(right)\n",
    "    \n",
    "    merge(left, right, arr )\n",
    "    \n",
    "    \n",
    "#  step  5 writingthe founction to merge \n",
    "def merge(left, right, arr):\n",
    "    i=0\n",
    "    j=0 \n",
    "    k=0 \n",
    "    while i<len(left) and j<len(right):\n",
    "        if(left[i]<= right[j]):\n",
    "            arr[k] = left[i]\n",
    "            i +=1\n",
    "        else:\n",
    "            arr[k] = right[j]\n",
    "            j+=1\n",
    "        k +=1\n",
    "    while i < len(left):\n",
    "        arr[k] = left[i]\n",
    "        i +=1\n",
    "        k +=1\n",
    "    while j < len(right):\n",
    "        arr[k] = right[j]\n",
    "        j +=1\n",
    "        k +=1"
   ]
  },
  {
   "cell_type": "code",
   "execution_count": 32,
   "id": "71b63269-f5cf-44e8-a71e-da4c93b838d4",
   "metadata": {},
   "outputs": [
    {
     "name": "stdout",
     "output_type": "stream",
     "text": [
      "[5, 6, 7, 11, 12, 13]\n"
     ]
    }
   ],
   "source": [
    "l1=[12,11,13,5,6,7]\n",
    "mergeSort(l1)\n",
    "print(l1)"
   ]
  },
  {
   "cell_type": "code",
   "execution_count": null,
   "id": "0d1c036c-4daf-4351-aea2-86b507175297",
   "metadata": {},
   "outputs": [],
   "source": [
    "Problem 7 :\n",
    "Implementing the quick sort ( will be discussed in the class )"
   ]
  },
  {
   "cell_type": "code",
   "execution_count": 60,
   "id": "24551c7d-a8d3-46ea-afc8-37da04dfb852",
   "metadata": {},
   "outputs": [],
   "source": [
    "# step1 writing the founction for quicksort \n",
    "def quickSort(arr,low,high):\n",
    "    #sre\n",
    "    if low>=high:\n",
    "        return \n",
    "    pi=partition(arr,low,high)\n",
    "    \n",
    "    quickSort(arr,low,pi-1)\n",
    "    \n",
    "    quickSort(arr,pi+1,high)\n",
    "    \n",
    "def partition(arr,low,high):\n",
    "    pivot=arr[high]\n",
    "    i=low-1 \n",
    "    for  j in range( low, high):\n",
    "        if(arr[j]<=pivot):\n",
    "            i=i+1 \n",
    "            arr[i],arr[j]=arr[j],arr[i]\n",
    "            #swap the pivot element  with the next greater element of 1\n",
    "    arr[i+1],arr[high]=arr[high],arr[i+1]\n",
    "\n",
    "    return i+1\n",
    "\n",
    "\n",
    "\n",
    "\n",
    "\n",
    "\n",
    "    \n",
    "    \n",
    "    "
   ]
  },
  {
   "cell_type": "code",
   "execution_count": 62,
   "id": "51e12074-5aaf-4c21-8634-7dd77a68f8a3",
   "metadata": {},
   "outputs": [
    {
     "name": "stdout",
     "output_type": "stream",
     "text": [
      "[5, 6, 7, 11, 12, 13]\n"
     ]
    }
   ],
   "source": [
    "l1=[12,11,13,5,6,7]\n",
    "quickSort(l1,0,len(l1)-1)\n",
    "print(l1)"
   ]
  },
  {
   "cell_type": "code",
   "execution_count": null,
   "id": "3cad91ba-e404-44fe-ab39-c4ad391ffa3c",
   "metadata": {},
   "outputs": [],
   "source": [
    "Problem 8 :\n",
    "Implementing the count sort ."
   ]
  },
  {
   "cell_type": "code",
   "execution_count": 1,
   "id": "eaf08c0a-7f61-4eab-89eb-aec9b7f862de",
   "metadata": {},
   "outputs": [
    {
     "name": "stdout",
     "output_type": "stream",
     "text": [
      "Sorted array: [1, 2, 2, 3, 3, 4, 8]\n"
     ]
    }
   ],
   "source": [
    "def counting_sort(arr):\n",
    "    max_value = max(arr)  # Find the maximum value in the array\n",
    "    count = [0] * (max_value + 1)  # Create a count array to store the frequency of each element\n",
    "    output = [0] * len(arr)  # Create an output array to store the sorted elements\n",
    "    \n",
    "    # Count the occurrences of each element\n",
    "    for num in arr:\n",
    "        count[num] += 1\n",
    "    \n",
    "    # Modify the count array to store the actual position of each element in the output array\n",
    "    for i in range(1, len(count)):\n",
    "        count[i] += count[i - 1]\n",
    "    \n",
    "    # Place each element in its correct position in the output array\n",
    "    for num in reversed(arr):\n",
    "        output[count[num] - 1] = num\n",
    "        count[num] -= 1\n",
    "    \n",
    "    return output\n",
    "\n",
    "# Example usage\n",
    "arr = [4, 2, 2, 8, 3, 3, 1]\n",
    "sorted_arr = counting_sort(arr)\n",
    "print(\"Sorted array:\", sorted_arr)\n"
   ]
  },
  {
   "cell_type": "code",
   "execution_count": null,
   "id": "138b35da-d1cd-46de-a5ae-cfd505605bfa",
   "metadata": {},
   "outputs": [],
   "source": [
    "Problem 9 :\n",
    "Implement a Python function to find a peak element in an array. A peak element is an element that is greater\n",
    "than or equal to its neighbors.\n",
    "Input:\n",
    "[1, 3, 20, 4, 1, 0]\n",
    "Output:\n",
    "Peak element is 20"
   ]
  },
  {
   "cell_type": "code",
   "execution_count": 9,
   "id": "02222564-3a39-4357-a322-7bd205def754",
   "metadata": {},
   "outputs": [
    {
     "name": "stdout",
     "output_type": "stream",
     "text": [
      "Peak element is 20\n"
     ]
    }
   ],
   "source": [
    "def find_peak(arr):\n",
    "    for i in range(1, len(arr) - 1):\n",
    "        if arr[i] >= arr[i - 1] and arr[i] >= arr[i + 1]:\n",
    "            return arr[i]\n",
    "    # Check the first and last elements separately as they only have one neighbor\n",
    "    if arr[0] >= arr[1]:\n",
    "        return arr[0]\n",
    "    if arr[-1] >= arr[-2]:\n",
    "        return arr[-1]\n",
    "    return None  # No peak element found\n",
    "\n",
    "# Example usage:\n",
    "arr = [1, 3, 20, 4, 1, 0]\n",
    "peak = find_peak(arr)\n",
    "if peak is not None:\n",
    "    print(\"Peak element is\", peak)\n",
    "else:\n",
    "    print(\"No peak element found in the array.\")\n"
   ]
  },
  {
   "cell_type": "code",
   "execution_count": null,
   "id": "528a4bc2-dc15-4f7f-99b8-45ad6d897bd4",
   "metadata": {},
   "outputs": [],
   "source": [
    "Problem 10 :\n",
    "Search in a Nearly Sorted Array\n",
    "Implement a Python program to perform a binary search in a nearly sorted array. In a nearly sorted array, each\n",
    "element is at most k positions away from its sorted position.\n",
    "Input:\n",
    "[2, 1, 3, 4, 6, 5, 7], k = 1\n",
    "Output:\n",
    "Element 5 found at index 4"
   ]
  },
  {
   "cell_type": "code",
   "execution_count": 3,
   "id": "173303ed-81aa-4eda-bc94-262772f64739",
   "metadata": {},
   "outputs": [
    {
     "name": "stdout",
     "output_type": "stream",
     "text": [
      "Element 5 found at index 5\n"
     ]
    }
   ],
   "source": [
    "def binary_search(arr, target, k):\n",
    "    left, right = 0, len(arr) - 1\n",
    "    \n",
    "    while left <= right:\n",
    "        mid = left + (right - left) // 2\n",
    "        \n",
    "        if arr[mid] == target:\n",
    "            return mid\n",
    "        \n",
    "        for i in range(max(0, mid - k), min(len(arr), mid + k + 1)):\n",
    "            if arr[i] == target:\n",
    "                return i\n",
    "        \n",
    "        if arr[mid] < target:\n",
    "            left = mid + 1\n",
    "        else:\n",
    "            right = mid - 1\n",
    "    \n",
    "    return -1\n",
    "\n",
    "# Example usage\n",
    "arr = [2, 1, 3, 4, 6, 5, 7]\n",
    "target = 5\n",
    "k = 1\n",
    "index = binary_search(arr, target, k)\n",
    "\n",
    "if index != -1:\n",
    "    print(f\"Element {target} found at index {index}\")\n",
    "else:\n",
    "    print(\"Element not found\")\n"
   ]
  },
  {
   "cell_type": "code",
   "execution_count": null,
   "id": "0c37eedb-0ce8-44c1-b07e-8e92b2046a36",
   "metadata": {},
   "outputs": [],
   "source": []
  }
 ],
 "metadata": {
  "kernelspec": {
   "display_name": "Python 3 (ipykernel)",
   "language": "python",
   "name": "python3"
  },
  "language_info": {
   "codemirror_mode": {
    "name": "ipython",
    "version": 3
   },
   "file_extension": ".py",
   "mimetype": "text/x-python",
   "name": "python",
   "nbconvert_exporter": "python",
   "pygments_lexer": "ipython3",
   "version": "3.10.8"
  }
 },
 "nbformat": 4,
 "nbformat_minor": 5
}
